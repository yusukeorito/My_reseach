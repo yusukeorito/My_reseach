{
 "cells": [
  {
   "cell_type": "markdown",
   "metadata": {},
   "source": [
    "## Figure of overlap"
   ]
  },
  {
   "cell_type": "code",
   "execution_count": 2,
   "metadata": {},
   "outputs": [],
   "source": [
    "import os \n",
    "import joblib\n",
    "import numpy as np \n",
    "import matplotlib.pyplot as plt\n",
    "#plt.style.use(\"style.mpl\")\n",
    "# LaTeXフォントを有効にするための設定\n",
    "plt.rcParams.update({\n",
    "    \"text.usetex\": True,  # LaTeXを使用する\n",
    "    \"font.family\": \"serif\",  # 使用するフォントファミリーを指定（serifやsans-serifなど）\n",
    "    \"font.serif\": [\"Times New Roman\"],  # フォントの種類を指定（LaTeXがインストールされた環境で使用可能なもの）\n",
    "    \"text.latex.preamble\": r\"\\usepackage{amsmath}\",  # LaTeXプリアンブルにパッケージを追加する（必要に応じて）\n",
    "})"
   ]
  },
  {
   "cell_type": "code",
   "execution_count": 7,
   "metadata": {},
   "outputs": [],
   "source": [
    "class CFG:\n",
    "  N= 100\n",
    "  M= 600\n",
    "  L= 10\n",
    "  senario = 'CL_fully'\n",
    "  ini_type = \"A\"\n",
    "  data_name= \"Fashion-MNIST\"\n",
    "  data_seed= 4244 #データのサンプリングを固定するためのseed\n",
    "  seed1 = 820\n",
    "  seed2 = 314\n",
    "  seed3 = 1228\n",
    "  layer_name_list= ['batch_normalization1', 'batch_normalization2', 'batch_normalization3','batch_normalization4', 'batch_normalization5',\n",
    "                  'batch_normalization6', 'batch_normalization7', 'batch_normalization8','batch_normalization9','batch_normalization10',]"
   ]
  },
  {
   "cell_type": "code",
   "execution_count": 8,
   "metadata": {},
   "outputs": [],
   "source": [
    "layer_q = joblib.load(f'../Result/{CFG.senario}/Overlap/layer_q_{CFG.data_name}_ini{CFG.ini_type}_M{CFG.M}_L{CFG.L}.pkl')"
   ]
  },
  {
   "cell_type": "code",
   "execution_count": 9,
   "metadata": {},
   "outputs": [
    {
     "data": {
      "text/plain": [
       "dict_keys(['q2', 'qab', 'qaa', 'sim_q'])"
      ]
     },
     "execution_count": 9,
     "metadata": {},
     "output_type": "execute_result"
    }
   ],
   "source": [
    "layer_q.keys()"
   ]
  },
  {
   "cell_type": "code",
   "execution_count": 6,
   "metadata": {},
   "outputs": [
    {
     "name": "stderr",
     "output_type": "stream",
     "text": [
      "No artists with labels found to put in legend.  Note that artists whose label start with an underscore are ignored when legend() is called with no argument.\n"
     ]
    },
    {
     "data": {
      "image/png": "[encoded data removed]",
      "text/plain": [
       "<Figure size 800x500 with 1 Axes>"
      ]
     },
     "metadata": {},
     "output_type": "display_data"
    }
   ],
   "source": [
    "fig, ax = plt.subplots(figsize=(8,5))\n",
    "ax.plot(layer_q['sim_q'],'.',markersize=12)\n",
    "ax.set_xlabel('l',fontsize=16)\n",
    "ax.set_ylabel('q2',fontsize=16)\n",
    "ax.legend()\n",
    "ax.grid(axis='y')\n",
    "ax.set_ylim(0,1)\n",
    "\n",
    "plt.setp(ax.spines.values(), linewidth=2)  # 枠線の太さを変更\n",
    "\n",
    "plt.show()"
   ]
  },
  {
   "cell_type": "code",
   "execution_count": 48,
   "metadata": {},
   "outputs": [
    {
     "ename": "NameError",
     "evalue": "name 'q2' is not defined",
     "output_type": "error",
     "traceback": [
      "\u001b[0;31m---------------------------------------------------------------------------\u001b[0m",
      "\u001b[0;31mNameError\u001b[0m                                 Traceback (most recent call last)",
      "Cell \u001b[0;32mIn[48], line 3\u001b[0m\n\u001b[1;32m      1\u001b[0m fig, ax \u001b[38;5;241m=\u001b[39m plt\u001b[38;5;241m.\u001b[39msubplots(figsize\u001b[38;5;241m=\u001b[39m(\u001b[38;5;241m10\u001b[39m,\u001b[38;5;241m5\u001b[39m))\n\u001b[1;32m      2\u001b[0m \u001b[38;5;28;01mfor\u001b[39;00m i, l \u001b[38;5;129;01min\u001b[39;00m \u001b[38;5;28menumerate\u001b[39m(CFG\u001b[38;5;241m.\u001b[39mlayer_name_list[:\u001b[38;5;241m-\u001b[39m\u001b[38;5;241m1\u001b[39m]):\n\u001b[0;32m----> 3\u001b[0m     ax\u001b[38;5;241m.\u001b[39mplot(\u001b[43mq2\u001b[49m[\u001b[38;5;124m'\u001b[39m\u001b[38;5;124mtime\u001b[39m\u001b[38;5;124m'\u001b[39m],q2[l],label\u001b[38;5;241m=\u001b[39m\u001b[38;5;124mf\u001b[39m\u001b[38;5;124m'\u001b[39m\u001b[38;5;124mlayer\u001b[39m\u001b[38;5;132;01m{\u001b[39;00mi\u001b[38;5;241m+\u001b[39m\u001b[38;5;241m1\u001b[39m\u001b[38;5;132;01m}\u001b[39;00m\u001b[38;5;124m'\u001b[39m)\n\u001b[1;32m      4\u001b[0m ax\u001b[38;5;241m.\u001b[39mset_xlabel(\u001b[38;5;124m'\u001b[39m\u001b[38;5;124mEpoch\u001b[39m\u001b[38;5;124m'\u001b[39m,fontsize\u001b[38;5;241m=\u001b[39m\u001b[38;5;241m16\u001b[39m)\n\u001b[1;32m      5\u001b[0m ax\u001b[38;5;241m.\u001b[39mset_ylabel(\u001b[38;5;124m'\u001b[39m\u001b[38;5;124mq2\u001b[39m\u001b[38;5;124m'\u001b[39m, fontsize\u001b[38;5;241m=\u001b[39m\u001b[38;5;241m16\u001b[39m)\n",
      "\u001b[0;31mNameError\u001b[0m: name 'q2' is not defined"
     ]
    },
    {
     "data": {
      "image/png": "[encoded data removed]",
      "text/plain": [
       "<Figure size 1000x500 with 1 Axes>"
      ]
     },
     "metadata": {},
     "output_type": "display_data"
    }
   ],
   "source": [
    "fig, ax = plt.subplots(figsize=(10,5))\n",
    "for i, l in enumerate(CFG.layer_name_list[:-1]):\n",
    "    ax.plot(q2['time'],q2[l],label=f'layer{i+1}')\n",
    "ax.set_xlabel('Epoch',fontsize=16)\n",
    "ax.set_ylabel('q2', fontsize=16)\n",
    "#ax.set_xscale('log')\n",
    "ax.set_title(f'Train Data (M:{CFG.M} L:{CFG.L})',fontsize=16)\n",
    "ax.set_ylim(0,1)\n",
    "ax.grid(axis='y')\n",
    "ax.legend(loc='center left', bbox_to_anchor=(1, 0.5))"
   ]
  },
  {
   "cell_type": "code",
   "execution_count": null,
   "metadata": {},
   "outputs": [],
   "source": []
  }
 ],
 "metadata": {
  "kernelspec": {
   "display_name": "ms-env",
   "language": "python",
   "name": "python3"
  },
  "language_info": {
   "codemirror_mode": {
    "name": "ipython",
    "version": 3
   },
   "file_extension": ".py",
   "mimetype": "text/x-python",
   "name": "python",
   "nbconvert_exporter": "python",
   "pygments_lexer": "ipython3",
   "version": "3.8.16"
  }
 },
 "nbformat": 4,
 "nbformat_minor": 2
}
