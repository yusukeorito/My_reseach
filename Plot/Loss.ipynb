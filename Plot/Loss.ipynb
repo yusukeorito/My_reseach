{
 "cells": [
  {
   "cell_type": "markdown",
   "metadata": {},
   "source": [
    "## Figure of loss"
   ]
  },
  {
   "cell_type": "code",
   "execution_count": 1,
   "metadata": {},
   "outputs": [],
   "source": [
    "import os \n",
    "import joblib\n",
    "import numpy as np \n",
    "import matplotlib.pyplot as plt"
   ]
  },
  {
   "cell_type": "code",
   "execution_count": 2,
   "metadata": {},
   "outputs": [],
   "source": [
    "class CFG:\n",
    "  N= 100\n",
    "  M= 6000\n",
    "  L= 10\n",
    "  ini_type = \"A\"\n",
    "  data_name= \"MNIST\"\n",
    "  data_seed= 4244 #データのサンプリングを固定するためのseed\n",
    "  seed1 = 820\n",
    "  seed2 = 314\n",
    "  seed3 = 1228\n",
    "  layer_name_list= ['batch_normalization1', 'batch_normalization2', 'batch_normalization3','batch_normalization4', 'batch_normalization5',\n",
    "                  'batch_normalization6', 'batch_normalization7', 'batch_normalization8','batch_normalization9','batch_normalization10',]"
   ]
  },
  {
   "cell_type": "code",
   "execution_count": null,
   "metadata": {},
   "outputs": [],
   "source": [
    "loss = joblib.load(f\"./Loss/model001_{CFG.data_name}_ini{CFG.ini_type}_M{CFG.M}_L{CFG.L}_seed820.pkl\")"
   ]
  },
  {
   "cell_type": "code",
   "execution_count": null,
   "metadata": {},
   "outputs": [],
   "source": [
    "fig, ax = plt.subplots(figsize=(8,5))\n",
    "ax.plot(loss['loss'][5:], )\n",
    "ax.plot(loss['val_loss'][5:],) \n",
    "#ax.set_xscale('log')\n",
    "ax.set_ylim(0,2)\n",
    "\"\"\"\n",
    "ax2=ax.twinx()\n",
    "ax2.plot(loss['accuracy'])\n",
    "ax2.plot(loss['val_accuracy'])\n",
    "ax2.set_ylabel(\"accuracy\")\n",
    "\"\"\"\n",
    "#ax.set_title(f'q2 (L: {CFG.L}, M: {CFG.M})', fontsize=16, weight='bold')  # タイトルのフォント太さを変更\n",
    "# メインの目盛りと副目盛りのフォントサイズと太さを変更\n",
    "ax.tick_params(axis='both', which='major', labelsize=12, width=2, length=6, direction='inout', pad=8)\n",
    "ax.tick_params(axis='both', which='minor', labelsize=10, width=1.5, length=4, direction='inout', pad=6)\n",
    "plt.setp(ax.spines.values(), linewidth=1)  # 枠線の太さを変更\n",
    "ax.grid(axis='y')\n",
    "ax.legend()"
   ]
  }
 ],
 "metadata": {
  "kernelspec": {
   "display_name": "ms-env",
   "language": "python",
   "name": "python3"
  },
  "language_info": {
   "codemirror_mode": {
    "name": "ipython",
    "version": 3
   },
   "file_extension": ".py",
   "mimetype": "text/x-python",
   "name": "python",
   "nbconvert_exporter": "python",
   "pygments_lexer": "ipython3",
   "version": "3.8.16"
  }
 },
 "nbformat": 4,
 "nbformat_minor": 2
}
