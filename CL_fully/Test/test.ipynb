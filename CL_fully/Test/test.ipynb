{
 "cells": [
  {
   "cell_type": "code",
   "execution_count": 31,
   "metadata": {},
   "outputs": [],
   "source": [
    "#データの読み込みから実行まで全てを実行するくRunnerクラスを定義する\n",
    "from typing import Any, Dict, Tuple, Union\n",
    "import sys\n",
    "import numpy as np\n",
    "import joblib\n",
    "from sklearn.decomposition import PCA\n",
    "from sklearn.preprocessing import StandardScaler\n",
    "\n",
    "import tensorflow as tf\n",
    "from tensorflow.keras.models import Sequential\n",
    "from tensorflow.keras.optimizers import SGD, Adam\n",
    "from tensorflow.keras.callbacks import Callback,ModelCheckpoint\n",
    "from tensorflow.keras.layers import Dense,BatchNormalization,Activation\n",
    "from tensorflow.keras.activations import relu\n",
    "\n",
    "sys.path.append('../../')\n",
    "from Utils.utils import *\n",
    "from Utils.get_q import *\n"
   ]
  },
  {
   "cell_type": "code",
   "execution_count": 2,
   "metadata": {},
   "outputs": [],
   "source": [
    "set = {\n",
    "  'N': 100,\n",
    "  'M': 6000,\n",
    "  'L': 10,\n",
    "  'ini_type' : 'A',\n",
    "  'data_name': 'MNIST',\n",
    "\n",
    "\n",
    "  'data_seed': 4244, #データのサンプリングを固定するためのseed\n",
    "  'seed1' : 820,\n",
    "  'seed2' : 314,\n",
    "}"
   ]
  },
  {
   "cell_type": "code",
   "execution_count": 3,
   "metadata": {},
   "outputs": [],
   "source": [
    "def PCA_SS(input_train,input_test):\n",
    "        # Make an instance of the Model\n",
    "        pca = PCA(n_components=set['N'])\n",
    "        scaler = StandardScaler()\n",
    "\n",
    "        train_img = pca.fit_transform(input_train)\n",
    "        train_img =scaler.fit_transform(train_img)\n",
    "        \n",
    "        test_img = pca.transform(input_test)\n",
    "        test_img =scaler.transform(test_img)\n",
    "        return train_img, test_img, pca, scaler"
   ]
  },
  {
   "cell_type": "code",
   "execution_count": 4,
   "metadata": {},
   "outputs": [],
   "source": [
    "set_seed(set['data_seed'])\n",
    "mnist = tf.keras.datasets.mnist\n",
    "(X_train, y_train),(X_test, y_test) = mnist.load_data()"
   ]
  },
  {
   "cell_type": "code",
   "execution_count": 5,
   "metadata": {},
   "outputs": [
    {
     "name": "stdout",
     "output_type": "stream",
     "text": [
      "===============Preprocess data===============\n",
      "N_classes: 10\n",
      "Train size: (6000, 784) Test size: (6000,)\n",
      "===============PCA===============\n",
      "Train size after PCA: (6000, 100) Test size after PCA: (10000, 100)\n"
     ]
    }
   ],
   "source": [
    "print('='*15+'Preprocess data'+'='*15)\n",
    "X_train, X_test = preprocess_data(X_train, X_test)\n",
    "\n",
    "\n",
    "idx = np.random.choice(X_train.shape[0], size=set['M'], replace=False)\n",
    "X_train = X_train[idx]\n",
    "y_train = y_train[idx]\n",
    "n_classes = len(np.unique(y_train))\n",
    "\n",
    "print('N_classes:',n_classes)\n",
    "print('Train size:',X_train.shape, 'Test size:', y_train.shape)\n",
    "\n",
    "\n",
    "print('='*15+'PCA'+'='*15)\n",
    "X_train,X_test, pca1, scaler1 = PCA_SS(X_train, X_test)\n",
    "print('Train size after PCA:',X_train.shape, 'Test size after PCA:', X_test.shape)"
   ]
  },
  {
   "cell_type": "code",
   "execution_count": 20,
   "metadata": {},
   "outputs": [],
   "source": [
    "params= {\n",
    "  'N': 100,\n",
    "  'num_classes':10,\n",
    "  'num_layers':10,\n",
    "  'activation':'relu',\n",
    "  'activation_last':'softmax',\n",
    "  'learning_rate': 0.1,\n",
    "  'loss': 'sparse_categorical_crossentropy',\n",
    "  'metric': 'accuracy',\n",
    "  'random_seed': 777,\n",
    "  'bias_initializer': tf.keras.initializers.Constant(0.1),\n",
    "  'optimizer':'adam',\n",
    "  'epochs':100,\n",
    "  'batch_size':256\n",
    "}"
   ]
  },
  {
   "cell_type": "code",
   "execution_count": 29,
   "metadata": {},
   "outputs": [],
   "source": [
    "def create_fully_model(params:dict, W):\n",
    "    model=Sequential(name='fully_connect_model')\n",
    "    model.add(Dense(params['N'], kernel_initializer=W,bias_initializer=params['bias_initializer'],input_shape=(params['N'],), name='Affine1',))\n",
    "    model.add(BatchNormalization(name='batch_normalization1'))\n",
    "    model.add(Activation('relu', name='activation1'))\n",
    "    for i in range(1, params['num_layers']-1):\n",
    "        model.add(Dense(params['N'], kernel_initializer=W,bias_initializer=params['bias_initializer'],name=f'Affine{i+1}'))\n",
    "        model.add(BatchNormalization(name=f'batch_normalization{i+1}'))\n",
    "        model.add(Activation(params['activation'],name=f'activation{i+1}'))\n",
    "        \n",
    "    model.add(Dense(params['num_classes'],kernel_initializer=W,bias_initializer=params['bias_initializer'],name='output',))\n",
    "    model.add(BatchNormalization(name=f'batch_normalization{params[\"num_layers\"]}'))\n",
    "    model.add(Activation('softmax', name=f'activation{params[\"num_layers\"]}'))\n",
    "    model.compile(loss=params['loss'], optimizer=params['optimizer'],metrics=[params['metric']])\n",
    "    return model"
   ]
  },
  {
   "cell_type": "code",
   "execution_count": 30,
   "metadata": {},
   "outputs": [],
   "source": [
    "w_intializer1 = tf.keras.initializers.RandomNormal(mean=0, stddev=1)\n",
    "model1 = create_fully_model(params=params,W=w_intializer1)"
   ]
  },
  {
   "cell_type": "code",
   "execution_count": 37,
   "metadata": {},
   "outputs": [
    {
     "name": "stdout",
     "output_type": "stream",
     "text": [
      "['Affine1', 'batch_normalization1', 'activation1', 'Affine2', 'batch_normalization2', 'activation2', 'Affine3', 'batch_normalization3', 'activation3', 'Affine4', 'batch_normalization4', 'activation4', 'Affine5', 'batch_normalization5', 'activation5', 'Affine6', 'batch_normalization6', 'activation6', 'Affine7', 'batch_normalization7', 'activation7', 'Affine8', 'batch_normalization8', 'activation8', 'Affine9', 'batch_normalization9', 'activation9', 'output', 'batch_normalization10', 'activation10']\n"
     ]
    }
   ],
   "source": [
    "# モデルのレイヤー名を取得する\n",
    "layer_names = [layer.name for layer in model1.layers]\n",
    "print(layer_names)"
   ]
  },
  {
   "cell_type": "code",
   "execution_count": 28,
   "metadata": {},
   "outputs": [
    {
     "name": "stdout",
     "output_type": "stream",
     "text": [
      "Epoch 1/100\n"
     ]
    },
    {
     "ename": "ValueError",
     "evalue": "in user code:\n\n    File \"/Users/oritoyusuke/.pyenv/versions/miniforge3-4.10.1-5/envs/ms-env/lib/python3.8/site-packages/keras/engine/training.py\", line 1051, in train_function  *\n        return step_function(self, iterator)\n    File \"/Users/oritoyusuke/.pyenv/versions/miniforge3-4.10.1-5/envs/ms-env/lib/python3.8/site-packages/keras/engine/training.py\", line 1040, in step_function  **\n        outputs = model.distribute_strategy.run(run_step, args=(data,))\n    File \"/Users/oritoyusuke/.pyenv/versions/miniforge3-4.10.1-5/envs/ms-env/lib/python3.8/site-packages/keras/engine/training.py\", line 1030, in run_step  **\n        outputs = model.train_step(data)\n    File \"/Users/oritoyusuke/.pyenv/versions/miniforge3-4.10.1-5/envs/ms-env/lib/python3.8/site-packages/keras/engine/training.py\", line 890, in train_step\n        loss = self.compute_loss(x, y, y_pred, sample_weight)\n    File \"/Users/oritoyusuke/.pyenv/versions/miniforge3-4.10.1-5/envs/ms-env/lib/python3.8/site-packages/keras/engine/training.py\", line 948, in compute_loss\n        return self.compiled_loss(\n    File \"/Users/oritoyusuke/.pyenv/versions/miniforge3-4.10.1-5/envs/ms-env/lib/python3.8/site-packages/keras/engine/compile_utils.py\", line 201, in __call__\n        loss_value = loss_obj(y_t, y_p, sample_weight=sw)\n    File \"/Users/oritoyusuke/.pyenv/versions/miniforge3-4.10.1-5/envs/ms-env/lib/python3.8/site-packages/keras/losses.py\", line 139, in __call__\n        losses = call_fn(y_true, y_pred)\n    File \"/Users/oritoyusuke/.pyenv/versions/miniforge3-4.10.1-5/envs/ms-env/lib/python3.8/site-packages/keras/losses.py\", line 243, in call  **\n        return ag_fn(y_true, y_pred, **self._fn_kwargs)\n    File \"/Users/oritoyusuke/.pyenv/versions/miniforge3-4.10.1-5/envs/ms-env/lib/python3.8/site-packages/keras/losses.py\", line 1787, in categorical_crossentropy\n        return backend.categorical_crossentropy(\n    File \"/Users/oritoyusuke/.pyenv/versions/miniforge3-4.10.1-5/envs/ms-env/lib/python3.8/site-packages/keras/backend.py\", line 5119, in categorical_crossentropy\n        target.shape.assert_is_compatible_with(output.shape)\n\n    ValueError: Shapes (None, 1) and (None, 10) are incompatible\n",
     "output_type": "error",
     "traceback": [
      "\u001b[0;31m---------------------------------------------------------------------------\u001b[0m",
      "\u001b[0;31mValueError\u001b[0m                                Traceback (most recent call last)",
      "Cell \u001b[0;32mIn[28], line 1\u001b[0m\n\u001b[0;32m----> 1\u001b[0m history1 \u001b[38;5;241m=\u001b[39m \u001b[43mmodel1\u001b[49m\u001b[38;5;241;43m.\u001b[39;49m\u001b[43mfit\u001b[49m\u001b[43m(\u001b[49m\u001b[43mX_train\u001b[49m\u001b[43m,\u001b[49m\u001b[43m \u001b[49m\u001b[43my_train\u001b[49m\u001b[43m,\u001b[49m\n\u001b[1;32m      2\u001b[0m \u001b[43m                \u001b[49m\u001b[43mbatch_size\u001b[49m\u001b[38;5;241;43m=\u001b[39;49m\u001b[43mparams\u001b[49m\u001b[43m[\u001b[49m\u001b[38;5;124;43m\"\u001b[39;49m\u001b[38;5;124;43mbatch_size\u001b[39;49m\u001b[38;5;124;43m\"\u001b[39;49m\u001b[43m]\u001b[49m\u001b[43m,\u001b[49m\n\u001b[1;32m      3\u001b[0m \u001b[43m                \u001b[49m\u001b[43mepochs\u001b[49m\u001b[38;5;241;43m=\u001b[39;49m\u001b[43mparams\u001b[49m\u001b[43m[\u001b[49m\u001b[38;5;124;43m\"\u001b[39;49m\u001b[38;5;124;43mepochs\u001b[39;49m\u001b[38;5;124;43m\"\u001b[39;49m\u001b[43m]\u001b[49m\u001b[43m,\u001b[49m\n\u001b[1;32m      4\u001b[0m \u001b[43m                \u001b[49m\u001b[43mverbose\u001b[49m\u001b[38;5;241;43m=\u001b[39;49m\u001b[38;5;241;43m1\u001b[39;49m\u001b[43m,\u001b[49m\n\u001b[1;32m      5\u001b[0m \u001b[43m                \u001b[49m\u001b[43mshuffle\u001b[49m\u001b[38;5;241;43m=\u001b[39;49m\u001b[38;5;28;43;01mTrue\u001b[39;49;00m\u001b[43m,\u001b[49m\n\u001b[1;32m      6\u001b[0m \u001b[43m                \u001b[49m\u001b[43mvalidation_data\u001b[49m\u001b[38;5;241;43m=\u001b[39;49m\u001b[43m(\u001b[49m\u001b[43mX_test\u001b[49m\u001b[43m,\u001b[49m\u001b[43m \u001b[49m\u001b[43my_test\u001b[49m\u001b[43m)\u001b[49m\u001b[43m,\u001b[49m\n\u001b[1;32m      7\u001b[0m \u001b[43m                \u001b[49m\u001b[38;5;66;43;03m#callbacks=[LogEpochIntermediateCallcack(layer_name_list=CFG.layer_name_list,model_num='001')]\u001b[39;49;00m\n\u001b[1;32m      8\u001b[0m \u001b[43m                \u001b[49m\u001b[43m)\u001b[49m\n",
      "File \u001b[0;32m~/.pyenv/versions/miniforge3-4.10.1-5/envs/ms-env/lib/python3.8/site-packages/keras/utils/traceback_utils.py:67\u001b[0m, in \u001b[0;36mfilter_traceback.<locals>.error_handler\u001b[0;34m(*args, **kwargs)\u001b[0m\n\u001b[1;32m     65\u001b[0m \u001b[38;5;28;01mexcept\u001b[39;00m \u001b[38;5;167;01mException\u001b[39;00m \u001b[38;5;28;01mas\u001b[39;00m e:  \u001b[38;5;66;03m# pylint: disable=broad-except\u001b[39;00m\n\u001b[1;32m     66\u001b[0m   filtered_tb \u001b[38;5;241m=\u001b[39m _process_traceback_frames(e\u001b[38;5;241m.\u001b[39m__traceback__)\n\u001b[0;32m---> 67\u001b[0m   \u001b[38;5;28;01mraise\u001b[39;00m e\u001b[38;5;241m.\u001b[39mwith_traceback(filtered_tb) \u001b[38;5;28;01mfrom\u001b[39;00m \u001b[38;5;28;01mNone\u001b[39;00m\n\u001b[1;32m     68\u001b[0m \u001b[38;5;28;01mfinally\u001b[39;00m:\n\u001b[1;32m     69\u001b[0m   \u001b[38;5;28;01mdel\u001b[39;00m filtered_tb\n",
      "File \u001b[0;32m/var/folders/nm/f1mftswx2bn4x3l5cmqskq5r0000gn/T/__autograph_generated_fileflzynlam.py:15\u001b[0m, in \u001b[0;36mouter_factory.<locals>.inner_factory.<locals>.tf__train_function\u001b[0;34m(iterator)\u001b[0m\n\u001b[1;32m     13\u001b[0m \u001b[38;5;28;01mtry\u001b[39;00m:\n\u001b[1;32m     14\u001b[0m     do_return \u001b[38;5;241m=\u001b[39m \u001b[38;5;28;01mTrue\u001b[39;00m\n\u001b[0;32m---> 15\u001b[0m     retval_ \u001b[38;5;241m=\u001b[39m ag__\u001b[38;5;241m.\u001b[39mconverted_call(ag__\u001b[38;5;241m.\u001b[39mld(step_function), (ag__\u001b[38;5;241m.\u001b[39mld(\u001b[38;5;28mself\u001b[39m), ag__\u001b[38;5;241m.\u001b[39mld(iterator)), \u001b[38;5;28;01mNone\u001b[39;00m, fscope)\n\u001b[1;32m     16\u001b[0m \u001b[38;5;28;01mexcept\u001b[39;00m:\n\u001b[1;32m     17\u001b[0m     do_return \u001b[38;5;241m=\u001b[39m \u001b[38;5;28;01mFalse\u001b[39;00m\n",
      "\u001b[0;31mValueError\u001b[0m: in user code:\n\n    File \"/Users/oritoyusuke/.pyenv/versions/miniforge3-4.10.1-5/envs/ms-env/lib/python3.8/site-packages/keras/engine/training.py\", line 1051, in train_function  *\n        return step_function(self, iterator)\n    File \"/Users/oritoyusuke/.pyenv/versions/miniforge3-4.10.1-5/envs/ms-env/lib/python3.8/site-packages/keras/engine/training.py\", line 1040, in step_function  **\n        outputs = model.distribute_strategy.run(run_step, args=(data,))\n    File \"/Users/oritoyusuke/.pyenv/versions/miniforge3-4.10.1-5/envs/ms-env/lib/python3.8/site-packages/keras/engine/training.py\", line 1030, in run_step  **\n        outputs = model.train_step(data)\n    File \"/Users/oritoyusuke/.pyenv/versions/miniforge3-4.10.1-5/envs/ms-env/lib/python3.8/site-packages/keras/engine/training.py\", line 890, in train_step\n        loss = self.compute_loss(x, y, y_pred, sample_weight)\n    File \"/Users/oritoyusuke/.pyenv/versions/miniforge3-4.10.1-5/envs/ms-env/lib/python3.8/site-packages/keras/engine/training.py\", line 948, in compute_loss\n        return self.compiled_loss(\n    File \"/Users/oritoyusuke/.pyenv/versions/miniforge3-4.10.1-5/envs/ms-env/lib/python3.8/site-packages/keras/engine/compile_utils.py\", line 201, in __call__\n        loss_value = loss_obj(y_t, y_p, sample_weight=sw)\n    File \"/Users/oritoyusuke/.pyenv/versions/miniforge3-4.10.1-5/envs/ms-env/lib/python3.8/site-packages/keras/losses.py\", line 139, in __call__\n        losses = call_fn(y_true, y_pred)\n    File \"/Users/oritoyusuke/.pyenv/versions/miniforge3-4.10.1-5/envs/ms-env/lib/python3.8/site-packages/keras/losses.py\", line 243, in call  **\n        return ag_fn(y_true, y_pred, **self._fn_kwargs)\n    File \"/Users/oritoyusuke/.pyenv/versions/miniforge3-4.10.1-5/envs/ms-env/lib/python3.8/site-packages/keras/losses.py\", line 1787, in categorical_crossentropy\n        return backend.categorical_crossentropy(\n    File \"/Users/oritoyusuke/.pyenv/versions/miniforge3-4.10.1-5/envs/ms-env/lib/python3.8/site-packages/keras/backend.py\", line 5119, in categorical_crossentropy\n        target.shape.assert_is_compatible_with(output.shape)\n\n    ValueError: Shapes (None, 1) and (None, 10) are incompatible\n"
     ]
    }
   ],
   "source": [
    "history1 = model1.fit(X_train, y_train,\n",
    "                batch_size=params[\"batch_size\"],\n",
    "                epochs=params[\"epochs\"],\n",
    "                verbose=1,\n",
    "                shuffle=True,\n",
    "                validation_data=(X_test, y_test),\n",
    "                #callbacks=[LogEpochIntermediateCallcack(layer_name_list=CFG.layer_name_list,model_num='001')]\n",
    "                )"
   ]
  },
  {
   "cell_type": "code",
   "execution_count": 27,
   "metadata": {},
   "outputs": [
    {
     "data": {
      "text/plain": [
       "(6000, 100)"
      ]
     },
     "execution_count": 27,
     "metadata": {},
     "output_type": "execute_result"
    }
   ],
   "source": [
    "X_train.shape"
   ]
  },
  {
   "cell_type": "code",
   "execution_count": 32,
   "metadata": {},
   "outputs": [],
   "source": [
    "loss1 = joblib.load('../Output/Loss/model001_iniA_M6000_L10_seed820.pkl')"
   ]
  },
  {
   "cell_type": "code",
   "execution_count": null,
   "metadata": {},
   "outputs": [],
   "source": []
  }
 ],
 "metadata": {
  "kernelspec": {
   "display_name": "ms-env",
   "language": "python",
   "name": "python3"
  },
  "language_info": {
   "codemirror_mode": {
    "name": "ipython",
    "version": 3
   },
   "file_extension": ".py",
   "mimetype": "text/x-python",
   "name": "python",
   "nbconvert_exporter": "python",
   "pygments_lexer": "ipython3",
   "version": "3.8.16"
  }
 },
 "nbformat": 4,
 "nbformat_minor": 2
}
