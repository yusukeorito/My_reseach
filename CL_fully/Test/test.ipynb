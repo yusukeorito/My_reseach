{
 "cells": [
  {
   "cell_type": "markdown",
   "metadata": {},
   "source": [
    "## 関数テスト用のnotebook"
   ]
  },
  {
   "cell_type": "code",
   "execution_count": 1,
   "metadata": {},
   "outputs": [],
   "source": [
    "#データの読み込みから実行まで全てを実行するくRunnerクラスを定義する\n",
    "from typing import Any, Dict, Tuple, Union\n",
    "import sys\n",
    "import numpy as np\n",
    "import joblib\n",
    "from sklearn.decomposition import PCA\n",
    "from sklearn.preprocessing import StandardScaler\n",
    "\n",
    "import tensorflow as tf\n",
    "from tensorflow.keras.models import Sequential\n",
    "from tensorflow.keras.optimizers import SGD, Adam\n",
    "from tensorflow.keras.callbacks import Callback,ModelCheckpoint\n",
    "from tensorflow.keras.layers import Dense,BatchNormalization,Activation\n",
    "from tensorflow.keras.activations import relu\n",
    "\n",
    "sys.path.append('../../')\n",
    "from Utils.utils import *\n",
    "from Utils.get_q import *\n",
    "\n",
    "layer_name_list=['batch_normalization1', 'batch_normalization2', 'batch_normalization3','batch_normalization4', 'batch_normalization5',\n",
    "                  'batch_normalization6', 'batch_normalization7', 'batch_normalization8','batch_normalization9','batch_normalization10',]\n",
    "\n",
    "CFG = {\n",
    "  'N': 100,\n",
    "  'M': 6000,\n",
    "  'L': 10,\n",
    "  'ini_type' : 'A',\n",
    "  'data_name': 'MNIST',\n",
    "\n",
    "\n",
    "  'data_seed': 4244, #データのサンプリングを固定するためのseed\n",
    "  'seed1' : 820,\n",
    "  'seed2' : 314,\n",
    "  'seed3' : 1228,\n",
    "}"
   ]
  },
  {
   "cell_type": "code",
   "execution_count": 2,
   "metadata": {},
   "outputs": [],
   "source": [
    "\n",
    "X_train, y_train = load_fashion_mnist('../../Data/', kind='train')\n",
    "X_test, y_test = load_fashion_mnist('../../Data', kind='t10k')"
   ]
  },
  {
   "cell_type": "code",
   "execution_count": 3,
   "metadata": {},
   "outputs": [
    {
     "data": {
      "text/plain": [
       "(60000, 784)"
      ]
     },
     "execution_count": 3,
     "metadata": {},
     "output_type": "execute_result"
    }
   ],
   "source": [
    "X_train.shape"
   ]
  },
  {
   "cell_type": "code",
   "execution_count": 2,
   "metadata": {},
   "outputs": [],
   "source": [
    "def preprocessing(X_train, X_test,y_train, y_test) -> np.ndarray:  \n",
    "        X_train = X_train.reshape(X_train.shape[0], -1)\n",
    "        X_test = X_test.reshape(X_test.shape[0], -1)\n",
    "\n",
    "        X_train = X_train / 255\n",
    "        X_test = X_test / 255\n",
    "        # Use 32-bit instead of 64-bit float\n",
    "        X_train = X_train.astype(\"float32\")\n",
    "        X_test = X_test.astype(\"float32\")\n",
    "        \n",
    "        idx = np.random.choice(X_train.shape[0], size=6000)\n",
    "        X_train = X_train[idx]\n",
    "        y_train = y_train[idx]\n",
    "        \n",
    "        X_train_out = X_train\n",
    "        X_test_out = X_test\n",
    "        y_train_out = y_train\n",
    "        y_test_out = y_test\n",
    "    \n",
    "        return X_train_out, y_train_out, X_test_out, y_test_out\n",
    "\n",
    "\n",
    "def PCA_SS(input_train,input_test):\n",
    "        # Make an instance of the Model\n",
    "        pca = PCA(n_components=CFG['N'])\n",
    "        scaler = StandardScaler()\n",
    "\n",
    "        train_img = pca.fit_transform(input_train)\n",
    "        train_img =scaler.fit_transform(train_img)\n",
    "        \n",
    "        test_img = pca.transform(input_test)\n",
    "        test_img =scaler.transform(test_img)\n",
    "        return train_img, test_img, pca, scaler\n",
    "\n",
    "params= {\n",
    "  'N': 100,\n",
    "  'num_classes':10,\n",
    "  'num_layers':10,\n",
    "  'activation':'relu',\n",
    "  'activation_last':'softmax',\n",
    "  'learning_rate': 0.1,\n",
    "  'loss': 'sparse_categorical_crossentropy',\n",
    "  'metric': 'accuracy',\n",
    "  'random_seed': 777,\n",
    "  'bias_initializer': tf.keras.initializers.Constant(0.1),\n",
    "  'optimizer':'adam',\n",
    "  'epochs':1000,\n",
    "  'batch_size':256\n",
    "}"
   ]
  },
  {
   "cell_type": "code",
   "execution_count": 3,
   "metadata": {},
   "outputs": [
    {
     "name": "stdout",
     "output_type": "stream",
     "text": [
      "===============Preprocess data===============\n",
      "Train size: (6000, 784) Test size: (6000,)\n"
     ]
    }
   ],
   "source": [
    "set_seed(CFG['data_seed'])\n",
    "mnist = tf.keras.datasets.mnist\n",
    "(X_train, y_train),(X_test, y_test) = mnist.load_data()\n",
    "print('='*15+'Preprocess data'+'='*15)\n",
    "X_train, y_train, X_test, y_test = preprocessing(X_train, X_test,y_train, y_test)\n",
    "print('Train size:',X_train.shape, 'Test size:', y_train.shape)\n",
    "X_train, X_test, pca1, scaler1 = PCA_SS(X_train, X_test)"
   ]
  },
  {
   "cell_type": "code",
   "execution_count": 4,
   "metadata": {},
   "outputs": [
    {
     "name": "stdout",
     "output_type": "stream",
     "text": [
      "Metal device set to: Apple M1\n",
      "\n",
      "systemMemory: 16.00 GB\n",
      "maxCacheSize: 5.33 GB\n",
      "\n"
     ]
    },
    {
     "name": "stderr",
     "output_type": "stream",
     "text": [
      "2023-12-23 16:07:51.228520: I tensorflow/core/common_runtime/pluggable_device/pluggable_device_factory.cc:305] Could not identify NUMA node of platform GPU ID 0, defaulting to 0. Your kernel may not have been built with NUMA support.\n",
      "2023-12-23 16:07:51.228782: I tensorflow/core/common_runtime/pluggable_device/pluggable_device_factory.cc:271] Created TensorFlow device (/job:localhost/replica:0/task:0/device:GPU:0 with 0 MB memory) -> physical PluggableDevice (device: 0, name: METAL, pci bus id: <undefined>)\n"
     ]
    },
    {
     "name": "stdout",
     "output_type": "stream",
     "text": [
      " 71/188 [==========>...................] - ETA: 0s"
     ]
    },
    {
     "name": "stderr",
     "output_type": "stream",
     "text": [
      "2023-12-23 16:07:51.643556: W tensorflow/core/platform/profile_utils/cpu_utils.cc:128] Failed to get CPU frequency: 0 Hz\n",
      "2023-12-23 16:07:51.693130: I tensorflow/core/grappler/optimizers/custom_graph_optimizer_registry.cc:113] Plugin optimizer for device_type GPU is enabled.\n"
     ]
    },
    {
     "name": "stdout",
     "output_type": "stream",
     "text": [
      "188/188 [==============================] - 0s 2ms/step\n",
      "104/188 [===============>..............] - ETA: 0s"
     ]
    },
    {
     "name": "stderr",
     "output_type": "stream",
     "text": [
      "2023-12-23 16:07:52.105994: I tensorflow/core/grappler/optimizers/custom_graph_optimizer_registry.cc:113] Plugin optimizer for device_type GPU is enabled.\n"
     ]
    },
    {
     "name": "stdout",
     "output_type": "stream",
     "text": [
      "188/188 [==============================] - 0s 2ms/step\n",
      " 52/188 [=======>......................] - ETA: 0s"
     ]
    },
    {
     "name": "stderr",
     "output_type": "stream",
     "text": [
      "2023-12-23 16:07:52.576046: I tensorflow/core/grappler/optimizers/custom_graph_optimizer_registry.cc:113] Plugin optimizer for device_type GPU is enabled.\n"
     ]
    },
    {
     "name": "stdout",
     "output_type": "stream",
     "text": [
      "188/188 [==============================] - 0s 2ms/step\n",
      " 40/188 [=====>........................] - ETA: 0s"
     ]
    },
    {
     "name": "stderr",
     "output_type": "stream",
     "text": [
      "2023-12-23 16:07:53.120948: I tensorflow/core/grappler/optimizers/custom_graph_optimizer_registry.cc:113] Plugin optimizer for device_type GPU is enabled.\n"
     ]
    },
    {
     "name": "stdout",
     "output_type": "stream",
     "text": [
      "188/188 [==============================] - 1s 3ms/step\n",
      " 17/188 [=>............................] - ETA: 0s "
     ]
    },
    {
     "name": "stderr",
     "output_type": "stream",
     "text": [
      "2023-12-23 16:07:53.883087: I tensorflow/core/grappler/optimizers/custom_graph_optimizer_registry.cc:113] Plugin optimizer for device_type GPU is enabled.\n"
     ]
    },
    {
     "name": "stdout",
     "output_type": "stream",
     "text": [
      "188/188 [==============================] - 1s 3ms/step\n",
      " 15/188 [=>............................] - ETA: 0s "
     ]
    },
    {
     "name": "stderr",
     "output_type": "stream",
     "text": [
      "2023-12-23 16:07:54.712906: I tensorflow/core/grappler/optimizers/custom_graph_optimizer_registry.cc:113] Plugin optimizer for device_type GPU is enabled.\n"
     ]
    },
    {
     "name": "stdout",
     "output_type": "stream",
     "text": [
      "188/188 [==============================] - 1s 4ms/step\n",
      " 12/188 [>.............................] - ETA: 0s "
     ]
    },
    {
     "name": "stderr",
     "output_type": "stream",
     "text": [
      "2023-12-23 16:07:55.714318: I tensorflow/core/grappler/optimizers/custom_graph_optimizer_registry.cc:113] Plugin optimizer for device_type GPU is enabled.\n"
     ]
    },
    {
     "name": "stdout",
     "output_type": "stream",
     "text": [
      "188/188 [==============================] - 1s 5ms/step\n",
      "  1/188 [..............................] - ETA: 43s"
     ]
    },
    {
     "name": "stderr",
     "output_type": "stream",
     "text": [
      "2023-12-23 16:07:56.938143: I tensorflow/core/grappler/optimizers/custom_graph_optimizer_registry.cc:113] Plugin optimizer for device_type GPU is enabled.\n"
     ]
    },
    {
     "name": "stdout",
     "output_type": "stream",
     "text": [
      "188/188 [==============================] - 1s 5ms/step\n",
      "  1/188 [..............................] - ETA: 49s"
     ]
    },
    {
     "name": "stderr",
     "output_type": "stream",
     "text": [
      "2023-12-23 16:07:58.238064: I tensorflow/core/grappler/optimizers/custom_graph_optimizer_registry.cc:113] Plugin optimizer for device_type GPU is enabled.\n"
     ]
    },
    {
     "name": "stdout",
     "output_type": "stream",
     "text": [
      "188/188 [==============================] - 1s 6ms/step\n"
     ]
    },
    {
     "name": "stderr",
     "output_type": "stream",
     "text": [
      "2023-12-23 16:07:59.635670: I tensorflow/core/grappler/optimizers/custom_graph_optimizer_registry.cc:113] Plugin optimizer for device_type GPU is enabled.\n"
     ]
    },
    {
     "name": "stdout",
     "output_type": "stream",
     "text": [
      "188/188 [==============================] - 1s 6ms/step\n",
      "Epoch 1/1000\n"
     ]
    },
    {
     "name": "stderr",
     "output_type": "stream",
     "text": [
      "2023-12-23 16:08:02.125604: I tensorflow/core/grappler/optimizers/custom_graph_optimizer_registry.cc:113] Plugin optimizer for device_type GPU is enabled.\n"
     ]
    },
    {
     "name": "stdout",
     "output_type": "stream",
     "text": [
      "24/24 [==============================] - ETA: 0s - loss: 2.5891 - accuracy: 0.1185"
     ]
    },
    {
     "name": "stderr",
     "output_type": "stream",
     "text": [
      "2023-12-23 16:08:05.366634: I tensorflow/core/grappler/optimizers/custom_graph_optimizer_registry.cc:113] Plugin optimizer for device_type GPU is enabled.\n"
     ]
    },
    {
     "name": "stdout",
     "output_type": "stream",
     "text": [
      "142/188 [=====================>........] - ETA: 0s"
     ]
    },
    {
     "name": "stderr",
     "output_type": "stream",
     "text": [
      "2023-12-23 16:08:06.265396: I tensorflow/core/grappler/optimizers/custom_graph_optimizer_registry.cc:113] Plugin optimizer for device_type GPU is enabled.\n"
     ]
    },
    {
     "name": "stdout",
     "output_type": "stream",
     "text": [
      "188/188 [==============================] - 0s 1ms/step\n",
      " 57/188 [========>.....................] - ETA: 0s"
     ]
    },
    {
     "name": "stderr",
     "output_type": "stream",
     "text": [
      "2023-12-23 16:08:06.940608: I tensorflow/core/grappler/optimizers/custom_graph_optimizer_registry.cc:113] Plugin optimizer for device_type GPU is enabled.\n"
     ]
    },
    {
     "name": "stdout",
     "output_type": "stream",
     "text": [
      "188/188 [==============================] - 0s 2ms/step\n",
      " 43/188 [=====>........................] - ETA: 0s"
     ]
    },
    {
     "name": "stderr",
     "output_type": "stream",
     "text": [
      "2023-12-23 16:08:07.438417: I tensorflow/core/grappler/optimizers/custom_graph_optimizer_registry.cc:113] Plugin optimizer for device_type GPU is enabled.\n"
     ]
    },
    {
     "name": "stdout",
     "output_type": "stream",
     "text": [
      "188/188 [==============================] - 1s 2ms/step\n",
      " 39/188 [=====>........................] - ETA: 0s"
     ]
    },
    {
     "name": "stderr",
     "output_type": "stream",
     "text": [
      "2023-12-23 16:08:08.029397: I tensorflow/core/grappler/optimizers/custom_graph_optimizer_registry.cc:113] Plugin optimizer for device_type GPU is enabled.\n"
     ]
    },
    {
     "name": "stdout",
     "output_type": "stream",
     "text": [
      "188/188 [==============================] - 1s 3ms/step\n",
      " 13/188 [=>............................] - ETA: 0s "
     ]
    },
    {
     "name": "stderr",
     "output_type": "stream",
     "text": [
      "2023-12-23 16:08:08.760712: I tensorflow/core/grappler/optimizers/custom_graph_optimizer_registry.cc:113] Plugin optimizer for device_type GPU is enabled.\n"
     ]
    },
    {
     "name": "stdout",
     "output_type": "stream",
     "text": [
      "188/188 [==============================] - 1s 3ms/step\n",
      " 11/188 [>.............................] - ETA: 0s "
     ]
    },
    {
     "name": "stderr",
     "output_type": "stream",
     "text": [
      "2023-12-23 16:08:09.582764: I tensorflow/core/grappler/optimizers/custom_graph_optimizer_registry.cc:113] Plugin optimizer for device_type GPU is enabled.\n"
     ]
    },
    {
     "name": "stdout",
     "output_type": "stream",
     "text": [
      "188/188 [==============================] - 1s 4ms/step\n",
      "  1/188 [..............................] - ETA: 47s"
     ]
    },
    {
     "name": "stderr",
     "output_type": "stream",
     "text": [
      "2023-12-23 16:08:10.574496: I tensorflow/core/grappler/optimizers/custom_graph_optimizer_registry.cc:113] Plugin optimizer for device_type GPU is enabled.\n"
     ]
    },
    {
     "name": "stdout",
     "output_type": "stream",
     "text": [
      "188/188 [==============================] - 1s 5ms/step\n",
      "  1/188 [..............................] - ETA: 44s"
     ]
    },
    {
     "name": "stderr",
     "output_type": "stream",
     "text": [
      "2023-12-23 16:08:11.751199: I tensorflow/core/grappler/optimizers/custom_graph_optimizer_registry.cc:113] Plugin optimizer for device_type GPU is enabled.\n"
     ]
    },
    {
     "name": "stdout",
     "output_type": "stream",
     "text": [
      "188/188 [==============================] - 1s 5ms/step\n"
     ]
    },
    {
     "name": "stderr",
     "output_type": "stream",
     "text": [
      "2023-12-23 16:08:13.075783: I tensorflow/core/grappler/optimizers/custom_graph_optimizer_registry.cc:113] Plugin optimizer for device_type GPU is enabled.\n"
     ]
    },
    {
     "name": "stdout",
     "output_type": "stream",
     "text": [
      "188/188 [==============================] - 1s 6ms/step\n"
     ]
    },
    {
     "name": "stderr",
     "output_type": "stream",
     "text": [
      "2023-12-23 16:08:14.602473: I tensorflow/core/grappler/optimizers/custom_graph_optimizer_registry.cc:113] Plugin optimizer for device_type GPU is enabled.\n"
     ]
    },
    {
     "name": "stdout",
     "output_type": "stream",
     "text": [
      "188/188 [==============================] - 1s 6ms/step\n",
      "24/24 [==============================] - 15s 540ms/step - loss: 2.5891 - accuracy: 0.1185 - val_loss: 7287.9712 - val_accuracy: 0.1038\n",
      "Epoch 2/1000\n"
     ]
    },
    {
     "name": "stderr",
     "output_type": "stream",
     "text": [
      "2023-12-23 16:08:16.118286: I tensorflow/core/grappler/optimizers/custom_graph_optimizer_registry.cc:113] Plugin optimizer for device_type GPU is enabled.\n"
     ]
    },
    {
     "name": "stdout",
     "output_type": "stream",
     "text": [
      "24/24 [==============================] - ETA: 0s - loss: 2.3665 - accuracy: 0.1672"
     ]
    },
    {
     "name": "stderr",
     "output_type": "stream",
     "text": [
      "2023-12-23 16:08:19.771124: I tensorflow/core/grappler/optimizers/custom_graph_optimizer_registry.cc:113] Plugin optimizer for device_type GPU is enabled.\n"
     ]
    },
    {
     "name": "stdout",
     "output_type": "stream",
     "text": [
      "127/188 [===================>..........] - ETA: 0s"
     ]
    },
    {
     "name": "stderr",
     "output_type": "stream",
     "text": [
      "2023-12-23 16:08:20.900999: I tensorflow/core/grappler/optimizers/custom_graph_optimizer_registry.cc:113] Plugin optimizer for device_type GPU is enabled.\n"
     ]
    },
    {
     "name": "stdout",
     "output_type": "stream",
     "text": [
      "188/188 [==============================] - 0s 1ms/step\n",
      " 59/188 [========>.....................] - ETA: 0s"
     ]
    },
    {
     "name": "stderr",
     "output_type": "stream",
     "text": [
      "2023-12-23 16:08:21.568071: I tensorflow/core/grappler/optimizers/custom_graph_optimizer_registry.cc:113] Plugin optimizer for device_type GPU is enabled.\n"
     ]
    },
    {
     "name": "stdout",
     "output_type": "stream",
     "text": [
      "188/188 [==============================] - 0s 2ms/step\n",
      " 45/188 [======>.......................] - ETA: 0s"
     ]
    },
    {
     "name": "stderr",
     "output_type": "stream",
     "text": [
      "2023-12-23 16:08:22.037396: I tensorflow/core/grappler/optimizers/custom_graph_optimizer_registry.cc:113] Plugin optimizer for device_type GPU is enabled.\n"
     ]
    },
    {
     "name": "stdout",
     "output_type": "stream",
     "text": [
      "188/188 [==============================] - 1s 2ms/step\n",
      " 15/188 [=>............................] - ETA: 0s "
     ]
    },
    {
     "name": "stderr",
     "output_type": "stream",
     "text": [
      "2023-12-23 16:08:22.684821: I tensorflow/core/grappler/optimizers/custom_graph_optimizer_registry.cc:113] Plugin optimizer for device_type GPU is enabled.\n"
     ]
    },
    {
     "name": "stdout",
     "output_type": "stream",
     "text": [
      "188/188 [==============================] - 1s 3ms/step\n",
      " 13/188 [=>............................] - ETA: 0s "
     ]
    },
    {
     "name": "stderr",
     "output_type": "stream",
     "text": [
      "2023-12-23 16:08:23.462977: I tensorflow/core/grappler/optimizers/custom_graph_optimizer_registry.cc:113] Plugin optimizer for device_type GPU is enabled.\n"
     ]
    },
    {
     "name": "stdout",
     "output_type": "stream",
     "text": [
      "188/188 [==============================] - 1s 4ms/step\n",
      "  1/188 [..............................] - ETA: 40s"
     ]
    },
    {
     "name": "stderr",
     "output_type": "stream",
     "text": [
      "2023-12-23 16:08:24.387821: I tensorflow/core/grappler/optimizers/custom_graph_optimizer_registry.cc:113] Plugin optimizer for device_type GPU is enabled.\n"
     ]
    },
    {
     "name": "stdout",
     "output_type": "stream",
     "text": [
      "188/188 [==============================] - 1s 4ms/step\n",
      "  1/188 [..............................] - ETA: 48s"
     ]
    },
    {
     "name": "stderr",
     "output_type": "stream",
     "text": [
      "2023-12-23 16:08:25.455904: I tensorflow/core/grappler/optimizers/custom_graph_optimizer_registry.cc:113] Plugin optimizer for device_type GPU is enabled.\n"
     ]
    },
    {
     "name": "stdout",
     "output_type": "stream",
     "text": [
      "188/188 [==============================] - 1s 5ms/step\n",
      "  1/188 [..............................] - ETA: 50s"
     ]
    },
    {
     "name": "stderr",
     "output_type": "stream",
     "text": [
      "2023-12-23 16:08:26.721486: I tensorflow/core/grappler/optimizers/custom_graph_optimizer_registry.cc:113] Plugin optimizer for device_type GPU is enabled.\n"
     ]
    },
    {
     "name": "stdout",
     "output_type": "stream",
     "text": [
      "188/188 [==============================] - 1s 6ms/step\n"
     ]
    },
    {
     "name": "stderr",
     "output_type": "stream",
     "text": [
      "2023-12-23 16:08:28.115242: I tensorflow/core/grappler/optimizers/custom_graph_optimizer_registry.cc:113] Plugin optimizer for device_type GPU is enabled.\n"
     ]
    },
    {
     "name": "stdout",
     "output_type": "stream",
     "text": [
      "188/188 [==============================] - 1s 6ms/step\n"
     ]
    },
    {
     "name": "stderr",
     "output_type": "stream",
     "text": [
      "2023-12-23 16:08:29.628822: I tensorflow/core/grappler/optimizers/custom_graph_optimizer_registry.cc:113] Plugin optimizer for device_type GPU is enabled.\n"
     ]
    },
    {
     "name": "stdout",
     "output_type": "stream",
     "text": [
      "188/188 [==============================] - 2s 7ms/step\n",
      "24/24 [==============================] - 15s 572ms/step - loss: 2.3665 - accuracy: 0.1672 - val_loss: 451.6193 - val_accuracy: 0.1069\n",
      "Epoch 3/1000\n"
     ]
    },
    {
     "name": "stderr",
     "output_type": "stream",
     "text": [
      "2023-12-23 16:08:31.258618: I tensorflow/core/grappler/optimizers/custom_graph_optimizer_registry.cc:113] Plugin optimizer for device_type GPU is enabled.\n"
     ]
    },
    {
     "name": "stdout",
     "output_type": "stream",
     "text": [
      "24/24 [==============================] - ETA: 0s - loss: 2.2036 - accuracy: 0.2260"
     ]
    },
    {
     "name": "stderr",
     "output_type": "stream",
     "text": [
      "2023-12-23 16:08:34.952432: I tensorflow/core/grappler/optimizers/custom_graph_optimizer_registry.cc:113] Plugin optimizer for device_type GPU is enabled.\n"
     ]
    },
    {
     "name": "stdout",
     "output_type": "stream",
     "text": [
      "128/188 [===================>..........] - ETA: 0s"
     ]
    },
    {
     "name": "stderr",
     "output_type": "stream",
     "text": [
      "2023-12-23 16:08:36.091430: I tensorflow/core/grappler/optimizers/custom_graph_optimizer_registry.cc:113] Plugin optimizer for device_type GPU is enabled.\n"
     ]
    },
    {
     "name": "stdout",
     "output_type": "stream",
     "text": [
      "188/188 [==============================] - 0s 1ms/step\n",
      " 48/188 [======>.......................] - ETA: 0s"
     ]
    },
    {
     "name": "stderr",
     "output_type": "stream",
     "text": [
      "2023-12-23 16:08:36.719757: I tensorflow/core/grappler/optimizers/custom_graph_optimizer_registry.cc:113] Plugin optimizer for device_type GPU is enabled.\n"
     ]
    },
    {
     "name": "stdout",
     "output_type": "stream",
     "text": [
      "188/188 [==============================] - 1s 2ms/step\n",
      " 17/188 [=>............................] - ETA: 0s "
     ]
    },
    {
     "name": "stderr",
     "output_type": "stream",
     "text": [
      "2023-12-23 16:08:37.299983: I tensorflow/core/grappler/optimizers/custom_graph_optimizer_registry.cc:113] Plugin optimizer for device_type GPU is enabled.\n"
     ]
    },
    {
     "name": "stdout",
     "output_type": "stream",
     "text": [
      "188/188 [==============================] - 1s 3ms/step\n",
      " 14/188 [=>............................] - ETA: 0s "
     ]
    },
    {
     "name": "stderr",
     "output_type": "stream",
     "text": [
      "2023-12-23 16:08:38.001208: I tensorflow/core/grappler/optimizers/custom_graph_optimizer_registry.cc:113] Plugin optimizer for device_type GPU is enabled.\n"
     ]
    },
    {
     "name": "stdout",
     "output_type": "stream",
     "text": [
      "188/188 [==============================] - 1s 3ms/step\n",
      "  1/188 [..............................] - ETA: 37s"
     ]
    },
    {
     "name": "stderr",
     "output_type": "stream",
     "text": [
      "2023-12-23 16:08:38.821136: I tensorflow/core/grappler/optimizers/custom_graph_optimizer_registry.cc:113] Plugin optimizer for device_type GPU is enabled.\n"
     ]
    },
    {
     "name": "stdout",
     "output_type": "stream",
     "text": [
      "188/188 [==============================] - 1s 4ms/step\n"
     ]
    },
    {
     "name": "stderr",
     "output_type": "stream",
     "text": [
      "2023-12-23 16:08:39.755390: I tensorflow/core/grappler/optimizers/custom_graph_optimizer_registry.cc:113] Plugin optimizer for device_type GPU is enabled.\n"
     ]
    },
    {
     "name": "stdout",
     "output_type": "stream",
     "text": [
      "188/188 [==============================] - 1s 4ms/step\n"
     ]
    },
    {
     "name": "stderr",
     "output_type": "stream",
     "text": [
      "2023-12-23 16:08:40.885019: I tensorflow/core/grappler/optimizers/custom_graph_optimizer_registry.cc:113] Plugin optimizer for device_type GPU is enabled.\n"
     ]
    },
    {
     "name": "stdout",
     "output_type": "stream",
     "text": [
      "188/188 [==============================] - 1s 5ms/step\n"
     ]
    },
    {
     "name": "stderr",
     "output_type": "stream",
     "text": [
      "2023-12-23 16:08:42.158109: I tensorflow/core/grappler/optimizers/custom_graph_optimizer_registry.cc:113] Plugin optimizer for device_type GPU is enabled.\n"
     ]
    },
    {
     "name": "stdout",
     "output_type": "stream",
     "text": [
      "188/188 [==============================] - 2s 6ms/step\n"
     ]
    },
    {
     "name": "stderr",
     "output_type": "stream",
     "text": [
      "2023-12-23 16:08:43.762761: I tensorflow/core/grappler/optimizers/custom_graph_optimizer_registry.cc:113] Plugin optimizer for device_type GPU is enabled.\n"
     ]
    },
    {
     "name": "stdout",
     "output_type": "stream",
     "text": [
      "188/188 [==============================] - 2s 6ms/step\n"
     ]
    },
    {
     "name": "stderr",
     "output_type": "stream",
     "text": [
      "2023-12-23 16:08:45.701965: I tensorflow/core/grappler/optimizers/custom_graph_optimizer_registry.cc:113] Plugin optimizer for device_type GPU is enabled.\n"
     ]
    },
    {
     "name": "stdout",
     "output_type": "stream",
     "text": [
      "188/188 [==============================] - 2s 8ms/step\n",
      "24/24 [==============================] - 16s 641ms/step - loss: 2.2036 - accuracy: 0.2260 - val_loss: 92.2709 - val_accuracy: 0.1124\n",
      "Epoch 4/1000\n"
     ]
    },
    {
     "name": "stderr",
     "output_type": "stream",
     "text": [
      "2023-12-23 16:08:47.624547: I tensorflow/core/grappler/optimizers/custom_graph_optimizer_registry.cc:113] Plugin optimizer for device_type GPU is enabled.\n"
     ]
    },
    {
     "name": "stdout",
     "output_type": "stream",
     "text": [
      "24/24 [==============================] - ETA: 0s - loss: 2.0958 - accuracy: 0.2603"
     ]
    },
    {
     "name": "stderr",
     "output_type": "stream",
     "text": [
      "2023-12-23 16:08:52.738570: I tensorflow/core/grappler/optimizers/custom_graph_optimizer_registry.cc:113] Plugin optimizer for device_type GPU is enabled.\n"
     ]
    },
    {
     "name": "stdout",
     "output_type": "stream",
     "text": [
      "113/188 [=================>............] - ETA: 0s"
     ]
    },
    {
     "name": "stderr",
     "output_type": "stream",
     "text": [
      "2023-12-23 16:08:53.987045: I tensorflow/core/grappler/optimizers/custom_graph_optimizer_registry.cc:113] Plugin optimizer for device_type GPU is enabled.\n"
     ]
    },
    {
     "name": "stdout",
     "output_type": "stream",
     "text": [
      "188/188 [==============================] - 0s 1ms/step\n",
      " 18/188 [=>............................] - ETA: 0s "
     ]
    },
    {
     "name": "stderr",
     "output_type": "stream",
     "text": [
      "2023-12-23 16:08:55.002531: I tensorflow/core/grappler/optimizers/custom_graph_optimizer_registry.cc:113] Plugin optimizer for device_type GPU is enabled.\n"
     ]
    },
    {
     "name": "stdout",
     "output_type": "stream",
     "text": [
      "188/188 [==============================] - 1s 2ms/step\n",
      "  6/188 [..............................] - ETA: 1s "
     ]
    },
    {
     "name": "stderr",
     "output_type": "stream",
     "text": [
      "2023-12-23 16:08:55.642696: I tensorflow/core/grappler/optimizers/custom_graph_optimizer_registry.cc:113] Plugin optimizer for device_type GPU is enabled.\n"
     ]
    },
    {
     "name": "stdout",
     "output_type": "stream",
     "text": [
      "188/188 [==============================] - 1s 3ms/step\n",
      "  1/188 [..............................] - ETA: 41s"
     ]
    },
    {
     "name": "stderr",
     "output_type": "stream",
     "text": [
      "2023-12-23 16:08:56.403930: I tensorflow/core/grappler/optimizers/custom_graph_optimizer_registry.cc:113] Plugin optimizer for device_type GPU is enabled.\n"
     ]
    },
    {
     "name": "stdout",
     "output_type": "stream",
     "text": [
      "188/188 [==============================] - 1s 3ms/step\n",
      "  1/188 [..............................] - ETA: 46s"
     ]
    },
    {
     "name": "stderr",
     "output_type": "stream",
     "text": [
      "2023-12-23 16:08:57.361203: I tensorflow/core/grappler/optimizers/custom_graph_optimizer_registry.cc:113] Plugin optimizer for device_type GPU is enabled.\n"
     ]
    },
    {
     "name": "stdout",
     "output_type": "stream",
     "text": [
      "188/188 [==============================] - 1s 4ms/step\n",
      "  1/188 [..............................] - ETA: 45s"
     ]
    },
    {
     "name": "stderr",
     "output_type": "stream",
     "text": [
      "2023-12-23 16:08:58.418457: I tensorflow/core/grappler/optimizers/custom_graph_optimizer_registry.cc:113] Plugin optimizer for device_type GPU is enabled.\n"
     ]
    },
    {
     "name": "stdout",
     "output_type": "stream",
     "text": [
      "188/188 [==============================] - 1s 5ms/step\n"
     ]
    },
    {
     "name": "stderr",
     "output_type": "stream",
     "text": [
      "2023-12-23 16:08:59.653915: I tensorflow/core/grappler/optimizers/custom_graph_optimizer_registry.cc:113] Plugin optimizer for device_type GPU is enabled.\n"
     ]
    },
    {
     "name": "stdout",
     "output_type": "stream",
     "text": [
      "188/188 [==============================] - 1s 6ms/step\n"
     ]
    },
    {
     "name": "stderr",
     "output_type": "stream",
     "text": [
      "2023-12-23 16:09:01.246125: I tensorflow/core/grappler/optimizers/custom_graph_optimizer_registry.cc:113] Plugin optimizer for device_type GPU is enabled.\n"
     ]
    },
    {
     "name": "stdout",
     "output_type": "stream",
     "text": [
      "188/188 [==============================] - 2s 6ms/step\n"
     ]
    },
    {
     "name": "stderr",
     "output_type": "stream",
     "text": [
      "2023-12-23 16:09:02.891973: I tensorflow/core/grappler/optimizers/custom_graph_optimizer_registry.cc:113] Plugin optimizer for device_type GPU is enabled.\n"
     ]
    },
    {
     "name": "stdout",
     "output_type": "stream",
     "text": [
      "188/188 [==============================] - 2s 7ms/step\n"
     ]
    },
    {
     "name": "stderr",
     "output_type": "stream",
     "text": [
      "2023-12-23 16:09:04.702869: I tensorflow/core/grappler/optimizers/custom_graph_optimizer_registry.cc:113] Plugin optimizer for device_type GPU is enabled.\n"
     ]
    },
    {
     "name": "stdout",
     "output_type": "stream",
     "text": [
      "188/188 [==============================] - 2s 7ms/step\n",
      "24/24 [==============================] - 19s 706ms/step - loss: 2.0958 - accuracy: 0.2603 - val_loss: 30.9860 - val_accuracy: 0.1169\n",
      "Epoch 5/1000\n"
     ]
    },
    {
     "name": "stderr",
     "output_type": "stream",
     "text": [
      "2023-12-23 16:09:06.580647: I tensorflow/core/grappler/optimizers/custom_graph_optimizer_registry.cc:113] Plugin optimizer for device_type GPU is enabled.\n"
     ]
    },
    {
     "name": "stdout",
     "output_type": "stream",
     "text": [
      "24/24 [==============================] - ETA: 0s - loss: 1.9923 - accuracy: 0.3110"
     ]
    },
    {
     "name": "stderr",
     "output_type": "stream",
     "text": [
      "2023-12-23 16:09:11.023458: I tensorflow/core/grappler/optimizers/custom_graph_optimizer_registry.cc:113] Plugin optimizer for device_type GPU is enabled.\n"
     ]
    },
    {
     "name": "stdout",
     "output_type": "stream",
     "text": [
      "129/188 [===================>..........] - ETA: 0s"
     ]
    },
    {
     "name": "stderr",
     "output_type": "stream",
     "text": [
      "2023-12-23 16:09:12.263233: I tensorflow/core/grappler/optimizers/custom_graph_optimizer_registry.cc:113] Plugin optimizer for device_type GPU is enabled.\n"
     ]
    },
    {
     "name": "stdout",
     "output_type": "stream",
     "text": [
      "188/188 [==============================] - 0s 1ms/step\n",
      " 53/188 [=======>......................] - ETA: 0s"
     ]
    },
    {
     "name": "stderr",
     "output_type": "stream",
     "text": [
      "2023-12-23 16:09:12.936746: I tensorflow/core/grappler/optimizers/custom_graph_optimizer_registry.cc:113] Plugin optimizer for device_type GPU is enabled.\n"
     ]
    },
    {
     "name": "stdout",
     "output_type": "stream",
     "text": [
      "188/188 [==============================] - 0s 2ms/step\n",
      " 10/188 [>.............................] - ETA: 1s "
     ]
    },
    {
     "name": "stderr",
     "output_type": "stream",
     "text": [
      "2023-12-23 16:09:13.478875: I tensorflow/core/grappler/optimizers/custom_graph_optimizer_registry.cc:113] Plugin optimizer for device_type GPU is enabled.\n"
     ]
    },
    {
     "name": "stdout",
     "output_type": "stream",
     "text": [
      "188/188 [==============================] - 1s 3ms/step\n",
      "  1/188 [..............................] - ETA: 40s"
     ]
    },
    {
     "name": "stderr",
     "output_type": "stream",
     "text": [
      "2023-12-23 16:09:14.255774: I tensorflow/core/grappler/optimizers/custom_graph_optimizer_registry.cc:113] Plugin optimizer for device_type GPU is enabled.\n"
     ]
    },
    {
     "name": "stdout",
     "output_type": "stream",
     "text": [
      "188/188 [==============================] - 1s 4ms/step\n"
     ]
    },
    {
     "name": "stderr",
     "output_type": "stream",
     "text": [
      "2023-12-23 16:09:15.207222: I tensorflow/core/grappler/optimizers/custom_graph_optimizer_registry.cc:113] Plugin optimizer for device_type GPU is enabled.\n"
     ]
    },
    {
     "name": "stdout",
     "output_type": "stream",
     "text": [
      "188/188 [==============================] - 1s 4ms/step\n",
      "  1/188 [..............................] - ETA: 45s"
     ]
    },
    {
     "name": "stderr",
     "output_type": "stream",
     "text": [
      "2023-12-23 16:09:16.236329: I tensorflow/core/grappler/optimizers/custom_graph_optimizer_registry.cc:113] Plugin optimizer for device_type GPU is enabled.\n"
     ]
    },
    {
     "name": "stdout",
     "output_type": "stream",
     "text": [
      "188/188 [==============================] - 1s 5ms/step\n"
     ]
    },
    {
     "name": "stderr",
     "output_type": "stream",
     "text": [
      "2023-12-23 16:09:17.471933: I tensorflow/core/grappler/optimizers/custom_graph_optimizer_registry.cc:113] Plugin optimizer for device_type GPU is enabled.\n"
     ]
    },
    {
     "name": "stdout",
     "output_type": "stream",
     "text": [
      "188/188 [==============================] - 1s 5ms/step\n"
     ]
    },
    {
     "name": "stderr",
     "output_type": "stream",
     "text": [
      "2023-12-23 16:09:18.880380: I tensorflow/core/grappler/optimizers/custom_graph_optimizer_registry.cc:113] Plugin optimizer for device_type GPU is enabled.\n"
     ]
    },
    {
     "name": "stdout",
     "output_type": "stream",
     "text": [
      "188/188 [==============================] - 2s 6ms/step\n"
     ]
    },
    {
     "name": "stderr",
     "output_type": "stream",
     "text": [
      "2023-12-23 16:09:20.591826: I tensorflow/core/grappler/optimizers/custom_graph_optimizer_registry.cc:113] Plugin optimizer for device_type GPU is enabled.\n"
     ]
    },
    {
     "name": "stdout",
     "output_type": "stream",
     "text": [
      "188/188 [==============================] - 2s 7ms/step\n"
     ]
    },
    {
     "name": "stderr",
     "output_type": "stream",
     "text": [
      "2023-12-23 16:09:22.423412: I tensorflow/core/grappler/optimizers/custom_graph_optimizer_registry.cc:113] Plugin optimizer for device_type GPU is enabled.\n"
     ]
    },
    {
     "name": "stdout",
     "output_type": "stream",
     "text": [
      "188/188 [==============================] - 2s 9ms/step\n",
      "24/24 [==============================] - 18s 697ms/step - loss: 1.9923 - accuracy: 0.3110 - val_loss: 13.4368 - val_accuracy: 0.1325\n",
      "Epoch 6/1000\n"
     ]
    },
    {
     "name": "stderr",
     "output_type": "stream",
     "text": [
      "2023-12-23 16:09:24.507910: I tensorflow/core/grappler/optimizers/custom_graph_optimizer_registry.cc:113] Plugin optimizer for device_type GPU is enabled.\n"
     ]
    },
    {
     "name": "stdout",
     "output_type": "stream",
     "text": [
      "24/24 [==============================] - ETA: 0s - loss: 1.9094 - accuracy: 0.3367"
     ]
    },
    {
     "name": "stderr",
     "output_type": "stream",
     "text": [
      "2023-12-23 16:09:29.554446: I tensorflow/core/grappler/optimizers/custom_graph_optimizer_registry.cc:113] Plugin optimizer for device_type GPU is enabled.\n"
     ]
    },
    {
     "name": "stdout",
     "output_type": "stream",
     "text": [
      "130/188 [===================>..........] - ETA: 0s"
     ]
    },
    {
     "name": "stderr",
     "output_type": "stream",
     "text": [
      "2023-12-23 16:09:30.863821: I tensorflow/core/grappler/optimizers/custom_graph_optimizer_registry.cc:113] Plugin optimizer for device_type GPU is enabled.\n"
     ]
    },
    {
     "name": "stdout",
     "output_type": "stream",
     "text": [
      "188/188 [==============================] - 0s 1ms/step\n",
      " 54/188 [=======>......................] - ETA: 0s"
     ]
    },
    {
     "name": "stderr",
     "output_type": "stream",
     "text": [
      "2023-12-23 16:09:31.551978: I tensorflow/core/grappler/optimizers/custom_graph_optimizer_registry.cc:113] Plugin optimizer for device_type GPU is enabled.\n"
     ]
    },
    {
     "name": "stdout",
     "output_type": "stream",
     "text": [
      "188/188 [==============================] - 0s 2ms/step\n",
      " 13/188 [=>............................] - ETA: 0s "
     ]
    },
    {
     "name": "stderr",
     "output_type": "stream",
     "text": [
      "2023-12-23 16:09:32.076873: I tensorflow/core/grappler/optimizers/custom_graph_optimizer_registry.cc:113] Plugin optimizer for device_type GPU is enabled.\n"
     ]
    },
    {
     "name": "stdout",
     "output_type": "stream",
     "text": [
      "188/188 [==============================] - 1s 2ms/step\n",
      "  1/188 [..............................] - ETA: 41s"
     ]
    },
    {
     "name": "stderr",
     "output_type": "stream",
     "text": [
      "2023-12-23 16:09:32.768687: I tensorflow/core/grappler/optimizers/custom_graph_optimizer_registry.cc:113] Plugin optimizer for device_type GPU is enabled.\n"
     ]
    },
    {
     "name": "stdout",
     "output_type": "stream",
     "text": [
      "188/188 [==============================] - 1s 3ms/step\n",
      "  1/188 [..............................] - ETA: 46s"
     ]
    },
    {
     "name": "stderr",
     "output_type": "stream",
     "text": [
      "2023-12-23 16:09:33.670051: I tensorflow/core/grappler/optimizers/custom_graph_optimizer_registry.cc:113] Plugin optimizer for device_type GPU is enabled.\n"
     ]
    },
    {
     "name": "stdout",
     "output_type": "stream",
     "text": [
      "188/188 [==============================] - 1s 4ms/step\n"
     ]
    },
    {
     "name": "stderr",
     "output_type": "stream",
     "text": [
      "2023-12-23 16:09:34.724011: I tensorflow/core/grappler/optimizers/custom_graph_optimizer_registry.cc:113] Plugin optimizer for device_type GPU is enabled.\n"
     ]
    },
    {
     "name": "stdout",
     "output_type": "stream",
     "text": [
      "188/188 [==============================] - 1s 4ms/step\n"
     ]
    },
    {
     "name": "stderr",
     "output_type": "stream",
     "text": [
      "2023-12-23 16:09:35.978652: I tensorflow/core/grappler/optimizers/custom_graph_optimizer_registry.cc:113] Plugin optimizer for device_type GPU is enabled.\n"
     ]
    },
    {
     "name": "stdout",
     "output_type": "stream",
     "text": [
      "188/188 [==============================] - 1s 5ms/step\n"
     ]
    },
    {
     "name": "stderr",
     "output_type": "stream",
     "text": [
      "2023-12-23 16:09:37.389198: I tensorflow/core/grappler/optimizers/custom_graph_optimizer_registry.cc:113] Plugin optimizer for device_type GPU is enabled.\n"
     ]
    },
    {
     "name": "stdout",
     "output_type": "stream",
     "text": [
      "188/188 [==============================] - 2s 6ms/step\n"
     ]
    },
    {
     "name": "stderr",
     "output_type": "stream",
     "text": [
      "2023-12-23 16:09:38.998548: I tensorflow/core/grappler/optimizers/custom_graph_optimizer_registry.cc:113] Plugin optimizer for device_type GPU is enabled.\n"
     ]
    },
    {
     "name": "stdout",
     "output_type": "stream",
     "text": [
      "188/188 [==============================] - 2s 6ms/step\n"
     ]
    },
    {
     "name": "stderr",
     "output_type": "stream",
     "text": [
      "2023-12-23 16:09:40.715623: I tensorflow/core/grappler/optimizers/custom_graph_optimizer_registry.cc:113] Plugin optimizer for device_type GPU is enabled.\n"
     ]
    },
    {
     "name": "stdout",
     "output_type": "stream",
     "text": [
      "188/188 [==============================] - 2s 7ms/step\n",
      "24/24 [==============================] - 18s 681ms/step - loss: 1.9094 - accuracy: 0.3367 - val_loss: 7.0395 - val_accuracy: 0.1504\n",
      "Epoch 7/1000\n"
     ]
    },
    {
     "name": "stderr",
     "output_type": "stream",
     "text": [
      "2023-12-23 16:09:42.636066: I tensorflow/core/grappler/optimizers/custom_graph_optimizer_registry.cc:113] Plugin optimizer for device_type GPU is enabled.\n"
     ]
    },
    {
     "name": "stdout",
     "output_type": "stream",
     "text": [
      "24/24 [==============================] - ETA: 0s - loss: 1.8491 - accuracy: 0.3665"
     ]
    },
    {
     "name": "stderr",
     "output_type": "stream",
     "text": [
      "2023-12-23 16:09:48.677485: I tensorflow/core/grappler/optimizers/custom_graph_optimizer_registry.cc:113] Plugin optimizer for device_type GPU is enabled.\n"
     ]
    },
    {
     "name": "stdout",
     "output_type": "stream",
     "text": [
      " 68/188 [=========>....................] - ETA: 0s"
     ]
    },
    {
     "name": "stderr",
     "output_type": "stream",
     "text": [
      "2023-12-23 16:09:50.321537: I tensorflow/core/grappler/optimizers/custom_graph_optimizer_registry.cc:113] Plugin optimizer for device_type GPU is enabled.\n"
     ]
    },
    {
     "name": "stdout",
     "output_type": "stream",
     "text": [
      "188/188 [==============================] - 0s 1ms/step\n",
      " 48/188 [======>.......................] - ETA: 0s"
     ]
    },
    {
     "name": "stderr",
     "output_type": "stream",
     "text": [
      "2023-12-23 16:09:51.119161: I tensorflow/core/grappler/optimizers/custom_graph_optimizer_registry.cc:113] Plugin optimizer for device_type GPU is enabled.\n"
     ]
    },
    {
     "name": "stdout",
     "output_type": "stream",
     "text": [
      "188/188 [==============================] - 1s 2ms/step\n",
      "  1/188 [..............................] - ETA: 1:46"
     ]
    },
    {
     "name": "stderr",
     "output_type": "stream",
     "text": [
      "2023-12-23 16:09:52.080082: I tensorflow/core/grappler/optimizers/custom_graph_optimizer_registry.cc:113] Plugin optimizer for device_type GPU is enabled.\n"
     ]
    },
    {
     "name": "stdout",
     "output_type": "stream",
     "text": [
      "188/188 [==============================] - 1s 3ms/step\n",
      "  1/188 [..............................] - ETA: 43s"
     ]
    },
    {
     "name": "stderr",
     "output_type": "stream",
     "text": [
      "2023-12-23 16:09:52.908598: I tensorflow/core/grappler/optimizers/custom_graph_optimizer_registry.cc:113] Plugin optimizer for device_type GPU is enabled.\n"
     ]
    },
    {
     "name": "stdout",
     "output_type": "stream",
     "text": [
      "188/188 [==============================] - 1s 4ms/step\n"
     ]
    },
    {
     "name": "stderr",
     "output_type": "stream",
     "text": [
      "2023-12-23 16:09:54.031492: I tensorflow/core/grappler/optimizers/custom_graph_optimizer_registry.cc:113] Plugin optimizer for device_type GPU is enabled.\n"
     ]
    },
    {
     "name": "stdout",
     "output_type": "stream",
     "text": [
      "188/188 [==============================] - 1s 4ms/step\n"
     ]
    },
    {
     "name": "stderr",
     "output_type": "stream",
     "text": [
      "2023-12-23 16:09:55.133619: I tensorflow/core/grappler/optimizers/custom_graph_optimizer_registry.cc:113] Plugin optimizer for device_type GPU is enabled.\n"
     ]
    },
    {
     "name": "stdout",
     "output_type": "stream",
     "text": [
      "188/188 [==============================] - 1s 5ms/step\n"
     ]
    },
    {
     "name": "stderr",
     "output_type": "stream",
     "text": [
      "2023-12-23 16:09:56.479858: I tensorflow/core/grappler/optimizers/custom_graph_optimizer_registry.cc:113] Plugin optimizer for device_type GPU is enabled.\n"
     ]
    },
    {
     "name": "stdout",
     "output_type": "stream",
     "text": [
      "188/188 [==============================] - 1s 6ms/step\n"
     ]
    },
    {
     "name": "stderr",
     "output_type": "stream",
     "text": [
      "2023-12-23 16:09:57.993117: I tensorflow/core/grappler/optimizers/custom_graph_optimizer_registry.cc:113] Plugin optimizer for device_type GPU is enabled.\n"
     ]
    },
    {
     "name": "stdout",
     "output_type": "stream",
     "text": [
      "188/188 [==============================] - 2s 6ms/step\n"
     ]
    },
    {
     "name": "stderr",
     "output_type": "stream",
     "text": [
      "2023-12-23 16:09:59.646212: I tensorflow/core/grappler/optimizers/custom_graph_optimizer_registry.cc:113] Plugin optimizer for device_type GPU is enabled.\n"
     ]
    },
    {
     "name": "stdout",
     "output_type": "stream",
     "text": [
      "188/188 [==============================] - 2s 10ms/step\n"
     ]
    },
    {
     "name": "stderr",
     "output_type": "stream",
     "text": [
      "2023-12-23 16:10:02.308174: I tensorflow/core/grappler/optimizers/custom_graph_optimizer_registry.cc:113] Plugin optimizer for device_type GPU is enabled.\n"
     ]
    },
    {
     "name": "stdout",
     "output_type": "stream",
     "text": [
      "188/188 [==============================] - 2s 8ms/step\n",
      "24/24 [==============================] - 22s 817ms/step - loss: 1.8491 - accuracy: 0.3665 - val_loss: 4.3771 - val_accuracy: 0.1758\n",
      "Epoch 8/1000\n"
     ]
    },
    {
     "name": "stderr",
     "output_type": "stream",
     "text": [
      "2023-12-23 16:10:04.358937: I tensorflow/core/grappler/optimizers/custom_graph_optimizer_registry.cc:113] Plugin optimizer for device_type GPU is enabled.\n"
     ]
    },
    {
     "name": "stdout",
     "output_type": "stream",
     "text": [
      "24/24 [==============================] - ETA: 0s - loss: 1.7669 - accuracy: 0.4000"
     ]
    },
    {
     "name": "stderr",
     "output_type": "stream",
     "text": [
      "2023-12-23 16:10:10.683184: I tensorflow/core/grappler/optimizers/custom_graph_optimizer_registry.cc:113] Plugin optimizer for device_type GPU is enabled.\n"
     ]
    },
    {
     "name": "stdout",
     "output_type": "stream",
     "text": [
      "121/188 [==================>...........] - ETA: 0s"
     ]
    },
    {
     "name": "stderr",
     "output_type": "stream",
     "text": [
      "2023-12-23 16:10:12.097736: I tensorflow/core/grappler/optimizers/custom_graph_optimizer_registry.cc:113] Plugin optimizer for device_type GPU is enabled.\n"
     ]
    },
    {
     "name": "stdout",
     "output_type": "stream",
     "text": [
      "188/188 [==============================] - 0s 1ms/step\n",
      " 48/188 [======>.......................] - ETA: 0s"
     ]
    },
    {
     "name": "stderr",
     "output_type": "stream",
     "text": [
      "2023-12-23 16:10:12.732224: I tensorflow/core/grappler/optimizers/custom_graph_optimizer_registry.cc:113] Plugin optimizer for device_type GPU is enabled.\n"
     ]
    },
    {
     "name": "stdout",
     "output_type": "stream",
     "text": [
      "188/188 [==============================] - 1s 2ms/step\n",
      " 10/188 [>.............................] - ETA: 1s "
     ]
    },
    {
     "name": "stderr",
     "output_type": "stream",
     "text": [
      "2023-12-23 16:10:13.300712: I tensorflow/core/grappler/optimizers/custom_graph_optimizer_registry.cc:113] Plugin optimizer for device_type GPU is enabled.\n"
     ]
    },
    {
     "name": "stdout",
     "output_type": "stream",
     "text": [
      "188/188 [==============================] - 1s 3ms/step\n",
      "  1/188 [..............................] - ETA: 39s"
     ]
    },
    {
     "name": "stderr",
     "output_type": "stream",
     "text": [
      "2023-12-23 16:10:14.094144: I tensorflow/core/grappler/optimizers/custom_graph_optimizer_registry.cc:113] Plugin optimizer for device_type GPU is enabled.\n"
     ]
    },
    {
     "name": "stdout",
     "output_type": "stream",
     "text": [
      "188/188 [==============================] - 1s 3ms/step\n"
     ]
    },
    {
     "name": "stderr",
     "output_type": "stream",
     "text": [
      "2023-12-23 16:10:15.032008: I tensorflow/core/grappler/optimizers/custom_graph_optimizer_registry.cc:113] Plugin optimizer for device_type GPU is enabled.\n"
     ]
    },
    {
     "name": "stdout",
     "output_type": "stream",
     "text": [
      "188/188 [==============================] - 1s 4ms/step\n"
     ]
    },
    {
     "name": "stderr",
     "output_type": "stream",
     "text": [
      "2023-12-23 16:10:16.158240: I tensorflow/core/grappler/optimizers/custom_graph_optimizer_registry.cc:113] Plugin optimizer for device_type GPU is enabled.\n"
     ]
    },
    {
     "name": "stdout",
     "output_type": "stream",
     "text": [
      "188/188 [==============================] - 1s 5ms/step\n"
     ]
    },
    {
     "name": "stderr",
     "output_type": "stream",
     "text": [
      "2023-12-23 16:10:17.704411: I tensorflow/core/grappler/optimizers/custom_graph_optimizer_registry.cc:113] Plugin optimizer for device_type GPU is enabled.\n"
     ]
    },
    {
     "name": "stdout",
     "output_type": "stream",
     "text": [
      "188/188 [==============================] - 2s 6ms/step\n"
     ]
    },
    {
     "name": "stderr",
     "output_type": "stream",
     "text": [
      "2023-12-23 16:10:19.332624: I tensorflow/core/grappler/optimizers/custom_graph_optimizer_registry.cc:113] Plugin optimizer for device_type GPU is enabled.\n"
     ]
    },
    {
     "name": "stdout",
     "output_type": "stream",
     "text": [
      "188/188 [==============================] - 2s 7ms/step\n"
     ]
    },
    {
     "name": "stderr",
     "output_type": "stream",
     "text": [
      "2023-12-23 16:10:21.340240: I tensorflow/core/grappler/optimizers/custom_graph_optimizer_registry.cc:113] Plugin optimizer for device_type GPU is enabled.\n"
     ]
    },
    {
     "name": "stdout",
     "output_type": "stream",
     "text": [
      "188/188 [==============================] - 2s 9ms/step\n"
     ]
    },
    {
     "name": "stderr",
     "output_type": "stream",
     "text": [
      "2023-12-23 16:10:23.980646: I tensorflow/core/grappler/optimizers/custom_graph_optimizer_registry.cc:113] Plugin optimizer for device_type GPU is enabled.\n"
     ]
    },
    {
     "name": "stdout",
     "output_type": "stream",
     "text": [
      "188/188 [==============================] - 3s 9ms/step\n",
      "24/24 [==============================] - 22s 816ms/step - loss: 1.7669 - accuracy: 0.4000 - val_loss: 3.1776 - val_accuracy: 0.2186\n",
      "Epoch 9/1000\n"
     ]
    },
    {
     "name": "stderr",
     "output_type": "stream",
     "text": [
      "2023-12-23 16:10:26.601669: I tensorflow/core/grappler/optimizers/custom_graph_optimizer_registry.cc:113] Plugin optimizer for device_type GPU is enabled.\n"
     ]
    },
    {
     "name": "stdout",
     "output_type": "stream",
     "text": [
      "24/24 [==============================] - ETA: 0s - loss: 1.7038 - accuracy: 0.4382"
     ]
    },
    {
     "name": "stderr",
     "output_type": "stream",
     "text": [
      "2023-12-23 16:10:34.319920: I tensorflow/core/grappler/optimizers/custom_graph_optimizer_registry.cc:113] Plugin optimizer for device_type GPU is enabled.\n"
     ]
    },
    {
     "name": "stdout",
     "output_type": "stream",
     "text": [
      " 66/188 [=========>....................] - ETA: 0s"
     ]
    },
    {
     "name": "stderr",
     "output_type": "stream",
     "text": [
      "2023-12-23 16:10:36.705912: I tensorflow/core/grappler/optimizers/custom_graph_optimizer_registry.cc:113] Plugin optimizer for device_type GPU is enabled.\n"
     ]
    },
    {
     "name": "stdout",
     "output_type": "stream",
     "text": [
      "188/188 [==============================] - 0s 2ms/step\n",
      "  7/188 [>.............................] - ETA: 1s "
     ]
    },
    {
     "name": "stderr",
     "output_type": "stream",
     "text": [
      "2023-12-23 16:10:37.542791: I tensorflow/core/grappler/optimizers/custom_graph_optimizer_registry.cc:113] Plugin optimizer for device_type GPU is enabled.\n"
     ]
    },
    {
     "name": "stdout",
     "output_type": "stream",
     "text": [
      "188/188 [==============================] - 1s 2ms/step\n"
     ]
    },
    {
     "name": "stderr",
     "output_type": "stream",
     "text": [
      "2023-12-23 16:10:38.208179: I tensorflow/core/grappler/optimizers/custom_graph_optimizer_registry.cc:113] Plugin optimizer for device_type GPU is enabled.\n"
     ]
    },
    {
     "name": "stdout",
     "output_type": "stream",
     "text": [
      "188/188 [==============================] - 1s 3ms/step\n",
      "  1/188 [..............................] - ETA: 45s"
     ]
    },
    {
     "name": "stderr",
     "output_type": "stream",
     "text": [
      "2023-12-23 16:10:39.129991: I tensorflow/core/grappler/optimizers/custom_graph_optimizer_registry.cc:113] Plugin optimizer for device_type GPU is enabled.\n"
     ]
    },
    {
     "name": "stdout",
     "output_type": "stream",
     "text": [
      "188/188 [==============================] - 1s 5ms/step\n"
     ]
    },
    {
     "name": "stderr",
     "output_type": "stream",
     "text": [
      "2023-12-23 16:10:40.315066: I tensorflow/core/grappler/optimizers/custom_graph_optimizer_registry.cc:113] Plugin optimizer for device_type GPU is enabled.\n"
     ]
    },
    {
     "name": "stdout",
     "output_type": "stream",
     "text": [
      "188/188 [==============================] - 1s 5ms/step\n"
     ]
    },
    {
     "name": "stderr",
     "output_type": "stream",
     "text": [
      "2023-12-23 16:10:41.737540: I tensorflow/core/grappler/optimizers/custom_graph_optimizer_registry.cc:113] Plugin optimizer for device_type GPU is enabled.\n"
     ]
    },
    {
     "name": "stdout",
     "output_type": "stream",
     "text": [
      "188/188 [==============================] - 2s 6ms/step\n"
     ]
    },
    {
     "name": "stderr",
     "output_type": "stream",
     "text": [
      "2023-12-23 16:10:43.459707: I tensorflow/core/grappler/optimizers/custom_graph_optimizer_registry.cc:113] Plugin optimizer for device_type GPU is enabled.\n"
     ]
    },
    {
     "name": "stdout",
     "output_type": "stream",
     "text": [
      "188/188 [==============================] - 3s 10ms/step\n"
     ]
    },
    {
     "name": "stderr",
     "output_type": "stream",
     "text": [
      "2023-12-23 16:10:46.164328: I tensorflow/core/grappler/optimizers/custom_graph_optimizer_registry.cc:113] Plugin optimizer for device_type GPU is enabled.\n"
     ]
    },
    {
     "name": "stdout",
     "output_type": "stream",
     "text": [
      "188/188 [==============================] - 3s 11ms/step\n"
     ]
    },
    {
     "name": "stderr",
     "output_type": "stream",
     "text": [
      "2023-12-23 16:10:49.277775: I tensorflow/core/grappler/optimizers/custom_graph_optimizer_registry.cc:113] Plugin optimizer for device_type GPU is enabled.\n"
     ]
    },
    {
     "name": "stdout",
     "output_type": "stream",
     "text": [
      "188/188 [==============================] - 3s 9ms/step\n"
     ]
    },
    {
     "name": "stderr",
     "output_type": "stream",
     "text": [
      "2023-12-23 16:10:52.134945: I tensorflow/core/grappler/optimizers/custom_graph_optimizer_registry.cc:113] Plugin optimizer for device_type GPU is enabled.\n"
     ]
    },
    {
     "name": "stdout",
     "output_type": "stream",
     "text": [
      "188/188 [==============================] - 2s 9ms/step\n",
      "24/24 [==============================] - 28s 1s/step - loss: 1.7038 - accuracy: 0.4382 - val_loss: 2.5918 - val_accuracy: 0.2616\n",
      "Epoch 10/1000\n"
     ]
    },
    {
     "name": "stderr",
     "output_type": "stream",
     "text": [
      "2023-12-23 16:10:54.619635: I tensorflow/core/grappler/optimizers/custom_graph_optimizer_registry.cc:113] Plugin optimizer for device_type GPU is enabled.\n"
     ]
    },
    {
     "name": "stdout",
     "output_type": "stream",
     "text": [
      "24/24 [==============================] - ETA: 0s - loss: 1.6464 - accuracy: 0.4547"
     ]
    },
    {
     "name": "stderr",
     "output_type": "stream",
     "text": [
      "2023-12-23 16:11:03.409135: I tensorflow/core/grappler/optimizers/custom_graph_optimizer_registry.cc:113] Plugin optimizer for device_type GPU is enabled.\n"
     ]
    },
    {
     "name": "stdout",
     "output_type": "stream",
     "text": [
      " 66/188 [=========>....................] - ETA: 0s"
     ]
    },
    {
     "name": "stderr",
     "output_type": "stream",
     "text": [
      "2023-12-23 16:11:05.352727: I tensorflow/core/grappler/optimizers/custom_graph_optimizer_registry.cc:113] Plugin optimizer for device_type GPU is enabled.\n"
     ]
    },
    {
     "name": "stdout",
     "output_type": "stream",
     "text": [
      "188/188 [==============================] - 0s 1ms/step\n",
      " 16/188 [=>............................] - ETA: 0s  "
     ]
    },
    {
     "name": "stderr",
     "output_type": "stream",
     "text": [
      "2023-12-23 16:11:06.480697: I tensorflow/core/grappler/optimizers/custom_graph_optimizer_registry.cc:113] Plugin optimizer for device_type GPU is enabled.\n"
     ]
    },
    {
     "name": "stdout",
     "output_type": "stream",
     "text": [
      "188/188 [==============================] - 1s 2ms/step\n"
     ]
    },
    {
     "name": "stderr",
     "output_type": "stream",
     "text": [
      "2023-12-23 16:11:07.144710: I tensorflow/core/grappler/optimizers/custom_graph_optimizer_registry.cc:113] Plugin optimizer for device_type GPU is enabled.\n"
     ]
    },
    {
     "name": "stdout",
     "output_type": "stream",
     "text": [
      "188/188 [==============================] - 1s 3ms/step\n"
     ]
    },
    {
     "name": "stderr",
     "output_type": "stream",
     "text": [
      "2023-12-23 16:11:08.153098: I tensorflow/core/grappler/optimizers/custom_graph_optimizer_registry.cc:113] Plugin optimizer for device_type GPU is enabled.\n"
     ]
    },
    {
     "name": "stdout",
     "output_type": "stream",
     "text": [
      "188/188 [==============================] - 1s 5ms/step\n"
     ]
    },
    {
     "name": "stderr",
     "output_type": "stream",
     "text": [
      "2023-12-23 16:11:09.549460: I tensorflow/core/grappler/optimizers/custom_graph_optimizer_registry.cc:113] Plugin optimizer for device_type GPU is enabled.\n"
     ]
    },
    {
     "name": "stdout",
     "output_type": "stream",
     "text": [
      "188/188 [==============================] - 2s 6ms/step\n"
     ]
    },
    {
     "name": "stderr",
     "output_type": "stream",
     "text": [
      "2023-12-23 16:11:11.273595: I tensorflow/core/grappler/optimizers/custom_graph_optimizer_registry.cc:113] Plugin optimizer for device_type GPU is enabled.\n"
     ]
    },
    {
     "name": "stdout",
     "output_type": "stream",
     "text": [
      "188/188 [==============================] - 2s 8ms/step\n"
     ]
    },
    {
     "name": "stderr",
     "output_type": "stream",
     "text": [
      "2023-12-23 16:11:13.532729: I tensorflow/core/grappler/optimizers/custom_graph_optimizer_registry.cc:113] Plugin optimizer for device_type GPU is enabled.\n"
     ]
    },
    {
     "name": "stdout",
     "output_type": "stream",
     "text": [
      "188/188 [==============================] - 3s 11ms/step\n"
     ]
    },
    {
     "name": "stderr",
     "output_type": "stream",
     "text": [
      "2023-12-23 16:11:16.594087: I tensorflow/core/grappler/optimizers/custom_graph_optimizer_registry.cc:113] Plugin optimizer for device_type GPU is enabled.\n"
     ]
    },
    {
     "name": "stdout",
     "output_type": "stream",
     "text": [
      "188/188 [==============================] - 4s 15ms/step\n"
     ]
    },
    {
     "name": "stderr",
     "output_type": "stream",
     "text": [
      "2023-12-23 16:11:20.771036: I tensorflow/core/grappler/optimizers/custom_graph_optimizer_registry.cc:113] Plugin optimizer for device_type GPU is enabled.\n"
     ]
    },
    {
     "name": "stdout",
     "output_type": "stream",
     "text": [
      "188/188 [==============================] - 4s 14ms/step\n"
     ]
    },
    {
     "name": "stderr",
     "output_type": "stream",
     "text": [
      "2023-12-23 16:11:25.313910: I tensorflow/core/grappler/optimizers/custom_graph_optimizer_registry.cc:113] Plugin optimizer for device_type GPU is enabled.\n"
     ]
    },
    {
     "name": "stdout",
     "output_type": "stream",
     "text": [
      "188/188 [==============================] - 4s 14ms/step\n",
      "24/24 [==============================] - 34s 1s/step - loss: 1.6464 - accuracy: 0.4547 - val_loss: 2.2876 - val_accuracy: 0.2960\n",
      "Epoch 11/1000\n"
     ]
    },
    {
     "name": "stderr",
     "output_type": "stream",
     "text": [
      "2023-12-23 16:11:28.884463: I tensorflow/core/grappler/optimizers/custom_graph_optimizer_registry.cc:113] Plugin optimizer for device_type GPU is enabled.\n"
     ]
    },
    {
     "name": "stdout",
     "output_type": "stream",
     "text": [
      "24/24 [==============================] - ETA: 0s - loss: 1.5827 - accuracy: 0.4880"
     ]
    },
    {
     "name": "stderr",
     "output_type": "stream",
     "text": [
      "2023-12-23 16:11:40.167720: I tensorflow/core/grappler/optimizers/custom_graph_optimizer_registry.cc:113] Plugin optimizer for device_type GPU is enabled.\n"
     ]
    },
    {
     "name": "stdout",
     "output_type": "stream",
     "text": [
      " 16/188 [=>............................] - ETA: 0s "
     ]
    },
    {
     "name": "stderr",
     "output_type": "stream",
     "text": [
      "2023-12-23 16:11:42.872441: I tensorflow/core/grappler/optimizers/custom_graph_optimizer_registry.cc:113] Plugin optimizer for device_type GPU is enabled.\n"
     ]
    },
    {
     "name": "stdout",
     "output_type": "stream",
     "text": [
      "188/188 [==============================] - 1s 2ms/step\n",
      "  1/188 [..............................] - ETA: 45s"
     ]
    },
    {
     "name": "stderr",
     "output_type": "stream",
     "text": [
      "2023-12-23 16:11:43.886204: I tensorflow/core/grappler/optimizers/custom_graph_optimizer_registry.cc:113] Plugin optimizer for device_type GPU is enabled.\n"
     ]
    },
    {
     "name": "stdout",
     "output_type": "stream",
     "text": [
      "188/188 [==============================] - 1s 4ms/step\n"
     ]
    },
    {
     "name": "stderr",
     "output_type": "stream",
     "text": [
      "2023-12-23 16:11:44.942949: I tensorflow/core/grappler/optimizers/custom_graph_optimizer_registry.cc:113] Plugin optimizer for device_type GPU is enabled.\n"
     ]
    },
    {
     "name": "stdout",
     "output_type": "stream",
     "text": [
      "188/188 [==============================] - 1s 4ms/step\n"
     ]
    },
    {
     "name": "stderr",
     "output_type": "stream",
     "text": [
      "2023-12-23 16:11:46.153448: I tensorflow/core/grappler/optimizers/custom_graph_optimizer_registry.cc:113] Plugin optimizer for device_type GPU is enabled.\n"
     ]
    },
    {
     "name": "stdout",
     "output_type": "stream",
     "text": [
      "188/188 [==============================] - 2s 6ms/step\n"
     ]
    },
    {
     "name": "stderr",
     "output_type": "stream",
     "text": [
      "2023-12-23 16:11:47.795900: I tensorflow/core/grappler/optimizers/custom_graph_optimizer_registry.cc:113] Plugin optimizer for device_type GPU is enabled.\n"
     ]
    },
    {
     "name": "stdout",
     "output_type": "stream",
     "text": [
      "188/188 [==============================] - 2s 6ms/step\n"
     ]
    },
    {
     "name": "stderr",
     "output_type": "stream",
     "text": [
      "2023-12-23 16:11:49.717539: I tensorflow/core/grappler/optimizers/custom_graph_optimizer_registry.cc:113] Plugin optimizer for device_type GPU is enabled.\n"
     ]
    },
    {
     "name": "stdout",
     "output_type": "stream",
     "text": [
      "188/188 [==============================] - 2s 8ms/step\n"
     ]
    },
    {
     "name": "stderr",
     "output_type": "stream",
     "text": [
      "2023-12-23 16:11:52.075085: I tensorflow/core/grappler/optimizers/custom_graph_optimizer_registry.cc:113] Plugin optimizer for device_type GPU is enabled.\n"
     ]
    },
    {
     "name": "stdout",
     "output_type": "stream",
     "text": [
      "188/188 [==============================] - 3s 9ms/step\n"
     ]
    },
    {
     "name": "stderr",
     "output_type": "stream",
     "text": [
      "2023-12-23 16:11:54.888036: I tensorflow/core/grappler/optimizers/custom_graph_optimizer_registry.cc:113] Plugin optimizer for device_type GPU is enabled.\n"
     ]
    },
    {
     "name": "stdout",
     "output_type": "stream",
     "text": [
      "188/188 [==============================] - 3s 11ms/step\n"
     ]
    },
    {
     "name": "stderr",
     "output_type": "stream",
     "text": [
      "2023-12-23 16:11:57.676920: I tensorflow/core/grappler/optimizers/custom_graph_optimizer_registry.cc:113] Plugin optimizer for device_type GPU is enabled.\n"
     ]
    },
    {
     "name": "stdout",
     "output_type": "stream",
     "text": [
      "188/188 [==============================] - 4s 14ms/step\n"
     ]
    },
    {
     "name": "stderr",
     "output_type": "stream",
     "text": [
      "2023-12-23 16:12:01.657110: I tensorflow/core/grappler/optimizers/custom_graph_optimizer_registry.cc:113] Plugin optimizer for device_type GPU is enabled.\n"
     ]
    },
    {
     "name": "stdout",
     "output_type": "stream",
     "text": [
      "188/188 [==============================] - 3s 14ms/step\n",
      "24/24 [==============================] - 36s 1s/step - loss: 1.5827 - accuracy: 0.4880 - val_loss: 2.1233 - val_accuracy: 0.3221\n",
      "Epoch 12/1000\n"
     ]
    },
    {
     "name": "stderr",
     "output_type": "stream",
     "text": [
      "2023-12-23 16:12:05.113726: I tensorflow/core/grappler/optimizers/custom_graph_optimizer_registry.cc:113] Plugin optimizer for device_type GPU is enabled.\n"
     ]
    },
    {
     "name": "stdout",
     "output_type": "stream",
     "text": [
      "24/24 [==============================] - ETA: 0s - loss: 1.5191 - accuracy: 0.5147"
     ]
    },
    {
     "name": "stderr",
     "output_type": "stream",
     "text": [
      "2023-12-23 16:12:17.732956: I tensorflow/core/grappler/optimizers/custom_graph_optimizer_registry.cc:113] Plugin optimizer for device_type GPU is enabled.\n"
     ]
    },
    {
     "name": "stdout",
     "output_type": "stream",
     "text": [
      "  7/188 [>.............................] - ETA: 1s "
     ]
    },
    {
     "name": "stderr",
     "output_type": "stream",
     "text": [
      "2023-12-23 16:12:22.107067: I tensorflow/core/grappler/optimizers/custom_graph_optimizer_registry.cc:113] Plugin optimizer for device_type GPU is enabled.\n"
     ]
    },
    {
     "name": "stdout",
     "output_type": "stream",
     "text": [
      "188/188 [==============================] - 1s 3ms/step\n"
     ]
    },
    {
     "name": "stderr",
     "output_type": "stream",
     "text": [
      "2023-12-23 16:12:23.523619: I tensorflow/core/grappler/optimizers/custom_graph_optimizer_registry.cc:113] Plugin optimizer for device_type GPU is enabled.\n"
     ]
    },
    {
     "name": "stdout",
     "output_type": "stream",
     "text": [
      "188/188 [==============================] - 1s 5ms/step\n"
     ]
    },
    {
     "name": "stderr",
     "output_type": "stream",
     "text": [
      "2023-12-23 16:12:24.845084: I tensorflow/core/grappler/optimizers/custom_graph_optimizer_registry.cc:113] Plugin optimizer for device_type GPU is enabled.\n"
     ]
    },
    {
     "name": "stdout",
     "output_type": "stream",
     "text": [
      "188/188 [==============================] - 1s 5ms/step\n"
     ]
    },
    {
     "name": "stderr",
     "output_type": "stream",
     "text": [
      "2023-12-23 16:12:26.339124: I tensorflow/core/grappler/optimizers/custom_graph_optimizer_registry.cc:113] Plugin optimizer for device_type GPU is enabled.\n"
     ]
    },
    {
     "name": "stdout",
     "output_type": "stream",
     "text": [
      "188/188 [==============================] - 2s 7ms/step\n"
     ]
    },
    {
     "name": "stderr",
     "output_type": "stream",
     "text": [
      "2023-12-23 16:12:28.220322: I tensorflow/core/grappler/optimizers/custom_graph_optimizer_registry.cc:113] Plugin optimizer for device_type GPU is enabled.\n"
     ]
    },
    {
     "name": "stdout",
     "output_type": "stream",
     "text": [
      "188/188 [==============================] - 2s 9ms/step\n"
     ]
    },
    {
     "name": "stderr",
     "output_type": "stream",
     "text": [
      "2023-12-23 16:12:30.771193: I tensorflow/core/grappler/optimizers/custom_graph_optimizer_registry.cc:113] Plugin optimizer for device_type GPU is enabled.\n"
     ]
    },
    {
     "name": "stdout",
     "output_type": "stream",
     "text": [
      "188/188 [==============================] - 3s 11ms/step\n"
     ]
    },
    {
     "name": "stderr",
     "output_type": "stream",
     "text": [
      "2023-12-23 16:12:33.927665: I tensorflow/core/grappler/optimizers/custom_graph_optimizer_registry.cc:113] Plugin optimizer for device_type GPU is enabled.\n"
     ]
    },
    {
     "name": "stdout",
     "output_type": "stream",
     "text": [
      "188/188 [==============================] - 4s 15ms/step\n"
     ]
    },
    {
     "name": "stderr",
     "output_type": "stream",
     "text": [
      "2023-12-23 16:12:38.636069: I tensorflow/core/grappler/optimizers/custom_graph_optimizer_registry.cc:113] Plugin optimizer for device_type GPU is enabled.\n"
     ]
    },
    {
     "name": "stdout",
     "output_type": "stream",
     "text": [
      "188/188 [==============================] - 7s 25ms/step\n"
     ]
    },
    {
     "name": "stderr",
     "output_type": "stream",
     "text": [
      "2023-12-23 16:12:45.547819: I tensorflow/core/grappler/optimizers/custom_graph_optimizer_registry.cc:113] Plugin optimizer for device_type GPU is enabled.\n"
     ]
    },
    {
     "name": "stdout",
     "output_type": "stream",
     "text": [
      "188/188 [==============================] - 5s 19ms/step\n"
     ]
    },
    {
     "name": "stderr",
     "output_type": "stream",
     "text": [
      "2023-12-23 16:12:50.801530: I tensorflow/core/grappler/optimizers/custom_graph_optimizer_registry.cc:113] Plugin optimizer for device_type GPU is enabled.\n"
     ]
    },
    {
     "name": "stdout",
     "output_type": "stream",
     "text": [
      "188/188 [==============================] - 5s 18ms/step\n",
      "24/24 [==============================] - 51s 2s/step - loss: 1.5191 - accuracy: 0.5147 - val_loss: 2.0213 - val_accuracy: 0.3406\n",
      "Epoch 13/1000\n"
     ]
    },
    {
     "name": "stderr",
     "output_type": "stream",
     "text": [
      "2023-12-23 16:12:55.739435: I tensorflow/core/grappler/optimizers/custom_graph_optimizer_registry.cc:113] Plugin optimizer for device_type GPU is enabled.\n"
     ]
    },
    {
     "name": "stdout",
     "output_type": "stream",
     "text": [
      "24/24 [==============================] - ETA: 0s - loss: 1.4692 - accuracy: 0.5345"
     ]
    },
    {
     "name": "stderr",
     "output_type": "stream",
     "text": [
      "2023-12-23 16:13:17.978560: I tensorflow/core/grappler/optimizers/custom_graph_optimizer_registry.cc:113] Plugin optimizer for device_type GPU is enabled.\n",
      "2023-12-23 16:13:25.450171: I tensorflow/core/grappler/optimizers/custom_graph_optimizer_registry.cc:113] Plugin optimizer for device_type GPU is enabled.\n"
     ]
    },
    {
     "name": "stdout",
     "output_type": "stream",
     "text": [
      "188/188 [==============================] - 1s 5ms/step\n"
     ]
    },
    {
     "name": "stderr",
     "output_type": "stream",
     "text": [
      "2023-12-23 16:13:28.274645: I tensorflow/core/grappler/optimizers/custom_graph_optimizer_registry.cc:113] Plugin optimizer for device_type GPU is enabled.\n"
     ]
    },
    {
     "name": "stdout",
     "output_type": "stream",
     "text": [
      "188/188 [==============================] - 3s 9ms/step\n"
     ]
    },
    {
     "name": "stderr",
     "output_type": "stream",
     "text": [
      "2023-12-23 16:13:31.080615: I tensorflow/core/grappler/optimizers/custom_graph_optimizer_registry.cc:113] Plugin optimizer for device_type GPU is enabled.\n"
     ]
    },
    {
     "name": "stdout",
     "output_type": "stream",
     "text": [
      "188/188 [==============================] - 3s 12ms/step\n"
     ]
    },
    {
     "name": "stderr",
     "output_type": "stream",
     "text": [
      "2023-12-23 16:13:34.513883: I tensorflow/core/grappler/optimizers/custom_graph_optimizer_registry.cc:113] Plugin optimizer for device_type GPU is enabled.\n"
     ]
    },
    {
     "name": "stdout",
     "output_type": "stream",
     "text": [
      "188/188 [==============================] - 3s 13ms/step\n"
     ]
    },
    {
     "name": "stderr",
     "output_type": "stream",
     "text": [
      "2023-12-23 16:13:39.121168: I tensorflow/core/grappler/optimizers/custom_graph_optimizer_registry.cc:113] Plugin optimizer for device_type GPU is enabled.\n"
     ]
    },
    {
     "name": "stdout",
     "output_type": "stream",
     "text": [
      "188/188 [==============================] - 5s 19ms/step\n"
     ]
    },
    {
     "name": "stderr",
     "output_type": "stream",
     "text": [
      "2023-12-23 16:13:44.003313: I tensorflow/core/grappler/optimizers/custom_graph_optimizer_registry.cc:113] Plugin optimizer for device_type GPU is enabled.\n"
     ]
    },
    {
     "name": "stdout",
     "output_type": "stream",
     "text": [
      "188/188 [==============================] - 5s 18ms/step\n"
     ]
    },
    {
     "name": "stderr",
     "output_type": "stream",
     "text": [
      "2023-12-23 16:13:49.039899: I tensorflow/core/grappler/optimizers/custom_graph_optimizer_registry.cc:113] Plugin optimizer for device_type GPU is enabled.\n"
     ]
    },
    {
     "name": "stdout",
     "output_type": "stream",
     "text": [
      "188/188 [==============================] - 7s 25ms/step\n"
     ]
    },
    {
     "name": "stderr",
     "output_type": "stream",
     "text": [
      "2023-12-23 16:13:56.528480: I tensorflow/core/grappler/optimizers/custom_graph_optimizer_registry.cc:113] Plugin optimizer for device_type GPU is enabled.\n"
     ]
    },
    {
     "name": "stdout",
     "output_type": "stream",
     "text": [
      "188/188 [==============================] - 6s 24ms/step\n"
     ]
    },
    {
     "name": "stderr",
     "output_type": "stream",
     "text": [
      "2023-12-23 16:14:02.993378: I tensorflow/core/grappler/optimizers/custom_graph_optimizer_registry.cc:113] Plugin optimizer for device_type GPU is enabled.\n"
     ]
    },
    {
     "name": "stdout",
     "output_type": "stream",
     "text": [
      "188/188 [==============================] - 6s 23ms/step\n"
     ]
    },
    {
     "name": "stderr",
     "output_type": "stream",
     "text": [
      "2023-12-23 16:14:09.491446: I tensorflow/core/grappler/optimizers/custom_graph_optimizer_registry.cc:113] Plugin optimizer for device_type GPU is enabled.\n"
     ]
    },
    {
     "name": "stdout",
     "output_type": "stream",
     "text": [
      "188/188 [==============================] - 8s 30ms/step\n",
      "24/24 [==============================] - 82s 3s/step - loss: 1.4692 - accuracy: 0.5345 - val_loss: 1.9481 - val_accuracy: 0.3579\n",
      "Epoch 14/1000\n"
     ]
    },
    {
     "name": "stderr",
     "output_type": "stream",
     "text": [
      "2023-12-23 16:14:17.413811: I tensorflow/core/grappler/optimizers/custom_graph_optimizer_registry.cc:113] Plugin optimizer for device_type GPU is enabled.\n"
     ]
    },
    {
     "name": "stdout",
     "output_type": "stream",
     "text": [
      "24/24 [==============================] - ETA: 0s - loss: 1.4023 - accuracy: 0.5645"
     ]
    },
    {
     "name": "stderr",
     "output_type": "stream",
     "text": [
      "2023-12-23 16:14:52.242668: I tensorflow/core/grappler/optimizers/custom_graph_optimizer_registry.cc:113] Plugin optimizer for device_type GPU is enabled.\n",
      "2023-12-23 16:15:00.246038: I tensorflow/core/grappler/optimizers/custom_graph_optimizer_registry.cc:113] Plugin optimizer for device_type GPU is enabled.\n"
     ]
    },
    {
     "name": "stdout",
     "output_type": "stream",
     "text": [
      "188/188 [==============================] - 1s 5ms/step\n"
     ]
    },
    {
     "name": "stderr",
     "output_type": "stream",
     "text": [
      "2023-12-23 16:15:03.426003: I tensorflow/core/grappler/optimizers/custom_graph_optimizer_registry.cc:113] Plugin optimizer for device_type GPU is enabled.\n"
     ]
    },
    {
     "name": "stdout",
     "output_type": "stream",
     "text": [
      "188/188 [==============================] - 2s 9ms/step\n"
     ]
    },
    {
     "name": "stderr",
     "output_type": "stream",
     "text": [
      "2023-12-23 16:15:06.062904: I tensorflow/core/grappler/optimizers/custom_graph_optimizer_registry.cc:113] Plugin optimizer for device_type GPU is enabled.\n"
     ]
    },
    {
     "name": "stdout",
     "output_type": "stream",
     "text": [
      "188/188 [==============================] - 3s 11ms/step\n"
     ]
    },
    {
     "name": "stderr",
     "output_type": "stream",
     "text": [
      "2023-12-23 16:15:09.106003: I tensorflow/core/grappler/optimizers/custom_graph_optimizer_registry.cc:113] Plugin optimizer for device_type GPU is enabled.\n"
     ]
    },
    {
     "name": "stdout",
     "output_type": "stream",
     "text": [
      "188/188 [==============================] - 4s 14ms/step\n"
     ]
    },
    {
     "name": "stderr",
     "output_type": "stream",
     "text": [
      "2023-12-23 16:15:12.972501: I tensorflow/core/grappler/optimizers/custom_graph_optimizer_registry.cc:113] Plugin optimizer for device_type GPU is enabled.\n"
     ]
    },
    {
     "name": "stdout",
     "output_type": "stream",
     "text": [
      "188/188 [==============================] - 5s 19ms/step\n"
     ]
    },
    {
     "name": "stderr",
     "output_type": "stream",
     "text": [
      "2023-12-23 16:15:17.924304: I tensorflow/core/grappler/optimizers/custom_graph_optimizer_registry.cc:113] Plugin optimizer for device_type GPU is enabled.\n"
     ]
    },
    {
     "name": "stdout",
     "output_type": "stream",
     "text": [
      "188/188 [==============================] - 8s 32ms/step\n"
     ]
    },
    {
     "name": "stderr",
     "output_type": "stream",
     "text": [
      "2023-12-23 16:15:26.184702: I tensorflow/core/grappler/optimizers/custom_graph_optimizer_registry.cc:113] Plugin optimizer for device_type GPU is enabled.\n"
     ]
    },
    {
     "name": "stdout",
     "output_type": "stream",
     "text": [
      "188/188 [==============================] - 8s 27ms/step\n"
     ]
    },
    {
     "name": "stderr",
     "output_type": "stream",
     "text": [
      "2023-12-23 16:15:34.515917: I tensorflow/core/grappler/optimizers/custom_graph_optimizer_registry.cc:113] Plugin optimizer for device_type GPU is enabled.\n"
     ]
    },
    {
     "name": "stdout",
     "output_type": "stream",
     "text": [
      "188/188 [==============================] - 6s 21ms/step\n"
     ]
    },
    {
     "name": "stderr",
     "output_type": "stream",
     "text": [
      "2023-12-23 16:15:40.729524: I tensorflow/core/grappler/optimizers/custom_graph_optimizer_registry.cc:113] Plugin optimizer for device_type GPU is enabled.\n"
     ]
    },
    {
     "name": "stdout",
     "output_type": "stream",
     "text": [
      "188/188 [==============================] - 6s 20ms/step\n"
     ]
    },
    {
     "name": "stderr",
     "output_type": "stream",
     "text": [
      "2023-12-23 16:15:46.627765: I tensorflow/core/grappler/optimizers/custom_graph_optimizer_registry.cc:113] Plugin optimizer for device_type GPU is enabled.\n"
     ]
    },
    {
     "name": "stdout",
     "output_type": "stream",
     "text": [
      "188/188 [==============================] - 7s 28ms/step\n",
      "24/24 [==============================] - 97s 4s/step - loss: 1.4023 - accuracy: 0.5645 - val_loss: 1.8988 - val_accuracy: 0.3731\n",
      "Epoch 15/1000\n"
     ]
    },
    {
     "name": "stderr",
     "output_type": "stream",
     "text": [
      "2023-12-23 16:15:54.114891: I tensorflow/core/grappler/optimizers/custom_graph_optimizer_registry.cc:113] Plugin optimizer for device_type GPU is enabled.\n"
     ]
    },
    {
     "name": "stdout",
     "output_type": "stream",
     "text": [
      "24/24 [==============================] - ETA: 0s - loss: 1.3476 - accuracy: 0.5837"
     ]
    },
    {
     "name": "stderr",
     "output_type": "stream",
     "text": [
      "2023-12-23 16:16:19.736468: I tensorflow/core/grappler/optimizers/custom_graph_optimizer_registry.cc:113] Plugin optimizer for device_type GPU is enabled.\n",
      "2023-12-23 16:16:30.012695: I tensorflow/core/grappler/optimizers/custom_graph_optimizer_registry.cc:113] Plugin optimizer for device_type GPU is enabled.\n"
     ]
    },
    {
     "name": "stdout",
     "output_type": "stream",
     "text": [
      "188/188 [==============================] - 3s 12ms/step\n"
     ]
    },
    {
     "name": "stderr",
     "output_type": "stream",
     "text": [
      "2023-12-23 16:16:34.747904: I tensorflow/core/grappler/optimizers/custom_graph_optimizer_registry.cc:113] Plugin optimizer for device_type GPU is enabled.\n"
     ]
    },
    {
     "name": "stdout",
     "output_type": "stream",
     "text": [
      "188/188 [==============================] - 3s 14ms/step\n"
     ]
    },
    {
     "name": "stderr",
     "output_type": "stream",
     "text": [
      "2023-12-23 16:16:38.238510: I tensorflow/core/grappler/optimizers/custom_graph_optimizer_registry.cc:113] Plugin optimizer for device_type GPU is enabled.\n"
     ]
    },
    {
     "name": "stdout",
     "output_type": "stream",
     "text": [
      "188/188 [==============================] - 4s 14ms/step\n"
     ]
    },
    {
     "name": "stderr",
     "output_type": "stream",
     "text": [
      "2023-12-23 16:16:42.496325: I tensorflow/core/grappler/optimizers/custom_graph_optimizer_registry.cc:113] Plugin optimizer for device_type GPU is enabled.\n"
     ]
    },
    {
     "name": "stdout",
     "output_type": "stream",
     "text": [
      "188/188 [==============================] - 4s 14ms/step\n"
     ]
    },
    {
     "name": "stderr",
     "output_type": "stream",
     "text": [
      "2023-12-23 16:16:46.577117: I tensorflow/core/grappler/optimizers/custom_graph_optimizer_registry.cc:113] Plugin optimizer for device_type GPU is enabled.\n"
     ]
    },
    {
     "name": "stdout",
     "output_type": "stream",
     "text": [
      "188/188 [==============================] - 5s 23ms/step\n"
     ]
    },
    {
     "name": "stderr",
     "output_type": "stream",
     "text": [
      "2023-12-23 16:16:52.450059: I tensorflow/core/grappler/optimizers/custom_graph_optimizer_registry.cc:113] Plugin optimizer for device_type GPU is enabled.\n"
     ]
    },
    {
     "name": "stdout",
     "output_type": "stream",
     "text": [
      "188/188 [==============================] - 5s 18ms/step\n"
     ]
    },
    {
     "name": "stderr",
     "output_type": "stream",
     "text": [
      "2023-12-23 16:16:57.266227: I tensorflow/core/grappler/optimizers/custom_graph_optimizer_registry.cc:113] Plugin optimizer for device_type GPU is enabled.\n"
     ]
    },
    {
     "name": "stdout",
     "output_type": "stream",
     "text": [
      "188/188 [==============================] - 5s 18ms/step\n"
     ]
    },
    {
     "name": "stderr",
     "output_type": "stream",
     "text": [
      "2023-12-23 16:17:02.884570: I tensorflow/core/grappler/optimizers/custom_graph_optimizer_registry.cc:113] Plugin optimizer for device_type GPU is enabled.\n"
     ]
    },
    {
     "name": "stdout",
     "output_type": "stream",
     "text": [
      "188/188 [==============================] - 6s 24ms/step\n"
     ]
    },
    {
     "name": "stderr",
     "output_type": "stream",
     "text": [
      "2023-12-23 16:17:09.229690: I tensorflow/core/grappler/optimizers/custom_graph_optimizer_registry.cc:113] Plugin optimizer for device_type GPU is enabled.\n"
     ]
    },
    {
     "name": "stdout",
     "output_type": "stream",
     "text": [
      "188/188 [==============================] - 7s 23ms/step\n"
     ]
    },
    {
     "name": "stderr",
     "output_type": "stream",
     "text": [
      "2023-12-23 16:17:16.558234: I tensorflow/core/grappler/optimizers/custom_graph_optimizer_registry.cc:113] Plugin optimizer for device_type GPU is enabled.\n"
     ]
    },
    {
     "name": "stdout",
     "output_type": "stream",
     "text": [
      "188/188 [==============================] - 8s 31ms/step\n",
      "24/24 [==============================] - 90s 3s/step - loss: 1.3476 - accuracy: 0.5837 - val_loss: 1.8594 - val_accuracy: 0.3811\n",
      "Epoch 16/1000\n"
     ]
    },
    {
     "name": "stderr",
     "output_type": "stream",
     "text": [
      "2023-12-23 16:17:24.683020: I tensorflow/core/grappler/optimizers/custom_graph_optimizer_registry.cc:113] Plugin optimizer for device_type GPU is enabled.\n"
     ]
    },
    {
     "name": "stdout",
     "output_type": "stream",
     "text": [
      "24/24 [==============================] - ETA: 0s - loss: 1.2940 - accuracy: 0.6100"
     ]
    },
    {
     "name": "stderr",
     "output_type": "stream",
     "text": [
      "2023-12-23 16:17:47.262264: I tensorflow/core/grappler/optimizers/custom_graph_optimizer_registry.cc:113] Plugin optimizer for device_type GPU is enabled.\n"
     ]
    },
    {
     "name": "stdout",
     "output_type": "stream",
     "text": [
      "  1/188 [..............................] - ETA: 41s"
     ]
    },
    {
     "name": "stderr",
     "output_type": "stream",
     "text": [
      "2023-12-23 16:17:54.375647: I tensorflow/core/grappler/optimizers/custom_graph_optimizer_registry.cc:113] Plugin optimizer for device_type GPU is enabled.\n"
     ]
    },
    {
     "name": "stdout",
     "output_type": "stream",
     "text": [
      "188/188 [==============================] - 1s 4ms/step\n"
     ]
    },
    {
     "name": "stderr",
     "output_type": "stream",
     "text": [
      "2023-12-23 16:17:56.624994: I tensorflow/core/grappler/optimizers/custom_graph_optimizer_registry.cc:113] Plugin optimizer for device_type GPU is enabled.\n"
     ]
    },
    {
     "name": "stdout",
     "output_type": "stream",
     "text": [
      "188/188 [==============================] - 2s 9ms/step\n"
     ]
    },
    {
     "name": "stderr",
     "output_type": "stream",
     "text": [
      "2023-12-23 16:17:58.985429: I tensorflow/core/grappler/optimizers/custom_graph_optimizer_registry.cc:113] Plugin optimizer for device_type GPU is enabled.\n"
     ]
    },
    {
     "name": "stdout",
     "output_type": "stream",
     "text": [
      "188/188 [==============================] - 3s 13ms/step\n"
     ]
    },
    {
     "name": "stderr",
     "output_type": "stream",
     "text": [
      "2023-12-23 16:18:02.543077: I tensorflow/core/grappler/optimizers/custom_graph_optimizer_registry.cc:113] Plugin optimizer for device_type GPU is enabled.\n"
     ]
    },
    {
     "name": "stdout",
     "output_type": "stream",
     "text": [
      "188/188 [==============================] - 4s 14ms/step\n"
     ]
    },
    {
     "name": "stderr",
     "output_type": "stream",
     "text": [
      "2023-12-23 16:18:07.255086: I tensorflow/core/grappler/optimizers/custom_graph_optimizer_registry.cc:113] Plugin optimizer for device_type GPU is enabled.\n"
     ]
    },
    {
     "name": "stdout",
     "output_type": "stream",
     "text": [
      "188/188 [==============================] - 4s 15ms/step\n"
     ]
    },
    {
     "name": "stderr",
     "output_type": "stream",
     "text": [
      "2023-12-23 16:18:11.069772: I tensorflow/core/grappler/optimizers/custom_graph_optimizer_registry.cc:113] Plugin optimizer for device_type GPU is enabled.\n"
     ]
    },
    {
     "name": "stdout",
     "output_type": "stream",
     "text": [
      "188/188 [==============================] - 5s 20ms/step\n"
     ]
    },
    {
     "name": "stderr",
     "output_type": "stream",
     "text": [
      "2023-12-23 16:18:16.237783: I tensorflow/core/grappler/optimizers/custom_graph_optimizer_registry.cc:113] Plugin optimizer for device_type GPU is enabled.\n"
     ]
    },
    {
     "name": "stdout",
     "output_type": "stream",
     "text": [
      "188/188 [==============================] - 5s 19ms/step\n"
     ]
    },
    {
     "name": "stderr",
     "output_type": "stream",
     "text": [
      "2023-12-23 16:18:21.569252: I tensorflow/core/grappler/optimizers/custom_graph_optimizer_registry.cc:113] Plugin optimizer for device_type GPU is enabled.\n"
     ]
    },
    {
     "name": "stdout",
     "output_type": "stream",
     "text": [
      "188/188 [==============================] - 5s 20ms/step\n"
     ]
    },
    {
     "name": "stderr",
     "output_type": "stream",
     "text": [
      "2023-12-23 16:18:27.195102: I tensorflow/core/grappler/optimizers/custom_graph_optimizer_registry.cc:113] Plugin optimizer for device_type GPU is enabled.\n"
     ]
    },
    {
     "name": "stdout",
     "output_type": "stream",
     "text": [
      "188/188 [==============================] - 6s 23ms/step\n"
     ]
    },
    {
     "name": "stderr",
     "output_type": "stream",
     "text": [
      "2023-12-23 16:18:33.763743: I tensorflow/core/grappler/optimizers/custom_graph_optimizer_registry.cc:113] Plugin optimizer for device_type GPU is enabled.\n"
     ]
    },
    {
     "name": "stdout",
     "output_type": "stream",
     "text": [
      "188/188 [==============================] - 6s 23ms/step\n",
      "24/24 [==============================] - 75s 3s/step - loss: 1.2940 - accuracy: 0.6100 - val_loss: 1.8280 - val_accuracy: 0.3889\n",
      "Epoch 17/1000\n"
     ]
    },
    {
     "name": "stderr",
     "output_type": "stream",
     "text": [
      "2023-12-23 16:18:39.979588: I tensorflow/core/grappler/optimizers/custom_graph_optimizer_registry.cc:113] Plugin optimizer for device_type GPU is enabled.\n"
     ]
    },
    {
     "name": "stdout",
     "output_type": "stream",
     "text": [
      "24/24 [==============================] - ETA: 0s - loss: 1.2374 - accuracy: 0.6333"
     ]
    },
    {
     "name": "stderr",
     "output_type": "stream",
     "text": [
      "2023-12-23 16:19:04.200869: I tensorflow/core/grappler/optimizers/custom_graph_optimizer_registry.cc:113] Plugin optimizer for device_type GPU is enabled.\n",
      "2023-12-23 16:19:11.575387: I tensorflow/core/grappler/optimizers/custom_graph_optimizer_registry.cc:113] Plugin optimizer for device_type GPU is enabled.\n"
     ]
    },
    {
     "name": "stdout",
     "output_type": "stream",
     "text": [
      "188/188 [==============================] - 1s 5ms/step\n"
     ]
    },
    {
     "name": "stderr",
     "output_type": "stream",
     "text": [
      "2023-12-23 16:19:14.387830: I tensorflow/core/grappler/optimizers/custom_graph_optimizer_registry.cc:113] Plugin optimizer for device_type GPU is enabled.\n"
     ]
    },
    {
     "name": "stdout",
     "output_type": "stream",
     "text": [
      "188/188 [==============================] - 2s 8ms/step\n"
     ]
    },
    {
     "name": "stderr",
     "output_type": "stream",
     "text": [
      "2023-12-23 16:19:16.845355: I tensorflow/core/grappler/optimizers/custom_graph_optimizer_registry.cc:113] Plugin optimizer for device_type GPU is enabled.\n"
     ]
    },
    {
     "name": "stdout",
     "output_type": "stream",
     "text": [
      "188/188 [==============================] - 3s 12ms/step\n"
     ]
    },
    {
     "name": "stderr",
     "output_type": "stream",
     "text": [
      "2023-12-23 16:19:20.403299: I tensorflow/core/grappler/optimizers/custom_graph_optimizer_registry.cc:113] Plugin optimizer for device_type GPU is enabled.\n"
     ]
    },
    {
     "name": "stdout",
     "output_type": "stream",
     "text": [
      "188/188 [==============================] - 4s 14ms/step\n"
     ]
    },
    {
     "name": "stderr",
     "output_type": "stream",
     "text": [
      "2023-12-23 16:19:24.431239: I tensorflow/core/grappler/optimizers/custom_graph_optimizer_registry.cc:113] Plugin optimizer for device_type GPU is enabled.\n"
     ]
    },
    {
     "name": "stdout",
     "output_type": "stream",
     "text": [
      "188/188 [==============================] - 4s 15ms/step\n"
     ]
    },
    {
     "name": "stderr",
     "output_type": "stream",
     "text": [
      "2023-12-23 16:19:29.004153: I tensorflow/core/grappler/optimizers/custom_graph_optimizer_registry.cc:113] Plugin optimizer for device_type GPU is enabled.\n"
     ]
    },
    {
     "name": "stdout",
     "output_type": "stream",
     "text": [
      "188/188 [==============================] - 5s 17ms/step\n"
     ]
    },
    {
     "name": "stderr",
     "output_type": "stream",
     "text": [
      "2023-12-23 16:19:34.416371: I tensorflow/core/grappler/optimizers/custom_graph_optimizer_registry.cc:113] Plugin optimizer for device_type GPU is enabled.\n"
     ]
    },
    {
     "name": "stdout",
     "output_type": "stream",
     "text": [
      "188/188 [==============================] - 5s 19ms/step\n"
     ]
    },
    {
     "name": "stderr",
     "output_type": "stream",
     "text": [
      "2023-12-23 16:19:39.529129: I tensorflow/core/grappler/optimizers/custom_graph_optimizer_registry.cc:113] Plugin optimizer for device_type GPU is enabled.\n"
     ]
    },
    {
     "name": "stdout",
     "output_type": "stream",
     "text": [
      "188/188 [==============================] - 7s 29ms/step\n"
     ]
    },
    {
     "name": "stderr",
     "output_type": "stream",
     "text": [
      "2023-12-23 16:19:46.810093: I tensorflow/core/grappler/optimizers/custom_graph_optimizer_registry.cc:113] Plugin optimizer for device_type GPU is enabled.\n"
     ]
    },
    {
     "name": "stdout",
     "output_type": "stream",
     "text": [
      "188/188 [==============================] - 9s 29ms/step\n"
     ]
    },
    {
     "name": "stderr",
     "output_type": "stream",
     "text": [
      "2023-12-23 16:19:56.532200: I tensorflow/core/grappler/optimizers/custom_graph_optimizer_registry.cc:113] Plugin optimizer for device_type GPU is enabled.\n"
     ]
    },
    {
     "name": "stdout",
     "output_type": "stream",
     "text": [
      "188/188 [==============================] - 12s 40ms/step\n",
      "24/24 [==============================] - 89s 3s/step - loss: 1.2374 - accuracy: 0.6333 - val_loss: 1.7958 - val_accuracy: 0.4037\n",
      "Epoch 18/1000\n"
     ]
    },
    {
     "name": "stderr",
     "output_type": "stream",
     "text": [
      "2023-12-23 16:20:08.695290: I tensorflow/core/grappler/optimizers/custom_graph_optimizer_registry.cc:113] Plugin optimizer for device_type GPU is enabled.\n"
     ]
    },
    {
     "name": "stdout",
     "output_type": "stream",
     "text": [
      "24/24 [==============================] - ETA: 0s - loss: 1.1812 - accuracy: 0.6563"
     ]
    },
    {
     "name": "stderr",
     "output_type": "stream",
     "text": [
      "2023-12-23 16:20:44.116495: I tensorflow/core/grappler/optimizers/custom_graph_optimizer_registry.cc:113] Plugin optimizer for device_type GPU is enabled.\n",
      "2023-12-23 16:20:54.974912: I tensorflow/core/grappler/optimizers/custom_graph_optimizer_registry.cc:113] Plugin optimizer for device_type GPU is enabled.\n"
     ]
    },
    {
     "name": "stdout",
     "output_type": "stream",
     "text": [
      "188/188 [==============================] - 2s 6ms/step\n"
     ]
    },
    {
     "name": "stderr",
     "output_type": "stream",
     "text": [
      "2023-12-23 16:20:59.413174: I tensorflow/core/grappler/optimizers/custom_graph_optimizer_registry.cc:113] Plugin optimizer for device_type GPU is enabled.\n"
     ]
    },
    {
     "name": "stdout",
     "output_type": "stream",
     "text": [
      "188/188 [==============================] - 3s 12ms/step\n"
     ]
    },
    {
     "name": "stderr",
     "output_type": "stream",
     "text": [
      "2023-12-23 16:21:02.790573: I tensorflow/core/grappler/optimizers/custom_graph_optimizer_registry.cc:113] Plugin optimizer for device_type GPU is enabled.\n"
     ]
    },
    {
     "name": "stdout",
     "output_type": "stream",
     "text": [
      "188/188 [==============================] - 4s 14ms/step\n"
     ]
    },
    {
     "name": "stderr",
     "output_type": "stream",
     "text": [
      "2023-12-23 16:21:07.284995: I tensorflow/core/grappler/optimizers/custom_graph_optimizer_registry.cc:113] Plugin optimizer for device_type GPU is enabled.\n"
     ]
    },
    {
     "name": "stdout",
     "output_type": "stream",
     "text": [
      "188/188 [==============================] - 4s 18ms/step\n"
     ]
    },
    {
     "name": "stderr",
     "output_type": "stream",
     "text": [
      "2023-12-23 16:21:11.915265: I tensorflow/core/grappler/optimizers/custom_graph_optimizer_registry.cc:113] Plugin optimizer for device_type GPU is enabled.\n"
     ]
    },
    {
     "name": "stdout",
     "output_type": "stream",
     "text": [
      "188/188 [==============================] - 4s 16ms/step\n"
     ]
    },
    {
     "name": "stderr",
     "output_type": "stream",
     "text": [
      "2023-12-23 16:21:16.319532: I tensorflow/core/grappler/optimizers/custom_graph_optimizer_registry.cc:113] Plugin optimizer for device_type GPU is enabled.\n"
     ]
    },
    {
     "name": "stdout",
     "output_type": "stream",
     "text": [
      "188/188 [==============================] - 5s 21ms/step\n"
     ]
    },
    {
     "name": "stderr",
     "output_type": "stream",
     "text": [
      "2023-12-23 16:21:21.900076: I tensorflow/core/grappler/optimizers/custom_graph_optimizer_registry.cc:113] Plugin optimizer for device_type GPU is enabled.\n"
     ]
    },
    {
     "name": "stdout",
     "output_type": "stream",
     "text": [
      "188/188 [==============================] - 6s 21ms/step\n"
     ]
    },
    {
     "name": "stderr",
     "output_type": "stream",
     "text": [
      "2023-12-23 16:21:28.263273: I tensorflow/core/grappler/optimizers/custom_graph_optimizer_registry.cc:113] Plugin optimizer for device_type GPU is enabled.\n"
     ]
    },
    {
     "name": "stdout",
     "output_type": "stream",
     "text": [
      "188/188 [==============================] - 6s 25ms/step\n"
     ]
    },
    {
     "name": "stderr",
     "output_type": "stream",
     "text": [
      "2023-12-23 16:21:34.857423: I tensorflow/core/grappler/optimizers/custom_graph_optimizer_registry.cc:113] Plugin optimizer for device_type GPU is enabled.\n"
     ]
    },
    {
     "name": "stdout",
     "output_type": "stream",
     "text": [
      "188/188 [==============================] - 7s 29ms/step\n"
     ]
    },
    {
     "name": "stderr",
     "output_type": "stream",
     "text": [
      "2023-12-23 16:21:42.495267: I tensorflow/core/grappler/optimizers/custom_graph_optimizer_registry.cc:113] Plugin optimizer for device_type GPU is enabled.\n"
     ]
    },
    {
     "name": "stdout",
     "output_type": "stream",
     "text": [
      "188/188 [==============================] - 9s 34ms/step\n",
      "24/24 [==============================] - 103s 4s/step - loss: 1.1812 - accuracy: 0.6563 - val_loss: 1.7694 - val_accuracy: 0.4114\n",
      "Epoch 19/1000\n"
     ]
    },
    {
     "name": "stderr",
     "output_type": "stream",
     "text": [
      "2023-12-23 16:21:51.926861: I tensorflow/core/grappler/optimizers/custom_graph_optimizer_registry.cc:113] Plugin optimizer for device_type GPU is enabled.\n"
     ]
    },
    {
     "name": "stdout",
     "output_type": "stream",
     "text": [
      "24/24 [==============================] - ETA: 0s - loss: 1.1362 - accuracy: 0.6723"
     ]
    },
    {
     "name": "stderr",
     "output_type": "stream",
     "text": [
      "2023-12-23 16:22:31.641211: I tensorflow/core/grappler/optimizers/custom_graph_optimizer_registry.cc:113] Plugin optimizer for device_type GPU is enabled.\n"
     ]
    },
    {
     "name": "stdout",
     "output_type": "stream",
     "text": [
      "  8/188 [>.............................] - ETA: 1s "
     ]
    },
    {
     "name": "stderr",
     "output_type": "stream",
     "text": [
      "2023-12-23 16:22:35.862373: I tensorflow/core/grappler/optimizers/custom_graph_optimizer_registry.cc:113] Plugin optimizer for device_type GPU is enabled.\n"
     ]
    },
    {
     "name": "stdout",
     "output_type": "stream",
     "text": [
      "188/188 [==============================] - 1s 2ms/step\n"
     ]
    },
    {
     "name": "stderr",
     "output_type": "stream",
     "text": [
      "2023-12-23 16:22:37.166316: I tensorflow/core/grappler/optimizers/custom_graph_optimizer_registry.cc:113] Plugin optimizer for device_type GPU is enabled.\n"
     ]
    },
    {
     "name": "stdout",
     "output_type": "stream",
     "text": [
      "188/188 [==============================] - 1s 3ms/step\n"
     ]
    },
    {
     "name": "stderr",
     "output_type": "stream",
     "text": [
      "2023-12-23 16:22:38.153821: I tensorflow/core/grappler/optimizers/custom_graph_optimizer_registry.cc:113] Plugin optimizer for device_type GPU is enabled.\n"
     ]
    },
    {
     "name": "stdout",
     "output_type": "stream",
     "text": [
      "188/188 [==============================] - 1s 4ms/step\n"
     ]
    },
    {
     "name": "stderr",
     "output_type": "stream",
     "text": [
      "2023-12-23 16:22:39.619249: I tensorflow/core/grappler/optimizers/custom_graph_optimizer_registry.cc:113] Plugin optimizer for device_type GPU is enabled.\n"
     ]
    },
    {
     "name": "stdout",
     "output_type": "stream",
     "text": [
      "188/188 [==============================] - 2s 5ms/step\n"
     ]
    },
    {
     "name": "stderr",
     "output_type": "stream",
     "text": [
      "2023-12-23 16:22:41.292113: I tensorflow/core/grappler/optimizers/custom_graph_optimizer_registry.cc:113] Plugin optimizer for device_type GPU is enabled.\n"
     ]
    },
    {
     "name": "stdout",
     "output_type": "stream",
     "text": [
      "188/188 [==============================] - 2s 8ms/step\n"
     ]
    },
    {
     "name": "stderr",
     "output_type": "stream",
     "text": [
      "2023-12-23 16:22:44.101395: I tensorflow/core/grappler/optimizers/custom_graph_optimizer_registry.cc:113] Plugin optimizer for device_type GPU is enabled.\n"
     ]
    },
    {
     "name": "stdout",
     "output_type": "stream",
     "text": [
      "188/188 [==============================] - 3s 8ms/step\n"
     ]
    },
    {
     "name": "stderr",
     "output_type": "stream",
     "text": [
      "2023-12-23 16:22:46.664546: I tensorflow/core/grappler/optimizers/custom_graph_optimizer_registry.cc:113] Plugin optimizer for device_type GPU is enabled.\n"
     ]
    },
    {
     "name": "stdout",
     "output_type": "stream",
     "text": [
      "188/188 [==============================] - 3s 12ms/step\n"
     ]
    },
    {
     "name": "stderr",
     "output_type": "stream",
     "text": [
      "2023-12-23 16:22:50.073869: I tensorflow/core/grappler/optimizers/custom_graph_optimizer_registry.cc:113] Plugin optimizer for device_type GPU is enabled.\n"
     ]
    },
    {
     "name": "stdout",
     "output_type": "stream",
     "text": [
      "188/188 [==============================] - 3s 11ms/step\n"
     ]
    },
    {
     "name": "stderr",
     "output_type": "stream",
     "text": [
      "2023-12-23 16:22:53.267405: I tensorflow/core/grappler/optimizers/custom_graph_optimizer_registry.cc:113] Plugin optimizer for device_type GPU is enabled.\n"
     ]
    },
    {
     "name": "stdout",
     "output_type": "stream",
     "text": [
      "188/188 [==============================] - 3s 13ms/step\n"
     ]
    },
    {
     "name": "stderr",
     "output_type": "stream",
     "text": [
      "2023-12-23 16:22:56.627994: I tensorflow/core/grappler/optimizers/custom_graph_optimizer_registry.cc:113] Plugin optimizer for device_type GPU is enabled.\n"
     ]
    },
    {
     "name": "stdout",
     "output_type": "stream",
     "text": [
      "188/188 [==============================] - 4s 15ms/step\n",
      "24/24 [==============================] - 68s 2s/step - loss: 1.1362 - accuracy: 0.6723 - val_loss: 1.7430 - val_accuracy: 0.4244\n",
      "Epoch 20/1000\n"
     ]
    },
    {
     "name": "stderr",
     "output_type": "stream",
     "text": [
      "2023-12-23 16:23:00.365889: I tensorflow/core/grappler/optimizers/custom_graph_optimizer_registry.cc:113] Plugin optimizer for device_type GPU is enabled.\n"
     ]
    },
    {
     "name": "stdout",
     "output_type": "stream",
     "text": [
      "24/24 [==============================] - ETA: 0s - loss: 1.0882 - accuracy: 0.6897"
     ]
    },
    {
     "name": "stderr",
     "output_type": "stream",
     "text": [
      "2023-12-23 16:23:18.795902: I tensorflow/core/grappler/optimizers/custom_graph_optimizer_registry.cc:113] Plugin optimizer for device_type GPU is enabled.\n"
     ]
    },
    {
     "name": "stdout",
     "output_type": "stream",
     "text": [
      " 11/188 [>.............................] - ETA: 0s "
     ]
    },
    {
     "name": "stderr",
     "output_type": "stream",
     "text": [
      "2023-12-23 16:23:24.287270: I tensorflow/core/grappler/optimizers/custom_graph_optimizer_registry.cc:113] Plugin optimizer for device_type GPU is enabled.\n"
     ]
    },
    {
     "name": "stdout",
     "output_type": "stream",
     "text": [
      "188/188 [==============================] - 1s 2ms/step\n",
      "  1/188 [..............................] - ETA: 35s"
     ]
    },
    {
     "name": "stderr",
     "output_type": "stream",
     "text": [
      "2023-12-23 16:23:25.658235: I tensorflow/core/grappler/optimizers/custom_graph_optimizer_registry.cc:113] Plugin optimizer for device_type GPU is enabled.\n"
     ]
    },
    {
     "name": "stdout",
     "output_type": "stream",
     "text": [
      "188/188 [==============================] - 1s 3ms/step\n"
     ]
    },
    {
     "name": "stderr",
     "output_type": "stream",
     "text": [
      "2023-12-23 16:23:26.461606: I tensorflow/core/grappler/optimizers/custom_graph_optimizer_registry.cc:113] Plugin optimizer for device_type GPU is enabled.\n"
     ]
    },
    {
     "name": "stdout",
     "output_type": "stream",
     "text": [
      "188/188 [==============================] - 1s 4ms/step\n"
     ]
    },
    {
     "name": "stderr",
     "output_type": "stream",
     "text": [
      "2023-12-23 16:23:27.453293: I tensorflow/core/grappler/optimizers/custom_graph_optimizer_registry.cc:113] Plugin optimizer for device_type GPU is enabled.\n"
     ]
    },
    {
     "name": "stdout",
     "output_type": "stream",
     "text": [
      "188/188 [==============================] - 1s 5ms/step\n"
     ]
    },
    {
     "name": "stderr",
     "output_type": "stream",
     "text": [
      "2023-12-23 16:23:28.787950: I tensorflow/core/grappler/optimizers/custom_graph_optimizer_registry.cc:113] Plugin optimizer for device_type GPU is enabled.\n"
     ]
    },
    {
     "name": "stdout",
     "output_type": "stream",
     "text": [
      "188/188 [==============================] - 2s 5ms/step\n"
     ]
    },
    {
     "name": "stderr",
     "output_type": "stream",
     "text": [
      "2023-12-23 16:23:30.369517: I tensorflow/core/grappler/optimizers/custom_graph_optimizer_registry.cc:113] Plugin optimizer for device_type GPU is enabled.\n"
     ]
    },
    {
     "name": "stdout",
     "output_type": "stream",
     "text": [
      "188/188 [==============================] - 2s 5ms/step\n"
     ]
    },
    {
     "name": "stderr",
     "output_type": "stream",
     "text": [
      "2023-12-23 16:23:32.298689: I tensorflow/core/grappler/optimizers/custom_graph_optimizer_registry.cc:113] Plugin optimizer for device_type GPU is enabled.\n"
     ]
    },
    {
     "name": "stdout",
     "output_type": "stream",
     "text": [
      "188/188 [==============================] - 2s 6ms/step\n"
     ]
    },
    {
     "name": "stderr",
     "output_type": "stream",
     "text": [
      "2023-12-23 16:23:34.258668: I tensorflow/core/grappler/optimizers/custom_graph_optimizer_registry.cc:113] Plugin optimizer for device_type GPU is enabled.\n"
     ]
    },
    {
     "name": "stdout",
     "output_type": "stream",
     "text": [
      "188/188 [==============================] - 2s 7ms/step\n"
     ]
    },
    {
     "name": "stderr",
     "output_type": "stream",
     "text": [
      "2023-12-23 16:23:36.275990: I tensorflow/core/grappler/optimizers/custom_graph_optimizer_registry.cc:113] Plugin optimizer for device_type GPU is enabled.\n"
     ]
    },
    {
     "name": "stdout",
     "output_type": "stream",
     "text": [
      "188/188 [==============================] - 2s 9ms/step\n"
     ]
    },
    {
     "name": "stderr",
     "output_type": "stream",
     "text": [
      "2023-12-23 16:23:38.728431: I tensorflow/core/grappler/optimizers/custom_graph_optimizer_registry.cc:113] Plugin optimizer for device_type GPU is enabled.\n"
     ]
    },
    {
     "name": "stdout",
     "output_type": "stream",
     "text": [
      "188/188 [==============================] - 3s 9ms/step\n",
      "24/24 [==============================] - 41s 1s/step - loss: 1.0882 - accuracy: 0.6897 - val_loss: 1.7221 - val_accuracy: 0.4327\n",
      "Epoch 21/1000\n"
     ]
    },
    {
     "name": "stderr",
     "output_type": "stream",
     "text": [
      "2023-12-23 16:23:41.473078: I tensorflow/core/grappler/optimizers/custom_graph_optimizer_registry.cc:113] Plugin optimizer for device_type GPU is enabled.\n"
     ]
    },
    {
     "name": "stdout",
     "output_type": "stream",
     "text": [
      "24/24 [==============================] - ETA: 0s - loss: 1.0368 - accuracy: 0.7062"
     ]
    },
    {
     "name": "stderr",
     "output_type": "stream",
     "text": [
      "2023-12-23 16:23:52.572203: I tensorflow/core/grappler/optimizers/custom_graph_optimizer_registry.cc:113] Plugin optimizer for device_type GPU is enabled.\n"
     ]
    },
    {
     "name": "stdout",
     "output_type": "stream",
     "text": [
      "24/24 [==============================] - 14s 450ms/step - loss: 1.0368 - accuracy: 0.7062 - val_loss: 1.7011 - val_accuracy: 0.4397\n",
      "Epoch 22/1000\n",
      " 80/188 [===========>..................] - ETA: 0s loss: 0.9989 - accuracy: 0.7"
     ]
    },
    {
     "name": "stderr",
     "output_type": "stream",
     "text": [
      "2023-12-23 16:23:59.313727: I tensorflow/core/grappler/optimizers/custom_graph_optimizer_registry.cc:113] Plugin optimizer for device_type GPU is enabled.\n"
     ]
    },
    {
     "name": "stdout",
     "output_type": "stream",
     "text": [
      "188/188 [==============================] - 0s 1ms/step\n"
     ]
    },
    {
     "name": "stderr",
     "output_type": "stream",
     "text": [
      "2023-12-23 16:24:00.225658: I tensorflow/core/grappler/optimizers/custom_graph_optimizer_registry.cc:113] Plugin optimizer for device_type GPU is enabled.\n"
     ]
    },
    {
     "name": "stdout",
     "output_type": "stream",
     "text": [
      "188/188 [==============================] - 1s 2ms/step\n",
      "  1/188 [..............................] - ETA: 41s"
     ]
    },
    {
     "name": "stderr",
     "output_type": "stream",
     "text": [
      "2023-12-23 16:24:00.916086: I tensorflow/core/grappler/optimizers/custom_graph_optimizer_registry.cc:113] Plugin optimizer for device_type GPU is enabled.\n"
     ]
    },
    {
     "name": "stdout",
     "output_type": "stream",
     "text": [
      "188/188 [==============================] - 1s 3ms/step\n"
     ]
    },
    {
     "name": "stderr",
     "output_type": "stream",
     "text": [
      "2023-12-23 16:24:01.729302: I tensorflow/core/grappler/optimizers/custom_graph_optimizer_registry.cc:113] Plugin optimizer for device_type GPU is enabled.\n"
     ]
    },
    {
     "name": "stdout",
     "output_type": "stream",
     "text": [
      "188/188 [==============================] - 1s 4ms/step\n"
     ]
    },
    {
     "name": "stderr",
     "output_type": "stream",
     "text": [
      "2023-12-23 16:24:02.814823: I tensorflow/core/grappler/optimizers/custom_graph_optimizer_registry.cc:113] Plugin optimizer for device_type GPU is enabled.\n"
     ]
    },
    {
     "name": "stdout",
     "output_type": "stream",
     "text": [
      "188/188 [==============================] - 1s 5ms/step\n"
     ]
    },
    {
     "name": "stderr",
     "output_type": "stream",
     "text": [
      "2023-12-23 16:24:04.112299: I tensorflow/core/grappler/optimizers/custom_graph_optimizer_registry.cc:113] Plugin optimizer for device_type GPU is enabled.\n"
     ]
    },
    {
     "name": "stdout",
     "output_type": "stream",
     "text": [
      "188/188 [==============================] - 1s 5ms/step\n"
     ]
    },
    {
     "name": "stderr",
     "output_type": "stream",
     "text": [
      "2023-12-23 16:24:05.474858: I tensorflow/core/grappler/optimizers/custom_graph_optimizer_registry.cc:113] Plugin optimizer for device_type GPU is enabled.\n"
     ]
    },
    {
     "name": "stdout",
     "output_type": "stream",
     "text": [
      "188/188 [==============================] - 2s 7ms/step\n"
     ]
    },
    {
     "name": "stderr",
     "output_type": "stream",
     "text": [
      "2023-12-23 16:24:07.236898: I tensorflow/core/grappler/optimizers/custom_graph_optimizer_registry.cc:113] Plugin optimizer for device_type GPU is enabled.\n"
     ]
    },
    {
     "name": "stdout",
     "output_type": "stream",
     "text": [
      "188/188 [==============================] - 2s 8ms/step\n"
     ]
    },
    {
     "name": "stderr",
     "output_type": "stream",
     "text": [
      "2023-12-23 16:24:09.349467: I tensorflow/core/grappler/optimizers/custom_graph_optimizer_registry.cc:113] Plugin optimizer for device_type GPU is enabled.\n"
     ]
    },
    {
     "name": "stdout",
     "output_type": "stream",
     "text": [
      "188/188 [==============================] - 2s 7ms/step\n"
     ]
    },
    {
     "name": "stderr",
     "output_type": "stream",
     "text": [
      "2023-12-23 16:24:11.407362: I tensorflow/core/grappler/optimizers/custom_graph_optimizer_registry.cc:113] Plugin optimizer for device_type GPU is enabled.\n"
     ]
    },
    {
     "name": "stdout",
     "output_type": "stream",
     "text": [
      "188/188 [==============================] - 2s 9ms/step\n",
      "24/24 [==============================] - 18s 764ms/step - loss: 0.9989 - accuracy: 0.7282 - val_loss: 1.6844 - val_accuracy: 0.4462\n",
      "Epoch 23/1000\n"
     ]
    },
    {
     "name": "stderr",
     "output_type": "stream",
     "text": [
      "2023-12-23 16:24:13.728120: I tensorflow/core/grappler/optimizers/custom_graph_optimizer_registry.cc:113] Plugin optimizer for device_type GPU is enabled.\n"
     ]
    },
    {
     "name": "stdout",
     "output_type": "stream",
     "text": [
      "24/24 [==============================] - ETA: 0s - loss: 0.9489 - accuracy: 0.7425"
     ]
    },
    {
     "name": "stderr",
     "output_type": "stream",
     "text": [
      "2023-12-23 16:24:26.955745: I tensorflow/core/grappler/optimizers/custom_graph_optimizer_registry.cc:113] Plugin optimizer for device_type GPU is enabled.\n"
     ]
    },
    {
     "name": "stdout",
     "output_type": "stream",
     "text": [
      "24/24 [==============================] - 16s 451ms/step - loss: 0.9489 - accuracy: 0.7425 - val_loss: 1.6656 - val_accuracy: 0.4533\n",
      "Epoch 24/1000\n",
      " 59/188 [========>.....................] - ETA: 0s loss: 0.9126 - accuracy: 0.7"
     ]
    },
    {
     "name": "stderr",
     "output_type": "stream",
     "text": [
      "2023-12-23 16:24:32.767525: I tensorflow/core/grappler/optimizers/custom_graph_optimizer_registry.cc:113] Plugin optimizer for device_type GPU is enabled.\n"
     ]
    },
    {
     "name": "stdout",
     "output_type": "stream",
     "text": [
      "188/188 [==============================] - 0s 1ms/step\n",
      "  2/188 [..............................] - ETA: 9s "
     ]
    },
    {
     "name": "stderr",
     "output_type": "stream",
     "text": [
      "2023-12-23 16:24:33.590285: I tensorflow/core/grappler/optimizers/custom_graph_optimizer_registry.cc:113] Plugin optimizer for device_type GPU is enabled.\n"
     ]
    },
    {
     "name": "stdout",
     "output_type": "stream",
     "text": [
      "188/188 [==============================] - 1s 2ms/step\n",
      "  1/188 [..............................] - ETA: 43s"
     ]
    },
    {
     "name": "stderr",
     "output_type": "stream",
     "text": [
      "2023-12-23 16:24:34.220324: I tensorflow/core/grappler/optimizers/custom_graph_optimizer_registry.cc:113] Plugin optimizer for device_type GPU is enabled.\n"
     ]
    },
    {
     "name": "stdout",
     "output_type": "stream",
     "text": [
      "188/188 [==============================] - 1s 3ms/step\n"
     ]
    },
    {
     "name": "stderr",
     "output_type": "stream",
     "text": [
      "2023-12-23 16:24:35.121030: I tensorflow/core/grappler/optimizers/custom_graph_optimizer_registry.cc:113] Plugin optimizer for device_type GPU is enabled.\n"
     ]
    },
    {
     "name": "stdout",
     "output_type": "stream",
     "text": [
      "188/188 [==============================] - 1s 5ms/step\n"
     ]
    },
    {
     "name": "stderr",
     "output_type": "stream",
     "text": [
      "2023-12-23 16:24:36.363637: I tensorflow/core/grappler/optimizers/custom_graph_optimizer_registry.cc:113] Plugin optimizer for device_type GPU is enabled.\n"
     ]
    },
    {
     "name": "stdout",
     "output_type": "stream",
     "text": [
      "188/188 [==============================] - 1s 5ms/step\n"
     ]
    },
    {
     "name": "stderr",
     "output_type": "stream",
     "text": [
      "2023-12-23 16:24:38.348800: I tensorflow/core/grappler/optimizers/custom_graph_optimizer_registry.cc:113] Plugin optimizer for device_type GPU is enabled.\n"
     ]
    },
    {
     "name": "stdout",
     "output_type": "stream",
     "text": [
      "188/188 [==============================] - 2s 5ms/step\n"
     ]
    },
    {
     "name": "stderr",
     "output_type": "stream",
     "text": [
      "2023-12-23 16:24:40.134880: I tensorflow/core/grappler/optimizers/custom_graph_optimizer_registry.cc:113] Plugin optimizer for device_type GPU is enabled.\n"
     ]
    },
    {
     "name": "stdout",
     "output_type": "stream",
     "text": [
      "188/188 [==============================] - 2s 6ms/step\n"
     ]
    },
    {
     "name": "stderr",
     "output_type": "stream",
     "text": [
      "2023-12-23 16:24:42.289915: I tensorflow/core/grappler/optimizers/custom_graph_optimizer_registry.cc:113] Plugin optimizer for device_type GPU is enabled.\n"
     ]
    },
    {
     "name": "stdout",
     "output_type": "stream",
     "text": [
      "188/188 [==============================] - 2s 8ms/step\n"
     ]
    },
    {
     "name": "stderr",
     "output_type": "stream",
     "text": [
      "2023-12-23 16:24:44.870507: I tensorflow/core/grappler/optimizers/custom_graph_optimizer_registry.cc:113] Plugin optimizer for device_type GPU is enabled.\n"
     ]
    },
    {
     "name": "stdout",
     "output_type": "stream",
     "text": [
      "188/188 [==============================] - 3s 8ms/step\n"
     ]
    },
    {
     "name": "stderr",
     "output_type": "stream",
     "text": [
      "2023-12-23 16:24:47.651076: I tensorflow/core/grappler/optimizers/custom_graph_optimizer_registry.cc:113] Plugin optimizer for device_type GPU is enabled.\n"
     ]
    },
    {
     "name": "stdout",
     "output_type": "stream",
     "text": [
      "188/188 [==============================] - 3s 11ms/step\n",
      "24/24 [==============================] - 21s 912ms/step - loss: 0.9126 - accuracy: 0.7513 - val_loss: 1.6467 - val_accuracy: 0.4606\n",
      "Epoch 25/1000\n"
     ]
    },
    {
     "name": "stderr",
     "output_type": "stream",
     "text": [
      "2023-12-23 16:24:50.975468: I tensorflow/core/grappler/optimizers/custom_graph_optimizer_registry.cc:113] Plugin optimizer for device_type GPU is enabled.\n"
     ]
    },
    {
     "name": "stdout",
     "output_type": "stream",
     "text": [
      "24/24 [==============================] - ETA: 0s - loss: 0.8725 - accuracy: 0.7677"
     ]
    },
    {
     "name": "stderr",
     "output_type": "stream",
     "text": [
      "2023-12-23 16:25:01.812313: I tensorflow/core/grappler/optimizers/custom_graph_optimizer_registry.cc:113] Plugin optimizer for device_type GPU is enabled.\n"
     ]
    },
    {
     "name": "stdout",
     "output_type": "stream",
     "text": [
      "24/24 [==============================] - 13s 402ms/step - loss: 0.8725 - accuracy: 0.7677 - val_loss: 1.6303 - val_accuracy: 0.4660\n",
      "Epoch 26/1000\n",
      "  9/188 [>.............................] - ETA: 1s loss: 0.8304 - accuracy: 0.785"
     ]
    },
    {
     "name": "stderr",
     "output_type": "stream",
     "text": [
      "2023-12-23 16:25:06.111631: I tensorflow/core/grappler/optimizers/custom_graph_optimizer_registry.cc:113] Plugin optimizer for device_type GPU is enabled.\n"
     ]
    },
    {
     "name": "stdout",
     "output_type": "stream",
     "text": [
      "188/188 [==============================] - 0s 2ms/step\n"
     ]
    },
    {
     "name": "stderr",
     "output_type": "stream",
     "text": [
      "2023-12-23 16:25:07.135767: I tensorflow/core/grappler/optimizers/custom_graph_optimizer_registry.cc:113] Plugin optimizer for device_type GPU is enabled.\n"
     ]
    },
    {
     "name": "stdout",
     "output_type": "stream",
     "text": [
      "188/188 [==============================] - 1s 2ms/step\n"
     ]
    },
    {
     "name": "stderr",
     "output_type": "stream",
     "text": [
      "2023-12-23 16:25:07.957559: I tensorflow/core/grappler/optimizers/custom_graph_optimizer_registry.cc:113] Plugin optimizer for device_type GPU is enabled.\n"
     ]
    },
    {
     "name": "stdout",
     "output_type": "stream",
     "text": [
      "188/188 [==============================] - 1s 3ms/step\n"
     ]
    },
    {
     "name": "stderr",
     "output_type": "stream",
     "text": [
      "2023-12-23 16:25:09.026927: I tensorflow/core/grappler/optimizers/custom_graph_optimizer_registry.cc:113] Plugin optimizer for device_type GPU is enabled.\n"
     ]
    },
    {
     "name": "stdout",
     "output_type": "stream",
     "text": [
      "188/188 [==============================] - 1s 5ms/step\n"
     ]
    },
    {
     "name": "stderr",
     "output_type": "stream",
     "text": [
      "2023-12-23 16:25:10.513214: I tensorflow/core/grappler/optimizers/custom_graph_optimizer_registry.cc:113] Plugin optimizer for device_type GPU is enabled.\n"
     ]
    },
    {
     "name": "stdout",
     "output_type": "stream",
     "text": [
      "188/188 [==============================] - 2s 5ms/step\n"
     ]
    },
    {
     "name": "stderr",
     "output_type": "stream",
     "text": [
      "2023-12-23 16:25:12.121277: I tensorflow/core/grappler/optimizers/custom_graph_optimizer_registry.cc:113] Plugin optimizer for device_type GPU is enabled.\n"
     ]
    },
    {
     "name": "stdout",
     "output_type": "stream",
     "text": [
      "188/188 [==============================] - 2s 6ms/step\n"
     ]
    },
    {
     "name": "stderr",
     "output_type": "stream",
     "text": [
      "2023-12-23 16:25:13.973113: I tensorflow/core/grappler/optimizers/custom_graph_optimizer_registry.cc:113] Plugin optimizer for device_type GPU is enabled.\n"
     ]
    },
    {
     "name": "stdout",
     "output_type": "stream",
     "text": [
      "188/188 [==============================] - 2s 7ms/step\n"
     ]
    },
    {
     "name": "stderr",
     "output_type": "stream",
     "text": [
      "2023-12-23 16:25:16.233699: I tensorflow/core/grappler/optimizers/custom_graph_optimizer_registry.cc:113] Plugin optimizer for device_type GPU is enabled.\n"
     ]
    },
    {
     "name": "stdout",
     "output_type": "stream",
     "text": [
      "188/188 [==============================] - 2s 8ms/step\n"
     ]
    },
    {
     "name": "stderr",
     "output_type": "stream",
     "text": [
      "2023-12-23 16:25:18.755955: I tensorflow/core/grappler/optimizers/custom_graph_optimizer_registry.cc:113] Plugin optimizer for device_type GPU is enabled.\n"
     ]
    },
    {
     "name": "stdout",
     "output_type": "stream",
     "text": [
      "188/188 [==============================] - 3s 8ms/step\n"
     ]
    },
    {
     "name": "stderr",
     "output_type": "stream",
     "text": [
      "2023-12-23 16:25:21.434004: I tensorflow/core/grappler/optimizers/custom_graph_optimizer_registry.cc:113] Plugin optimizer for device_type GPU is enabled.\n"
     ]
    },
    {
     "name": "stdout",
     "output_type": "stream",
     "text": [
      "188/188 [==============================] - 3s 11ms/step\n",
      "24/24 [==============================] - 20s 875ms/step - loss: 0.8304 - accuracy: 0.7850 - val_loss: 1.6132 - val_accuracy: 0.4734\n",
      "Epoch 27/1000\n"
     ]
    },
    {
     "name": "stderr",
     "output_type": "stream",
     "text": [
      "2023-12-23 16:25:24.503966: I tensorflow/core/grappler/optimizers/custom_graph_optimizer_registry.cc:113] Plugin optimizer for device_type GPU is enabled.\n"
     ]
    },
    {
     "name": "stdout",
     "output_type": "stream",
     "text": [
      "24/24 [==============================] - ETA: 0s - loss: 0.8008 - accuracy: 0.7977"
     ]
    },
    {
     "name": "stderr",
     "output_type": "stream",
     "text": [
      "2023-12-23 16:25:38.074705: I tensorflow/core/grappler/optimizers/custom_graph_optimizer_registry.cc:113] Plugin optimizer for device_type GPU is enabled.\n"
     ]
    },
    {
     "name": "stdout",
     "output_type": "stream",
     "text": [
      "24/24 [==============================] - 16s 479ms/step - loss: 0.8008 - accuracy: 0.7977 - val_loss: 1.5981 - val_accuracy: 0.4816\n",
      "Epoch 28/1000\n",
      "  7/188 [>.............................] - ETA: 1s loss: 0.7626 - accuracy: 0.811"
     ]
    },
    {
     "name": "stderr",
     "output_type": "stream",
     "text": [
      "2023-12-23 16:25:42.815958: I tensorflow/core/grappler/optimizers/custom_graph_optimizer_registry.cc:113] Plugin optimizer for device_type GPU is enabled.\n"
     ]
    },
    {
     "name": "stdout",
     "output_type": "stream",
     "text": [
      "188/188 [==============================] - 0s 1ms/step\n"
     ]
    },
    {
     "name": "stderr",
     "output_type": "stream",
     "text": [
      "2023-12-23 16:25:43.631767: I tensorflow/core/grappler/optimizers/custom_graph_optimizer_registry.cc:113] Plugin optimizer for device_type GPU is enabled.\n"
     ]
    },
    {
     "name": "stdout",
     "output_type": "stream",
     "text": [
      "188/188 [==============================] - 1s 2ms/step\n"
     ]
    },
    {
     "name": "stderr",
     "output_type": "stream",
     "text": [
      "2023-12-23 16:25:44.432242: I tensorflow/core/grappler/optimizers/custom_graph_optimizer_registry.cc:113] Plugin optimizer for device_type GPU is enabled.\n"
     ]
    },
    {
     "name": "stdout",
     "output_type": "stream",
     "text": [
      "188/188 [==============================] - 1s 3ms/step\n"
     ]
    },
    {
     "name": "stderr",
     "output_type": "stream",
     "text": [
      "2023-12-23 16:25:45.409488: I tensorflow/core/grappler/optimizers/custom_graph_optimizer_registry.cc:113] Plugin optimizer for device_type GPU is enabled.\n"
     ]
    },
    {
     "name": "stdout",
     "output_type": "stream",
     "text": [
      "188/188 [==============================] - 1s 4ms/step\n"
     ]
    },
    {
     "name": "stderr",
     "output_type": "stream",
     "text": [
      "2023-12-23 16:25:46.660140: I tensorflow/core/grappler/optimizers/custom_graph_optimizer_registry.cc:113] Plugin optimizer for device_type GPU is enabled.\n"
     ]
    },
    {
     "name": "stdout",
     "output_type": "stream",
     "text": [
      "188/188 [==============================] - 1s 5ms/step\n"
     ]
    },
    {
     "name": "stderr",
     "output_type": "stream",
     "text": [
      "2023-12-23 16:25:48.189401: I tensorflow/core/grappler/optimizers/custom_graph_optimizer_registry.cc:113] Plugin optimizer for device_type GPU is enabled.\n"
     ]
    },
    {
     "name": "stdout",
     "output_type": "stream",
     "text": [
      "188/188 [==============================] - 2s 8ms/step\n"
     ]
    },
    {
     "name": "stderr",
     "output_type": "stream",
     "text": [
      "2023-12-23 16:25:50.451166: I tensorflow/core/grappler/optimizers/custom_graph_optimizer_registry.cc:113] Plugin optimizer for device_type GPU is enabled.\n"
     ]
    },
    {
     "name": "stdout",
     "output_type": "stream",
     "text": [
      "188/188 [==============================] - 2s 8ms/step\n"
     ]
    },
    {
     "name": "stderr",
     "output_type": "stream",
     "text": [
      "2023-12-23 16:25:52.804128: I tensorflow/core/grappler/optimizers/custom_graph_optimizer_registry.cc:113] Plugin optimizer for device_type GPU is enabled.\n"
     ]
    },
    {
     "name": "stdout",
     "output_type": "stream",
     "text": [
      "188/188 [==============================] - 2s 8ms/step\n"
     ]
    },
    {
     "name": "stderr",
     "output_type": "stream",
     "text": [
      "2023-12-23 16:25:55.371557: I tensorflow/core/grappler/optimizers/custom_graph_optimizer_registry.cc:113] Plugin optimizer for device_type GPU is enabled.\n"
     ]
    },
    {
     "name": "stdout",
     "output_type": "stream",
     "text": [
      "188/188 [==============================] - 2s 8ms/step\n"
     ]
    },
    {
     "name": "stderr",
     "output_type": "stream",
     "text": [
      "2023-12-23 16:25:57.925326: I tensorflow/core/grappler/optimizers/custom_graph_optimizer_registry.cc:113] Plugin optimizer for device_type GPU is enabled.\n"
     ]
    },
    {
     "name": "stdout",
     "output_type": "stream",
     "text": [
      "188/188 [==============================] - 3s 11ms/step\n",
      "24/24 [==============================] - 20s 866ms/step - loss: 0.7626 - accuracy: 0.8110 - val_loss: 1.5847 - val_accuracy: 0.4866\n",
      "Epoch 29/1000\n"
     ]
    },
    {
     "name": "stderr",
     "output_type": "stream",
     "text": [
      "2023-12-23 16:26:00.971675: I tensorflow/core/grappler/optimizers/custom_graph_optimizer_registry.cc:113] Plugin optimizer for device_type GPU is enabled.\n"
     ]
    },
    {
     "name": "stdout",
     "output_type": "stream",
     "text": [
      "24/24 [==============================] - ETA: 0s - loss: 0.7289 - accuracy: 0.8203"
     ]
    },
    {
     "name": "stderr",
     "output_type": "stream",
     "text": [
      "2023-12-23 16:26:14.579810: I tensorflow/core/grappler/optimizers/custom_graph_optimizer_registry.cc:113] Plugin optimizer for device_type GPU is enabled.\n"
     ]
    },
    {
     "name": "stdout",
     "output_type": "stream",
     "text": [
      "24/24 [==============================] - 17s 484ms/step - loss: 0.7289 - accuracy: 0.8203 - val_loss: 1.5754 - val_accuracy: 0.4890\n",
      "Epoch 30/1000\n",
      "  6/188 [..............................] - ETA: 1s loss: 0.6937 - accuracy: 0.830"
     ]
    },
    {
     "name": "stderr",
     "output_type": "stream",
     "text": [
      "2023-12-23 16:26:19.523378: I tensorflow/core/grappler/optimizers/custom_graph_optimizer_registry.cc:113] Plugin optimizer for device_type GPU is enabled.\n"
     ]
    },
    {
     "name": "stdout",
     "output_type": "stream",
     "text": [
      "188/188 [==============================] - 0s 1ms/step\n"
     ]
    },
    {
     "name": "stderr",
     "output_type": "stream",
     "text": [
      "2023-12-23 16:26:20.319125: I tensorflow/core/grappler/optimizers/custom_graph_optimizer_registry.cc:113] Plugin optimizer for device_type GPU is enabled.\n"
     ]
    },
    {
     "name": "stdout",
     "output_type": "stream",
     "text": [
      "188/188 [==============================] - 1s 2ms/step\n"
     ]
    },
    {
     "name": "stderr",
     "output_type": "stream",
     "text": [
      "2023-12-23 16:26:21.072254: I tensorflow/core/grappler/optimizers/custom_graph_optimizer_registry.cc:113] Plugin optimizer for device_type GPU is enabled.\n"
     ]
    },
    {
     "name": "stdout",
     "output_type": "stream",
     "text": [
      "188/188 [==============================] - 1s 3ms/step\n"
     ]
    },
    {
     "name": "stderr",
     "output_type": "stream",
     "text": [
      "2023-12-23 16:26:22.151590: I tensorflow/core/grappler/optimizers/custom_graph_optimizer_registry.cc:113] Plugin optimizer for device_type GPU is enabled.\n"
     ]
    },
    {
     "name": "stdout",
     "output_type": "stream",
     "text": [
      "188/188 [==============================] - 1s 4ms/step\n"
     ]
    },
    {
     "name": "stderr",
     "output_type": "stream",
     "text": [
      "2023-12-23 16:26:23.881291: I tensorflow/core/grappler/optimizers/custom_graph_optimizer_registry.cc:113] Plugin optimizer for device_type GPU is enabled.\n"
     ]
    },
    {
     "name": "stdout",
     "output_type": "stream",
     "text": [
      "188/188 [==============================] - 2s 5ms/step\n"
     ]
    },
    {
     "name": "stderr",
     "output_type": "stream",
     "text": [
      "2023-12-23 16:26:25.574906: I tensorflow/core/grappler/optimizers/custom_graph_optimizer_registry.cc:113] Plugin optimizer for device_type GPU is enabled.\n"
     ]
    },
    {
     "name": "stdout",
     "output_type": "stream",
     "text": [
      "188/188 [==============================] - 2s 6ms/step\n"
     ]
    },
    {
     "name": "stderr",
     "output_type": "stream",
     "text": [
      "2023-12-23 16:26:27.461219: I tensorflow/core/grappler/optimizers/custom_graph_optimizer_registry.cc:113] Plugin optimizer for device_type GPU is enabled.\n"
     ]
    },
    {
     "name": "stdout",
     "output_type": "stream",
     "text": [
      "188/188 [==============================] - 2s 7ms/step\n"
     ]
    },
    {
     "name": "stderr",
     "output_type": "stream",
     "text": [
      "2023-12-23 16:26:29.654725: I tensorflow/core/grappler/optimizers/custom_graph_optimizer_registry.cc:113] Plugin optimizer for device_type GPU is enabled.\n"
     ]
    },
    {
     "name": "stdout",
     "output_type": "stream",
     "text": [
      "188/188 [==============================] - 3s 9ms/step\n"
     ]
    },
    {
     "name": "stderr",
     "output_type": "stream",
     "text": [
      "2023-12-23 16:26:32.449910: I tensorflow/core/grappler/optimizers/custom_graph_optimizer_registry.cc:113] Plugin optimizer for device_type GPU is enabled.\n"
     ]
    },
    {
     "name": "stdout",
     "output_type": "stream",
     "text": [
      "188/188 [==============================] - 3s 10ms/step\n"
     ]
    },
    {
     "name": "stderr",
     "output_type": "stream",
     "text": [
      "2023-12-23 16:26:35.405148: I tensorflow/core/grappler/optimizers/custom_graph_optimizer_registry.cc:113] Plugin optimizer for device_type GPU is enabled.\n"
     ]
    },
    {
     "name": "stdout",
     "output_type": "stream",
     "text": [
      "188/188 [==============================] - 3s 11ms/step\n",
      "24/24 [==============================] - 21s 916ms/step - loss: 0.6937 - accuracy: 0.8302 - val_loss: 1.5670 - val_accuracy: 0.4924\n",
      "Epoch 31/1000\n"
     ]
    },
    {
     "name": "stderr",
     "output_type": "stream",
     "text": [
      "2023-12-23 16:26:38.678602: I tensorflow/core/grappler/optimizers/custom_graph_optimizer_registry.cc:113] Plugin optimizer for device_type GPU is enabled.\n"
     ]
    },
    {
     "name": "stdout",
     "output_type": "stream",
     "text": [
      "24/24 [==============================] - ETA: 0s - loss: 0.6676 - accuracy: 0.8438"
     ]
    },
    {
     "name": "stderr",
     "output_type": "stream",
     "text": [
      "2023-12-23 16:26:53.951785: I tensorflow/core/grappler/optimizers/custom_graph_optimizer_registry.cc:113] Plugin optimizer for device_type GPU is enabled.\n"
     ]
    },
    {
     "name": "stdout",
     "output_type": "stream",
     "text": [
      "24/24 [==============================] - 19s 560ms/step - loss: 0.6676 - accuracy: 0.8438 - val_loss: 1.5593 - val_accuracy: 0.4960\n",
      "Epoch 32/1000\n",
      "24/24 [==============================] - 2s 81ms/step - loss: 0.6287 - accuracy: 0.8542 - val_loss: 1.5501 - val_accuracy: 0.5008\n",
      "Epoch 33/1000\n",
      " 60/188 [========>.....................] - ETA: 0s loss: 0.5976 - accuracy: 0.8"
     ]
    },
    {
     "name": "stderr",
     "output_type": "stream",
     "text": [
      "2023-12-23 16:27:00.789721: I tensorflow/core/grappler/optimizers/custom_graph_optimizer_registry.cc:113] Plugin optimizer for device_type GPU is enabled.\n"
     ]
    },
    {
     "name": "stdout",
     "output_type": "stream",
     "text": [
      "188/188 [==============================] - 0s 2ms/step\n"
     ]
    },
    {
     "name": "stderr",
     "output_type": "stream",
     "text": [
      "2023-12-23 16:27:01.775084: I tensorflow/core/grappler/optimizers/custom_graph_optimizer_registry.cc:113] Plugin optimizer for device_type GPU is enabled.\n"
     ]
    },
    {
     "name": "stdout",
     "output_type": "stream",
     "text": [
      "188/188 [==============================] - 1s 3ms/step\n"
     ]
    },
    {
     "name": "stderr",
     "output_type": "stream",
     "text": [
      "2023-12-23 16:27:02.569461: I tensorflow/core/grappler/optimizers/custom_graph_optimizer_registry.cc:113] Plugin optimizer for device_type GPU is enabled.\n"
     ]
    },
    {
     "name": "stdout",
     "output_type": "stream",
     "text": [
      "188/188 [==============================] - 1s 3ms/step\n"
     ]
    },
    {
     "name": "stderr",
     "output_type": "stream",
     "text": [
      "2023-12-23 16:27:03.667587: I tensorflow/core/grappler/optimizers/custom_graph_optimizer_registry.cc:113] Plugin optimizer for device_type GPU is enabled.\n"
     ]
    },
    {
     "name": "stdout",
     "output_type": "stream",
     "text": [
      "188/188 [==============================] - 2s 5ms/step\n"
     ]
    },
    {
     "name": "stderr",
     "output_type": "stream",
     "text": [
      "2023-12-23 16:27:05.339661: I tensorflow/core/grappler/optimizers/custom_graph_optimizer_registry.cc:113] Plugin optimizer for device_type GPU is enabled.\n"
     ]
    },
    {
     "name": "stdout",
     "output_type": "stream",
     "text": [
      "188/188 [==============================] - 2s 7ms/step\n"
     ]
    },
    {
     "name": "stderr",
     "output_type": "stream",
     "text": [
      "2023-12-23 16:27:07.421507: I tensorflow/core/grappler/optimizers/custom_graph_optimizer_registry.cc:113] Plugin optimizer for device_type GPU is enabled.\n"
     ]
    },
    {
     "name": "stdout",
     "output_type": "stream",
     "text": [
      "188/188 [==============================] - 3s 12ms/step\n"
     ]
    },
    {
     "name": "stderr",
     "output_type": "stream",
     "text": [
      "2023-12-23 16:27:11.003626: I tensorflow/core/grappler/optimizers/custom_graph_optimizer_registry.cc:113] Plugin optimizer for device_type GPU is enabled.\n"
     ]
    },
    {
     "name": "stdout",
     "output_type": "stream",
     "text": [
      "188/188 [==============================] - 4s 14ms/step\n"
     ]
    },
    {
     "name": "stderr",
     "output_type": "stream",
     "text": [
      "2023-12-23 16:27:15.500312: I tensorflow/core/grappler/optimizers/custom_graph_optimizer_registry.cc:113] Plugin optimizer for device_type GPU is enabled.\n"
     ]
    },
    {
     "name": "stdout",
     "output_type": "stream",
     "text": [
      "188/188 [==============================] - 5s 19ms/step\n"
     ]
    },
    {
     "name": "stderr",
     "output_type": "stream",
     "text": [
      "2023-12-23 16:27:20.285986: I tensorflow/core/grappler/optimizers/custom_graph_optimizer_registry.cc:113] Plugin optimizer for device_type GPU is enabled.\n"
     ]
    },
    {
     "name": "stdout",
     "output_type": "stream",
     "text": [
      "188/188 [==============================] - 5s 18ms/step\n"
     ]
    },
    {
     "name": "stderr",
     "output_type": "stream",
     "text": [
      "2023-12-23 16:27:25.081265: I tensorflow/core/grappler/optimizers/custom_graph_optimizer_registry.cc:113] Plugin optimizer for device_type GPU is enabled.\n"
     ]
    },
    {
     "name": "stdout",
     "output_type": "stream",
     "text": [
      "188/188 [==============================] - 6s 25ms/step\n",
      "24/24 [==============================] - 32s 1s/step - loss: 0.5976 - accuracy: 0.8682 - val_loss: 1.5432 - val_accuracy: 0.5036\n",
      "Epoch 34/1000\n"
     ]
    },
    {
     "name": "stderr",
     "output_type": "stream",
     "text": [
      "2023-12-23 16:27:31.539456: I tensorflow/core/grappler/optimizers/custom_graph_optimizer_registry.cc:113] Plugin optimizer for device_type GPU is enabled.\n"
     ]
    },
    {
     "name": "stdout",
     "output_type": "stream",
     "text": [
      "24/24 [==============================] - ETA: 0s - loss: 0.5785 - accuracy: 0.8708"
     ]
    },
    {
     "name": "stderr",
     "output_type": "stream",
     "text": [
      "2023-12-23 16:27:57.972629: I tensorflow/core/grappler/optimizers/custom_graph_optimizer_registry.cc:113] Plugin optimizer for device_type GPU is enabled.\n"
     ]
    },
    {
     "name": "stdout",
     "output_type": "stream",
     "text": [
      "24/24 [==============================] - 34s 1s/step - loss: 0.5785 - accuracy: 0.8708 - val_loss: 1.5366 - val_accuracy: 0.5063\n",
      "Epoch 35/1000\n",
      "24/24 [==============================] - 3s 116ms/step - loss: 0.5549 - accuracy: 0.8793 - val_loss: 1.5304 - val_accuracy: 0.5112\n",
      "Epoch 36/1000\n",
      "  1/188 [..............................] - ETA: 35sloss: 0.5225 - accuracy: 0.8928"
     ]
    },
    {
     "name": "stderr",
     "output_type": "stream",
     "text": [
      "2023-12-23 16:28:11.634234: I tensorflow/core/grappler/optimizers/custom_graph_optimizer_registry.cc:113] Plugin optimizer for device_type GPU is enabled.\n"
     ]
    },
    {
     "name": "stdout",
     "output_type": "stream",
     "text": [
      "188/188 [==============================] - 1s 2ms/step\n",
      "  1/188 [..............................] - ETA: 43s"
     ]
    },
    {
     "name": "stderr",
     "output_type": "stream",
     "text": [
      "2023-12-23 16:28:12.944457: I tensorflow/core/grappler/optimizers/custom_graph_optimizer_registry.cc:113] Plugin optimizer for device_type GPU is enabled.\n"
     ]
    },
    {
     "name": "stdout",
     "output_type": "stream",
     "text": [
      "188/188 [==============================] - 1s 3ms/step\n"
     ]
    },
    {
     "name": "stderr",
     "output_type": "stream",
     "text": [
      "2023-12-23 16:28:13.863328: I tensorflow/core/grappler/optimizers/custom_graph_optimizer_registry.cc:113] Plugin optimizer for device_type GPU is enabled.\n"
     ]
    },
    {
     "name": "stdout",
     "output_type": "stream",
     "text": [
      "188/188 [==============================] - 2s 5ms/step\n"
     ]
    },
    {
     "name": "stderr",
     "output_type": "stream",
     "text": [
      "2023-12-23 16:28:15.517002: I tensorflow/core/grappler/optimizers/custom_graph_optimizer_registry.cc:113] Plugin optimizer for device_type GPU is enabled.\n"
     ]
    },
    {
     "name": "stdout",
     "output_type": "stream",
     "text": [
      "188/188 [==============================] - 2s 6ms/step\n"
     ]
    },
    {
     "name": "stderr",
     "output_type": "stream",
     "text": [
      "2023-12-23 16:28:17.515935: I tensorflow/core/grappler/optimizers/custom_graph_optimizer_registry.cc:113] Plugin optimizer for device_type GPU is enabled.\n"
     ]
    },
    {
     "name": "stdout",
     "output_type": "stream",
     "text": [
      "188/188 [==============================] - 2s 7ms/step\n"
     ]
    },
    {
     "name": "stderr",
     "output_type": "stream",
     "text": [
      "2023-12-23 16:28:19.906192: I tensorflow/core/grappler/optimizers/custom_graph_optimizer_registry.cc:113] Plugin optimizer for device_type GPU is enabled.\n"
     ]
    },
    {
     "name": "stdout",
     "output_type": "stream",
     "text": [
      "188/188 [==============================] - 3s 9ms/step\n"
     ]
    },
    {
     "name": "stderr",
     "output_type": "stream",
     "text": [
      "2023-12-23 16:28:22.678131: I tensorflow/core/grappler/optimizers/custom_graph_optimizer_registry.cc:113] Plugin optimizer for device_type GPU is enabled.\n"
     ]
    },
    {
     "name": "stdout",
     "output_type": "stream",
     "text": [
      "188/188 [==============================] - 3s 10ms/step\n"
     ]
    },
    {
     "name": "stderr",
     "output_type": "stream",
     "text": [
      "2023-12-23 16:28:25.950361: I tensorflow/core/grappler/optimizers/custom_graph_optimizer_registry.cc:113] Plugin optimizer for device_type GPU is enabled.\n"
     ]
    },
    {
     "name": "stdout",
     "output_type": "stream",
     "text": [
      "188/188 [==============================] - 3s 14ms/step\n"
     ]
    },
    {
     "name": "stderr",
     "output_type": "stream",
     "text": [
      "2023-12-23 16:28:29.609447: I tensorflow/core/grappler/optimizers/custom_graph_optimizer_registry.cc:113] Plugin optimizer for device_type GPU is enabled.\n"
     ]
    },
    {
     "name": "stdout",
     "output_type": "stream",
     "text": [
      "188/188 [==============================] - 4s 13ms/step\n"
     ]
    },
    {
     "name": "stderr",
     "output_type": "stream",
     "text": [
      "2023-12-23 16:28:33.665325: I tensorflow/core/grappler/optimizers/custom_graph_optimizer_registry.cc:113] Plugin optimizer for device_type GPU is enabled.\n"
     ]
    },
    {
     "name": "stdout",
     "output_type": "stream",
     "text": [
      "188/188 [==============================] - 5s 15ms/step\n",
      "24/24 [==============================] - 30s 1s/step - loss: 0.5225 - accuracy: 0.8928 - val_loss: 1.5247 - val_accuracy: 0.5151\n",
      "Epoch 37/1000\n"
     ]
    },
    {
     "name": "stderr",
     "output_type": "stream",
     "text": [
      "2023-12-23 16:28:38.208277: I tensorflow/core/grappler/optimizers/custom_graph_optimizer_registry.cc:113] Plugin optimizer for device_type GPU is enabled.\n"
     ]
    },
    {
     "name": "stdout",
     "output_type": "stream",
     "text": [
      "24/24 [==============================] - ETA: 0s - loss: 0.5008 - accuracy: 0.8957"
     ]
    },
    {
     "name": "stderr",
     "output_type": "stream",
     "text": [
      "2023-12-23 16:29:02.950634: I tensorflow/core/grappler/optimizers/custom_graph_optimizer_registry.cc:113] Plugin optimizer for device_type GPU is enabled.\n"
     ]
    },
    {
     "name": "stdout",
     "output_type": "stream",
     "text": [
      "24/24 [==============================] - 30s 868ms/step - loss: 0.5008 - accuracy: 0.8957 - val_loss: 1.5232 - val_accuracy: 0.5154\n",
      "Epoch 38/1000\n",
      "24/24 [==============================] - 5s 212ms/step - loss: 0.4844 - accuracy: 0.9047 - val_loss: 1.5195 - val_accuracy: 0.5196\n",
      "Epoch 39/1000\n",
      "  1/188 [..............................] - ETA: 37sloss: 0.4618 - accuracy: 0.9113"
     ]
    },
    {
     "name": "stderr",
     "output_type": "stream",
     "text": [
      "2023-12-23 16:29:15.706888: I tensorflow/core/grappler/optimizers/custom_graph_optimizer_registry.cc:113] Plugin optimizer for device_type GPU is enabled.\n"
     ]
    },
    {
     "name": "stdout",
     "output_type": "stream",
     "text": [
      "188/188 [==============================] - 1s 2ms/step\n"
     ]
    },
    {
     "name": "stderr",
     "output_type": "stream",
     "text": [
      "2023-12-23 16:29:16.974738: I tensorflow/core/grappler/optimizers/custom_graph_optimizer_registry.cc:113] Plugin optimizer for device_type GPU is enabled.\n"
     ]
    },
    {
     "name": "stdout",
     "output_type": "stream",
     "text": [
      "188/188 [==============================] - 1s 3ms/step\n"
     ]
    },
    {
     "name": "stderr",
     "output_type": "stream",
     "text": [
      "2023-12-23 16:29:18.049039: I tensorflow/core/grappler/optimizers/custom_graph_optimizer_registry.cc:113] Plugin optimizer for device_type GPU is enabled.\n"
     ]
    },
    {
     "name": "stdout",
     "output_type": "stream",
     "text": [
      "188/188 [==============================] - 2s 5ms/step\n"
     ]
    },
    {
     "name": "stderr",
     "output_type": "stream",
     "text": [
      "2023-12-23 16:29:20.303109: I tensorflow/core/grappler/optimizers/custom_graph_optimizer_registry.cc:113] Plugin optimizer for device_type GPU is enabled.\n"
     ]
    },
    {
     "name": "stdout",
     "output_type": "stream",
     "text": [
      "188/188 [==============================] - 3s 7ms/step\n"
     ]
    },
    {
     "name": "stderr",
     "output_type": "stream",
     "text": [
      "2023-12-23 16:29:22.369886: I tensorflow/core/grappler/optimizers/custom_graph_optimizer_registry.cc:113] Plugin optimizer for device_type GPU is enabled.\n"
     ]
    },
    {
     "name": "stdout",
     "output_type": "stream",
     "text": [
      "188/188 [==============================] - 2s 6ms/step\n"
     ]
    },
    {
     "name": "stderr",
     "output_type": "stream",
     "text": [
      "2023-12-23 16:29:24.528031: I tensorflow/core/grappler/optimizers/custom_graph_optimizer_registry.cc:113] Plugin optimizer for device_type GPU is enabled.\n"
     ]
    },
    {
     "name": "stdout",
     "output_type": "stream",
     "text": [
      "188/188 [==============================] - 3s 10ms/step\n"
     ]
    },
    {
     "name": "stderr",
     "output_type": "stream",
     "text": [
      "2023-12-23 16:29:27.529417: I tensorflow/core/grappler/optimizers/custom_graph_optimizer_registry.cc:113] Plugin optimizer for device_type GPU is enabled.\n"
     ]
    },
    {
     "name": "stdout",
     "output_type": "stream",
     "text": [
      "188/188 [==============================] - 3s 11ms/step\n"
     ]
    },
    {
     "name": "stderr",
     "output_type": "stream",
     "text": [
      "2023-12-23 16:29:30.941193: I tensorflow/core/grappler/optimizers/custom_graph_optimizer_registry.cc:113] Plugin optimizer for device_type GPU is enabled.\n"
     ]
    },
    {
     "name": "stdout",
     "output_type": "stream",
     "text": [
      "188/188 [==============================] - 3s 12ms/step\n"
     ]
    },
    {
     "name": "stderr",
     "output_type": "stream",
     "text": [
      "2023-12-23 16:29:34.351046: I tensorflow/core/grappler/optimizers/custom_graph_optimizer_registry.cc:113] Plugin optimizer for device_type GPU is enabled.\n"
     ]
    },
    {
     "name": "stdout",
     "output_type": "stream",
     "text": [
      "188/188 [==============================] - 4s 14ms/step\n"
     ]
    },
    {
     "name": "stderr",
     "output_type": "stream",
     "text": [
      "2023-12-23 16:29:38.816363: I tensorflow/core/grappler/optimizers/custom_graph_optimizer_registry.cc:113] Plugin optimizer for device_type GPU is enabled.\n"
     ]
    },
    {
     "name": "stdout",
     "output_type": "stream",
     "text": [
      "188/188 [==============================] - 4s 17ms/step\n",
      "24/24 [==============================] - 30s 1s/step - loss: 0.4618 - accuracy: 0.9113 - val_loss: 1.5116 - val_accuracy: 0.5239\n",
      "Epoch 40/1000\n"
     ]
    },
    {
     "name": "stderr",
     "output_type": "stream",
     "text": [
      "2023-12-23 16:29:43.055379: I tensorflow/core/grappler/optimizers/custom_graph_optimizer_registry.cc:113] Plugin optimizer for device_type GPU is enabled.\n"
     ]
    },
    {
     "name": "stdout",
     "output_type": "stream",
     "text": [
      "24/24 [==============================] - ETA: 0s - loss: 0.4361 - accuracy: 0.9165"
     ]
    },
    {
     "name": "stderr",
     "output_type": "stream",
     "text": [
      "2023-12-23 16:30:04.988284: I tensorflow/core/grappler/optimizers/custom_graph_optimizer_registry.cc:113] Plugin optimizer for device_type GPU is enabled.\n"
     ]
    },
    {
     "name": "stdout",
     "output_type": "stream",
     "text": [
      "24/24 [==============================] - 27s 770ms/step - loss: 0.4361 - accuracy: 0.9165 - val_loss: 1.5062 - val_accuracy: 0.5252\n",
      "Epoch 41/1000\n",
      "24/24 [==============================] - 4s 179ms/step - loss: 0.4271 - accuracy: 0.9178 - val_loss: 1.5054 - val_accuracy: 0.5275\n",
      "Epoch 42/1000\n",
      "24/24 [==============================] - ETA: 0s - loss: 0.4005 - accuracy: 0.9277"
     ]
    },
    {
     "name": "stderr",
     "output_type": "stream",
     "text": [
      "2023-12-23 16:30:19.547704: I tensorflow/core/grappler/optimizers/custom_graph_optimizer_registry.cc:113] Plugin optimizer for device_type GPU is enabled.\n"
     ]
    },
    {
     "name": "stdout",
     "output_type": "stream",
     "text": [
      "188/188 [==============================] - 1s 3ms/step\n"
     ]
    },
    {
     "name": "stderr",
     "output_type": "stream",
     "text": [
      "2023-12-23 16:30:21.725441: I tensorflow/core/grappler/optimizers/custom_graph_optimizer_registry.cc:113] Plugin optimizer for device_type GPU is enabled.\n"
     ]
    },
    {
     "name": "stdout",
     "output_type": "stream",
     "text": [
      "188/188 [==============================] - 2s 5ms/step\n"
     ]
    },
    {
     "name": "stderr",
     "output_type": "stream",
     "text": [
      "2023-12-23 16:30:23.489802: I tensorflow/core/grappler/optimizers/custom_graph_optimizer_registry.cc:113] Plugin optimizer for device_type GPU is enabled.\n"
     ]
    },
    {
     "name": "stdout",
     "output_type": "stream",
     "text": [
      "188/188 [==============================] - 4s 14ms/step\n"
     ]
    },
    {
     "name": "stderr",
     "output_type": "stream",
     "text": [
      "2023-12-23 16:30:27.609047: I tensorflow/core/grappler/optimizers/custom_graph_optimizer_registry.cc:113] Plugin optimizer for device_type GPU is enabled.\n"
     ]
    },
    {
     "name": "stdout",
     "output_type": "stream",
     "text": [
      "188/188 [==============================] - 4s 10ms/step\n"
     ]
    },
    {
     "name": "stderr",
     "output_type": "stream",
     "text": [
      "2023-12-23 16:30:31.543255: I tensorflow/core/grappler/optimizers/custom_graph_optimizer_registry.cc:113] Plugin optimizer for device_type GPU is enabled.\n"
     ]
    },
    {
     "name": "stdout",
     "output_type": "stream",
     "text": [
      "188/188 [==============================] - 2s 7ms/step\n"
     ]
    },
    {
     "name": "stderr",
     "output_type": "stream",
     "text": [
      "2023-12-23 16:30:33.734925: I tensorflow/core/grappler/optimizers/custom_graph_optimizer_registry.cc:113] Plugin optimizer for device_type GPU is enabled.\n"
     ]
    },
    {
     "name": "stdout",
     "output_type": "stream",
     "text": [
      "188/188 [==============================] - 2s 7ms/step\n"
     ]
    },
    {
     "name": "stderr",
     "output_type": "stream",
     "text": [
      "2023-12-23 16:30:35.822961: I tensorflow/core/grappler/optimizers/custom_graph_optimizer_registry.cc:113] Plugin optimizer for device_type GPU is enabled.\n"
     ]
    },
    {
     "name": "stdout",
     "output_type": "stream",
     "text": [
      "188/188 [==============================] - 2s 8ms/step\n"
     ]
    },
    {
     "name": "stderr",
     "output_type": "stream",
     "text": [
      "2023-12-23 16:30:38.229247: I tensorflow/core/grappler/optimizers/custom_graph_optimizer_registry.cc:113] Plugin optimizer for device_type GPU is enabled.\n"
     ]
    },
    {
     "name": "stdout",
     "output_type": "stream",
     "text": [
      "188/188 [==============================] - 3s 9ms/step\n"
     ]
    },
    {
     "name": "stderr",
     "output_type": "stream",
     "text": [
      "2023-12-23 16:30:41.140547: I tensorflow/core/grappler/optimizers/custom_graph_optimizer_registry.cc:113] Plugin optimizer for device_type GPU is enabled.\n"
     ]
    },
    {
     "name": "stdout",
     "output_type": "stream",
     "text": [
      "188/188 [==============================] - 3s 11ms/step\n"
     ]
    },
    {
     "name": "stderr",
     "output_type": "stream",
     "text": [
      "2023-12-23 16:30:44.292437: I tensorflow/core/grappler/optimizers/custom_graph_optimizer_registry.cc:113] Plugin optimizer for device_type GPU is enabled.\n"
     ]
    },
    {
     "name": "stdout",
     "output_type": "stream",
     "text": [
      "188/188 [==============================] - 4s 12ms/step\n",
      "24/24 [==============================] - 34s 1s/step - loss: 0.4005 - accuracy: 0.9277 - val_loss: 1.5034 - val_accuracy: 0.5309\n",
      "Epoch 43/1000\n"
     ]
    },
    {
     "name": "stderr",
     "output_type": "stream",
     "text": [
      "2023-12-23 16:30:47.842048: I tensorflow/core/grappler/optimizers/custom_graph_optimizer_registry.cc:113] Plugin optimizer for device_type GPU is enabled.\n"
     ]
    },
    {
     "name": "stdout",
     "output_type": "stream",
     "text": [
      "24/24 [==============================] - ETA: 0s - loss: 0.3738 - accuracy: 0.9365"
     ]
    },
    {
     "name": "stderr",
     "output_type": "stream",
     "text": [
      "2023-12-23 16:31:05.405304: I tensorflow/core/grappler/optimizers/custom_graph_optimizer_registry.cc:113] Plugin optimizer for device_type GPU is enabled.\n"
     ]
    },
    {
     "name": "stdout",
     "output_type": "stream",
     "text": [
      "24/24 [==============================] - 22s 606ms/step - loss: 0.3738 - accuracy: 0.9365 - val_loss: 1.5028 - val_accuracy: 0.5338\n",
      "Epoch 44/1000\n",
      "24/24 [==============================] - 2s 66ms/step - loss: 0.3618 - accuracy: 0.9412 - val_loss: 1.5036 - val_accuracy: 0.5343\n",
      "Epoch 45/1000\n",
      "24/24 [==============================] - 2s 77ms/step - loss: 0.3404 - accuracy: 0.9457 - val_loss: 1.4983 - val_accuracy: 0.5360\n",
      "Epoch 46/1000\n",
      "  5/188 [..............................] - ETA: 2s loss: 0.3399 - accuracy: 0.941"
     ]
    },
    {
     "name": "stderr",
     "output_type": "stream",
     "text": [
      "2023-12-23 16:31:14.664870: I tensorflow/core/grappler/optimizers/custom_graph_optimizer_registry.cc:113] Plugin optimizer for device_type GPU is enabled.\n"
     ]
    },
    {
     "name": "stdout",
     "output_type": "stream",
     "text": [
      "188/188 [==============================] - 0s 2ms/step\n"
     ]
    },
    {
     "name": "stderr",
     "output_type": "stream",
     "text": [
      "2023-12-23 16:31:15.608163: I tensorflow/core/grappler/optimizers/custom_graph_optimizer_registry.cc:113] Plugin optimizer for device_type GPU is enabled.\n"
     ]
    },
    {
     "name": "stdout",
     "output_type": "stream",
     "text": [
      "188/188 [==============================] - 1s 2ms/step\n"
     ]
    },
    {
     "name": "stderr",
     "output_type": "stream",
     "text": [
      "2023-12-23 16:31:16.471540: I tensorflow/core/grappler/optimizers/custom_graph_optimizer_registry.cc:113] Plugin optimizer for device_type GPU is enabled.\n"
     ]
    },
    {
     "name": "stdout",
     "output_type": "stream",
     "text": [
      "188/188 [==============================] - 1s 3ms/step\n"
     ]
    },
    {
     "name": "stderr",
     "output_type": "stream",
     "text": [
      "2023-12-23 16:31:17.598543: I tensorflow/core/grappler/optimizers/custom_graph_optimizer_registry.cc:113] Plugin optimizer for device_type GPU is enabled.\n"
     ]
    },
    {
     "name": "stdout",
     "output_type": "stream",
     "text": [
      "188/188 [==============================] - 1s 5ms/step\n"
     ]
    },
    {
     "name": "stderr",
     "output_type": "stream",
     "text": [
      "2023-12-23 16:31:19.125899: I tensorflow/core/grappler/optimizers/custom_graph_optimizer_registry.cc:113] Plugin optimizer for device_type GPU is enabled.\n"
     ]
    },
    {
     "name": "stdout",
     "output_type": "stream",
     "text": [
      "188/188 [==============================] - 2s 5ms/step\n"
     ]
    },
    {
     "name": "stderr",
     "output_type": "stream",
     "text": [
      "2023-12-23 16:31:20.881117: I tensorflow/core/grappler/optimizers/custom_graph_optimizer_registry.cc:113] Plugin optimizer for device_type GPU is enabled.\n"
     ]
    },
    {
     "name": "stdout",
     "output_type": "stream",
     "text": [
      "188/188 [==============================] - 2s 6ms/step\n"
     ]
    },
    {
     "name": "stderr",
     "output_type": "stream",
     "text": [
      "2023-12-23 16:31:23.049861: I tensorflow/core/grappler/optimizers/custom_graph_optimizer_registry.cc:113] Plugin optimizer for device_type GPU is enabled.\n"
     ]
    },
    {
     "name": "stdout",
     "output_type": "stream",
     "text": [
      "188/188 [==============================] - 2s 7ms/step\n"
     ]
    },
    {
     "name": "stderr",
     "output_type": "stream",
     "text": [
      "2023-12-23 16:31:25.409407: I tensorflow/core/grappler/optimizers/custom_graph_optimizer_registry.cc:113] Plugin optimizer for device_type GPU is enabled.\n"
     ]
    },
    {
     "name": "stdout",
     "output_type": "stream",
     "text": [
      "188/188 [==============================] - 3s 10ms/step\n"
     ]
    },
    {
     "name": "stderr",
     "output_type": "stream",
     "text": [
      "2023-12-23 16:31:28.374529: I tensorflow/core/grappler/optimizers/custom_graph_optimizer_registry.cc:113] Plugin optimizer for device_type GPU is enabled.\n"
     ]
    },
    {
     "name": "stdout",
     "output_type": "stream",
     "text": [
      "188/188 [==============================] - 3s 10ms/step\n"
     ]
    },
    {
     "name": "stderr",
     "output_type": "stream",
     "text": [
      "2023-12-23 16:31:31.577263: I tensorflow/core/grappler/optimizers/custom_graph_optimizer_registry.cc:113] Plugin optimizer for device_type GPU is enabled.\n"
     ]
    },
    {
     "name": "stdout",
     "output_type": "stream",
     "text": [
      "188/188 [==============================] - 3s 11ms/step\n",
      "24/24 [==============================] - 22s 958ms/step - loss: 0.3399 - accuracy: 0.9412 - val_loss: 1.4981 - val_accuracy: 0.5370\n",
      "Epoch 47/1000\n"
     ]
    },
    {
     "name": "stderr",
     "output_type": "stream",
     "text": [
      "2023-12-23 16:31:35.025451: I tensorflow/core/grappler/optimizers/custom_graph_optimizer_registry.cc:113] Plugin optimizer for device_type GPU is enabled.\n"
     ]
    },
    {
     "name": "stdout",
     "output_type": "stream",
     "text": [
      "24/24 [==============================] - ETA: 0s - loss: 0.3262 - accuracy: 0.9452"
     ]
    },
    {
     "name": "stderr",
     "output_type": "stream",
     "text": [
      "2023-12-23 16:31:53.135930: I tensorflow/core/grappler/optimizers/custom_graph_optimizer_registry.cc:113] Plugin optimizer for device_type GPU is enabled.\n"
     ]
    },
    {
     "name": "stdout",
     "output_type": "stream",
     "text": [
      "24/24 [==============================] - 22s 657ms/step - loss: 0.3262 - accuracy: 0.9452 - val_loss: 1.4988 - val_accuracy: 0.5410\n",
      "Epoch 48/1000\n",
      "24/24 [==============================] - 2s 92ms/step - loss: 0.3007 - accuracy: 0.9555 - val_loss: 1.4959 - val_accuracy: 0.5428\n",
      "Epoch 49/1000\n",
      "24/24 [==============================] - 2s 103ms/step - loss: 0.2996 - accuracy: 0.9522 - val_loss: 1.4948 - val_accuracy: 0.5444\n",
      "Epoch 50/1000\n",
      " 60/188 [========>.....................] - ETA: 0s loss: 0.2883 - accuracy: 0.9"
     ]
    },
    {
     "name": "stderr",
     "output_type": "stream",
     "text": [
      "2023-12-23 16:32:03.276068: I tensorflow/core/grappler/optimizers/custom_graph_optimizer_registry.cc:113] Plugin optimizer for device_type GPU is enabled.\n"
     ]
    },
    {
     "name": "stdout",
     "output_type": "stream",
     "text": [
      "188/188 [==============================] - 0s 1ms/step\n",
      "  1/188 [..............................] - ETA: 33s"
     ]
    },
    {
     "name": "stderr",
     "output_type": "stream",
     "text": [
      "2023-12-23 16:32:04.063059: I tensorflow/core/grappler/optimizers/custom_graph_optimizer_registry.cc:113] Plugin optimizer for device_type GPU is enabled.\n"
     ]
    },
    {
     "name": "stdout",
     "output_type": "stream",
     "text": [
      "188/188 [==============================] - 1s 2ms/step\n"
     ]
    },
    {
     "name": "stderr",
     "output_type": "stream",
     "text": [
      "2023-12-23 16:32:04.678053: I tensorflow/core/grappler/optimizers/custom_graph_optimizer_registry.cc:113] Plugin optimizer for device_type GPU is enabled.\n"
     ]
    },
    {
     "name": "stdout",
     "output_type": "stream",
     "text": [
      "188/188 [==============================] - 1s 2ms/step\n"
     ]
    },
    {
     "name": "stderr",
     "output_type": "stream",
     "text": [
      "2023-12-23 16:32:05.986066: I tensorflow/core/grappler/optimizers/custom_graph_optimizer_registry.cc:113] Plugin optimizer for device_type GPU is enabled.\n"
     ]
    },
    {
     "name": "stdout",
     "output_type": "stream",
     "text": [
      "188/188 [==============================] - 1s 3ms/step\n",
      "  1/188 [..............................] - ETA: 34s"
     ]
    },
    {
     "name": "stderr",
     "output_type": "stream",
     "text": [
      "2023-12-23 16:32:07.232687: I tensorflow/core/grappler/optimizers/custom_graph_optimizer_registry.cc:113] Plugin optimizer for device_type GPU is enabled.\n"
     ]
    },
    {
     "name": "stdout",
     "output_type": "stream",
     "text": [
      "188/188 [==============================] - 1s 7ms/step\n"
     ]
    },
    {
     "name": "stderr",
     "output_type": "stream",
     "text": [
      "2023-12-23 16:32:08.814108: I tensorflow/core/grappler/optimizers/custom_graph_optimizer_registry.cc:113] Plugin optimizer for device_type GPU is enabled.\n"
     ]
    },
    {
     "name": "stdout",
     "output_type": "stream",
     "text": [
      "188/188 [==============================] - 2s 6ms/step\n"
     ]
    },
    {
     "name": "stderr",
     "output_type": "stream",
     "text": [
      "2023-12-23 16:32:11.036624: I tensorflow/core/grappler/optimizers/custom_graph_optimizer_registry.cc:113] Plugin optimizer for device_type GPU is enabled.\n"
     ]
    },
    {
     "name": "stdout",
     "output_type": "stream",
     "text": [
      "188/188 [==============================] - 2s 8ms/step\n"
     ]
    },
    {
     "name": "stderr",
     "output_type": "stream",
     "text": [
      "2023-12-23 16:32:13.521105: I tensorflow/core/grappler/optimizers/custom_graph_optimizer_registry.cc:113] Plugin optimizer for device_type GPU is enabled.\n"
     ]
    },
    {
     "name": "stdout",
     "output_type": "stream",
     "text": [
      "188/188 [==============================] - 3s 9ms/step\n"
     ]
    },
    {
     "name": "stderr",
     "output_type": "stream",
     "text": [
      "2023-12-23 16:32:16.369511: I tensorflow/core/grappler/optimizers/custom_graph_optimizer_registry.cc:113] Plugin optimizer for device_type GPU is enabled.\n"
     ]
    },
    {
     "name": "stdout",
     "output_type": "stream",
     "text": [
      "188/188 [==============================] - 3s 9ms/step\n"
     ]
    },
    {
     "name": "stderr",
     "output_type": "stream",
     "text": [
      "2023-12-23 16:32:19.552985: I tensorflow/core/grappler/optimizers/custom_graph_optimizer_registry.cc:113] Plugin optimizer for device_type GPU is enabled.\n"
     ]
    },
    {
     "name": "stdout",
     "output_type": "stream",
     "text": [
      "188/188 [==============================] - 3s 10ms/step\n",
      "24/24 [==============================] - 21s 903ms/step - loss: 0.2883 - accuracy: 0.9573 - val_loss: 1.4920 - val_accuracy: 0.5442\n",
      "Epoch 51/1000\n"
     ]
    },
    {
     "name": "stderr",
     "output_type": "stream",
     "text": [
      "2023-12-23 16:32:22.787719: I tensorflow/core/grappler/optimizers/custom_graph_optimizer_registry.cc:113] Plugin optimizer for device_type GPU is enabled.\n"
     ]
    },
    {
     "name": "stdout",
     "output_type": "stream",
     "text": [
      "24/24 [==============================] - ETA: 0s - loss: 0.2706 - accuracy: 0.9660"
     ]
    },
    {
     "name": "stderr",
     "output_type": "stream",
     "text": [
      "2023-12-23 16:32:34.877262: I tensorflow/core/grappler/optimizers/custom_graph_optimizer_registry.cc:113] Plugin optimizer for device_type GPU is enabled.\n"
     ]
    },
    {
     "name": "stdout",
     "output_type": "stream",
     "text": [
      "24/24 [==============================] - 16s 605ms/step - loss: 0.2706 - accuracy: 0.9660 - val_loss: 1.4911 - val_accuracy: 0.5489\n",
      "Epoch 52/1000\n",
      "24/24 [==============================] - 2s 84ms/step - loss: 0.2605 - accuracy: 0.9662 - val_loss: 1.4930 - val_accuracy: 0.5480\n",
      "Epoch 53/1000\n",
      "24/24 [==============================] - 2s 72ms/step - loss: 0.2580 - accuracy: 0.9633 - val_loss: 1.4931 - val_accuracy: 0.5492\n",
      "Epoch 54/1000\n",
      "24/24 [==============================] - 2s 67ms/step - loss: 0.2385 - accuracy: 0.9722 - val_loss: 1.4943 - val_accuracy: 0.5481\n",
      "Epoch 55/1000\n",
      " 26/188 [===>..........................] - ETA: 0s loss: 0.2290 - accuracy: 0.9"
     ]
    },
    {
     "name": "stderr",
     "output_type": "stream",
     "text": [
      "2023-12-23 16:32:45.254036: I tensorflow/core/grappler/optimizers/custom_graph_optimizer_registry.cc:113] Plugin optimizer for device_type GPU is enabled.\n"
     ]
    },
    {
     "name": "stdout",
     "output_type": "stream",
     "text": [
      "188/188 [==============================] - 0s 2ms/step\n",
      "  1/188 [..............................] - ETA: 29s"
     ]
    },
    {
     "name": "stderr",
     "output_type": "stream",
     "text": [
      "2023-12-23 16:32:46.227758: I tensorflow/core/grappler/optimizers/custom_graph_optimizer_registry.cc:113] Plugin optimizer for device_type GPU is enabled.\n"
     ]
    },
    {
     "name": "stdout",
     "output_type": "stream",
     "text": [
      "188/188 [==============================] - 1s 3ms/step\n",
      "  3/188 [..............................] - ETA: 6s "
     ]
    },
    {
     "name": "stderr",
     "output_type": "stream",
     "text": [
      "2023-12-23 16:32:46.942838: I tensorflow/core/grappler/optimizers/custom_graph_optimizer_registry.cc:113] Plugin optimizer for device_type GPU is enabled.\n"
     ]
    },
    {
     "name": "stdout",
     "output_type": "stream",
     "text": [
      "188/188 [==============================] - 1s 3ms/step\n"
     ]
    },
    {
     "name": "stderr",
     "output_type": "stream",
     "text": [
      "2023-12-23 16:32:47.689854: I tensorflow/core/grappler/optimizers/custom_graph_optimizer_registry.cc:113] Plugin optimizer for device_type GPU is enabled.\n"
     ]
    },
    {
     "name": "stdout",
     "output_type": "stream",
     "text": [
      "188/188 [==============================] - 1s 4ms/step\n"
     ]
    },
    {
     "name": "stderr",
     "output_type": "stream",
     "text": [
      "2023-12-23 16:32:49.049973: I tensorflow/core/grappler/optimizers/custom_graph_optimizer_registry.cc:113] Plugin optimizer for device_type GPU is enabled.\n"
     ]
    },
    {
     "name": "stdout",
     "output_type": "stream",
     "text": [
      "188/188 [==============================] - 2s 5ms/step\n"
     ]
    },
    {
     "name": "stderr",
     "output_type": "stream",
     "text": [
      "2023-12-23 16:32:51.054573: I tensorflow/core/grappler/optimizers/custom_graph_optimizer_registry.cc:113] Plugin optimizer for device_type GPU is enabled.\n"
     ]
    },
    {
     "name": "stdout",
     "output_type": "stream",
     "text": [
      "188/188 [==============================] - 2s 6ms/step\n"
     ]
    },
    {
     "name": "stderr",
     "output_type": "stream",
     "text": [
      "2023-12-23 16:32:53.104102: I tensorflow/core/grappler/optimizers/custom_graph_optimizer_registry.cc:113] Plugin optimizer for device_type GPU is enabled.\n"
     ]
    },
    {
     "name": "stdout",
     "output_type": "stream",
     "text": [
      "188/188 [==============================] - 2s 7ms/step\n"
     ]
    },
    {
     "name": "stderr",
     "output_type": "stream",
     "text": [
      "2023-12-23 16:32:55.503238: I tensorflow/core/grappler/optimizers/custom_graph_optimizer_registry.cc:113] Plugin optimizer for device_type GPU is enabled.\n"
     ]
    },
    {
     "name": "stdout",
     "output_type": "stream",
     "text": [
      "188/188 [==============================] - 2s 6ms/step\n"
     ]
    },
    {
     "name": "stderr",
     "output_type": "stream",
     "text": [
      "2023-12-23 16:32:57.859228: I tensorflow/core/grappler/optimizers/custom_graph_optimizer_registry.cc:113] Plugin optimizer for device_type GPU is enabled.\n"
     ]
    },
    {
     "name": "stdout",
     "output_type": "stream",
     "text": [
      "188/188 [==============================] - 3s 11ms/step\n"
     ]
    },
    {
     "name": "stderr",
     "output_type": "stream",
     "text": [
      "2023-12-23 16:33:00.500111: I tensorflow/core/grappler/optimizers/custom_graph_optimizer_registry.cc:113] Plugin optimizer for device_type GPU is enabled.\n"
     ]
    },
    {
     "name": "stdout",
     "output_type": "stream",
     "text": [
      "188/188 [==============================] - 3s 12ms/step\n",
      "24/24 [==============================] - 20s 866ms/step - loss: 0.2313 - accuracy: 0.9733 - val_loss: 1.4949 - val_accuracy: 0.5488\n",
      "Epoch 56/1000\n"
     ]
    },
    {
     "name": "stderr",
     "output_type": "stream",
     "text": [
      "2023-12-23 16:33:03.942558: I tensorflow/core/grappler/optimizers/custom_graph_optimizer_registry.cc:113] Plugin optimizer for device_type GPU is enabled.\n"
     ]
    },
    {
     "name": "stdout",
     "output_type": "stream",
     "text": [
      "24/24 [==============================] - ETA: 0s - loss: 0.2245 - accuracy: 0.9725"
     ]
    },
    {
     "name": "stderr",
     "output_type": "stream",
     "text": [
      "2023-12-23 16:33:13.898437: I tensorflow/core/grappler/optimizers/custom_graph_optimizer_registry.cc:113] Plugin optimizer for device_type GPU is enabled.\n"
     ]
    },
    {
     "name": "stdout",
     "output_type": "stream",
     "text": [
      "24/24 [==============================] - 14s 489ms/step - loss: 0.2245 - accuracy: 0.9725 - val_loss: 1.4964 - val_accuracy: 0.5520\n",
      "Epoch 57/1000\n",
      "24/24 [==============================] - 3s 119ms/step - loss: 0.2201 - accuracy: 0.9715 - val_loss: 1.4944 - val_accuracy: 0.5542\n",
      "Epoch 58/1000\n",
      "24/24 [==============================] - 2s 83ms/step - loss: 0.2147 - accuracy: 0.9760 - val_loss: 1.4973 - val_accuracy: 0.5545\n",
      "Epoch 59/1000\n",
      "24/24 [==============================] - 3s 129ms/step - loss: 0.2037 - accuracy: 0.9770 - val_loss: 1.4999 - val_accuracy: 0.5553\n",
      "Epoch 60/1000\n",
      " 19/188 [==>...........................] - ETA: 0s loss: 0.1970 - accuracy: 0.980"
     ]
    },
    {
     "name": "stderr",
     "output_type": "stream",
     "text": [
      "2023-12-23 16:33:26.884733: I tensorflow/core/grappler/optimizers/custom_graph_optimizer_registry.cc:113] Plugin optimizer for device_type GPU is enabled.\n"
     ]
    },
    {
     "name": "stdout",
     "output_type": "stream",
     "text": [
      "188/188 [==============================] - 0s 1ms/step\n"
     ]
    },
    {
     "name": "stderr",
     "output_type": "stream",
     "text": [
      "2023-12-23 16:33:27.775762: I tensorflow/core/grappler/optimizers/custom_graph_optimizer_registry.cc:113] Plugin optimizer for device_type GPU is enabled.\n"
     ]
    },
    {
     "name": "stdout",
     "output_type": "stream",
     "text": [
      "188/188 [==============================] - 1s 3ms/step\n"
     ]
    },
    {
     "name": "stderr",
     "output_type": "stream",
     "text": [
      "2023-12-23 16:33:28.680897: I tensorflow/core/grappler/optimizers/custom_graph_optimizer_registry.cc:113] Plugin optimizer for device_type GPU is enabled.\n"
     ]
    },
    {
     "name": "stdout",
     "output_type": "stream",
     "text": [
      "188/188 [==============================] - 1s 3ms/step\n"
     ]
    },
    {
     "name": "stderr",
     "output_type": "stream",
     "text": [
      "2023-12-23 16:33:29.778346: I tensorflow/core/grappler/optimizers/custom_graph_optimizer_registry.cc:113] Plugin optimizer for device_type GPU is enabled.\n"
     ]
    },
    {
     "name": "stdout",
     "output_type": "stream",
     "text": [
      "188/188 [==============================] - 1s 3ms/step\n"
     ]
    },
    {
     "name": "stderr",
     "output_type": "stream",
     "text": [
      "2023-12-23 16:33:30.993714: I tensorflow/core/grappler/optimizers/custom_graph_optimizer_registry.cc:113] Plugin optimizer for device_type GPU is enabled.\n"
     ]
    },
    {
     "name": "stdout",
     "output_type": "stream",
     "text": [
      "188/188 [==============================] - 1s 6ms/step\n"
     ]
    },
    {
     "name": "stderr",
     "output_type": "stream",
     "text": [
      "2023-12-23 16:33:32.431502: I tensorflow/core/grappler/optimizers/custom_graph_optimizer_registry.cc:113] Plugin optimizer for device_type GPU is enabled.\n"
     ]
    },
    {
     "name": "stdout",
     "output_type": "stream",
     "text": [
      "188/188 [==============================] - 2s 6ms/step\n"
     ]
    },
    {
     "name": "stderr",
     "output_type": "stream",
     "text": [
      "2023-12-23 16:33:34.428978: I tensorflow/core/grappler/optimizers/custom_graph_optimizer_registry.cc:113] Plugin optimizer for device_type GPU is enabled.\n"
     ]
    },
    {
     "name": "stdout",
     "output_type": "stream",
     "text": [
      "188/188 [==============================] - 2s 7ms/step\n"
     ]
    },
    {
     "name": "stderr",
     "output_type": "stream",
     "text": [
      "2023-12-23 16:33:36.726707: I tensorflow/core/grappler/optimizers/custom_graph_optimizer_registry.cc:113] Plugin optimizer for device_type GPU is enabled.\n"
     ]
    },
    {
     "name": "stdout",
     "output_type": "stream",
     "text": [
      "188/188 [==============================] - 3s 9ms/step\n"
     ]
    },
    {
     "name": "stderr",
     "output_type": "stream",
     "text": [
      "2023-12-23 16:33:39.630597: I tensorflow/core/grappler/optimizers/custom_graph_optimizer_registry.cc:113] Plugin optimizer for device_type GPU is enabled.\n"
     ]
    },
    {
     "name": "stdout",
     "output_type": "stream",
     "text": [
      "188/188 [==============================] - 2s 7ms/step\n"
     ]
    },
    {
     "name": "stderr",
     "output_type": "stream",
     "text": [
      "2023-12-23 16:33:42.142772: I tensorflow/core/grappler/optimizers/custom_graph_optimizer_registry.cc:113] Plugin optimizer for device_type GPU is enabled.\n"
     ]
    },
    {
     "name": "stdout",
     "output_type": "stream",
     "text": [
      "188/188 [==============================] - 2s 10ms/step\n",
      "24/24 [==============================] - 19s 829ms/step - loss: 0.1970 - accuracy: 0.9800 - val_loss: 1.4991 - val_accuracy: 0.5575\n",
      "Epoch 61/1000\n"
     ]
    },
    {
     "name": "stderr",
     "output_type": "stream",
     "text": [
      "2023-12-23 16:33:44.600593: I tensorflow/core/grappler/optimizers/custom_graph_optimizer_registry.cc:113] Plugin optimizer for device_type GPU is enabled.\n"
     ]
    },
    {
     "name": "stdout",
     "output_type": "stream",
     "text": [
      "24/24 [==============================] - ETA: 0s - loss: 0.1884 - accuracy: 0.9822"
     ]
    },
    {
     "name": "stderr",
     "output_type": "stream",
     "text": [
      "2023-12-23 16:34:03.972757: I tensorflow/core/grappler/optimizers/custom_graph_optimizer_registry.cc:113] Plugin optimizer for device_type GPU is enabled.\n"
     ]
    },
    {
     "name": "stdout",
     "output_type": "stream",
     "text": [
      "24/24 [==============================] - 24s 701ms/step - loss: 0.1884 - accuracy: 0.9822 - val_loss: 1.4954 - val_accuracy: 0.5583\n",
      "Epoch 62/1000\n",
      "24/24 [==============================] - 3s 134ms/step - loss: 0.1811 - accuracy: 0.9833 - val_loss: 1.4945 - val_accuracy: 0.5576\n",
      "Epoch 63/1000\n",
      "24/24 [==============================] - 2s 79ms/step - loss: 0.1782 - accuracy: 0.9818 - val_loss: 1.4971 - val_accuracy: 0.5589\n",
      "Epoch 64/1000\n",
      "24/24 [==============================] - 2s 68ms/step - loss: 0.1709 - accuracy: 0.9847 - val_loss: 1.4974 - val_accuracy: 0.5624\n",
      "Epoch 65/1000\n",
      "24/24 [==============================] - 2s 67ms/step - loss: 0.1653 - accuracy: 0.9865 - val_loss: 1.4993 - val_accuracy: 0.5600\n",
      "Epoch 66/1000\n",
      "  8/188 [>.............................] - ETA: 1s loss: 0.1581 - accuracy: 0.985"
     ]
    },
    {
     "name": "stderr",
     "output_type": "stream",
     "text": [
      "2023-12-23 16:34:18.525437: I tensorflow/core/grappler/optimizers/custom_graph_optimizer_registry.cc:113] Plugin optimizer for device_type GPU is enabled.\n"
     ]
    },
    {
     "name": "stdout",
     "output_type": "stream",
     "text": [
      "188/188 [==============================] - 0s 1ms/step\n"
     ]
    },
    {
     "name": "stderr",
     "output_type": "stream",
     "text": [
      "2023-12-23 16:34:19.384337: I tensorflow/core/grappler/optimizers/custom_graph_optimizer_registry.cc:113] Plugin optimizer for device_type GPU is enabled.\n"
     ]
    },
    {
     "name": "stdout",
     "output_type": "stream",
     "text": [
      "188/188 [==============================] - 1s 3ms/step\n",
      "  1/188 [..............................] - ETA: 30s"
     ]
    },
    {
     "name": "stderr",
     "output_type": "stream",
     "text": [
      "2023-12-23 16:34:20.196235: I tensorflow/core/grappler/optimizers/custom_graph_optimizer_registry.cc:113] Plugin optimizer for device_type GPU is enabled.\n"
     ]
    },
    {
     "name": "stdout",
     "output_type": "stream",
     "text": [
      "188/188 [==============================] - 1s 3ms/step\n"
     ]
    },
    {
     "name": "stderr",
     "output_type": "stream",
     "text": [
      "2023-12-23 16:34:21.506758: I tensorflow/core/grappler/optimizers/custom_graph_optimizer_registry.cc:113] Plugin optimizer for device_type GPU is enabled.\n"
     ]
    },
    {
     "name": "stdout",
     "output_type": "stream",
     "text": [
      "188/188 [==============================] - 2s 4ms/step\n"
     ]
    },
    {
     "name": "stderr",
     "output_type": "stream",
     "text": [
      "2023-12-23 16:34:22.933370: I tensorflow/core/grappler/optimizers/custom_graph_optimizer_registry.cc:113] Plugin optimizer for device_type GPU is enabled.\n"
     ]
    },
    {
     "name": "stdout",
     "output_type": "stream",
     "text": [
      "188/188 [==============================] - 2s 5ms/step\n"
     ]
    },
    {
     "name": "stderr",
     "output_type": "stream",
     "text": [
      "2023-12-23 16:34:24.736263: I tensorflow/core/grappler/optimizers/custom_graph_optimizer_registry.cc:113] Plugin optimizer for device_type GPU is enabled.\n"
     ]
    },
    {
     "name": "stdout",
     "output_type": "stream",
     "text": [
      "188/188 [==============================] - 2s 7ms/step\n"
     ]
    },
    {
     "name": "stderr",
     "output_type": "stream",
     "text": [
      "2023-12-23 16:34:26.938616: I tensorflow/core/grappler/optimizers/custom_graph_optimizer_registry.cc:113] Plugin optimizer for device_type GPU is enabled.\n"
     ]
    },
    {
     "name": "stdout",
     "output_type": "stream",
     "text": [
      "188/188 [==============================] - 2s 7ms/step\n"
     ]
    },
    {
     "name": "stderr",
     "output_type": "stream",
     "text": [
      "2023-12-23 16:34:29.215432: I tensorflow/core/grappler/optimizers/custom_graph_optimizer_registry.cc:113] Plugin optimizer for device_type GPU is enabled.\n"
     ]
    },
    {
     "name": "stdout",
     "output_type": "stream",
     "text": [
      "188/188 [==============================] - 2s 8ms/step\n"
     ]
    },
    {
     "name": "stderr",
     "output_type": "stream",
     "text": [
      "2023-12-23 16:34:31.217509: I tensorflow/core/grappler/optimizers/custom_graph_optimizer_registry.cc:113] Plugin optimizer for device_type GPU is enabled.\n"
     ]
    },
    {
     "name": "stdout",
     "output_type": "stream",
     "text": [
      "188/188 [==============================] - 3s 8ms/step\n"
     ]
    },
    {
     "name": "stderr",
     "output_type": "stream",
     "text": [
      "2023-12-23 16:34:34.047055: I tensorflow/core/grappler/optimizers/custom_graph_optimizer_registry.cc:113] Plugin optimizer for device_type GPU is enabled.\n"
     ]
    },
    {
     "name": "stdout",
     "output_type": "stream",
     "text": [
      "188/188 [==============================] - 3s 9ms/step\n",
      "24/24 [==============================] - 20s 876ms/step - loss: 0.1581 - accuracy: 0.9852 - val_loss: 1.5017 - val_accuracy: 0.5619\n",
      "Epoch 67/1000\n"
     ]
    },
    {
     "name": "stderr",
     "output_type": "stream",
     "text": [
      "2023-12-23 16:34:37.189757: I tensorflow/core/grappler/optimizers/custom_graph_optimizer_registry.cc:113] Plugin optimizer for device_type GPU is enabled.\n"
     ]
    },
    {
     "name": "stdout",
     "output_type": "stream",
     "text": [
      "24/24 [==============================] - ETA: 0s - loss: 0.1530 - accuracy: 0.9883"
     ]
    },
    {
     "name": "stderr",
     "output_type": "stream",
     "text": [
      "2023-12-23 16:34:55.679199: I tensorflow/core/grappler/optimizers/custom_graph_optimizer_registry.cc:113] Plugin optimizer for device_type GPU is enabled.\n"
     ]
    },
    {
     "name": "stdout",
     "output_type": "stream",
     "text": [
      "24/24 [==============================] - 23s 681ms/step - loss: 0.1530 - accuracy: 0.9883 - val_loss: 1.5022 - val_accuracy: 0.5650\n",
      "Epoch 68/1000\n",
      "24/24 [==============================] - 2s 70ms/step - loss: 0.1503 - accuracy: 0.9865 - val_loss: 1.5045 - val_accuracy: 0.5636\n",
      "Epoch 69/1000\n",
      "24/24 [==============================] - 1s 61ms/step - loss: 0.1407 - accuracy: 0.9908 - val_loss: 1.5017 - val_accuracy: 0.5637\n",
      "Epoch 70/1000\n",
      "24/24 [==============================] - 4s 158ms/step - loss: 0.1351 - accuracy: 0.9905 - val_loss: 1.5020 - val_accuracy: 0.5660\n",
      "Epoch 71/1000\n",
      "24/24 [==============================] - 2s 73ms/step - loss: 0.1353 - accuracy: 0.9882 - val_loss: 1.5025 - val_accuracy: 0.5679\n",
      "Epoch 72/1000\n",
      " 59/188 [========>.....................] - ETA: 0s loss: 0.1256 - accuracy: 0.9"
     ]
    },
    {
     "name": "stderr",
     "output_type": "stream",
     "text": [
      "2023-12-23 16:35:10.100560: I tensorflow/core/grappler/optimizers/custom_graph_optimizer_registry.cc:113] Plugin optimizer for device_type GPU is enabled.\n"
     ]
    },
    {
     "name": "stdout",
     "output_type": "stream",
     "text": [
      "188/188 [==============================] - 0s 1ms/step\n"
     ]
    },
    {
     "name": "stderr",
     "output_type": "stream",
     "text": [
      "2023-12-23 16:35:11.016646: I tensorflow/core/grappler/optimizers/custom_graph_optimizer_registry.cc:113] Plugin optimizer for device_type GPU is enabled.\n"
     ]
    },
    {
     "name": "stdout",
     "output_type": "stream",
     "text": [
      "188/188 [==============================] - 1s 2ms/step\n"
     ]
    },
    {
     "name": "stderr",
     "output_type": "stream",
     "text": [
      "2023-12-23 16:35:11.793432: I tensorflow/core/grappler/optimizers/custom_graph_optimizer_registry.cc:113] Plugin optimizer for device_type GPU is enabled.\n"
     ]
    },
    {
     "name": "stdout",
     "output_type": "stream",
     "text": [
      "188/188 [==============================] - 1s 3ms/step\n"
     ]
    },
    {
     "name": "stderr",
     "output_type": "stream",
     "text": [
      "2023-12-23 16:35:12.863721: I tensorflow/core/grappler/optimizers/custom_graph_optimizer_registry.cc:113] Plugin optimizer for device_type GPU is enabled.\n"
     ]
    },
    {
     "name": "stdout",
     "output_type": "stream",
     "text": [
      "188/188 [==============================] - 2s 5ms/step\n"
     ]
    },
    {
     "name": "stderr",
     "output_type": "stream",
     "text": [
      "2023-12-23 16:35:14.488907: I tensorflow/core/grappler/optimizers/custom_graph_optimizer_registry.cc:113] Plugin optimizer for device_type GPU is enabled.\n"
     ]
    },
    {
     "name": "stdout",
     "output_type": "stream",
     "text": [
      "188/188 [==============================] - 2s 5ms/step\n"
     ]
    },
    {
     "name": "stderr",
     "output_type": "stream",
     "text": [
      "2023-12-23 16:35:16.309333: I tensorflow/core/grappler/optimizers/custom_graph_optimizer_registry.cc:113] Plugin optimizer for device_type GPU is enabled.\n"
     ]
    },
    {
     "name": "stdout",
     "output_type": "stream",
     "text": [
      "188/188 [==============================] - 2s 5ms/step\n"
     ]
    },
    {
     "name": "stderr",
     "output_type": "stream",
     "text": [
      "2023-12-23 16:35:18.135699: I tensorflow/core/grappler/optimizers/custom_graph_optimizer_registry.cc:113] Plugin optimizer for device_type GPU is enabled.\n"
     ]
    },
    {
     "name": "stdout",
     "output_type": "stream",
     "text": [
      "188/188 [==============================] - 2s 10ms/step\n"
     ]
    },
    {
     "name": "stderr",
     "output_type": "stream",
     "text": [
      "2023-12-23 16:35:20.376567: I tensorflow/core/grappler/optimizers/custom_graph_optimizer_registry.cc:113] Plugin optimizer for device_type GPU is enabled.\n"
     ]
    },
    {
     "name": "stdout",
     "output_type": "stream",
     "text": [
      "188/188 [==============================] - 3s 9ms/step\n"
     ]
    },
    {
     "name": "stderr",
     "output_type": "stream",
     "text": [
      "2023-12-23 16:35:23.414756: I tensorflow/core/grappler/optimizers/custom_graph_optimizer_registry.cc:113] Plugin optimizer for device_type GPU is enabled.\n"
     ]
    },
    {
     "name": "stdout",
     "output_type": "stream",
     "text": [
      "188/188 [==============================] - 3s 11ms/step\n"
     ]
    },
    {
     "name": "stderr",
     "output_type": "stream",
     "text": [
      "2023-12-23 16:35:26.736560: I tensorflow/core/grappler/optimizers/custom_graph_optimizer_registry.cc:113] Plugin optimizer for device_type GPU is enabled.\n"
     ]
    },
    {
     "name": "stdout",
     "output_type": "stream",
     "text": [
      "188/188 [==============================] - 4s 11ms/step\n",
      "24/24 [==============================] - 22s 963ms/step - loss: 0.1256 - accuracy: 0.9932 - val_loss: 1.5024 - val_accuracy: 0.5681\n",
      "Epoch 73/1000\n"
     ]
    },
    {
     "name": "stderr",
     "output_type": "stream",
     "text": [
      "2023-12-23 16:35:30.419749: I tensorflow/core/grappler/optimizers/custom_graph_optimizer_registry.cc:113] Plugin optimizer for device_type GPU is enabled.\n"
     ]
    },
    {
     "name": "stdout",
     "output_type": "stream",
     "text": [
      "24/24 [==============================] - ETA: 0s - loss: 0.1240 - accuracy: 0.9908"
     ]
    },
    {
     "name": "stderr",
     "output_type": "stream",
     "text": [
      "2023-12-23 16:35:46.433089: I tensorflow/core/grappler/optimizers/custom_graph_optimizer_registry.cc:113] Plugin optimizer for device_type GPU is enabled.\n"
     ]
    },
    {
     "name": "stdout",
     "output_type": "stream",
     "text": [
      "24/24 [==============================] - 21s 758ms/step - loss: 0.1240 - accuracy: 0.9908 - val_loss: 1.5050 - val_accuracy: 0.5693\n",
      "Epoch 74/1000\n",
      "24/24 [==============================] - 2s 95ms/step - loss: 0.1186 - accuracy: 0.9928 - val_loss: 1.5053 - val_accuracy: 0.5703\n",
      "Epoch 75/1000\n",
      "24/24 [==============================] - 3s 148ms/step - loss: 0.1143 - accuracy: 0.9932 - val_loss: 1.5062 - val_accuracy: 0.5688\n",
      "Epoch 76/1000\n",
      "24/24 [==============================] - 1s 58ms/step - loss: 0.1209 - accuracy: 0.9897 - val_loss: 1.5089 - val_accuracy: 0.5704\n",
      "Epoch 77/1000\n",
      "24/24 [==============================] - 2s 92ms/step - loss: 0.1106 - accuracy: 0.9945 - val_loss: 1.5139 - val_accuracy: 0.5719\n",
      "Epoch 78/1000\n",
      "24/24 [==============================] - 3s 109ms/step - loss: 0.1138 - accuracy: 0.9912 - val_loss: 1.5125 - val_accuracy: 0.5715\n",
      "Epoch 79/1000\n",
      "23/24 [===========================>..] - ETA: 0s - loss: 0.1025 - accuracy: 0.9939"
     ]
    },
    {
     "name": "stderr",
     "output_type": "stream",
     "text": [
      "2023-12-23 16:36:04.424962: I tensorflow/core/grappler/optimizers/custom_graph_optimizer_registry.cc:113] Plugin optimizer for device_type GPU is enabled.\n"
     ]
    },
    {
     "name": "stdout",
     "output_type": "stream",
     "text": [
      "188/188 [==============================] - 1s 2ms/step\n"
     ]
    },
    {
     "name": "stderr",
     "output_type": "stream",
     "text": [
      "2023-12-23 16:36:05.676999: I tensorflow/core/grappler/optimizers/custom_graph_optimizer_registry.cc:113] Plugin optimizer for device_type GPU is enabled.\n"
     ]
    },
    {
     "name": "stdout",
     "output_type": "stream",
     "text": [
      "188/188 [==============================] - 1s 3ms/step\n"
     ]
    },
    {
     "name": "stderr",
     "output_type": "stream",
     "text": [
      "2023-12-23 16:36:07.132022: I tensorflow/core/grappler/optimizers/custom_graph_optimizer_registry.cc:113] Plugin optimizer for device_type GPU is enabled.\n"
     ]
    },
    {
     "name": "stdout",
     "output_type": "stream",
     "text": [
      "188/188 [==============================] - 2s 5ms/step\n"
     ]
    },
    {
     "name": "stderr",
     "output_type": "stream",
     "text": [
      "2023-12-23 16:36:08.858562: I tensorflow/core/grappler/optimizers/custom_graph_optimizer_registry.cc:113] Plugin optimizer for device_type GPU is enabled.\n"
     ]
    },
    {
     "name": "stdout",
     "output_type": "stream",
     "text": [
      "188/188 [==============================] - 2s 5ms/step\n"
     ]
    },
    {
     "name": "stderr",
     "output_type": "stream",
     "text": [
      "2023-12-23 16:36:10.445954: I tensorflow/core/grappler/optimizers/custom_graph_optimizer_registry.cc:113] Plugin optimizer for device_type GPU is enabled.\n"
     ]
    },
    {
     "name": "stdout",
     "output_type": "stream",
     "text": [
      "188/188 [==============================] - 2s 6ms/step\n"
     ]
    },
    {
     "name": "stderr",
     "output_type": "stream",
     "text": [
      "2023-12-23 16:36:12.298280: I tensorflow/core/grappler/optimizers/custom_graph_optimizer_registry.cc:113] Plugin optimizer for device_type GPU is enabled.\n"
     ]
    },
    {
     "name": "stdout",
     "output_type": "stream",
     "text": [
      "188/188 [==============================] - 2s 7ms/step\n"
     ]
    },
    {
     "name": "stderr",
     "output_type": "stream",
     "text": [
      "2023-12-23 16:36:14.518484: I tensorflow/core/grappler/optimizers/custom_graph_optimizer_registry.cc:113] Plugin optimizer for device_type GPU is enabled.\n"
     ]
    },
    {
     "name": "stdout",
     "output_type": "stream",
     "text": [
      "188/188 [==============================] - 3s 8ms/step\n"
     ]
    },
    {
     "name": "stderr",
     "output_type": "stream",
     "text": [
      "2023-12-23 16:36:17.161416: I tensorflow/core/grappler/optimizers/custom_graph_optimizer_registry.cc:113] Plugin optimizer for device_type GPU is enabled.\n"
     ]
    },
    {
     "name": "stdout",
     "output_type": "stream",
     "text": [
      "188/188 [==============================] - 3s 12ms/step\n"
     ]
    },
    {
     "name": "stderr",
     "output_type": "stream",
     "text": [
      "2023-12-23 16:36:20.753978: I tensorflow/core/grappler/optimizers/custom_graph_optimizer_registry.cc:113] Plugin optimizer for device_type GPU is enabled.\n"
     ]
    },
    {
     "name": "stdout",
     "output_type": "stream",
     "text": [
      "188/188 [==============================] - 4s 12ms/step\n"
     ]
    },
    {
     "name": "stderr",
     "output_type": "stream",
     "text": [
      "2023-12-23 16:36:24.468649: I tensorflow/core/grappler/optimizers/custom_graph_optimizer_registry.cc:113] Plugin optimizer for device_type GPU is enabled.\n"
     ]
    },
    {
     "name": "stdout",
     "output_type": "stream",
     "text": [
      "188/188 [==============================] - 4s 14ms/step\n",
      "24/24 [==============================] - 26s 1s/step - loss: 0.1056 - accuracy: 0.9927 - val_loss: 1.5124 - val_accuracy: 0.5714\n",
      "Epoch 80/1000\n"
     ]
    },
    {
     "name": "stderr",
     "output_type": "stream",
     "text": [
      "2023-12-23 16:36:28.705110: I tensorflow/core/grappler/optimizers/custom_graph_optimizer_registry.cc:113] Plugin optimizer for device_type GPU is enabled.\n"
     ]
    },
    {
     "name": "stdout",
     "output_type": "stream",
     "text": [
      "24/24 [==============================] - ETA: 0s - loss: 0.1057 - accuracy: 0.9943"
     ]
    },
    {
     "name": "stderr",
     "output_type": "stream",
     "text": [
      "2023-12-23 16:36:50.421687: I tensorflow/core/grappler/optimizers/custom_graph_optimizer_registry.cc:113] Plugin optimizer for device_type GPU is enabled.\n"
     ]
    },
    {
     "name": "stdout",
     "output_type": "stream",
     "text": [
      "24/24 [==============================] - 28s 880ms/step - loss: 0.1057 - accuracy: 0.9943 - val_loss: 1.5146 - val_accuracy: 0.5733\n",
      "Epoch 81/1000\n",
      "24/24 [==============================] - 4s 149ms/step - loss: 0.1054 - accuracy: 0.9913 - val_loss: 1.5128 - val_accuracy: 0.5757\n",
      "Epoch 82/1000\n",
      "24/24 [==============================] - 2s 78ms/step - loss: 0.0947 - accuracy: 0.9958 - val_loss: 1.5060 - val_accuracy: 0.5771\n",
      "Epoch 83/1000\n",
      "24/24 [==============================] - 2s 66ms/step - loss: 0.0920 - accuracy: 0.9948 - val_loss: 1.5051 - val_accuracy: 0.5775\n",
      "Epoch 84/1000\n",
      "24/24 [==============================] - 1s 59ms/step - loss: 0.0991 - accuracy: 0.9913 - val_loss: 1.5084 - val_accuracy: 0.5815\n",
      "Epoch 85/1000\n",
      "24/24 [==============================] - 2s 100ms/step - loss: 0.0893 - accuracy: 0.9947 - val_loss: 1.5105 - val_accuracy: 0.5806\n",
      "Epoch 86/1000\n",
      "  1/188 [..............................] - ETA: 36sloss: 0.0852 - accuracy: 0.9949"
     ]
    },
    {
     "name": "stderr",
     "output_type": "stream",
     "text": [
      "2023-12-23 16:37:08.625912: I tensorflow/core/grappler/optimizers/custom_graph_optimizer_registry.cc:113] Plugin optimizer for device_type GPU is enabled.\n"
     ]
    },
    {
     "name": "stdout",
     "output_type": "stream",
     "text": [
      "188/188 [==============================] - 1s 2ms/step\n"
     ]
    },
    {
     "name": "stderr",
     "output_type": "stream",
     "text": [
      "2023-12-23 16:37:09.681687: I tensorflow/core/grappler/optimizers/custom_graph_optimizer_registry.cc:113] Plugin optimizer for device_type GPU is enabled.\n"
     ]
    },
    {
     "name": "stdout",
     "output_type": "stream",
     "text": [
      "188/188 [==============================] - 1s 3ms/step\n"
     ]
    },
    {
     "name": "stderr",
     "output_type": "stream",
     "text": [
      "2023-12-23 16:37:10.688234: I tensorflow/core/grappler/optimizers/custom_graph_optimizer_registry.cc:113] Plugin optimizer for device_type GPU is enabled.\n"
     ]
    },
    {
     "name": "stdout",
     "output_type": "stream",
     "text": [
      "188/188 [==============================] - 1s 4ms/step\n"
     ]
    },
    {
     "name": "stderr",
     "output_type": "stream",
     "text": [
      "2023-12-23 16:37:11.889034: I tensorflow/core/grappler/optimizers/custom_graph_optimizer_registry.cc:113] Plugin optimizer for device_type GPU is enabled.\n"
     ]
    },
    {
     "name": "stdout",
     "output_type": "stream",
     "text": [
      "188/188 [==============================] - 1s 5ms/step\n"
     ]
    },
    {
     "name": "stderr",
     "output_type": "stream",
     "text": [
      "2023-12-23 16:37:13.846050: I tensorflow/core/grappler/optimizers/custom_graph_optimizer_registry.cc:113] Plugin optimizer for device_type GPU is enabled.\n"
     ]
    },
    {
     "name": "stdout",
     "output_type": "stream",
     "text": [
      "188/188 [==============================] - 3s 7ms/step\n"
     ]
    },
    {
     "name": "stderr",
     "output_type": "stream",
     "text": [
      "2023-12-23 16:37:16.180850: I tensorflow/core/grappler/optimizers/custom_graph_optimizer_registry.cc:113] Plugin optimizer for device_type GPU is enabled.\n"
     ]
    },
    {
     "name": "stdout",
     "output_type": "stream",
     "text": [
      "188/188 [==============================] - 2s 8ms/step\n"
     ]
    },
    {
     "name": "stderr",
     "output_type": "stream",
     "text": [
      "2023-12-23 16:37:18.929180: I tensorflow/core/grappler/optimizers/custom_graph_optimizer_registry.cc:113] Plugin optimizer for device_type GPU is enabled.\n"
     ]
    },
    {
     "name": "stdout",
     "output_type": "stream",
     "text": [
      "188/188 [==============================] - 2s 8ms/step\n"
     ]
    },
    {
     "name": "stderr",
     "output_type": "stream",
     "text": [
      "2023-12-23 16:37:21.521347: I tensorflow/core/grappler/optimizers/custom_graph_optimizer_registry.cc:113] Plugin optimizer for device_type GPU is enabled.\n"
     ]
    },
    {
     "name": "stdout",
     "output_type": "stream",
     "text": [
      "188/188 [==============================] - 4s 12ms/step\n"
     ]
    },
    {
     "name": "stderr",
     "output_type": "stream",
     "text": [
      "2023-12-23 16:37:25.181726: I tensorflow/core/grappler/optimizers/custom_graph_optimizer_registry.cc:113] Plugin optimizer for device_type GPU is enabled.\n"
     ]
    },
    {
     "name": "stdout",
     "output_type": "stream",
     "text": [
      "188/188 [==============================] - 4s 13ms/step\n"
     ]
    },
    {
     "name": "stderr",
     "output_type": "stream",
     "text": [
      "2023-12-23 16:37:29.254612: I tensorflow/core/grappler/optimizers/custom_graph_optimizer_registry.cc:113] Plugin optimizer for device_type GPU is enabled.\n"
     ]
    },
    {
     "name": "stdout",
     "output_type": "stream",
     "text": [
      "188/188 [==============================] - 5s 16ms/step\n",
      "24/24 [==============================] - 27s 1s/step - loss: 0.0880 - accuracy: 0.9937 - val_loss: 1.5141 - val_accuracy: 0.5776\n",
      "Epoch 87/1000\n"
     ]
    },
    {
     "name": "stderr",
     "output_type": "stream",
     "text": [
      "2023-12-23 16:37:34.145746: I tensorflow/core/grappler/optimizers/custom_graph_optimizer_registry.cc:113] Plugin optimizer for device_type GPU is enabled.\n"
     ]
    },
    {
     "name": "stdout",
     "output_type": "stream",
     "text": [
      "24/24 [==============================] - ETA: 0s - loss: 0.0856 - accuracy: 0.9960"
     ]
    },
    {
     "name": "stderr",
     "output_type": "stream",
     "text": [
      "2023-12-23 16:38:09.757867: I tensorflow/core/grappler/optimizers/custom_graph_optimizer_registry.cc:113] Plugin optimizer for device_type GPU is enabled.\n"
     ]
    },
    {
     "name": "stdout",
     "output_type": "stream",
     "text": [
      "24/24 [==============================] - 41s 1s/step - loss: 0.0856 - accuracy: 0.9960 - val_loss: 1.5172 - val_accuracy: 0.5774\n",
      "Epoch 88/1000\n",
      "24/24 [==============================] - 5s 226ms/step - loss: 0.0851 - accuracy: 0.9945 - val_loss: 1.5189 - val_accuracy: 0.5797\n",
      "Epoch 89/1000\n",
      "24/24 [==============================] - 3s 133ms/step - loss: 0.0819 - accuracy: 0.9943 - val_loss: 1.5213 - val_accuracy: 0.5813\n",
      "Epoch 90/1000\n",
      "24/24 [==============================] - 3s 114ms/step - loss: 0.0806 - accuracy: 0.9952 - val_loss: 1.5200 - val_accuracy: 0.5819\n",
      "Epoch 91/1000\n",
      "24/24 [==============================] - 2s 90ms/step - loss: 0.0791 - accuracy: 0.9960 - val_loss: 1.5226 - val_accuracy: 0.5831\n",
      "Epoch 92/1000\n",
      "24/24 [==============================] - 2s 78ms/step - loss: 0.0778 - accuracy: 0.9955 - val_loss: 1.5254 - val_accuracy: 0.5842\n",
      "Epoch 93/1000\n",
      "24/24 [==============================] - 2s 79ms/step - loss: 0.0806 - accuracy: 0.9938 - val_loss: 1.5231 - val_accuracy: 0.5854\n",
      "Epoch 94/1000\n",
      "23/24 [===========================>..] - ETA: 0s - loss: 0.0715 - accuracy: 0.9968"
     ]
    },
    {
     "name": "stderr",
     "output_type": "stream",
     "text": [
      "2023-12-23 16:38:33.634654: I tensorflow/core/grappler/optimizers/custom_graph_optimizer_registry.cc:113] Plugin optimizer for device_type GPU is enabled.\n"
     ]
    },
    {
     "name": "stdout",
     "output_type": "stream",
     "text": [
      "188/188 [==============================] - 1s 3ms/step\n"
     ]
    },
    {
     "name": "stderr",
     "output_type": "stream",
     "text": [
      "2023-12-23 16:38:35.047388: I tensorflow/core/grappler/optimizers/custom_graph_optimizer_registry.cc:113] Plugin optimizer for device_type GPU is enabled.\n"
     ]
    },
    {
     "name": "stdout",
     "output_type": "stream",
     "text": [
      "188/188 [==============================] - 1s 3ms/step\n"
     ]
    },
    {
     "name": "stderr",
     "output_type": "stream",
     "text": [
      "2023-12-23 16:38:36.289977: I tensorflow/core/grappler/optimizers/custom_graph_optimizer_registry.cc:113] Plugin optimizer for device_type GPU is enabled.\n"
     ]
    },
    {
     "name": "stdout",
     "output_type": "stream",
     "text": [
      "188/188 [==============================] - 2s 5ms/step\n"
     ]
    },
    {
     "name": "stderr",
     "output_type": "stream",
     "text": [
      "2023-12-23 16:38:38.182766: I tensorflow/core/grappler/optimizers/custom_graph_optimizer_registry.cc:113] Plugin optimizer for device_type GPU is enabled.\n"
     ]
    },
    {
     "name": "stdout",
     "output_type": "stream",
     "text": [
      "188/188 [==============================] - 2s 9ms/step\n"
     ]
    },
    {
     "name": "stderr",
     "output_type": "stream",
     "text": [
      "2023-12-23 16:38:40.673429: I tensorflow/core/grappler/optimizers/custom_graph_optimizer_registry.cc:113] Plugin optimizer for device_type GPU is enabled.\n"
     ]
    },
    {
     "name": "stdout",
     "output_type": "stream",
     "text": [
      "188/188 [==============================] - 3s 8ms/step\n"
     ]
    },
    {
     "name": "stderr",
     "output_type": "stream",
     "text": [
      "2023-12-23 16:38:43.711232: I tensorflow/core/grappler/optimizers/custom_graph_optimizer_registry.cc:113] Plugin optimizer for device_type GPU is enabled.\n"
     ]
    },
    {
     "name": "stdout",
     "output_type": "stream",
     "text": [
      "188/188 [==============================] - 3s 13ms/step\n"
     ]
    },
    {
     "name": "stderr",
     "output_type": "stream",
     "text": [
      "2023-12-23 16:38:47.253892: I tensorflow/core/grappler/optimizers/custom_graph_optimizer_registry.cc:113] Plugin optimizer for device_type GPU is enabled.\n"
     ]
    },
    {
     "name": "stdout",
     "output_type": "stream",
     "text": [
      "188/188 [==============================] - 6s 27ms/step\n"
     ]
    },
    {
     "name": "stderr",
     "output_type": "stream",
     "text": [
      "2023-12-23 16:38:53.888096: I tensorflow/core/grappler/optimizers/custom_graph_optimizer_registry.cc:113] Plugin optimizer for device_type GPU is enabled.\n"
     ]
    },
    {
     "name": "stdout",
     "output_type": "stream",
     "text": [
      "188/188 [==============================] - 5s 14ms/step\n"
     ]
    },
    {
     "name": "stderr",
     "output_type": "stream",
     "text": [
      "2023-12-23 16:38:59.231460: I tensorflow/core/grappler/optimizers/custom_graph_optimizer_registry.cc:113] Plugin optimizer for device_type GPU is enabled.\n"
     ]
    },
    {
     "name": "stdout",
     "output_type": "stream",
     "text": [
      "188/188 [==============================] - 4s 13ms/step\n"
     ]
    },
    {
     "name": "stderr",
     "output_type": "stream",
     "text": [
      "2023-12-23 16:39:03.769751: I tensorflow/core/grappler/optimizers/custom_graph_optimizer_registry.cc:113] Plugin optimizer for device_type GPU is enabled.\n"
     ]
    },
    {
     "name": "stdout",
     "output_type": "stream",
     "text": [
      "188/188 [==============================] - 4s 11ms/step\n",
      "24/24 [==============================] - 36s 2s/step - loss: 0.0725 - accuracy: 0.9967 - val_loss: 1.5240 - val_accuracy: 0.5865\n",
      "Epoch 95/1000\n"
     ]
    },
    {
     "name": "stderr",
     "output_type": "stream",
     "text": [
      "2023-12-23 16:39:08.202994: I tensorflow/core/grappler/optimizers/custom_graph_optimizer_registry.cc:113] Plugin optimizer for device_type GPU is enabled.\n"
     ]
    },
    {
     "name": "stdout",
     "output_type": "stream",
     "text": [
      "24/24 [==============================] - ETA: 0s - loss: 0.0749 - accuracy: 0.9952"
     ]
    },
    {
     "name": "stderr",
     "output_type": "stream",
     "text": [
      "2023-12-23 16:39:31.784646: I tensorflow/core/grappler/optimizers/custom_graph_optimizer_registry.cc:113] Plugin optimizer for device_type GPU is enabled.\n"
     ]
    },
    {
     "name": "stdout",
     "output_type": "stream",
     "text": [
      "24/24 [==============================] - 29s 720ms/step - loss: 0.0749 - accuracy: 0.9952 - val_loss: 1.5231 - val_accuracy: 0.5857\n",
      "Epoch 96/1000\n",
      "24/24 [==============================] - 3s 113ms/step - loss: 0.0681 - accuracy: 0.9957 - val_loss: 1.5230 - val_accuracy: 0.5884\n",
      "Epoch 97/1000\n",
      "24/24 [==============================] - 2s 69ms/step - loss: 0.0634 - accuracy: 0.9973 - val_loss: 1.5216 - val_accuracy: 0.5883\n",
      "Epoch 98/1000\n",
      "24/24 [==============================] - 1s 50ms/step - loss: 0.0636 - accuracy: 0.9977 - val_loss: 1.5230 - val_accuracy: 0.5901\n",
      "Epoch 99/1000\n",
      "24/24 [==============================] - 2s 88ms/step - loss: 0.0682 - accuracy: 0.9960 - val_loss: 1.5255 - val_accuracy: 0.5886\n",
      "Epoch 100/1000\n",
      "24/24 [==============================] - 2s 94ms/step - loss: 0.0653 - accuracy: 0.9973 - val_loss: 1.5241 - val_accuracy: 0.5920\n",
      "Epoch 101/1000\n",
      "24/24 [==============================] - 1s 61ms/step - loss: 0.0624 - accuracy: 0.9972 - val_loss: 1.5242 - val_accuracy: 0.5905\n",
      "Epoch 102/1000\n",
      "24/24 [==============================] - 2s 93ms/step - loss: 0.0589 - accuracy: 0.9975 - val_loss: 1.5232 - val_accuracy: 0.5914\n",
      "Epoch 103/1000\n",
      "  1/188 [..............................] - ETA: 31sloss: 0.0594 - accuracy: 0.9970"
     ]
    },
    {
     "name": "stderr",
     "output_type": "stream",
     "text": [
      "2023-12-23 16:39:51.545430: I tensorflow/core/grappler/optimizers/custom_graph_optimizer_registry.cc:113] Plugin optimizer for device_type GPU is enabled.\n"
     ]
    },
    {
     "name": "stdout",
     "output_type": "stream",
     "text": [
      "188/188 [==============================] - 1s 2ms/step\n"
     ]
    },
    {
     "name": "stderr",
     "output_type": "stream",
     "text": [
      "2023-12-23 16:39:52.768130: I tensorflow/core/grappler/optimizers/custom_graph_optimizer_registry.cc:113] Plugin optimizer for device_type GPU is enabled.\n"
     ]
    },
    {
     "name": "stdout",
     "output_type": "stream",
     "text": [
      "188/188 [==============================] - 1s 3ms/step\n"
     ]
    },
    {
     "name": "stderr",
     "output_type": "stream",
     "text": [
      "2023-12-23 16:39:53.602460: I tensorflow/core/grappler/optimizers/custom_graph_optimizer_registry.cc:113] Plugin optimizer for device_type GPU is enabled.\n"
     ]
    },
    {
     "name": "stdout",
     "output_type": "stream",
     "text": [
      "188/188 [==============================] - 1s 4ms/step\n"
     ]
    },
    {
     "name": "stderr",
     "output_type": "stream",
     "text": [
      "2023-12-23 16:39:54.730747: I tensorflow/core/grappler/optimizers/custom_graph_optimizer_registry.cc:113] Plugin optimizer for device_type GPU is enabled.\n"
     ]
    },
    {
     "name": "stdout",
     "output_type": "stream",
     "text": [
      "188/188 [==============================] - 1s 5ms/step\n"
     ]
    },
    {
     "name": "stderr",
     "output_type": "stream",
     "text": [
      "2023-12-23 16:39:56.184662: I tensorflow/core/grappler/optimizers/custom_graph_optimizer_registry.cc:113] Plugin optimizer for device_type GPU is enabled.\n"
     ]
    },
    {
     "name": "stdout",
     "output_type": "stream",
     "text": [
      "188/188 [==============================] - 3s 8ms/step\n"
     ]
    },
    {
     "name": "stderr",
     "output_type": "stream",
     "text": [
      "2023-12-23 16:39:58.931452: I tensorflow/core/grappler/optimizers/custom_graph_optimizer_registry.cc:113] Plugin optimizer for device_type GPU is enabled.\n"
     ]
    },
    {
     "name": "stdout",
     "output_type": "stream",
     "text": [
      "188/188 [==============================] - 3s 8ms/step\n"
     ]
    },
    {
     "name": "stderr",
     "output_type": "stream",
     "text": [
      "2023-12-23 16:40:01.940004: I tensorflow/core/grappler/optimizers/custom_graph_optimizer_registry.cc:113] Plugin optimizer for device_type GPU is enabled.\n"
     ]
    },
    {
     "name": "stdout",
     "output_type": "stream",
     "text": [
      "188/188 [==============================] - 3s 9ms/step\n"
     ]
    },
    {
     "name": "stderr",
     "output_type": "stream",
     "text": [
      "2023-12-23 16:40:04.613696: I tensorflow/core/grappler/optimizers/custom_graph_optimizer_registry.cc:113] Plugin optimizer for device_type GPU is enabled.\n"
     ]
    },
    {
     "name": "stdout",
     "output_type": "stream",
     "text": [
      "188/188 [==============================] - 3s 8ms/step\n"
     ]
    },
    {
     "name": "stderr",
     "output_type": "stream",
     "text": [
      "2023-12-23 16:40:07.941570: I tensorflow/core/grappler/optimizers/custom_graph_optimizer_registry.cc:113] Plugin optimizer for device_type GPU is enabled.\n"
     ]
    },
    {
     "name": "stdout",
     "output_type": "stream",
     "text": [
      "188/188 [==============================] - 4s 10ms/step\n"
     ]
    },
    {
     "name": "stderr",
     "output_type": "stream",
     "text": [
      "2023-12-23 16:40:11.923889: I tensorflow/core/grappler/optimizers/custom_graph_optimizer_registry.cc:113] Plugin optimizer for device_type GPU is enabled.\n"
     ]
    },
    {
     "name": "stdout",
     "output_type": "stream",
     "text": [
      "188/188 [==============================] - 5s 13ms/step\n",
      "24/24 [==============================] - 26s 1s/step - loss: 0.0594 - accuracy: 0.9970 - val_loss: 1.5248 - val_accuracy: 0.5910\n",
      "Epoch 104/1000\n"
     ]
    },
    {
     "name": "stderr",
     "output_type": "stream",
     "text": [
      "2023-12-23 16:40:16.506426: I tensorflow/core/grappler/optimizers/custom_graph_optimizer_registry.cc:113] Plugin optimizer for device_type GPU is enabled.\n"
     ]
    },
    {
     "name": "stdout",
     "output_type": "stream",
     "text": [
      "24/24 [==============================] - ETA: 0s - loss: 0.0545 - accuracy: 0.9978"
     ]
    },
    {
     "name": "stderr",
     "output_type": "stream",
     "text": [
      "2023-12-23 16:40:44.089699: I tensorflow/core/grappler/optimizers/custom_graph_optimizer_registry.cc:113] Plugin optimizer for device_type GPU is enabled.\n"
     ]
    },
    {
     "name": "stdout",
     "output_type": "stream",
     "text": [
      "24/24 [==============================] - 35s 969ms/step - loss: 0.0545 - accuracy: 0.9978 - val_loss: 1.5252 - val_accuracy: 0.5915\n",
      "Epoch 105/1000\n",
      "24/24 [==============================] - 2s 98ms/step - loss: 0.0523 - accuracy: 0.9985 - val_loss: 1.5261 - val_accuracy: 0.5933\n",
      "Epoch 106/1000\n",
      "24/24 [==============================] - 3s 127ms/step - loss: 0.0577 - accuracy: 0.9963 - val_loss: 1.5263 - val_accuracy: 0.5934\n",
      "Epoch 107/1000\n",
      "24/24 [==============================] - 2s 91ms/step - loss: 0.0561 - accuracy: 0.9963 - val_loss: 1.5277 - val_accuracy: 0.5926\n",
      "Epoch 108/1000\n",
      "24/24 [==============================] - 1s 55ms/step - loss: 0.0544 - accuracy: 0.9968 - val_loss: 1.5312 - val_accuracy: 0.5939\n",
      "Epoch 109/1000\n",
      "24/24 [==============================] - 1s 48ms/step - loss: 0.0511 - accuracy: 0.9977 - val_loss: 1.5315 - val_accuracy: 0.5932\n",
      "Epoch 110/1000\n",
      "24/24 [==============================] - 3s 122ms/step - loss: 0.0505 - accuracy: 0.9982 - val_loss: 1.5322 - val_accuracy: 0.5959\n",
      "Epoch 111/1000\n",
      "24/24 [==============================] - 3s 132ms/step - loss: 0.0487 - accuracy: 0.9982 - val_loss: 1.5317 - val_accuracy: 0.5959\n",
      "Epoch 112/1000\n",
      "24/24 [==============================] - 1s 46ms/step - loss: 0.0506 - accuracy: 0.9978 - val_loss: 1.5331 - val_accuracy: 0.5951\n",
      "Epoch 113/1000\n",
      "  1/188 [..............................] - ETA: 27sloss: 0.0471 - accuracy: 0.9967"
     ]
    },
    {
     "name": "stderr",
     "output_type": "stream",
     "text": [
      "2023-12-23 16:41:09.738884: I tensorflow/core/grappler/optimizers/custom_graph_optimizer_registry.cc:113] Plugin optimizer for device_type GPU is enabled.\n"
     ]
    },
    {
     "name": "stdout",
     "output_type": "stream",
     "text": [
      "188/188 [==============================] - 1s 2ms/step\n"
     ]
    },
    {
     "name": "stderr",
     "output_type": "stream",
     "text": [
      "2023-12-23 16:41:10.877913: I tensorflow/core/grappler/optimizers/custom_graph_optimizer_registry.cc:113] Plugin optimizer for device_type GPU is enabled.\n"
     ]
    },
    {
     "name": "stdout",
     "output_type": "stream",
     "text": [
      "188/188 [==============================] - 1s 4ms/step\n"
     ]
    },
    {
     "name": "stderr",
     "output_type": "stream",
     "text": [
      "2023-12-23 16:41:12.009388: I tensorflow/core/grappler/optimizers/custom_graph_optimizer_registry.cc:113] Plugin optimizer for device_type GPU is enabled.\n"
     ]
    },
    {
     "name": "stdout",
     "output_type": "stream",
     "text": [
      "188/188 [==============================] - 1s 4ms/step\n"
     ]
    },
    {
     "name": "stderr",
     "output_type": "stream",
     "text": [
      "2023-12-23 16:41:13.506646: I tensorflow/core/grappler/optimizers/custom_graph_optimizer_registry.cc:113] Plugin optimizer for device_type GPU is enabled.\n"
     ]
    },
    {
     "name": "stdout",
     "output_type": "stream",
     "text": [
      "188/188 [==============================] - 2s 4ms/step\n"
     ]
    },
    {
     "name": "stderr",
     "output_type": "stream",
     "text": [
      "2023-12-23 16:41:15.314548: I tensorflow/core/grappler/optimizers/custom_graph_optimizer_registry.cc:113] Plugin optimizer for device_type GPU is enabled.\n"
     ]
    },
    {
     "name": "stdout",
     "output_type": "stream",
     "text": [
      "188/188 [==============================] - 2s 5ms/step\n"
     ]
    },
    {
     "name": "stderr",
     "output_type": "stream",
     "text": [
      "2023-12-23 16:41:17.983814: I tensorflow/core/grappler/optimizers/custom_graph_optimizer_registry.cc:113] Plugin optimizer for device_type GPU is enabled.\n"
     ]
    },
    {
     "name": "stdout",
     "output_type": "stream",
     "text": [
      "188/188 [==============================] - 3s 10ms/step\n"
     ]
    },
    {
     "name": "stderr",
     "output_type": "stream",
     "text": [
      "2023-12-23 16:41:20.720031: I tensorflow/core/grappler/optimizers/custom_graph_optimizer_registry.cc:113] Plugin optimizer for device_type GPU is enabled.\n"
     ]
    },
    {
     "name": "stdout",
     "output_type": "stream",
     "text": [
      "188/188 [==============================] - 2s 8ms/step\n"
     ]
    },
    {
     "name": "stderr",
     "output_type": "stream",
     "text": [
      "2023-12-23 16:41:23.443814: I tensorflow/core/grappler/optimizers/custom_graph_optimizer_registry.cc:113] Plugin optimizer for device_type GPU is enabled.\n"
     ]
    },
    {
     "name": "stdout",
     "output_type": "stream",
     "text": [
      "188/188 [==============================] - 4s 10ms/step\n"
     ]
    },
    {
     "name": "stderr",
     "output_type": "stream",
     "text": [
      "2023-12-23 16:41:27.556888: I tensorflow/core/grappler/optimizers/custom_graph_optimizer_registry.cc:113] Plugin optimizer for device_type GPU is enabled.\n"
     ]
    },
    {
     "name": "stdout",
     "output_type": "stream",
     "text": [
      "188/188 [==============================] - 4s 12ms/step\n"
     ]
    },
    {
     "name": "stderr",
     "output_type": "stream",
     "text": [
      "2023-12-23 16:41:32.271253: I tensorflow/core/grappler/optimizers/custom_graph_optimizer_registry.cc:113] Plugin optimizer for device_type GPU is enabled.\n"
     ]
    },
    {
     "name": "stdout",
     "output_type": "stream",
     "text": [
      "188/188 [==============================] - 4s 15ms/step\n",
      "24/24 [==============================] - 28s 1s/step - loss: 0.0471 - accuracy: 0.9967 - val_loss: 1.5341 - val_accuracy: 0.5934\n",
      "Epoch 114/1000\n"
     ]
    },
    {
     "name": "stderr",
     "output_type": "stream",
     "text": [
      "2023-12-23 16:41:36.478863: I tensorflow/core/grappler/optimizers/custom_graph_optimizer_registry.cc:113] Plugin optimizer for device_type GPU is enabled.\n"
     ]
    },
    {
     "name": "stdout",
     "output_type": "stream",
     "text": [
      "24/24 [==============================] - ETA: 0s - loss: 0.0483 - accuracy: 0.9982"
     ]
    },
    {
     "name": "stderr",
     "output_type": "stream",
     "text": [
      "2023-12-23 16:42:05.325423: I tensorflow/core/grappler/optimizers/custom_graph_optimizer_registry.cc:113] Plugin optimizer for device_type GPU is enabled.\n"
     ]
    },
    {
     "name": "stdout",
     "output_type": "stream",
     "text": [
      "24/24 [==============================] - 34s 930ms/step - loss: 0.0483 - accuracy: 0.9982 - val_loss: 1.5334 - val_accuracy: 0.5940\n",
      "Epoch 115/1000\n",
      "24/24 [==============================] - 3s 141ms/step - loss: 0.0433 - accuracy: 0.9988 - val_loss: 1.5336 - val_accuracy: 0.5961\n",
      "Epoch 116/1000\n",
      "24/24 [==============================] - 3s 112ms/step - loss: 0.0418 - accuracy: 0.9990 - val_loss: 1.5346 - val_accuracy: 0.5963\n",
      "Epoch 117/1000\n",
      "24/24 [==============================] - 1s 58ms/step - loss: 0.0444 - accuracy: 0.9977 - val_loss: 1.5358 - val_accuracy: 0.5980\n",
      "Epoch 118/1000\n",
      "24/24 [==============================] - 1s 45ms/step - loss: 0.0433 - accuracy: 0.9990 - val_loss: 1.5390 - val_accuracy: 0.5981\n",
      "Epoch 119/1000\n",
      "24/24 [==============================] - 2s 69ms/step - loss: 0.0412 - accuracy: 0.9977 - val_loss: 1.5391 - val_accuracy: 0.5992\n",
      "Epoch 120/1000\n",
      "24/24 [==============================] - 1s 63ms/step - loss: 0.0400 - accuracy: 0.9983 - val_loss: 1.5385 - val_accuracy: 0.6010\n",
      "Epoch 121/1000\n",
      "24/24 [==============================] - 1s 51ms/step - loss: 0.0441 - accuracy: 0.9980 - val_loss: 1.5397 - val_accuracy: 0.5995\n",
      "Epoch 122/1000\n",
      "24/24 [==============================] - 1s 47ms/step - loss: 0.0416 - accuracy: 0.9973 - val_loss: 1.5394 - val_accuracy: 0.6000\n",
      "Epoch 123/1000\n",
      "24/24 [==============================] - 2s 97ms/step - loss: 0.0423 - accuracy: 0.9982 - val_loss: 1.5449 - val_accuracy: 0.6011\n",
      "Epoch 124/1000\n",
      "24/24 [==============================] - ETA: 0s - loss: 0.0397 - accuracy: 0.9980"
     ]
    },
    {
     "name": "stderr",
     "output_type": "stream",
     "text": [
      "2023-12-23 16:42:28.365959: I tensorflow/core/grappler/optimizers/custom_graph_optimizer_registry.cc:113] Plugin optimizer for device_type GPU is enabled.\n"
     ]
    },
    {
     "name": "stdout",
     "output_type": "stream",
     "text": [
      "188/188 [==============================] - 1s 2ms/step\n"
     ]
    },
    {
     "name": "stderr",
     "output_type": "stream",
     "text": [
      "2023-12-23 16:42:29.721389: I tensorflow/core/grappler/optimizers/custom_graph_optimizer_registry.cc:113] Plugin optimizer for device_type GPU is enabled.\n"
     ]
    },
    {
     "name": "stdout",
     "output_type": "stream",
     "text": [
      "188/188 [==============================] - 1s 3ms/step\n"
     ]
    },
    {
     "name": "stderr",
     "output_type": "stream",
     "text": [
      "2023-12-23 16:42:30.883085: I tensorflow/core/grappler/optimizers/custom_graph_optimizer_registry.cc:113] Plugin optimizer for device_type GPU is enabled.\n"
     ]
    },
    {
     "name": "stdout",
     "output_type": "stream",
     "text": [
      "188/188 [==============================] - 2s 4ms/step\n"
     ]
    },
    {
     "name": "stderr",
     "output_type": "stream",
     "text": [
      "2023-12-23 16:42:32.486208: I tensorflow/core/grappler/optimizers/custom_graph_optimizer_registry.cc:113] Plugin optimizer for device_type GPU is enabled.\n"
     ]
    },
    {
     "name": "stdout",
     "output_type": "stream",
     "text": [
      "188/188 [==============================] - 2s 6ms/step\n"
     ]
    },
    {
     "name": "stderr",
     "output_type": "stream",
     "text": [
      "2023-12-23 16:42:34.510669: I tensorflow/core/grappler/optimizers/custom_graph_optimizer_registry.cc:113] Plugin optimizer for device_type GPU is enabled.\n"
     ]
    },
    {
     "name": "stdout",
     "output_type": "stream",
     "text": [
      "188/188 [==============================] - 2s 7ms/step\n"
     ]
    },
    {
     "name": "stderr",
     "output_type": "stream",
     "text": [
      "2023-12-23 16:42:37.041828: I tensorflow/core/grappler/optimizers/custom_graph_optimizer_registry.cc:113] Plugin optimizer for device_type GPU is enabled.\n"
     ]
    },
    {
     "name": "stdout",
     "output_type": "stream",
     "text": [
      "188/188 [==============================] - 3s 7ms/step\n"
     ]
    },
    {
     "name": "stderr",
     "output_type": "stream",
     "text": [
      "2023-12-23 16:42:39.882757: I tensorflow/core/grappler/optimizers/custom_graph_optimizer_registry.cc:113] Plugin optimizer for device_type GPU is enabled.\n"
     ]
    },
    {
     "name": "stdout",
     "output_type": "stream",
     "text": [
      "188/188 [==============================] - 3s 12ms/step\n"
     ]
    },
    {
     "name": "stderr",
     "output_type": "stream",
     "text": [
      "2023-12-23 16:42:43.070236: I tensorflow/core/grappler/optimizers/custom_graph_optimizer_registry.cc:113] Plugin optimizer for device_type GPU is enabled.\n"
     ]
    },
    {
     "name": "stdout",
     "output_type": "stream",
     "text": [
      "188/188 [==============================] - 4s 12ms/step\n"
     ]
    },
    {
     "name": "stderr",
     "output_type": "stream",
     "text": [
      "2023-12-23 16:42:47.437412: I tensorflow/core/grappler/optimizers/custom_graph_optimizer_registry.cc:113] Plugin optimizer for device_type GPU is enabled.\n"
     ]
    },
    {
     "name": "stdout",
     "output_type": "stream",
     "text": [
      "188/188 [==============================] - 5s 13ms/step\n"
     ]
    },
    {
     "name": "stderr",
     "output_type": "stream",
     "text": [
      "2023-12-23 16:42:52.492010: I tensorflow/core/grappler/optimizers/custom_graph_optimizer_registry.cc:113] Plugin optimizer for device_type GPU is enabled.\n"
     ]
    },
    {
     "name": "stdout",
     "output_type": "stream",
     "text": [
      "188/188 [==============================] - 5s 13ms/step\n",
      "24/24 [==============================] - 31s 1s/step - loss: 0.0397 - accuracy: 0.9980 - val_loss: 1.5465 - val_accuracy: 0.6004\n",
      "Epoch 125/1000\n"
     ]
    },
    {
     "name": "stderr",
     "output_type": "stream",
     "text": [
      "2023-12-23 16:42:57.304484: I tensorflow/core/grappler/optimizers/custom_graph_optimizer_registry.cc:113] Plugin optimizer for device_type GPU is enabled.\n"
     ]
    },
    {
     "name": "stdout",
     "output_type": "stream",
     "text": [
      "24/24 [==============================] - ETA: 0s - loss: 0.0419 - accuracy: 0.9983"
     ]
    },
    {
     "name": "stderr",
     "output_type": "stream",
     "text": [
      "2023-12-23 16:43:22.272311: I tensorflow/core/grappler/optimizers/custom_graph_optimizer_registry.cc:113] Plugin optimizer for device_type GPU is enabled.\n"
     ]
    },
    {
     "name": "stdout",
     "output_type": "stream",
     "text": [
      "24/24 [==============================] - 32s 1s/step - loss: 0.0419 - accuracy: 0.9983 - val_loss: 1.5464 - val_accuracy: 0.6006\n",
      "Epoch 126/1000\n",
      "24/24 [==============================] - 3s 117ms/step - loss: 0.0381 - accuracy: 0.9978 - val_loss: 1.5455 - val_accuracy: 0.6015\n",
      "Epoch 127/1000\n",
      "24/24 [==============================] - 2s 96ms/step - loss: 0.0402 - accuracy: 0.9978 - val_loss: 1.5439 - val_accuracy: 0.6043\n",
      "Epoch 128/1000\n",
      "24/24 [==============================] - 2s 95ms/step - loss: 0.0357 - accuracy: 0.9983 - val_loss: 1.5449 - val_accuracy: 0.6029\n",
      "Epoch 129/1000\n",
      "24/24 [==============================] - 2s 95ms/step - loss: 0.0357 - accuracy: 0.9980 - val_loss: 1.5460 - val_accuracy: 0.6057\n",
      "Epoch 130/1000\n",
      "24/24 [==============================] - 1s 51ms/step - loss: 0.0379 - accuracy: 0.9975 - val_loss: 1.5454 - val_accuracy: 0.6044\n",
      "Epoch 131/1000\n",
      "24/24 [==============================] - 2s 64ms/step - loss: 0.0374 - accuracy: 0.9983 - val_loss: 1.5465 - val_accuracy: 0.6043\n",
      "Epoch 132/1000\n",
      "24/24 [==============================] - 1s 46ms/step - loss: 0.0365 - accuracy: 0.9977 - val_loss: 1.5436 - val_accuracy: 0.6044\n",
      "Epoch 133/1000\n",
      "24/24 [==============================] - 1s 47ms/step - loss: 0.0345 - accuracy: 0.9985 - val_loss: 1.5478 - val_accuracy: 0.6053\n",
      "Epoch 134/1000\n",
      "24/24 [==============================] - 2s 67ms/step - loss: 0.0355 - accuracy: 0.9985 - val_loss: 1.5476 - val_accuracy: 0.6070\n",
      "Epoch 135/1000\n",
      "24/24 [==============================] - 1s 46ms/step - loss: 0.0329 - accuracy: 0.9987 - val_loss: 1.5470 - val_accuracy: 0.6056\n",
      "Epoch 136/1000\n",
      "24/24 [==============================] - ETA: 0s - loss: 0.0310 - accuracy: 0.9983"
     ]
    },
    {
     "name": "stderr",
     "output_type": "stream",
     "text": [
      "2023-12-23 16:43:48.593259: I tensorflow/core/grappler/optimizers/custom_graph_optimizer_registry.cc:113] Plugin optimizer for device_type GPU is enabled.\n"
     ]
    },
    {
     "name": "stdout",
     "output_type": "stream",
     "text": [
      "188/188 [==============================] - 1s 2ms/step\n"
     ]
    },
    {
     "name": "stderr",
     "output_type": "stream",
     "text": [
      "2023-12-23 16:43:50.348425: I tensorflow/core/grappler/optimizers/custom_graph_optimizer_registry.cc:113] Plugin optimizer for device_type GPU is enabled.\n"
     ]
    },
    {
     "name": "stdout",
     "output_type": "stream",
     "text": [
      "188/188 [==============================] - 1s 3ms/step\n"
     ]
    },
    {
     "name": "stderr",
     "output_type": "stream",
     "text": [
      "2023-12-23 16:43:51.384488: I tensorflow/core/grappler/optimizers/custom_graph_optimizer_registry.cc:113] Plugin optimizer for device_type GPU is enabled.\n"
     ]
    },
    {
     "name": "stdout",
     "output_type": "stream",
     "text": [
      "188/188 [==============================] - 1s 4ms/step\n"
     ]
    },
    {
     "name": "stderr",
     "output_type": "stream",
     "text": [
      "2023-12-23 16:43:52.946942: I tensorflow/core/grappler/optimizers/custom_graph_optimizer_registry.cc:113] Plugin optimizer for device_type GPU is enabled.\n"
     ]
    },
    {
     "name": "stdout",
     "output_type": "stream",
     "text": [
      "188/188 [==============================] - 2s 5ms/step\n"
     ]
    },
    {
     "name": "stderr",
     "output_type": "stream",
     "text": [
      "2023-12-23 16:43:54.977179: I tensorflow/core/grappler/optimizers/custom_graph_optimizer_registry.cc:113] Plugin optimizer for device_type GPU is enabled.\n"
     ]
    },
    {
     "name": "stdout",
     "output_type": "stream",
     "text": [
      "188/188 [==============================] - 2s 6ms/step\n"
     ]
    },
    {
     "name": "stderr",
     "output_type": "stream",
     "text": [
      "2023-12-23 16:43:56.761308: I tensorflow/core/grappler/optimizers/custom_graph_optimizer_registry.cc:113] Plugin optimizer for device_type GPU is enabled.\n"
     ]
    },
    {
     "name": "stdout",
     "output_type": "stream",
     "text": [
      "188/188 [==============================] - 2s 7ms/step\n"
     ]
    },
    {
     "name": "stderr",
     "output_type": "stream",
     "text": [
      "2023-12-23 16:43:58.828363: I tensorflow/core/grappler/optimizers/custom_graph_optimizer_registry.cc:113] Plugin optimizer for device_type GPU is enabled.\n"
     ]
    },
    {
     "name": "stdout",
     "output_type": "stream",
     "text": [
      "188/188 [==============================] - 3s 7ms/step\n"
     ]
    },
    {
     "name": "stderr",
     "output_type": "stream",
     "text": [
      "2023-12-23 16:44:01.982691: I tensorflow/core/grappler/optimizers/custom_graph_optimizer_registry.cc:113] Plugin optimizer for device_type GPU is enabled.\n"
     ]
    },
    {
     "name": "stdout",
     "output_type": "stream",
     "text": [
      "188/188 [==============================] - 4s 15ms/step\n"
     ]
    },
    {
     "name": "stderr",
     "output_type": "stream",
     "text": [
      "2023-12-23 16:44:05.675878: I tensorflow/core/grappler/optimizers/custom_graph_optimizer_registry.cc:113] Plugin optimizer for device_type GPU is enabled.\n"
     ]
    },
    {
     "name": "stdout",
     "output_type": "stream",
     "text": [
      "188/188 [==============================] - 4s 16ms/step\n"
     ]
    },
    {
     "name": "stderr",
     "output_type": "stream",
     "text": [
      "2023-12-23 16:44:09.822357: I tensorflow/core/grappler/optimizers/custom_graph_optimizer_registry.cc:113] Plugin optimizer for device_type GPU is enabled.\n"
     ]
    },
    {
     "name": "stdout",
     "output_type": "stream",
     "text": [
      "188/188 [==============================] - 5s 12ms/step\n",
      "24/24 [==============================] - 28s 1s/step - loss: 0.0310 - accuracy: 0.9983 - val_loss: 1.5484 - val_accuracy: 0.6067\n",
      "Epoch 137/1000\n"
     ]
    },
    {
     "name": "stderr",
     "output_type": "stream",
     "text": [
      "2023-12-23 16:44:14.514344: I tensorflow/core/grappler/optimizers/custom_graph_optimizer_registry.cc:113] Plugin optimizer for device_type GPU is enabled.\n"
     ]
    },
    {
     "name": "stdout",
     "output_type": "stream",
     "text": [
      "24/24 [==============================] - ETA: 0s - loss: 0.0309 - accuracy: 0.9988"
     ]
    },
    {
     "name": "stderr",
     "output_type": "stream",
     "text": [
      "2023-12-23 16:44:36.333670: I tensorflow/core/grappler/optimizers/custom_graph_optimizer_registry.cc:113] Plugin optimizer for device_type GPU is enabled.\n"
     ]
    },
    {
     "name": "stdout",
     "output_type": "stream",
     "text": [
      "24/24 [==============================] - 27s 808ms/step - loss: 0.0309 - accuracy: 0.9988 - val_loss: 1.5530 - val_accuracy: 0.6049\n",
      "Epoch 138/1000\n",
      "24/24 [==============================] - 3s 111ms/step - loss: 0.0350 - accuracy: 0.9972 - val_loss: 1.5518 - val_accuracy: 0.6048\n",
      "Epoch 139/1000\n",
      "24/24 [==============================] - 3s 130ms/step - loss: 0.0303 - accuracy: 0.9990 - val_loss: 1.5542 - val_accuracy: 0.6042\n",
      "Epoch 140/1000\n",
      "24/24 [==============================] - 2s 98ms/step - loss: 0.0291 - accuracy: 0.9993 - val_loss: 1.5521 - val_accuracy: 0.6059\n",
      "Epoch 141/1000\n",
      "24/24 [==============================] - 5s 234ms/step - loss: 0.0308 - accuracy: 0.9987 - val_loss: 1.5488 - val_accuracy: 0.6090\n",
      "Epoch 142/1000\n",
      "24/24 [==============================] - 3s 115ms/step - loss: 0.0294 - accuracy: 0.9988 - val_loss: 1.5502 - val_accuracy: 0.6082\n",
      "Epoch 143/1000\n",
      "24/24 [==============================] - 1s 52ms/step - loss: 0.0280 - accuracy: 0.9988 - val_loss: 1.5522 - val_accuracy: 0.6088\n",
      "Epoch 144/1000\n",
      "24/24 [==============================] - 2s 100ms/step - loss: 0.0265 - accuracy: 0.9988 - val_loss: 1.5561 - val_accuracy: 0.6063\n",
      "Epoch 145/1000\n",
      "24/24 [==============================] - 2s 70ms/step - loss: 0.0259 - accuracy: 0.9990 - val_loss: 1.5531 - val_accuracy: 0.6064\n",
      "Epoch 146/1000\n",
      "24/24 [==============================] - 2s 73ms/step - loss: 0.0277 - accuracy: 0.9987 - val_loss: 1.5485 - val_accuracy: 0.6070\n",
      "Epoch 147/1000\n",
      "24/24 [==============================] - 1s 45ms/step - loss: 0.0248 - accuracy: 0.9992 - val_loss: 1.5482 - val_accuracy: 0.6078\n",
      "Epoch 148/1000\n",
      "24/24 [==============================] - 1s 45ms/step - loss: 0.0263 - accuracy: 0.9987 - val_loss: 1.5510 - val_accuracy: 0.6070\n",
      "Epoch 149/1000\n",
      "24/24 [==============================] - ETA: 0s - loss: 0.0297 - accuracy: 0.9972"
     ]
    },
    {
     "name": "stderr",
     "output_type": "stream",
     "text": [
      "2023-12-23 16:45:09.306183: I tensorflow/core/grappler/optimizers/custom_graph_optimizer_registry.cc:113] Plugin optimizer for device_type GPU is enabled.\n"
     ]
    },
    {
     "name": "stdout",
     "output_type": "stream",
     "text": [
      "188/188 [==============================] - 1s 2ms/step\n"
     ]
    },
    {
     "name": "stderr",
     "output_type": "stream",
     "text": [
      "2023-12-23 16:45:10.633460: I tensorflow/core/grappler/optimizers/custom_graph_optimizer_registry.cc:113] Plugin optimizer for device_type GPU is enabled.\n"
     ]
    },
    {
     "name": "stdout",
     "output_type": "stream",
     "text": [
      "188/188 [==============================] - 1s 3ms/step\n"
     ]
    },
    {
     "name": "stderr",
     "output_type": "stream",
     "text": [
      "2023-12-23 16:45:11.923661: I tensorflow/core/grappler/optimizers/custom_graph_optimizer_registry.cc:113] Plugin optimizer for device_type GPU is enabled.\n"
     ]
    },
    {
     "name": "stdout",
     "output_type": "stream",
     "text": [
      "188/188 [==============================] - 2s 5ms/step\n"
     ]
    },
    {
     "name": "stderr",
     "output_type": "stream",
     "text": [
      "2023-12-23 16:45:13.677417: I tensorflow/core/grappler/optimizers/custom_graph_optimizer_registry.cc:113] Plugin optimizer for device_type GPU is enabled.\n"
     ]
    },
    {
     "name": "stdout",
     "output_type": "stream",
     "text": [
      "188/188 [==============================] - 2s 7ms/step\n"
     ]
    },
    {
     "name": "stderr",
     "output_type": "stream",
     "text": [
      "2023-12-23 16:45:15.935522: I tensorflow/core/grappler/optimizers/custom_graph_optimizer_registry.cc:113] Plugin optimizer for device_type GPU is enabled.\n"
     ]
    },
    {
     "name": "stdout",
     "output_type": "stream",
     "text": [
      "188/188 [==============================] - 3s 8ms/step\n"
     ]
    },
    {
     "name": "stderr",
     "output_type": "stream",
     "text": [
      "2023-12-23 16:45:18.979314: I tensorflow/core/grappler/optimizers/custom_graph_optimizer_registry.cc:113] Plugin optimizer for device_type GPU is enabled.\n"
     ]
    },
    {
     "name": "stdout",
     "output_type": "stream",
     "text": [
      "188/188 [==============================] - 4s 10ms/step\n"
     ]
    },
    {
     "name": "stderr",
     "output_type": "stream",
     "text": [
      "2023-12-23 16:45:22.551249: I tensorflow/core/grappler/optimizers/custom_graph_optimizer_registry.cc:113] Plugin optimizer for device_type GPU is enabled.\n"
     ]
    },
    {
     "name": "stdout",
     "output_type": "stream",
     "text": [
      "188/188 [==============================] - 4s 11ms/step\n"
     ]
    },
    {
     "name": "stderr",
     "output_type": "stream",
     "text": [
      "2023-12-23 16:45:26.338079: I tensorflow/core/grappler/optimizers/custom_graph_optimizer_registry.cc:113] Plugin optimizer for device_type GPU is enabled.\n"
     ]
    },
    {
     "name": "stdout",
     "output_type": "stream",
     "text": [
      "188/188 [==============================] - 5s 16ms/step\n"
     ]
    },
    {
     "name": "stderr",
     "output_type": "stream",
     "text": [
      "2023-12-23 16:45:31.774564: I tensorflow/core/grappler/optimizers/custom_graph_optimizer_registry.cc:113] Plugin optimizer for device_type GPU is enabled.\n"
     ]
    },
    {
     "name": "stdout",
     "output_type": "stream",
     "text": [
      "188/188 [==============================] - 6s 17ms/step\n"
     ]
    },
    {
     "name": "stderr",
     "output_type": "stream",
     "text": [
      "2023-12-23 16:45:37.900713: I tensorflow/core/grappler/optimizers/custom_graph_optimizer_registry.cc:113] Plugin optimizer for device_type GPU is enabled.\n"
     ]
    },
    {
     "name": "stdout",
     "output_type": "stream",
     "text": [
      "188/188 [==============================] - 6s 19ms/step\n",
      "24/24 [==============================] - 37s 2s/step - loss: 0.0297 - accuracy: 0.9972 - val_loss: 1.5478 - val_accuracy: 0.6070\n",
      "Epoch 150/1000\n"
     ]
    },
    {
     "name": "stderr",
     "output_type": "stream",
     "text": [
      "2023-12-23 16:45:44.126868: I tensorflow/core/grappler/optimizers/custom_graph_optimizer_registry.cc:113] Plugin optimizer for device_type GPU is enabled.\n"
     ]
    },
    {
     "name": "stdout",
     "output_type": "stream",
     "text": [
      "24/24 [==============================] - ETA: 0s - loss: 0.0262 - accuracy: 0.9983"
     ]
    },
    {
     "name": "stderr",
     "output_type": "stream",
     "text": [
      "2023-12-23 16:46:15.439479: I tensorflow/core/grappler/optimizers/custom_graph_optimizer_registry.cc:113] Plugin optimizer for device_type GPU is enabled.\n"
     ]
    },
    {
     "name": "stdout",
     "output_type": "stream",
     "text": [
      "24/24 [==============================] - 38s 1s/step - loss: 0.0262 - accuracy: 0.9983 - val_loss: 1.5509 - val_accuracy: 0.6085\n",
      "Epoch 151/1000\n",
      "24/24 [==============================] - 3s 138ms/step - loss: 0.0267 - accuracy: 0.9987 - val_loss: 1.5537 - val_accuracy: 0.6088\n",
      "Epoch 152/1000\n",
      "24/24 [==============================] - 5s 204ms/step - loss: 0.0240 - accuracy: 0.9988 - val_loss: 1.5509 - val_accuracy: 0.6096\n",
      "Epoch 153/1000\n",
      "24/24 [==============================] - 3s 115ms/step - loss: 0.0238 - accuracy: 0.9992 - val_loss: 1.5492 - val_accuracy: 0.6078\n",
      "Epoch 154/1000\n",
      "24/24 [==============================] - 3s 117ms/step - loss: 0.0218 - accuracy: 0.9993 - val_loss: 1.5481 - val_accuracy: 0.6121\n",
      "Epoch 155/1000\n",
      "24/24 [==============================] - 2s 90ms/step - loss: 0.0256 - accuracy: 0.9988 - val_loss: 1.5493 - val_accuracy: 0.6131\n",
      "Epoch 156/1000\n",
      "24/24 [==============================] - 1s 49ms/step - loss: 0.0255 - accuracy: 0.9985 - val_loss: 1.5467 - val_accuracy: 0.6150\n",
      "Epoch 157/1000\n",
      "24/24 [==============================] - 1s 45ms/step - loss: 0.0238 - accuracy: 0.9983 - val_loss: 1.5511 - val_accuracy: 0.6146\n",
      "Epoch 158/1000\n",
      "24/24 [==============================] - 1s 63ms/step - loss: 0.0264 - accuracy: 0.9975 - val_loss: 1.5557 - val_accuracy: 0.6157\n",
      "Epoch 159/1000\n",
      "24/24 [==============================] - 1s 45ms/step - loss: 0.0253 - accuracy: 0.9987 - val_loss: 1.5530 - val_accuracy: 0.6145\n",
      "Epoch 160/1000\n",
      "24/24 [==============================] - 1s 49ms/step - loss: 0.0213 - accuracy: 0.9995 - val_loss: 1.5560 - val_accuracy: 0.6152\n",
      "Epoch 161/1000\n",
      "24/24 [==============================] - 1s 45ms/step - loss: 0.0234 - accuracy: 0.9992 - val_loss: 1.5543 - val_accuracy: 0.6163\n",
      "Epoch 162/1000\n",
      "24/24 [==============================] - 1s 46ms/step - loss: 0.0195 - accuracy: 0.9995 - val_loss: 1.5538 - val_accuracy: 0.6165\n",
      "Epoch 163/1000\n",
      "24/24 [==============================] - ETA: 0s - loss: 0.0210 - accuracy: 0.9995"
     ]
    },
    {
     "name": "stderr",
     "output_type": "stream",
     "text": [
      "2023-12-23 16:46:48.217670: I tensorflow/core/grappler/optimizers/custom_graph_optimizer_registry.cc:113] Plugin optimizer for device_type GPU is enabled.\n"
     ]
    },
    {
     "name": "stdout",
     "output_type": "stream",
     "text": [
      "188/188 [==============================] - 1s 2ms/step\n"
     ]
    },
    {
     "name": "stderr",
     "output_type": "stream",
     "text": [
      "2023-12-23 16:46:49.997421: I tensorflow/core/grappler/optimizers/custom_graph_optimizer_registry.cc:113] Plugin optimizer for device_type GPU is enabled.\n"
     ]
    },
    {
     "name": "stdout",
     "output_type": "stream",
     "text": [
      "188/188 [==============================] - 1s 4ms/step\n"
     ]
    },
    {
     "name": "stderr",
     "output_type": "stream",
     "text": [
      "2023-12-23 16:46:51.581229: I tensorflow/core/grappler/optimizers/custom_graph_optimizer_registry.cc:113] Plugin optimizer for device_type GPU is enabled.\n"
     ]
    },
    {
     "name": "stdout",
     "output_type": "stream",
     "text": [
      "188/188 [==============================] - 2s 5ms/step\n"
     ]
    },
    {
     "name": "stderr",
     "output_type": "stream",
     "text": [
      "2023-12-23 16:46:53.277977: I tensorflow/core/grappler/optimizers/custom_graph_optimizer_registry.cc:113] Plugin optimizer for device_type GPU is enabled.\n"
     ]
    },
    {
     "name": "stdout",
     "output_type": "stream",
     "text": [
      "188/188 [==============================] - 2s 6ms/step\n"
     ]
    },
    {
     "name": "stderr",
     "output_type": "stream",
     "text": [
      "2023-12-23 16:46:55.568555: I tensorflow/core/grappler/optimizers/custom_graph_optimizer_registry.cc:113] Plugin optimizer for device_type GPU is enabled.\n"
     ]
    },
    {
     "name": "stdout",
     "output_type": "stream",
     "text": [
      "188/188 [==============================] - 3s 7ms/step\n"
     ]
    },
    {
     "name": "stderr",
     "output_type": "stream",
     "text": [
      "2023-12-23 16:46:58.158143: I tensorflow/core/grappler/optimizers/custom_graph_optimizer_registry.cc:113] Plugin optimizer for device_type GPU is enabled.\n"
     ]
    },
    {
     "name": "stdout",
     "output_type": "stream",
     "text": [
      "188/188 [==============================] - 3s 10ms/step\n"
     ]
    },
    {
     "name": "stderr",
     "output_type": "stream",
     "text": [
      "2023-12-23 16:47:01.513552: I tensorflow/core/grappler/optimizers/custom_graph_optimizer_registry.cc:113] Plugin optimizer for device_type GPU is enabled.\n"
     ]
    },
    {
     "name": "stdout",
     "output_type": "stream",
     "text": [
      "188/188 [==============================] - 4s 10ms/step\n"
     ]
    },
    {
     "name": "stderr",
     "output_type": "stream",
     "text": [
      "2023-12-23 16:47:05.304310: I tensorflow/core/grappler/optimizers/custom_graph_optimizer_registry.cc:113] Plugin optimizer for device_type GPU is enabled.\n"
     ]
    },
    {
     "name": "stdout",
     "output_type": "stream",
     "text": [
      "188/188 [==============================] - 4s 14ms/step\n"
     ]
    },
    {
     "name": "stderr",
     "output_type": "stream",
     "text": [
      "2023-12-23 16:47:09.810429: I tensorflow/core/grappler/optimizers/custom_graph_optimizer_registry.cc:113] Plugin optimizer for device_type GPU is enabled.\n"
     ]
    },
    {
     "name": "stdout",
     "output_type": "stream",
     "text": [
      "188/188 [==============================] - 5s 14ms/step\n"
     ]
    },
    {
     "name": "stderr",
     "output_type": "stream",
     "text": [
      "2023-12-23 16:47:14.683654: I tensorflow/core/grappler/optimizers/custom_graph_optimizer_registry.cc:113] Plugin optimizer for device_type GPU is enabled.\n"
     ]
    },
    {
     "name": "stdout",
     "output_type": "stream",
     "text": [
      "188/188 [==============================] - 5s 15ms/step\n",
      "24/24 [==============================] - 34s 1s/step - loss: 0.0210 - accuracy: 0.9995 - val_loss: 1.5546 - val_accuracy: 0.6153\n",
      "Epoch 164/1000\n"
     ]
    },
    {
     "name": "stderr",
     "output_type": "stream",
     "text": [
      "2023-12-23 16:47:20.068188: I tensorflow/core/grappler/optimizers/custom_graph_optimizer_registry.cc:113] Plugin optimizer for device_type GPU is enabled.\n"
     ]
    },
    {
     "name": "stdout",
     "output_type": "stream",
     "text": [
      "24/24 [==============================] - ETA: 0s - loss: 0.0222 - accuracy: 0.9988"
     ]
    },
    {
     "name": "stderr",
     "output_type": "stream",
     "text": [
      "2023-12-23 16:47:51.472723: I tensorflow/core/grappler/optimizers/custom_graph_optimizer_registry.cc:113] Plugin optimizer for device_type GPU is enabled.\n"
     ]
    },
    {
     "name": "stdout",
     "output_type": "stream",
     "text": [
      "24/24 [==============================] - 39s 1s/step - loss: 0.0222 - accuracy: 0.9988 - val_loss: 1.5550 - val_accuracy: 0.6159\n",
      "Epoch 165/1000\n",
      "24/24 [==============================] - 2s 92ms/step - loss: 0.0205 - accuracy: 0.9997 - val_loss: 1.5565 - val_accuracy: 0.6184\n",
      "Epoch 166/1000\n",
      "24/24 [==============================] - 6s 241ms/step - loss: 0.0198 - accuracy: 0.9985 - val_loss: 1.5565 - val_accuracy: 0.6187\n",
      "Epoch 167/1000\n",
      "24/24 [==============================] - 1s 61ms/step - loss: 0.0207 - accuracy: 0.9990 - val_loss: 1.5626 - val_accuracy: 0.6157\n",
      "Epoch 168/1000\n",
      "24/24 [==============================] - 3s 108ms/step - loss: 0.0197 - accuracy: 0.9998 - val_loss: 1.5590 - val_accuracy: 0.6176\n",
      "Epoch 169/1000\n",
      "24/24 [==============================] - 2s 67ms/step - loss: 0.0185 - accuracy: 0.9993 - val_loss: 1.5573 - val_accuracy: 0.6189\n",
      "Epoch 170/1000\n",
      "24/24 [==============================] - 1s 61ms/step - loss: 0.0184 - accuracy: 0.9997 - val_loss: 1.5592 - val_accuracy: 0.6191\n",
      "Epoch 171/1000\n",
      "24/24 [==============================] - 1s 46ms/step - loss: 0.0219 - accuracy: 0.9988 - val_loss: 1.5549 - val_accuracy: 0.6216\n",
      "Epoch 172/1000\n",
      "24/24 [==============================] - 1s 61ms/step - loss: 0.0168 - accuracy: 0.9992 - val_loss: 1.5523 - val_accuracy: 0.6234\n",
      "Epoch 173/1000\n",
      "24/24 [==============================] - 2s 66ms/step - loss: 0.0199 - accuracy: 0.9988 - val_loss: 1.5549 - val_accuracy: 0.6223\n",
      "Epoch 174/1000\n",
      "24/24 [==============================] - 2s 91ms/step - loss: 0.0185 - accuracy: 0.9993 - val_loss: 1.5614 - val_accuracy: 0.6192\n",
      "Epoch 175/1000\n",
      "24/24 [==============================] - 1s 49ms/step - loss: 0.0196 - accuracy: 0.9988 - val_loss: 1.5658 - val_accuracy: 0.6186\n",
      "Epoch 176/1000\n",
      "24/24 [==============================] - 2s 79ms/step - loss: 0.0187 - accuracy: 0.9998 - val_loss: 1.5662 - val_accuracy: 0.6182\n",
      "Epoch 177/1000\n",
      "24/24 [==============================] - 1s 49ms/step - loss: 0.0193 - accuracy: 0.9988 - val_loss: 1.5638 - val_accuracy: 0.6188\n",
      "Epoch 178/1000\n",
      "24/24 [==============================] - 1s 44ms/step - loss: 0.0166 - accuracy: 0.9993 - val_loss: 1.5684 - val_accuracy: 0.6161\n",
      "Epoch 179/1000\n",
      "23/24 [===========================>..] - ETA: 0s - loss: 0.0163 - accuracy: 0.9992"
     ]
    },
    {
     "name": "stderr",
     "output_type": "stream",
     "text": [
      "2023-12-23 16:48:26.447296: I tensorflow/core/grappler/optimizers/custom_graph_optimizer_registry.cc:113] Plugin optimizer for device_type GPU is enabled.\n"
     ]
    },
    {
     "name": "stdout",
     "output_type": "stream",
     "text": [
      "188/188 [==============================] - 1s 2ms/step\n"
     ]
    },
    {
     "name": "stderr",
     "output_type": "stream",
     "text": [
      "2023-12-23 16:48:27.886609: I tensorflow/core/grappler/optimizers/custom_graph_optimizer_registry.cc:113] Plugin optimizer for device_type GPU is enabled.\n"
     ]
    },
    {
     "name": "stdout",
     "output_type": "stream",
     "text": [
      "188/188 [==============================] - 1s 4ms/step\n"
     ]
    },
    {
     "name": "stderr",
     "output_type": "stream",
     "text": [
      "2023-12-23 16:48:28.990539: I tensorflow/core/grappler/optimizers/custom_graph_optimizer_registry.cc:113] Plugin optimizer for device_type GPU is enabled.\n"
     ]
    },
    {
     "name": "stdout",
     "output_type": "stream",
     "text": [
      "188/188 [==============================] - 1s 4ms/step\n"
     ]
    },
    {
     "name": "stderr",
     "output_type": "stream",
     "text": [
      "2023-12-23 16:48:30.496389: I tensorflow/core/grappler/optimizers/custom_graph_optimizer_registry.cc:113] Plugin optimizer for device_type GPU is enabled.\n"
     ]
    },
    {
     "name": "stdout",
     "output_type": "stream",
     "text": [
      "188/188 [==============================] - 2s 6ms/step\n"
     ]
    },
    {
     "name": "stderr",
     "output_type": "stream",
     "text": [
      "2023-12-23 16:48:32.616698: I tensorflow/core/grappler/optimizers/custom_graph_optimizer_registry.cc:113] Plugin optimizer for device_type GPU is enabled.\n"
     ]
    },
    {
     "name": "stdout",
     "output_type": "stream",
     "text": [
      "188/188 [==============================] - 2s 7ms/step\n"
     ]
    },
    {
     "name": "stderr",
     "output_type": "stream",
     "text": [
      "2023-12-23 16:48:35.150669: I tensorflow/core/grappler/optimizers/custom_graph_optimizer_registry.cc:113] Plugin optimizer for device_type GPU is enabled.\n"
     ]
    },
    {
     "name": "stdout",
     "output_type": "stream",
     "text": [
      "188/188 [==============================] - 3s 9ms/step\n"
     ]
    },
    {
     "name": "stderr",
     "output_type": "stream",
     "text": [
      "2023-12-23 16:48:38.410372: I tensorflow/core/grappler/optimizers/custom_graph_optimizer_registry.cc:113] Plugin optimizer for device_type GPU is enabled.\n"
     ]
    },
    {
     "name": "stdout",
     "output_type": "stream",
     "text": [
      "188/188 [==============================] - 4s 10ms/step\n"
     ]
    },
    {
     "name": "stderr",
     "output_type": "stream",
     "text": [
      "2023-12-23 16:48:42.132927: I tensorflow/core/grappler/optimizers/custom_graph_optimizer_registry.cc:113] Plugin optimizer for device_type GPU is enabled.\n"
     ]
    },
    {
     "name": "stdout",
     "output_type": "stream",
     "text": [
      "188/188 [==============================] - 5s 14ms/step\n"
     ]
    },
    {
     "name": "stderr",
     "output_type": "stream",
     "text": [
      "2023-12-23 16:48:46.806007: I tensorflow/core/grappler/optimizers/custom_graph_optimizer_registry.cc:113] Plugin optimizer for device_type GPU is enabled.\n"
     ]
    },
    {
     "name": "stdout",
     "output_type": "stream",
     "text": [
      "188/188 [==============================] - 5s 17ms/step\n"
     ]
    },
    {
     "name": "stderr",
     "output_type": "stream",
     "text": [
      "2023-12-23 16:48:52.468572: I tensorflow/core/grappler/optimizers/custom_graph_optimizer_registry.cc:113] Plugin optimizer for device_type GPU is enabled.\n"
     ]
    },
    {
     "name": "stdout",
     "output_type": "stream",
     "text": [
      "188/188 [==============================] - 4s 15ms/step\n",
      "24/24 [==============================] - 31s 1s/step - loss: 0.0167 - accuracy: 0.9990 - val_loss: 1.5655 - val_accuracy: 0.6166\n",
      "Epoch 180/1000\n"
     ]
    },
    {
     "name": "stderr",
     "output_type": "stream",
     "text": [
      "2023-12-23 16:48:56.564419: I tensorflow/core/grappler/optimizers/custom_graph_optimizer_registry.cc:113] Plugin optimizer for device_type GPU is enabled.\n"
     ]
    },
    {
     "name": "stdout",
     "output_type": "stream",
     "text": [
      "24/24 [==============================] - ETA: 0s - loss: 0.0166 - accuracy: 0.9997"
     ]
    },
    {
     "name": "stderr",
     "output_type": "stream",
     "text": [
      "2023-12-23 16:49:21.130787: I tensorflow/core/grappler/optimizers/custom_graph_optimizer_registry.cc:113] Plugin optimizer for device_type GPU is enabled.\n"
     ]
    },
    {
     "name": "stdout",
     "output_type": "stream",
     "text": [
      "24/24 [==============================] - 31s 1s/step - loss: 0.0166 - accuracy: 0.9997 - val_loss: 1.5668 - val_accuracy: 0.6204\n",
      "Epoch 181/1000\n",
      "24/24 [==============================] - 5s 220ms/step - loss: 0.0159 - accuracy: 0.9995 - val_loss: 1.5643 - val_accuracy: 0.6187\n",
      "Epoch 182/1000\n",
      "24/24 [==============================] - 3s 118ms/step - loss: 0.0168 - accuracy: 0.9995 - val_loss: 1.5658 - val_accuracy: 0.6183\n",
      "Epoch 183/1000\n",
      "24/24 [==============================] - 2s 88ms/step - loss: 0.0161 - accuracy: 0.9993 - val_loss: 1.5725 - val_accuracy: 0.6191\n",
      "Epoch 184/1000\n",
      "24/24 [==============================] - 1s 63ms/step - loss: 0.0154 - accuracy: 0.9993 - val_loss: 1.5719 - val_accuracy: 0.6220\n",
      "Epoch 185/1000\n",
      "24/24 [==============================] - 2s 105ms/step - loss: 0.0160 - accuracy: 0.9993 - val_loss: 1.5741 - val_accuracy: 0.6217\n",
      "Epoch 186/1000\n",
      "24/24 [==============================] - 1s 56ms/step - loss: 0.0164 - accuracy: 0.9988 - val_loss: 1.5742 - val_accuracy: 0.6208\n",
      "Epoch 187/1000\n",
      "24/24 [==============================] - 3s 142ms/step - loss: 0.0167 - accuracy: 0.9993 - val_loss: 1.5700 - val_accuracy: 0.6230\n",
      "Epoch 188/1000\n",
      "24/24 [==============================] - 3s 137ms/step - loss: 0.0151 - accuracy: 0.9992 - val_loss: 1.5706 - val_accuracy: 0.6260\n",
      "Epoch 189/1000\n",
      "24/24 [==============================] - 2s 98ms/step - loss: 0.0157 - accuracy: 0.9995 - val_loss: 1.5738 - val_accuracy: 0.6255\n",
      "Epoch 190/1000\n",
      "24/24 [==============================] - 1s 47ms/step - loss: 0.0154 - accuracy: 0.9997 - val_loss: 1.5750 - val_accuracy: 0.6250\n",
      "Epoch 191/1000\n",
      "24/24 [==============================] - 2s 89ms/step - loss: 0.0162 - accuracy: 0.9988 - val_loss: 1.5821 - val_accuracy: 0.6240\n",
      "Epoch 192/1000\n",
      "24/24 [==============================] - 2s 84ms/step - loss: 0.0160 - accuracy: 0.9993 - val_loss: 1.5797 - val_accuracy: 0.6262\n",
      "Epoch 193/1000\n",
      "24/24 [==============================] - 1s 49ms/step - loss: 0.0170 - accuracy: 0.9985 - val_loss: 1.5769 - val_accuracy: 0.6246\n",
      "Epoch 194/1000\n",
      "24/24 [==============================] - 1s 60ms/step - loss: 0.0162 - accuracy: 0.9985 - val_loss: 1.5737 - val_accuracy: 0.6253\n",
      "Epoch 195/1000\n",
      "24/24 [==============================] - 1s 61ms/step - loss: 0.0148 - accuracy: 0.9992 - val_loss: 1.5801 - val_accuracy: 0.6253\n",
      "Epoch 196/1000\n",
      "24/24 [==============================] - ETA: 0s - loss: 0.0139 - accuracy: 0.9998"
     ]
    },
    {
     "name": "stderr",
     "output_type": "stream",
     "text": [
      "2023-12-23 16:50:02.842545: I tensorflow/core/grappler/optimizers/custom_graph_optimizer_registry.cc:113] Plugin optimizer for device_type GPU is enabled.\n"
     ]
    },
    {
     "name": "stdout",
     "output_type": "stream",
     "text": [
      "188/188 [==============================] - 1s 2ms/step\n"
     ]
    },
    {
     "name": "stderr",
     "output_type": "stream",
     "text": [
      "2023-12-23 16:50:04.204525: I tensorflow/core/grappler/optimizers/custom_graph_optimizer_registry.cc:113] Plugin optimizer for device_type GPU is enabled.\n"
     ]
    },
    {
     "name": "stdout",
     "output_type": "stream",
     "text": [
      "188/188 [==============================] - 1s 3ms/step\n"
     ]
    },
    {
     "name": "stderr",
     "output_type": "stream",
     "text": [
      "2023-12-23 16:50:05.411241: I tensorflow/core/grappler/optimizers/custom_graph_optimizer_registry.cc:113] Plugin optimizer for device_type GPU is enabled.\n"
     ]
    },
    {
     "name": "stdout",
     "output_type": "stream",
     "text": [
      "188/188 [==============================] - 2s 4ms/step\n"
     ]
    },
    {
     "name": "stderr",
     "output_type": "stream",
     "text": [
      "2023-12-23 16:50:06.988777: I tensorflow/core/grappler/optimizers/custom_graph_optimizer_registry.cc:113] Plugin optimizer for device_type GPU is enabled.\n"
     ]
    },
    {
     "name": "stdout",
     "output_type": "stream",
     "text": [
      "188/188 [==============================] - 2s 6ms/step\n"
     ]
    },
    {
     "name": "stderr",
     "output_type": "stream",
     "text": [
      "2023-12-23 16:50:09.132093: I tensorflow/core/grappler/optimizers/custom_graph_optimizer_registry.cc:113] Plugin optimizer for device_type GPU is enabled.\n"
     ]
    },
    {
     "name": "stdout",
     "output_type": "stream",
     "text": [
      "188/188 [==============================] - 3s 7ms/step\n"
     ]
    },
    {
     "name": "stderr",
     "output_type": "stream",
     "text": [
      "2023-12-23 16:50:11.825676: I tensorflow/core/grappler/optimizers/custom_graph_optimizer_registry.cc:113] Plugin optimizer for device_type GPU is enabled.\n"
     ]
    },
    {
     "name": "stdout",
     "output_type": "stream",
     "text": [
      "188/188 [==============================] - 3s 10ms/step\n"
     ]
    },
    {
     "name": "stderr",
     "output_type": "stream",
     "text": [
      "2023-12-23 16:50:15.231656: I tensorflow/core/grappler/optimizers/custom_graph_optimizer_registry.cc:113] Plugin optimizer for device_type GPU is enabled.\n"
     ]
    },
    {
     "name": "stdout",
     "output_type": "stream",
     "text": [
      "188/188 [==============================] - 3s 8ms/step\n"
     ]
    },
    {
     "name": "stderr",
     "output_type": "stream",
     "text": [
      "2023-12-23 16:50:19.093138: I tensorflow/core/grappler/optimizers/custom_graph_optimizer_registry.cc:113] Plugin optimizer for device_type GPU is enabled.\n"
     ]
    },
    {
     "name": "stdout",
     "output_type": "stream",
     "text": [
      "188/188 [==============================] - 4s 16ms/step\n"
     ]
    },
    {
     "name": "stderr",
     "output_type": "stream",
     "text": [
      "2023-12-23 16:50:23.405153: I tensorflow/core/grappler/optimizers/custom_graph_optimizer_registry.cc:113] Plugin optimizer for device_type GPU is enabled.\n"
     ]
    },
    {
     "name": "stdout",
     "output_type": "stream",
     "text": [
      "188/188 [==============================] - 5s 16ms/step\n"
     ]
    },
    {
     "name": "stderr",
     "output_type": "stream",
     "text": [
      "2023-12-23 16:50:29.045859: I tensorflow/core/grappler/optimizers/custom_graph_optimizer_registry.cc:113] Plugin optimizer for device_type GPU is enabled.\n"
     ]
    },
    {
     "name": "stdout",
     "output_type": "stream",
     "text": [
      "188/188 [==============================] - 6s 17ms/step\n",
      "24/24 [==============================] - 34s 1s/step - loss: 0.0139 - accuracy: 0.9998 - val_loss: 1.5794 - val_accuracy: 0.6284\n",
      "Epoch 197/1000\n"
     ]
    },
    {
     "name": "stderr",
     "output_type": "stream",
     "text": [
      "2023-12-23 16:50:34.906103: I tensorflow/core/grappler/optimizers/custom_graph_optimizer_registry.cc:113] Plugin optimizer for device_type GPU is enabled.\n"
     ]
    },
    {
     "name": "stdout",
     "output_type": "stream",
     "text": [
      "24/24 [==============================] - ETA: 0s - loss: 0.0155 - accuracy: 0.9988"
     ]
    },
    {
     "name": "stderr",
     "output_type": "stream",
     "text": [
      "2023-12-23 16:51:06.076927: I tensorflow/core/grappler/optimizers/custom_graph_optimizer_registry.cc:113] Plugin optimizer for device_type GPU is enabled.\n"
     ]
    },
    {
     "name": "stdout",
     "output_type": "stream",
     "text": [
      "24/24 [==============================] - 38s 1s/step - loss: 0.0155 - accuracy: 0.9988 - val_loss: 1.5794 - val_accuracy: 0.6270\n",
      "Epoch 198/1000\n",
      "24/24 [==============================] - 6s 255ms/step - loss: 0.0141 - accuracy: 0.9995 - val_loss: 1.5815 - val_accuracy: 0.6292\n",
      "Epoch 199/1000\n",
      "24/24 [==============================] - 6s 243ms/step - loss: 0.0146 - accuracy: 0.9995 - val_loss: 1.5772 - val_accuracy: 0.6293\n",
      "Epoch 200/1000\n",
      "24/24 [==============================] - 3s 133ms/step - loss: 0.0150 - accuracy: 0.9993 - val_loss: 1.5795 - val_accuracy: 0.6277\n",
      "Epoch 201/1000\n",
      "24/24 [==============================] - 3s 123ms/step - loss: 0.0140 - accuracy: 0.9993 - val_loss: 1.5815 - val_accuracy: 0.6300\n",
      "Epoch 202/1000\n",
      "24/24 [==============================] - 1s 47ms/step - loss: 0.0142 - accuracy: 0.9992 - val_loss: 1.5804 - val_accuracy: 0.6312\n",
      "Epoch 203/1000\n",
      "24/24 [==============================] - 3s 108ms/step - loss: 0.0139 - accuracy: 0.9983 - val_loss: 1.5799 - val_accuracy: 0.6319\n",
      "Epoch 204/1000\n",
      "24/24 [==============================] - 1s 47ms/step - loss: 0.0152 - accuracy: 0.9993 - val_loss: 1.5830 - val_accuracy: 0.6305\n",
      "Epoch 205/1000\n",
      "24/24 [==============================] - 1s 45ms/step - loss: 0.0137 - accuracy: 0.9992 - val_loss: 1.5801 - val_accuracy: 0.6304\n",
      "Epoch 206/1000\n",
      "24/24 [==============================] - 2s 80ms/step - loss: 0.0126 - accuracy: 0.9992 - val_loss: 1.5840 - val_accuracy: 0.6292\n",
      "Epoch 207/1000\n",
      "24/24 [==============================] - 1s 53ms/step - loss: 0.0136 - accuracy: 0.9990 - val_loss: 1.5834 - val_accuracy: 0.6313\n",
      "Epoch 208/1000\n",
      "24/24 [==============================] - 1s 56ms/step - loss: 0.0161 - accuracy: 0.9980 - val_loss: 1.5887 - val_accuracy: 0.6310\n",
      "Epoch 209/1000\n",
      "24/24 [==============================] - 2s 51ms/step - loss: 0.0162 - accuracy: 0.9992 - val_loss: 1.5979 - val_accuracy: 0.6306\n",
      "Epoch 210/1000\n",
      "24/24 [==============================] - 2s 94ms/step - loss: 0.0162 - accuracy: 0.9983 - val_loss: 1.5896 - val_accuracy: 0.6306\n",
      "Epoch 211/1000\n",
      "24/24 [==============================] - 2s 71ms/step - loss: 0.0138 - accuracy: 0.9993 - val_loss: 1.5925 - val_accuracy: 0.6319\n",
      "Epoch 212/1000\n",
      "24/24 [==============================] - 2s 92ms/step - loss: 0.0141 - accuracy: 0.9990 - val_loss: 1.5887 - val_accuracy: 0.6342\n",
      "Epoch 213/1000\n",
      "24/24 [==============================] - 1s 52ms/step - loss: 0.0164 - accuracy: 0.9978 - val_loss: 1.5823 - val_accuracy: 0.6337\n",
      "Epoch 214/1000\n",
      "24/24 [==============================] - 1s 46ms/step - loss: 0.0137 - accuracy: 0.9992 - val_loss: 1.5907 - val_accuracy: 0.6327\n",
      "Epoch 215/1000\n",
      "24/24 [==============================] - ETA: 0s - loss: 0.0127 - accuracy: 0.9995"
     ]
    },
    {
     "name": "stderr",
     "output_type": "stream",
     "text": [
      "2023-12-23 16:51:51.945546: I tensorflow/core/grappler/optimizers/custom_graph_optimizer_registry.cc:113] Plugin optimizer for device_type GPU is enabled.\n"
     ]
    },
    {
     "name": "stdout",
     "output_type": "stream",
     "text": [
      "188/188 [==============================] - 1s 2ms/step\n"
     ]
    },
    {
     "name": "stderr",
     "output_type": "stream",
     "text": [
      "2023-12-23 16:51:53.484274: I tensorflow/core/grappler/optimizers/custom_graph_optimizer_registry.cc:113] Plugin optimizer for device_type GPU is enabled.\n"
     ]
    },
    {
     "name": "stdout",
     "output_type": "stream",
     "text": [
      "188/188 [==============================] - 1s 3ms/step\n"
     ]
    },
    {
     "name": "stderr",
     "output_type": "stream",
     "text": [
      "2023-12-23 16:51:54.534047: I tensorflow/core/grappler/optimizers/custom_graph_optimizer_registry.cc:113] Plugin optimizer for device_type GPU is enabled.\n"
     ]
    },
    {
     "name": "stdout",
     "output_type": "stream",
     "text": [
      "188/188 [==============================] - 1s 4ms/step\n"
     ]
    },
    {
     "name": "stderr",
     "output_type": "stream",
     "text": [
      "2023-12-23 16:51:55.827521: I tensorflow/core/grappler/optimizers/custom_graph_optimizer_registry.cc:113] Plugin optimizer for device_type GPU is enabled.\n"
     ]
    },
    {
     "name": "stdout",
     "output_type": "stream",
     "text": [
      "188/188 [==============================] - 2s 3ms/step\n"
     ]
    },
    {
     "name": "stderr",
     "output_type": "stream",
     "text": [
      "2023-12-23 16:51:57.489552: I tensorflow/core/grappler/optimizers/custom_graph_optimizer_registry.cc:113] Plugin optimizer for device_type GPU is enabled.\n"
     ]
    },
    {
     "name": "stdout",
     "output_type": "stream",
     "text": [
      "188/188 [==============================] - 2s 7ms/step\n"
     ]
    },
    {
     "name": "stderr",
     "output_type": "stream",
     "text": [
      "2023-12-23 16:51:59.578963: I tensorflow/core/grappler/optimizers/custom_graph_optimizer_registry.cc:113] Plugin optimizer for device_type GPU is enabled.\n"
     ]
    },
    {
     "name": "stdout",
     "output_type": "stream",
     "text": [
      "188/188 [==============================] - 2s 6ms/step\n"
     ]
    },
    {
     "name": "stderr",
     "output_type": "stream",
     "text": [
      "2023-12-23 16:52:01.547740: I tensorflow/core/grappler/optimizers/custom_graph_optimizer_registry.cc:113] Plugin optimizer for device_type GPU is enabled.\n"
     ]
    },
    {
     "name": "stdout",
     "output_type": "stream",
     "text": [
      "188/188 [==============================] - 3s 12ms/step\n"
     ]
    },
    {
     "name": "stderr",
     "output_type": "stream",
     "text": [
      "2023-12-23 16:52:04.417492: I tensorflow/core/grappler/optimizers/custom_graph_optimizer_registry.cc:113] Plugin optimizer for device_type GPU is enabled.\n"
     ]
    },
    {
     "name": "stdout",
     "output_type": "stream",
     "text": [
      "188/188 [==============================] - 4s 11ms/step\n"
     ]
    },
    {
     "name": "stderr",
     "output_type": "stream",
     "text": [
      "2023-12-23 16:52:08.574089: I tensorflow/core/grappler/optimizers/custom_graph_optimizer_registry.cc:113] Plugin optimizer for device_type GPU is enabled.\n"
     ]
    },
    {
     "name": "stdout",
     "output_type": "stream",
     "text": [
      "188/188 [==============================] - 3s 13ms/step\n"
     ]
    },
    {
     "name": "stderr",
     "output_type": "stream",
     "text": [
      "2023-12-23 16:52:11.671844: I tensorflow/core/grappler/optimizers/custom_graph_optimizer_registry.cc:113] Plugin optimizer for device_type GPU is enabled.\n"
     ]
    },
    {
     "name": "stdout",
     "output_type": "stream",
     "text": [
      "188/188 [==============================] - 3s 11ms/step\n",
      "24/24 [==============================] - 24s 1s/step - loss: 0.0127 - accuracy: 0.9995 - val_loss: 1.5841 - val_accuracy: 0.6337\n",
      "Epoch 216/1000\n"
     ]
    },
    {
     "name": "stderr",
     "output_type": "stream",
     "text": [
      "2023-12-23 16:52:14.892337: I tensorflow/core/grappler/optimizers/custom_graph_optimizer_registry.cc:113] Plugin optimizer for device_type GPU is enabled.\n"
     ]
    },
    {
     "name": "stdout",
     "output_type": "stream",
     "text": [
      "24/24 [==============================] - ETA: 0s - loss: 0.0127 - accuracy: 0.9992"
     ]
    },
    {
     "name": "stderr",
     "output_type": "stream",
     "text": [
      "2023-12-23 16:52:36.287538: I tensorflow/core/grappler/optimizers/custom_graph_optimizer_registry.cc:113] Plugin optimizer for device_type GPU is enabled.\n"
     ]
    },
    {
     "name": "stdout",
     "output_type": "stream",
     "text": [
      "24/24 [==============================] - 29s 1s/step - loss: 0.0127 - accuracy: 0.9992 - val_loss: 1.5852 - val_accuracy: 0.6371\n",
      "Epoch 217/1000\n",
      "24/24 [==============================] - 5s 220ms/step - loss: 0.0126 - accuracy: 0.9993 - val_loss: 1.5840 - val_accuracy: 0.6382\n",
      "Epoch 218/1000\n",
      "24/24 [==============================] - 6s 239ms/step - loss: 0.0142 - accuracy: 0.9982 - val_loss: 1.5858 - val_accuracy: 0.6375\n",
      "Epoch 219/1000\n",
      "24/24 [==============================] - 2s 107ms/step - loss: 0.0118 - accuracy: 0.9992 - val_loss: 1.5994 - val_accuracy: 0.6354\n",
      "Epoch 220/1000\n",
      "24/24 [==============================] - 2s 104ms/step - loss: 0.0123 - accuracy: 0.9988 - val_loss: 1.5944 - val_accuracy: 0.6351\n",
      "Epoch 221/1000\n",
      "24/24 [==============================] - 2s 94ms/step - loss: 0.0119 - accuracy: 0.9997 - val_loss: 1.5942 - val_accuracy: 0.6342\n",
      "Epoch 222/1000\n",
      "24/24 [==============================] - 2s 94ms/step - loss: 0.0121 - accuracy: 0.9985 - val_loss: 1.5931 - val_accuracy: 0.6366\n",
      "Epoch 223/1000\n",
      "24/24 [==============================] - 1s 49ms/step - loss: 0.0134 - accuracy: 0.9990 - val_loss: 1.5981 - val_accuracy: 0.6363\n",
      "Epoch 224/1000\n",
      "24/24 [==============================] - 1s 47ms/step - loss: 0.0116 - accuracy: 0.9993 - val_loss: 1.5996 - val_accuracy: 0.6322\n",
      "Epoch 225/1000\n",
      "24/24 [==============================] - 2s 72ms/step - loss: 0.0112 - accuracy: 0.9995 - val_loss: 1.5929 - val_accuracy: 0.6352\n",
      "Epoch 226/1000\n",
      "24/24 [==============================] - 1s 45ms/step - loss: 0.0120 - accuracy: 0.9990 - val_loss: 1.5923 - val_accuracy: 0.6362\n",
      "Epoch 227/1000\n",
      "24/24 [==============================] - 1s 45ms/step - loss: 0.0122 - accuracy: 0.9990 - val_loss: 1.5949 - val_accuracy: 0.6344\n",
      "Epoch 228/1000\n",
      "24/24 [==============================] - 1s 45ms/step - loss: 0.0131 - accuracy: 0.9988 - val_loss: 1.5970 - val_accuracy: 0.6359\n",
      "Epoch 229/1000\n",
      "24/24 [==============================] - 1s 47ms/step - loss: 0.0092 - accuracy: 0.9998 - val_loss: 1.5937 - val_accuracy: 0.6355\n",
      "Epoch 230/1000\n",
      "24/24 [==============================] - 1s 58ms/step - loss: 0.0101 - accuracy: 0.9998 - val_loss: 1.5868 - val_accuracy: 0.6364\n",
      "Epoch 231/1000\n",
      "24/24 [==============================] - 1s 48ms/step - loss: 0.0110 - accuracy: 0.9988 - val_loss: 1.5832 - val_accuracy: 0.6373\n",
      "Epoch 232/1000\n",
      "24/24 [==============================] - 1s 46ms/step - loss: 0.0107 - accuracy: 0.9988 - val_loss: 1.5862 - val_accuracy: 0.6387\n",
      "Epoch 233/1000\n",
      "24/24 [==============================] - 2s 87ms/step - loss: 0.0126 - accuracy: 0.9990 - val_loss: 1.5950 - val_accuracy: 0.6362\n",
      "Epoch 234/1000\n",
      "24/24 [==============================] - 1s 45ms/step - loss: 0.0107 - accuracy: 0.9997 - val_loss: 1.5945 - val_accuracy: 0.6376\n",
      "Epoch 235/1000\n",
      "24/24 [==============================] - 2s 67ms/step - loss: 0.0109 - accuracy: 0.9990 - val_loss: 1.5944 - val_accuracy: 0.6388\n",
      "Epoch 236/1000\n",
      "23/24 [===========================>..] - ETA: 0s - loss: 0.0102 - accuracy: 0.9997"
     ]
    },
    {
     "name": "stderr",
     "output_type": "stream",
     "text": [
      "2023-12-23 16:53:21.699794: I tensorflow/core/grappler/optimizers/custom_graph_optimizer_registry.cc:113] Plugin optimizer for device_type GPU is enabled.\n"
     ]
    },
    {
     "name": "stdout",
     "output_type": "stream",
     "text": [
      "188/188 [==============================] - 1s 2ms/step\n"
     ]
    },
    {
     "name": "stderr",
     "output_type": "stream",
     "text": [
      "2023-12-23 16:53:23.218827: I tensorflow/core/grappler/optimizers/custom_graph_optimizer_registry.cc:113] Plugin optimizer for device_type GPU is enabled.\n"
     ]
    },
    {
     "name": "stdout",
     "output_type": "stream",
     "text": [
      "188/188 [==============================] - 1s 3ms/step\n"
     ]
    },
    {
     "name": "stderr",
     "output_type": "stream",
     "text": [
      "2023-12-23 16:53:24.527450: I tensorflow/core/grappler/optimizers/custom_graph_optimizer_registry.cc:113] Plugin optimizer for device_type GPU is enabled.\n"
     ]
    },
    {
     "name": "stdout",
     "output_type": "stream",
     "text": [
      "188/188 [==============================] - 2s 5ms/step\n"
     ]
    },
    {
     "name": "stderr",
     "output_type": "stream",
     "text": [
      "2023-12-23 16:53:26.370674: I tensorflow/core/grappler/optimizers/custom_graph_optimizer_registry.cc:113] Plugin optimizer for device_type GPU is enabled.\n"
     ]
    },
    {
     "name": "stdout",
     "output_type": "stream",
     "text": [
      "188/188 [==============================] - 2s 7ms/step\n"
     ]
    },
    {
     "name": "stderr",
     "output_type": "stream",
     "text": [
      "2023-12-23 16:53:29.042089: I tensorflow/core/grappler/optimizers/custom_graph_optimizer_registry.cc:113] Plugin optimizer for device_type GPU is enabled.\n"
     ]
    },
    {
     "name": "stdout",
     "output_type": "stream",
     "text": [
      "188/188 [==============================] - 2s 8ms/step\n"
     ]
    },
    {
     "name": "stderr",
     "output_type": "stream",
     "text": [
      "2023-12-23 16:53:30.959022: I tensorflow/core/grappler/optimizers/custom_graph_optimizer_registry.cc:113] Plugin optimizer for device_type GPU is enabled.\n"
     ]
    },
    {
     "name": "stdout",
     "output_type": "stream",
     "text": [
      "188/188 [==============================] - 3s 9ms/step\n"
     ]
    },
    {
     "name": "stderr",
     "output_type": "stream",
     "text": [
      "2023-12-23 16:53:34.539683: I tensorflow/core/grappler/optimizers/custom_graph_optimizer_registry.cc:113] Plugin optimizer for device_type GPU is enabled.\n"
     ]
    },
    {
     "name": "stdout",
     "output_type": "stream",
     "text": [
      "188/188 [==============================] - 3s 12ms/step\n"
     ]
    },
    {
     "name": "stderr",
     "output_type": "stream",
     "text": [
      "2023-12-23 16:53:37.789419: I tensorflow/core/grappler/optimizers/custom_graph_optimizer_registry.cc:113] Plugin optimizer for device_type GPU is enabled.\n"
     ]
    },
    {
     "name": "stdout",
     "output_type": "stream",
     "text": [
      "188/188 [==============================] - 5s 12ms/step\n"
     ]
    },
    {
     "name": "stderr",
     "output_type": "stream",
     "text": [
      "2023-12-23 16:53:42.403776: I tensorflow/core/grappler/optimizers/custom_graph_optimizer_registry.cc:113] Plugin optimizer for device_type GPU is enabled.\n"
     ]
    },
    {
     "name": "stdout",
     "output_type": "stream",
     "text": [
      "188/188 [==============================] - 4s 11ms/step\n"
     ]
    },
    {
     "name": "stderr",
     "output_type": "stream",
     "text": [
      "2023-12-23 16:53:46.938515: I tensorflow/core/grappler/optimizers/custom_graph_optimizer_registry.cc:113] Plugin optimizer for device_type GPU is enabled.\n"
     ]
    },
    {
     "name": "stdout",
     "output_type": "stream",
     "text": [
      "188/188 [==============================] - 3s 12ms/step\n",
      "24/24 [==============================] - 29s 1s/step - loss: 0.0116 - accuracy: 0.9993 - val_loss: 1.5955 - val_accuracy: 0.6403\n",
      "Epoch 237/1000\n"
     ]
    },
    {
     "name": "stderr",
     "output_type": "stream",
     "text": [
      "2023-12-23 16:53:50.041398: I tensorflow/core/grappler/optimizers/custom_graph_optimizer_registry.cc:113] Plugin optimizer for device_type GPU is enabled.\n"
     ]
    },
    {
     "name": "stdout",
     "output_type": "stream",
     "text": [
      "24/24 [==============================] - ETA: 0s - loss: 0.0101 - accuracy: 0.9992"
     ]
    },
    {
     "name": "stderr",
     "output_type": "stream",
     "text": [
      "2023-12-23 16:54:23.371939: I tensorflow/core/grappler/optimizers/custom_graph_optimizer_registry.cc:113] Plugin optimizer for device_type GPU is enabled.\n"
     ]
    },
    {
     "name": "stdout",
     "output_type": "stream",
     "text": [
      "24/24 [==============================] - 41s 1s/step - loss: 0.0101 - accuracy: 0.9992 - val_loss: 1.5985 - val_accuracy: 0.6398\n",
      "Epoch 238/1000\n",
      "24/24 [==============================] - 6s 243ms/step - loss: 0.0097 - accuracy: 0.9993 - val_loss: 1.5962 - val_accuracy: 0.6395\n",
      "Epoch 239/1000\n",
      "24/24 [==============================] - 3s 127ms/step - loss: 0.0100 - accuracy: 0.9993 - val_loss: 1.5973 - val_accuracy: 0.6396\n",
      "Epoch 240/1000\n",
      "24/24 [==============================] - 2s 76ms/step - loss: 0.0096 - accuracy: 0.9993 - val_loss: 1.6011 - val_accuracy: 0.6363\n",
      "Epoch 241/1000\n",
      "24/24 [==============================] - 2s 87ms/step - loss: 0.0101 - accuracy: 0.9993 - val_loss: 1.6079 - val_accuracy: 0.6380\n",
      "Epoch 242/1000\n",
      "24/24 [==============================] - 1s 49ms/step - loss: 0.0091 - accuracy: 0.9995 - val_loss: 1.6132 - val_accuracy: 0.6355\n",
      "Epoch 243/1000\n",
      "24/24 [==============================] - 2s 98ms/step - loss: 0.0095 - accuracy: 0.9995 - val_loss: 1.6129 - val_accuracy: 0.6377\n",
      "Epoch 244/1000\n",
      "24/24 [==============================] - 3s 112ms/step - loss: 0.0093 - accuracy: 0.9995 - val_loss: 1.6189 - val_accuracy: 0.6378\n",
      "Epoch 245/1000\n",
      "24/24 [==============================] - 2s 82ms/step - loss: 0.0102 - accuracy: 0.9995 - val_loss: 1.6217 - val_accuracy: 0.6375\n",
      "Epoch 246/1000\n",
      "24/24 [==============================] - 2s 97ms/step - loss: 0.0103 - accuracy: 0.9990 - val_loss: 1.6175 - val_accuracy: 0.6387\n",
      "Epoch 247/1000\n",
      "24/24 [==============================] - 1s 47ms/step - loss: 0.0113 - accuracy: 0.9987 - val_loss: 1.6181 - val_accuracy: 0.6383\n",
      "Epoch 248/1000\n",
      "24/24 [==============================] - 1s 46ms/step - loss: 0.0102 - accuracy: 0.9993 - val_loss: 1.6120 - val_accuracy: 0.6367\n",
      "Epoch 249/1000\n",
      "24/24 [==============================] - 1s 45ms/step - loss: 0.0099 - accuracy: 0.9990 - val_loss: 1.6120 - val_accuracy: 0.6380\n",
      "Epoch 250/1000\n",
      "24/24 [==============================] - 1s 47ms/step - loss: 0.0100 - accuracy: 0.9997 - val_loss: 1.6124 - val_accuracy: 0.6404\n",
      "Epoch 251/1000\n",
      "24/24 [==============================] - 2s 98ms/step - loss: 0.0106 - accuracy: 0.9987 - val_loss: 1.6224 - val_accuracy: 0.6377\n",
      "Epoch 252/1000\n",
      "24/24 [==============================] - 1s 45ms/step - loss: 0.0091 - accuracy: 0.9993 - val_loss: 1.6186 - val_accuracy: 0.6404\n",
      "Epoch 253/1000\n",
      "24/24 [==============================] - 1s 45ms/step - loss: 0.0099 - accuracy: 0.9993 - val_loss: 1.6147 - val_accuracy: 0.6410\n",
      "Epoch 254/1000\n",
      "24/24 [==============================] - 1s 45ms/step - loss: 0.0100 - accuracy: 0.9993 - val_loss: 1.6154 - val_accuracy: 0.6374\n",
      "Epoch 255/1000\n",
      "24/24 [==============================] - 1s 45ms/step - loss: 0.0105 - accuracy: 0.9990 - val_loss: 1.6160 - val_accuracy: 0.6373\n",
      "Epoch 256/1000\n",
      "24/24 [==============================] - 1s 45ms/step - loss: 0.0078 - accuracy: 0.9995 - val_loss: 1.6108 - val_accuracy: 0.6403\n",
      "Epoch 257/1000\n",
      "24/24 [==============================] - 1s 45ms/step - loss: 0.0095 - accuracy: 0.9992 - val_loss: 1.6050 - val_accuracy: 0.6411\n",
      "Epoch 258/1000\n",
      "24/24 [==============================] - 1s 44ms/step - loss: 0.0099 - accuracy: 0.9995 - val_loss: 1.6103 - val_accuracy: 0.6428\n",
      "Epoch 259/1000\n",
      "23/24 [===========================>..] - ETA: 0s - loss: 0.0101 - accuracy: 0.9990"
     ]
    },
    {
     "name": "stderr",
     "output_type": "stream",
     "text": [
      "2023-12-23 16:55:09.069018: I tensorflow/core/grappler/optimizers/custom_graph_optimizer_registry.cc:113] Plugin optimizer for device_type GPU is enabled.\n"
     ]
    },
    {
     "name": "stdout",
     "output_type": "stream",
     "text": [
      "188/188 [==============================] - 1s 3ms/step\n"
     ]
    },
    {
     "name": "stderr",
     "output_type": "stream",
     "text": [
      "2023-12-23 16:55:10.594244: I tensorflow/core/grappler/optimizers/custom_graph_optimizer_registry.cc:113] Plugin optimizer for device_type GPU is enabled.\n"
     ]
    },
    {
     "name": "stdout",
     "output_type": "stream",
     "text": [
      "188/188 [==============================] - 1s 3ms/step\n"
     ]
    },
    {
     "name": "stderr",
     "output_type": "stream",
     "text": [
      "2023-12-23 16:55:11.762548: I tensorflow/core/grappler/optimizers/custom_graph_optimizer_registry.cc:113] Plugin optimizer for device_type GPU is enabled.\n"
     ]
    },
    {
     "name": "stdout",
     "output_type": "stream",
     "text": [
      "188/188 [==============================] - 2s 5ms/step\n"
     ]
    },
    {
     "name": "stderr",
     "output_type": "stream",
     "text": [
      "2023-12-23 16:55:13.590532: I tensorflow/core/grappler/optimizers/custom_graph_optimizer_registry.cc:113] Plugin optimizer for device_type GPU is enabled.\n"
     ]
    },
    {
     "name": "stdout",
     "output_type": "stream",
     "text": [
      "188/188 [==============================] - 3s 9ms/step\n"
     ]
    },
    {
     "name": "stderr",
     "output_type": "stream",
     "text": [
      "2023-12-23 16:55:16.478686: I tensorflow/core/grappler/optimizers/custom_graph_optimizer_registry.cc:113] Plugin optimizer for device_type GPU is enabled.\n"
     ]
    },
    {
     "name": "stdout",
     "output_type": "stream",
     "text": [
      "188/188 [==============================] - 2s 9ms/step\n"
     ]
    },
    {
     "name": "stderr",
     "output_type": "stream",
     "text": [
      "2023-12-23 16:55:18.874068: I tensorflow/core/grappler/optimizers/custom_graph_optimizer_registry.cc:113] Plugin optimizer for device_type GPU is enabled.\n"
     ]
    },
    {
     "name": "stdout",
     "output_type": "stream",
     "text": [
      "188/188 [==============================] - 3s 11ms/step\n"
     ]
    },
    {
     "name": "stderr",
     "output_type": "stream",
     "text": [
      "2023-12-23 16:55:21.762506: I tensorflow/core/grappler/optimizers/custom_graph_optimizer_registry.cc:113] Plugin optimizer for device_type GPU is enabled.\n"
     ]
    },
    {
     "name": "stdout",
     "output_type": "stream",
     "text": [
      "188/188 [==============================] - 4s 9ms/step\n"
     ]
    },
    {
     "name": "stderr",
     "output_type": "stream",
     "text": [
      "2023-12-23 16:55:26.006941: I tensorflow/core/grappler/optimizers/custom_graph_optimizer_registry.cc:113] Plugin optimizer for device_type GPU is enabled.\n"
     ]
    },
    {
     "name": "stdout",
     "output_type": "stream",
     "text": [
      "188/188 [==============================] - 6s 17ms/step\n"
     ]
    },
    {
     "name": "stderr",
     "output_type": "stream",
     "text": [
      "2023-12-23 16:55:31.655720: I tensorflow/core/grappler/optimizers/custom_graph_optimizer_registry.cc:113] Plugin optimizer for device_type GPU is enabled.\n"
     ]
    },
    {
     "name": "stdout",
     "output_type": "stream",
     "text": [
      "188/188 [==============================] - 6s 18ms/step\n"
     ]
    },
    {
     "name": "stderr",
     "output_type": "stream",
     "text": [
      "2023-12-23 16:55:38.084364: I tensorflow/core/grappler/optimizers/custom_graph_optimizer_registry.cc:113] Plugin optimizer for device_type GPU is enabled.\n"
     ]
    },
    {
     "name": "stdout",
     "output_type": "stream",
     "text": [
      "188/188 [==============================] - 5s 12ms/step\n",
      "24/24 [==============================] - 35s 2s/step - loss: 0.0109 - accuracy: 0.9987 - val_loss: 1.6187 - val_accuracy: 0.6434\n",
      "Epoch 260/1000\n"
     ]
    },
    {
     "name": "stderr",
     "output_type": "stream",
     "text": [
      "2023-12-23 16:55:43.396501: I tensorflow/core/grappler/optimizers/custom_graph_optimizer_registry.cc:113] Plugin optimizer for device_type GPU is enabled.\n"
     ]
    },
    {
     "name": "stdout",
     "output_type": "stream",
     "text": [
      "24/24 [==============================] - ETA: 0s - loss: 0.0092 - accuracy: 0.9993"
     ]
    },
    {
     "name": "stderr",
     "output_type": "stream",
     "text": [
      "2023-12-23 16:56:17.679265: I tensorflow/core/grappler/optimizers/custom_graph_optimizer_registry.cc:113] Plugin optimizer for device_type GPU is enabled.\n"
     ]
    },
    {
     "name": "stdout",
     "output_type": "stream",
     "text": [
      "24/24 [==============================] - 43s 1s/step - loss: 0.0092 - accuracy: 0.9993 - val_loss: 1.6192 - val_accuracy: 0.6408\n",
      "Epoch 261/1000\n",
      "24/24 [==============================] - 6s 218ms/step - loss: 0.0091 - accuracy: 0.9992 - val_loss: 1.6240 - val_accuracy: 0.6422\n",
      "Epoch 262/1000\n",
      "24/24 [==============================] - 2s 71ms/step - loss: 0.0087 - accuracy: 0.9993 - val_loss: 1.6261 - val_accuracy: 0.6396\n",
      "Epoch 263/1000\n",
      "24/24 [==============================] - 3s 138ms/step - loss: 0.0098 - accuracy: 0.9993 - val_loss: 1.6228 - val_accuracy: 0.6401\n",
      "Epoch 264/1000\n",
      "24/24 [==============================] - 3s 109ms/step - loss: 0.0093 - accuracy: 0.9988 - val_loss: 1.6191 - val_accuracy: 0.6443\n",
      "Epoch 265/1000\n",
      "24/24 [==============================] - 1s 47ms/step - loss: 0.0086 - accuracy: 0.9998 - val_loss: 1.6258 - val_accuracy: 0.6434\n",
      "Epoch 266/1000\n",
      "24/24 [==============================] - 1s 51ms/step - loss: 0.0088 - accuracy: 0.9992 - val_loss: 1.6185 - val_accuracy: 0.6436\n",
      "Epoch 267/1000\n",
      "24/24 [==============================] - 1s 46ms/step - loss: 0.0098 - accuracy: 0.9992 - val_loss: 1.6225 - val_accuracy: 0.6413\n",
      "Epoch 268/1000\n",
      "24/24 [==============================] - 1s 45ms/step - loss: 0.0085 - accuracy: 0.9993 - val_loss: 1.6247 - val_accuracy: 0.6439\n",
      "Epoch 269/1000\n",
      "24/24 [==============================] - 2s 69ms/step - loss: 0.0096 - accuracy: 0.9990 - val_loss: 1.6250 - val_accuracy: 0.6452\n",
      "Epoch 270/1000\n",
      "24/24 [==============================] - 1s 58ms/step - loss: 0.0075 - accuracy: 0.9993 - val_loss: 1.6292 - val_accuracy: 0.6430\n",
      "Epoch 271/1000\n",
      "24/24 [==============================] - 1s 56ms/step - loss: 0.0078 - accuracy: 0.9992 - val_loss: 1.6213 - val_accuracy: 0.6433\n",
      "Epoch 272/1000\n",
      "24/24 [==============================] - 2s 71ms/step - loss: 0.0076 - accuracy: 0.9998 - val_loss: 1.6139 - val_accuracy: 0.6481\n",
      "Epoch 273/1000\n",
      "24/24 [==============================] - 2s 98ms/step - loss: 0.0077 - accuracy: 0.9995 - val_loss: 1.6127 - val_accuracy: 0.6492\n",
      "Epoch 274/1000\n",
      "24/24 [==============================] - 2s 103ms/step - loss: 0.0075 - accuracy: 0.9997 - val_loss: 1.6115 - val_accuracy: 0.6482\n",
      "Epoch 275/1000\n",
      "24/24 [==============================] - 1s 47ms/step - loss: 0.0080 - accuracy: 0.9992 - val_loss: 1.6092 - val_accuracy: 0.6472\n",
      "Epoch 276/1000\n",
      "24/24 [==============================] - 1s 47ms/step - loss: 0.0064 - accuracy: 0.9997 - val_loss: 1.6135 - val_accuracy: 0.6445\n",
      "Epoch 277/1000\n",
      "24/24 [==============================] - 1s 46ms/step - loss: 0.0071 - accuracy: 0.9997 - val_loss: 1.6165 - val_accuracy: 0.6455\n",
      "Epoch 278/1000\n",
      "24/24 [==============================] - 1s 46ms/step - loss: 0.0070 - accuracy: 0.9995 - val_loss: 1.6168 - val_accuracy: 0.6469\n",
      "Epoch 279/1000\n",
      "24/24 [==============================] - 1s 49ms/step - loss: 0.0069 - accuracy: 0.9995 - val_loss: 1.6195 - val_accuracy: 0.6510\n",
      "Epoch 280/1000\n",
      "24/24 [==============================] - 1s 51ms/step - loss: 0.0074 - accuracy: 0.9990 - val_loss: 1.6212 - val_accuracy: 0.6514\n",
      "Epoch 281/1000\n",
      "24/24 [==============================] - 1s 45ms/step - loss: 0.0074 - accuracy: 0.9997 - val_loss: 1.6179 - val_accuracy: 0.6507\n",
      "Epoch 282/1000\n",
      "24/24 [==============================] - 1s 46ms/step - loss: 0.0069 - accuracy: 0.9997 - val_loss: 1.6172 - val_accuracy: 0.6494\n",
      "Epoch 283/1000\n",
      "24/24 [==============================] - 1s 45ms/step - loss: 0.0069 - accuracy: 0.9993 - val_loss: 1.6201 - val_accuracy: 0.6491\n",
      "Epoch 284/1000\n",
      "23/24 [===========================>..] - ETA: 0s - loss: 0.0060 - accuracy: 0.9993"
     ]
    },
    {
     "name": "stderr",
     "output_type": "stream",
     "text": [
      "2023-12-23 16:57:06.689483: I tensorflow/core/grappler/optimizers/custom_graph_optimizer_registry.cc:113] Plugin optimizer for device_type GPU is enabled.\n"
     ]
    },
    {
     "name": "stdout",
     "output_type": "stream",
     "text": [
      "188/188 [==============================] - 1s 3ms/step\n"
     ]
    },
    {
     "name": "stderr",
     "output_type": "stream",
     "text": [
      "2023-12-23 16:57:08.435831: I tensorflow/core/grappler/optimizers/custom_graph_optimizer_registry.cc:113] Plugin optimizer for device_type GPU is enabled.\n"
     ]
    },
    {
     "name": "stdout",
     "output_type": "stream",
     "text": [
      "188/188 [==============================] - 1s 4ms/step\n"
     ]
    },
    {
     "name": "stderr",
     "output_type": "stream",
     "text": [
      "2023-12-23 16:57:09.749175: I tensorflow/core/grappler/optimizers/custom_graph_optimizer_registry.cc:113] Plugin optimizer for device_type GPU is enabled.\n"
     ]
    },
    {
     "name": "stdout",
     "output_type": "stream",
     "text": [
      "188/188 [==============================] - 2s 5ms/step\n"
     ]
    },
    {
     "name": "stderr",
     "output_type": "stream",
     "text": [
      "2023-12-23 16:57:11.679802: I tensorflow/core/grappler/optimizers/custom_graph_optimizer_registry.cc:113] Plugin optimizer for device_type GPU is enabled.\n"
     ]
    },
    {
     "name": "stdout",
     "output_type": "stream",
     "text": [
      "188/188 [==============================] - 2s 6ms/step\n"
     ]
    },
    {
     "name": "stderr",
     "output_type": "stream",
     "text": [
      "2023-12-23 16:57:14.079169: I tensorflow/core/grappler/optimizers/custom_graph_optimizer_registry.cc:113] Plugin optimizer for device_type GPU is enabled.\n"
     ]
    },
    {
     "name": "stdout",
     "output_type": "stream",
     "text": [
      "188/188 [==============================] - 3s 8ms/step\n"
     ]
    },
    {
     "name": "stderr",
     "output_type": "stream",
     "text": [
      "2023-12-23 16:57:17.109785: I tensorflow/core/grappler/optimizers/custom_graph_optimizer_registry.cc:113] Plugin optimizer for device_type GPU is enabled.\n"
     ]
    },
    {
     "name": "stdout",
     "output_type": "stream",
     "text": [
      "188/188 [==============================] - 4s 15ms/step\n"
     ]
    },
    {
     "name": "stderr",
     "output_type": "stream",
     "text": [
      "2023-12-23 16:57:20.844473: I tensorflow/core/grappler/optimizers/custom_graph_optimizer_registry.cc:113] Plugin optimizer for device_type GPU is enabled.\n"
     ]
    },
    {
     "name": "stdout",
     "output_type": "stream",
     "text": [
      "188/188 [==============================] - 4s 9ms/step\n"
     ]
    },
    {
     "name": "stderr",
     "output_type": "stream",
     "text": [
      "2023-12-23 16:57:24.755227: I tensorflow/core/grappler/optimizers/custom_graph_optimizer_registry.cc:113] Plugin optimizer for device_type GPU is enabled.\n"
     ]
    },
    {
     "name": "stdout",
     "output_type": "stream",
     "text": [
      "188/188 [==============================] - 4s 18ms/step\n"
     ]
    },
    {
     "name": "stderr",
     "output_type": "stream",
     "text": [
      "2023-12-23 16:57:29.286422: I tensorflow/core/grappler/optimizers/custom_graph_optimizer_registry.cc:113] Plugin optimizer for device_type GPU is enabled.\n"
     ]
    },
    {
     "name": "stdout",
     "output_type": "stream",
     "text": [
      "188/188 [==============================] - 6s 17ms/step\n"
     ]
    },
    {
     "name": "stderr",
     "output_type": "stream",
     "text": [
      "2023-12-23 16:57:35.291301: I tensorflow/core/grappler/optimizers/custom_graph_optimizer_registry.cc:113] Plugin optimizer for device_type GPU is enabled.\n"
     ]
    },
    {
     "name": "stdout",
     "output_type": "stream",
     "text": [
      "188/188 [==============================] - 7s 21ms/step\n",
      "24/24 [==============================] - 37s 2s/step - loss: 0.0068 - accuracy: 0.9992 - val_loss: 1.6193 - val_accuracy: 0.6497\n",
      "Epoch 285/1000\n"
     ]
    },
    {
     "name": "stderr",
     "output_type": "stream",
     "text": [
      "2023-12-23 16:57:42.249907: I tensorflow/core/grappler/optimizers/custom_graph_optimizer_registry.cc:113] Plugin optimizer for device_type GPU is enabled.\n"
     ]
    },
    {
     "name": "stdout",
     "output_type": "stream",
     "text": [
      "24/24 [==============================] - ETA: 0s - loss: 0.0081 - accuracy: 0.9988"
     ]
    },
    {
     "name": "stderr",
     "output_type": "stream",
     "text": [
      "2023-12-23 16:58:09.323179: I tensorflow/core/grappler/optimizers/custom_graph_optimizer_registry.cc:113] Plugin optimizer for device_type GPU is enabled.\n"
     ]
    },
    {
     "name": "stdout",
     "output_type": "stream",
     "text": [
      "24/24 [==============================] - 35s 1s/step - loss: 0.0081 - accuracy: 0.9988 - val_loss: 1.6186 - val_accuracy: 0.6472\n",
      "Epoch 286/1000\n",
      "24/24 [==============================] - 3s 137ms/step - loss: 0.0073 - accuracy: 0.9990 - val_loss: 1.6153 - val_accuracy: 0.6485\n",
      "Epoch 287/1000\n",
      "24/24 [==============================] - 2s 73ms/step - loss: 0.0071 - accuracy: 0.9993 - val_loss: 1.6168 - val_accuracy: 0.6466\n",
      "Epoch 288/1000\n",
      "24/24 [==============================] - 2s 75ms/step - loss: 0.0066 - accuracy: 0.9997 - val_loss: 1.6168 - val_accuracy: 0.6462\n",
      "Epoch 289/1000\n",
      "24/24 [==============================] - 1s 55ms/step - loss: 0.0056 - accuracy: 0.9998 - val_loss: 1.6178 - val_accuracy: 0.6471\n",
      "Epoch 290/1000\n",
      "24/24 [==============================] - 3s 114ms/step - loss: 0.0066 - accuracy: 0.9993 - val_loss: 1.6207 - val_accuracy: 0.6482\n",
      "Epoch 291/1000\n",
      "24/24 [==============================] - 1s 58ms/step - loss: 0.0062 - accuracy: 0.9995 - val_loss: 1.6280 - val_accuracy: 0.6463\n",
      "Epoch 292/1000\n",
      "24/24 [==============================] - 1s 56ms/step - loss: 0.0066 - accuracy: 0.9995 - val_loss: 1.6275 - val_accuracy: 0.6480\n",
      "Epoch 293/1000\n",
      "24/24 [==============================] - 1s 45ms/step - loss: 0.0069 - accuracy: 0.9995 - val_loss: 1.6331 - val_accuracy: 0.6458\n",
      "Epoch 294/1000\n",
      "24/24 [==============================] - 2s 97ms/step - loss: 0.0074 - accuracy: 0.9992 - val_loss: 1.6417 - val_accuracy: 0.6445\n",
      "Epoch 295/1000\n",
      "24/24 [==============================] - 1s 45ms/step - loss: 0.0064 - accuracy: 0.9995 - val_loss: 1.6470 - val_accuracy: 0.6462\n",
      "Epoch 296/1000\n",
      "24/24 [==============================] - 1s 44ms/step - loss: 0.0064 - accuracy: 0.9997 - val_loss: 1.6516 - val_accuracy: 0.6451\n",
      "Epoch 297/1000\n",
      "24/24 [==============================] - 1s 45ms/step - loss: 0.0081 - accuracy: 0.9988 - val_loss: 1.6515 - val_accuracy: 0.6442\n",
      "Epoch 298/1000\n",
      "24/24 [==============================] - 6s 257ms/step - loss: 0.0061 - accuracy: 0.9997 - val_loss: 1.6697 - val_accuracy: 0.6426\n",
      "Epoch 299/1000\n",
      "24/24 [==============================] - 1s 48ms/step - loss: 0.0078 - accuracy: 0.9995 - val_loss: 1.6627 - val_accuracy: 0.6445\n",
      "Epoch 300/1000\n",
      "24/24 [==============================] - 1s 46ms/step - loss: 0.0084 - accuracy: 0.9987 - val_loss: 1.6615 - val_accuracy: 0.6454\n",
      "Epoch 301/1000\n",
      "24/24 [==============================] - 2s 65ms/step - loss: 0.0076 - accuracy: 0.9988 - val_loss: 1.6607 - val_accuracy: 0.6474\n",
      "Epoch 302/1000\n",
      "24/24 [==============================] - 1s 63ms/step - loss: 0.0077 - accuracy: 0.9987 - val_loss: 1.6673 - val_accuracy: 0.6478\n",
      "Epoch 303/1000\n",
      "24/24 [==============================] - 1s 61ms/step - loss: 0.0071 - accuracy: 0.9995 - val_loss: 1.6620 - val_accuracy: 0.6496\n",
      "Epoch 304/1000\n",
      "24/24 [==============================] - 1s 46ms/step - loss: 0.0069 - accuracy: 0.9993 - val_loss: 1.6513 - val_accuracy: 0.6494\n",
      "Epoch 305/1000\n",
      "24/24 [==============================] - 1s 45ms/step - loss: 0.0050 - accuracy: 0.9997 - val_loss: 1.6521 - val_accuracy: 0.6483\n",
      "Epoch 306/1000\n",
      "24/24 [==============================] - 1s 45ms/step - loss: 0.0057 - accuracy: 0.9998 - val_loss: 1.6447 - val_accuracy: 0.6498\n",
      "Epoch 307/1000\n",
      "24/24 [==============================] - 1s 45ms/step - loss: 0.0058 - accuracy: 0.9995 - val_loss: 1.6513 - val_accuracy: 0.6500\n",
      "Epoch 308/1000\n",
      "24/24 [==============================] - 1s 56ms/step - loss: 0.0058 - accuracy: 0.9997 - val_loss: 1.6495 - val_accuracy: 0.6481\n",
      "Epoch 309/1000\n",
      "24/24 [==============================] - 2s 83ms/step - loss: 0.0050 - accuracy: 0.9998 - val_loss: 1.6468 - val_accuracy: 0.6482\n",
      "Epoch 310/1000\n",
      "24/24 [==============================] - 1s 44ms/step - loss: 0.0061 - accuracy: 0.9990 - val_loss: 1.6488 - val_accuracy: 0.6503\n",
      "Epoch 311/1000\n",
      "24/24 [==============================] - 1s 45ms/step - loss: 0.0060 - accuracy: 0.9995 - val_loss: 1.6585 - val_accuracy: 0.6465\n",
      "Epoch 312/1000\n",
      "23/24 [===========================>..] - ETA: 0s - loss: 0.0050 - accuracy: 0.9998"
     ]
    },
    {
     "name": "stderr",
     "output_type": "stream",
     "text": [
      "2023-12-23 16:59:00.993195: I tensorflow/core/grappler/optimizers/custom_graph_optimizer_registry.cc:113] Plugin optimizer for device_type GPU is enabled.\n"
     ]
    },
    {
     "name": "stdout",
     "output_type": "stream",
     "text": [
      "188/188 [==============================] - 1s 3ms/step\n"
     ]
    },
    {
     "name": "stderr",
     "output_type": "stream",
     "text": [
      "2023-12-23 16:59:02.576226: I tensorflow/core/grappler/optimizers/custom_graph_optimizer_registry.cc:113] Plugin optimizer for device_type GPU is enabled.\n"
     ]
    },
    {
     "name": "stdout",
     "output_type": "stream",
     "text": [
      "188/188 [==============================] - 1s 2ms/step\n"
     ]
    },
    {
     "name": "stderr",
     "output_type": "stream",
     "text": [
      "2023-12-23 16:59:03.707090: I tensorflow/core/grappler/optimizers/custom_graph_optimizer_registry.cc:113] Plugin optimizer for device_type GPU is enabled.\n"
     ]
    },
    {
     "name": "stdout",
     "output_type": "stream",
     "text": [
      "188/188 [==============================] - 1s 4ms/step\n"
     ]
    },
    {
     "name": "stderr",
     "output_type": "stream",
     "text": [
      "2023-12-23 16:59:04.808022: I tensorflow/core/grappler/optimizers/custom_graph_optimizer_registry.cc:113] Plugin optimizer for device_type GPU is enabled.\n"
     ]
    },
    {
     "name": "stdout",
     "output_type": "stream",
     "text": [
      "188/188 [==============================] - 2s 8ms/step\n"
     ]
    },
    {
     "name": "stderr",
     "output_type": "stream",
     "text": [
      "2023-12-23 16:59:06.630195: I tensorflow/core/grappler/optimizers/custom_graph_optimizer_registry.cc:113] Plugin optimizer for device_type GPU is enabled.\n"
     ]
    },
    {
     "name": "stdout",
     "output_type": "stream",
     "text": [
      "188/188 [==============================] - 3s 8ms/step\n"
     ]
    },
    {
     "name": "stderr",
     "output_type": "stream",
     "text": [
      "2023-12-23 16:59:09.767696: I tensorflow/core/grappler/optimizers/custom_graph_optimizer_registry.cc:113] Plugin optimizer for device_type GPU is enabled.\n"
     ]
    },
    {
     "name": "stdout",
     "output_type": "stream",
     "text": [
      "188/188 [==============================] - 3s 6ms/step\n"
     ]
    },
    {
     "name": "stderr",
     "output_type": "stream",
     "text": [
      "2023-12-23 16:59:12.798394: I tensorflow/core/grappler/optimizers/custom_graph_optimizer_registry.cc:113] Plugin optimizer for device_type GPU is enabled.\n"
     ]
    },
    {
     "name": "stdout",
     "output_type": "stream",
     "text": [
      "188/188 [==============================] - 5s 14ms/step\n"
     ]
    },
    {
     "name": "stderr",
     "output_type": "stream",
     "text": [
      "2023-12-23 16:59:17.615128: I tensorflow/core/grappler/optimizers/custom_graph_optimizer_registry.cc:113] Plugin optimizer for device_type GPU is enabled.\n"
     ]
    },
    {
     "name": "stdout",
     "output_type": "stream",
     "text": [
      "188/188 [==============================] - 5s 16ms/step\n"
     ]
    },
    {
     "name": "stderr",
     "output_type": "stream",
     "text": [
      "2023-12-23 16:59:23.033610: I tensorflow/core/grappler/optimizers/custom_graph_optimizer_registry.cc:113] Plugin optimizer for device_type GPU is enabled.\n"
     ]
    },
    {
     "name": "stdout",
     "output_type": "stream",
     "text": [
      "188/188 [==============================] - 5s 13ms/step\n"
     ]
    },
    {
     "name": "stderr",
     "output_type": "stream",
     "text": [
      "2023-12-23 16:59:28.081818: I tensorflow/core/grappler/optimizers/custom_graph_optimizer_registry.cc:113] Plugin optimizer for device_type GPU is enabled.\n"
     ]
    },
    {
     "name": "stdout",
     "output_type": "stream",
     "text": [
      "188/188 [==============================] - 5s 11ms/step\n",
      "24/24 [==============================] - 33s 1s/step - loss: 0.0060 - accuracy: 0.9995 - val_loss: 1.6532 - val_accuracy: 0.6465\n",
      "Epoch 313/1000\n"
     ]
    },
    {
     "name": "stderr",
     "output_type": "stream",
     "text": [
      "2023-12-23 16:59:33.137901: I tensorflow/core/grappler/optimizers/custom_graph_optimizer_registry.cc:113] Plugin optimizer for device_type GPU is enabled.\n"
     ]
    },
    {
     "name": "stdout",
     "output_type": "stream",
     "text": [
      "24/24 [==============================] - ETA: 0s - loss: 0.0061 - accuracy: 0.9997"
     ]
    },
    {
     "name": "stderr",
     "output_type": "stream",
     "text": [
      "2023-12-23 17:00:08.421246: I tensorflow/core/grappler/optimizers/custom_graph_optimizer_registry.cc:113] Plugin optimizer for device_type GPU is enabled.\n"
     ]
    },
    {
     "name": "stdout",
     "output_type": "stream",
     "text": [
      "24/24 [==============================] - 42s 1s/step - loss: 0.0061 - accuracy: 0.9997 - val_loss: 1.6645 - val_accuracy: 0.6496\n",
      "Epoch 314/1000\n",
      "24/24 [==============================] - 6s 235ms/step - loss: 0.0050 - accuracy: 0.9993 - val_loss: 1.6601 - val_accuracy: 0.6508\n",
      "Epoch 315/1000\n",
      "24/24 [==============================] - 1s 63ms/step - loss: 0.0045 - accuracy: 1.0000 - val_loss: 1.6583 - val_accuracy: 0.6501\n",
      "Epoch 316/1000\n",
      "24/24 [==============================] - 1s 47ms/step - loss: 0.0055 - accuracy: 0.9995 - val_loss: 1.6525 - val_accuracy: 0.6517\n",
      "Epoch 317/1000\n",
      "24/24 [==============================] - 3s 123ms/step - loss: 0.0047 - accuracy: 0.9995 - val_loss: 1.6518 - val_accuracy: 0.6512\n",
      "Epoch 318/1000\n",
      "24/24 [==============================] - 6s 254ms/step - loss: 0.0049 - accuracy: 0.9993 - val_loss: 1.6559 - val_accuracy: 0.6479\n",
      "Epoch 319/1000\n",
      "24/24 [==============================] - 3s 109ms/step - loss: 0.0051 - accuracy: 0.9995 - val_loss: 1.6608 - val_accuracy: 0.6512\n",
      "Epoch 320/1000\n",
      "24/24 [==============================] - 2s 88ms/step - loss: 0.0049 - accuracy: 0.9995 - val_loss: 1.6640 - val_accuracy: 0.6507\n",
      "Epoch 321/1000\n",
      "24/24 [==============================] - 1s 44ms/step - loss: 0.0056 - accuracy: 0.9993 - val_loss: 1.6587 - val_accuracy: 0.6512\n",
      "Epoch 322/1000\n",
      "24/24 [==============================] - 2s 103ms/step - loss: 0.0045 - accuracy: 0.9997 - val_loss: 1.6620 - val_accuracy: 0.6526\n",
      "Epoch 323/1000\n",
      "24/24 [==============================] - 1s 45ms/step - loss: 0.0047 - accuracy: 0.9998 - val_loss: 1.6628 - val_accuracy: 0.6524\n",
      "Epoch 324/1000\n",
      "24/24 [==============================] - 1s 45ms/step - loss: 0.0053 - accuracy: 0.9993 - val_loss: 1.6561 - val_accuracy: 0.6560\n",
      "Epoch 325/1000\n",
      "24/24 [==============================] - 1s 54ms/step - loss: 0.0055 - accuracy: 0.9993 - val_loss: 1.6530 - val_accuracy: 0.6584\n",
      "Epoch 326/1000\n",
      "24/24 [==============================] - 2s 74ms/step - loss: 0.0058 - accuracy: 0.9987 - val_loss: 1.6589 - val_accuracy: 0.6558\n",
      "Epoch 327/1000\n",
      "24/24 [==============================] - 1s 44ms/step - loss: 0.0055 - accuracy: 0.9990 - val_loss: 1.6581 - val_accuracy: 0.6560\n",
      "Epoch 328/1000\n",
      "24/24 [==============================] - 1s 57ms/step - loss: 0.0049 - accuracy: 0.9998 - val_loss: 1.6595 - val_accuracy: 0.6545\n",
      "Epoch 329/1000\n",
      "24/24 [==============================] - 1s 44ms/step - loss: 0.0055 - accuracy: 0.9993 - val_loss: 1.6593 - val_accuracy: 0.6538\n",
      "Epoch 330/1000\n",
      "24/24 [==============================] - 1s 51ms/step - loss: 0.0051 - accuracy: 0.9992 - val_loss: 1.6702 - val_accuracy: 0.6521\n",
      "Epoch 331/1000\n",
      "24/24 [==============================] - 1s 44ms/step - loss: 0.0054 - accuracy: 0.9997 - val_loss: 1.6808 - val_accuracy: 0.6524\n",
      "Epoch 332/1000\n",
      "24/24 [==============================] - 1s 44ms/step - loss: 0.0052 - accuracy: 0.9993 - val_loss: 1.6783 - val_accuracy: 0.6530\n",
      "Epoch 333/1000\n",
      "24/24 [==============================] - 1s 44ms/step - loss: 0.0056 - accuracy: 0.9988 - val_loss: 1.6783 - val_accuracy: 0.6518\n",
      "Epoch 334/1000\n",
      "24/24 [==============================] - 1s 44ms/step - loss: 0.0053 - accuracy: 0.9990 - val_loss: 1.6868 - val_accuracy: 0.6524\n",
      "Epoch 335/1000\n",
      "24/24 [==============================] - 1s 64ms/step - loss: 0.0049 - accuracy: 0.9997 - val_loss: 1.6752 - val_accuracy: 0.6545\n",
      "Epoch 336/1000\n",
      "24/24 [==============================] - 3s 121ms/step - loss: 0.0052 - accuracy: 0.9995 - val_loss: 1.6725 - val_accuracy: 0.6549\n",
      "Epoch 337/1000\n",
      "24/24 [==============================] - 1s 45ms/step - loss: 0.0047 - accuracy: 0.9997 - val_loss: 1.6685 - val_accuracy: 0.6524\n",
      "Epoch 338/1000\n",
      "24/24 [==============================] - 1s 45ms/step - loss: 0.0042 - accuracy: 0.9997 - val_loss: 1.6650 - val_accuracy: 0.6537\n",
      "Epoch 339/1000\n",
      "24/24 [==============================] - 1s 45ms/step - loss: 0.0045 - accuracy: 0.9997 - val_loss: 1.6612 - val_accuracy: 0.6550\n",
      "Epoch 340/1000\n",
      "24/24 [==============================] - 1s 44ms/step - loss: 0.0057 - accuracy: 0.9990 - val_loss: 1.6600 - val_accuracy: 0.6564\n",
      "Epoch 341/1000\n",
      "24/24 [==============================] - 1s 45ms/step - loss: 0.0056 - accuracy: 0.9997 - val_loss: 1.6646 - val_accuracy: 0.6587\n",
      "Epoch 342/1000\n",
      "24/24 [==============================] - 1s 44ms/step - loss: 0.0047 - accuracy: 0.9997 - val_loss: 1.6619 - val_accuracy: 0.6591\n",
      "Epoch 343/1000\n",
      "  1/188 [..............................] - ETA: 31sloss: 0.0039 - accuracy: 0.9995"
     ]
    },
    {
     "name": "stderr",
     "output_type": "stream",
     "text": [
      "2023-12-23 17:01:06.163736: I tensorflow/core/grappler/optimizers/custom_graph_optimizer_registry.cc:113] Plugin optimizer for device_type GPU is enabled.\n"
     ]
    },
    {
     "name": "stdout",
     "output_type": "stream",
     "text": [
      "188/188 [==============================] - 1s 2ms/step\n"
     ]
    },
    {
     "name": "stderr",
     "output_type": "stream",
     "text": [
      "2023-12-23 17:01:07.434945: I tensorflow/core/grappler/optimizers/custom_graph_optimizer_registry.cc:113] Plugin optimizer for device_type GPU is enabled.\n"
     ]
    },
    {
     "name": "stdout",
     "output_type": "stream",
     "text": [
      "188/188 [==============================] - 1s 3ms/step\n"
     ]
    },
    {
     "name": "stderr",
     "output_type": "stream",
     "text": [
      "2023-12-23 17:01:08.728208: I tensorflow/core/grappler/optimizers/custom_graph_optimizer_registry.cc:113] Plugin optimizer for device_type GPU is enabled.\n"
     ]
    },
    {
     "name": "stdout",
     "output_type": "stream",
     "text": [
      "188/188 [==============================] - 1s 3ms/step\n"
     ]
    },
    {
     "name": "stderr",
     "output_type": "stream",
     "text": [
      "2023-12-23 17:01:10.160314: I tensorflow/core/grappler/optimizers/custom_graph_optimizer_registry.cc:113] Plugin optimizer for device_type GPU is enabled.\n"
     ]
    },
    {
     "name": "stdout",
     "output_type": "stream",
     "text": [
      "188/188 [==============================] - 1s 5ms/step\n"
     ]
    },
    {
     "name": "stderr",
     "output_type": "stream",
     "text": [
      "2023-12-23 17:01:11.508388: I tensorflow/core/grappler/optimizers/custom_graph_optimizer_registry.cc:113] Plugin optimizer for device_type GPU is enabled.\n"
     ]
    },
    {
     "name": "stdout",
     "output_type": "stream",
     "text": [
      "188/188 [==============================] - 2s 6ms/step\n"
     ]
    },
    {
     "name": "stderr",
     "output_type": "stream",
     "text": [
      "2023-12-23 17:01:13.137894: I tensorflow/core/grappler/optimizers/custom_graph_optimizer_registry.cc:113] Plugin optimizer for device_type GPU is enabled.\n"
     ]
    },
    {
     "name": "stdout",
     "output_type": "stream",
     "text": [
      "188/188 [==============================] - 2s 10ms/step\n"
     ]
    },
    {
     "name": "stderr",
     "output_type": "stream",
     "text": [
      "2023-12-23 17:01:15.539403: I tensorflow/core/grappler/optimizers/custom_graph_optimizer_registry.cc:113] Plugin optimizer for device_type GPU is enabled.\n"
     ]
    },
    {
     "name": "stdout",
     "output_type": "stream",
     "text": [
      "188/188 [==============================] - 3s 12ms/step\n"
     ]
    },
    {
     "name": "stderr",
     "output_type": "stream",
     "text": [
      "2023-12-23 17:01:18.328237: I tensorflow/core/grappler/optimizers/custom_graph_optimizer_registry.cc:113] Plugin optimizer for device_type GPU is enabled.\n"
     ]
    },
    {
     "name": "stdout",
     "output_type": "stream",
     "text": [
      "188/188 [==============================] - 6s 16ms/step\n"
     ]
    },
    {
     "name": "stderr",
     "output_type": "stream",
     "text": [
      "2023-12-23 17:01:24.676537: I tensorflow/core/grappler/optimizers/custom_graph_optimizer_registry.cc:113] Plugin optimizer for device_type GPU is enabled.\n"
     ]
    },
    {
     "name": "stdout",
     "output_type": "stream",
     "text": [
      "188/188 [==============================] - 6s 14ms/step\n"
     ]
    },
    {
     "name": "stderr",
     "output_type": "stream",
     "text": [
      "2023-12-23 17:01:29.906954: I tensorflow/core/grappler/optimizers/custom_graph_optimizer_registry.cc:113] Plugin optimizer for device_type GPU is enabled.\n"
     ]
    },
    {
     "name": "stdout",
     "output_type": "stream",
     "text": [
      "188/188 [==============================] - 6s 16ms/step\n",
      "24/24 [==============================] - 31s 1s/step - loss: 0.0046 - accuracy: 0.9992 - val_loss: 1.6655 - val_accuracy: 0.6598\n",
      "Epoch 344/1000\n"
     ]
    },
    {
     "name": "stderr",
     "output_type": "stream",
     "text": [
      "2023-12-23 17:01:35.822409: I tensorflow/core/grappler/optimizers/custom_graph_optimizer_registry.cc:113] Plugin optimizer for device_type GPU is enabled.\n"
     ]
    },
    {
     "name": "stdout",
     "output_type": "stream",
     "text": [
      "24/24 [==============================] - ETA: 0s - loss: 0.0057 - accuracy: 0.9992"
     ]
    },
    {
     "name": "stderr",
     "output_type": "stream",
     "text": [
      "2023-12-23 17:02:09.394959: I tensorflow/core/grappler/optimizers/custom_graph_optimizer_registry.cc:113] Plugin optimizer for device_type GPU is enabled.\n"
     ]
    },
    {
     "name": "stdout",
     "output_type": "stream",
     "text": [
      "24/24 [==============================] - 41s 1s/step - loss: 0.0057 - accuracy: 0.9992 - val_loss: 1.6662 - val_accuracy: 0.6583\n",
      "Epoch 345/1000\n",
      "24/24 [==============================] - 2s 91ms/step - loss: 0.0053 - accuracy: 0.9993 - val_loss: 1.6770 - val_accuracy: 0.6579\n",
      "Epoch 346/1000\n",
      "24/24 [==============================] - 3s 142ms/step - loss: 0.0053 - accuracy: 0.9998 - val_loss: 1.6716 - val_accuracy: 0.6617\n",
      "Epoch 347/1000\n",
      "24/24 [==============================] - 2s 91ms/step - loss: 0.0056 - accuracy: 0.9995 - val_loss: 1.6786 - val_accuracy: 0.6615\n",
      "Epoch 348/1000\n",
      "24/24 [==============================] - 6s 246ms/step - loss: 0.0060 - accuracy: 0.9995 - val_loss: 1.6763 - val_accuracy: 0.6612\n",
      "Epoch 349/1000\n",
      "24/24 [==============================] - 4s 152ms/step - loss: 0.0046 - accuracy: 0.9998 - val_loss: 1.6682 - val_accuracy: 0.6641\n",
      "Epoch 350/1000\n",
      "24/24 [==============================] - 1s 58ms/step - loss: 0.0045 - accuracy: 0.9998 - val_loss: 1.6642 - val_accuracy: 0.6636\n",
      "Epoch 351/1000\n",
      "24/24 [==============================] - 2s 77ms/step - loss: 0.0050 - accuracy: 0.9993 - val_loss: 1.6632 - val_accuracy: 0.6651\n",
      "Epoch 352/1000\n",
      "24/24 [==============================] - 3s 109ms/step - loss: 0.0047 - accuracy: 0.9992 - val_loss: 1.6613 - val_accuracy: 0.6647\n",
      "Epoch 353/1000\n",
      "24/24 [==============================] - 2s 74ms/step - loss: 0.0037 - accuracy: 0.9998 - val_loss: 1.6610 - val_accuracy: 0.6635\n",
      "Epoch 354/1000\n",
      "24/24 [==============================] - 1s 60ms/step - loss: 0.0050 - accuracy: 0.9995 - val_loss: 1.6647 - val_accuracy: 0.6642\n",
      "Epoch 355/1000\n",
      "24/24 [==============================] - 1s 59ms/step - loss: 0.0052 - accuracy: 0.9997 - val_loss: 1.6726 - val_accuracy: 0.6601\n",
      "Epoch 356/1000\n",
      "24/24 [==============================] - 1s 49ms/step - loss: 0.0055 - accuracy: 0.9990 - val_loss: 1.6684 - val_accuracy: 0.6593\n",
      "Epoch 357/1000\n",
      "24/24 [==============================] - 1s 45ms/step - loss: 0.0044 - accuracy: 0.9995 - val_loss: 1.6699 - val_accuracy: 0.6601\n",
      "Epoch 358/1000\n",
      "24/24 [==============================] - 1s 45ms/step - loss: 0.0042 - accuracy: 0.9995 - val_loss: 1.6670 - val_accuracy: 0.6602\n",
      "Epoch 359/1000\n",
      "24/24 [==============================] - 1s 50ms/step - loss: 0.0049 - accuracy: 0.9995 - val_loss: 1.6706 - val_accuracy: 0.6618\n",
      "Epoch 360/1000\n",
      "24/24 [==============================] - 1s 53ms/step - loss: 0.0062 - accuracy: 0.9990 - val_loss: 1.6781 - val_accuracy: 0.6584\n",
      "Epoch 361/1000\n",
      "24/24 [==============================] - 1s 60ms/step - loss: 0.0065 - accuracy: 0.9985 - val_loss: 1.6762 - val_accuracy: 0.6586\n",
      "Epoch 362/1000\n",
      "24/24 [==============================] - 1s 46ms/step - loss: 0.0047 - accuracy: 0.9998 - val_loss: 1.6810 - val_accuracy: 0.6574\n",
      "Epoch 363/1000\n",
      "24/24 [==============================] - 1s 47ms/step - loss: 0.0044 - accuracy: 0.9997 - val_loss: 1.6851 - val_accuracy: 0.6596\n",
      "Epoch 364/1000\n",
      "24/24 [==============================] - 1s 45ms/step - loss: 0.0041 - accuracy: 0.9997 - val_loss: 1.6959 - val_accuracy: 0.6597\n",
      "Epoch 365/1000\n",
      "24/24 [==============================] - 1s 45ms/step - loss: 0.0041 - accuracy: 0.9995 - val_loss: 1.6946 - val_accuracy: 0.6608\n",
      "Epoch 366/1000\n",
      "24/24 [==============================] - 2s 81ms/step - loss: 0.0065 - accuracy: 0.9985 - val_loss: 1.6920 - val_accuracy: 0.6637\n",
      "Epoch 367/1000\n",
      "24/24 [==============================] - 1s 46ms/step - loss: 0.0051 - accuracy: 0.9993 - val_loss: 1.6853 - val_accuracy: 0.6649\n",
      "Epoch 368/1000\n",
      "24/24 [==============================] - 1s 46ms/step - loss: 0.0052 - accuracy: 0.9992 - val_loss: 1.6845 - val_accuracy: 0.6643\n",
      "Epoch 369/1000\n",
      "24/24 [==============================] - 1s 45ms/step - loss: 0.0052 - accuracy: 0.9992 - val_loss: 1.6894 - val_accuracy: 0.6614\n",
      "Epoch 370/1000\n",
      "24/24 [==============================] - 1s 46ms/step - loss: 0.0062 - accuracy: 0.9993 - val_loss: 1.7044 - val_accuracy: 0.6599\n",
      "Epoch 371/1000\n",
      "24/24 [==============================] - 1s 45ms/step - loss: 0.0056 - accuracy: 0.9992 - val_loss: 1.7048 - val_accuracy: 0.6623\n",
      "Epoch 372/1000\n",
      "24/24 [==============================] - 1s 45ms/step - loss: 0.0066 - accuracy: 0.9988 - val_loss: 1.6944 - val_accuracy: 0.6628\n",
      "Epoch 373/1000\n",
      "24/24 [==============================] - 1s 45ms/step - loss: 0.0047 - accuracy: 0.9997 - val_loss: 1.6915 - val_accuracy: 0.6642\n",
      "Epoch 374/1000\n",
      "24/24 [==============================] - 1s 46ms/step - loss: 0.0062 - accuracy: 0.9988 - val_loss: 1.6868 - val_accuracy: 0.6648\n",
      "Epoch 375/1000\n",
      "24/24 [==============================] - 1s 45ms/step - loss: 0.0045 - accuracy: 0.9993 - val_loss: 1.6859 - val_accuracy: 0.6666\n",
      "Epoch 376/1000\n",
      "24/24 [==============================] - 1s 45ms/step - loss: 0.0056 - accuracy: 0.9988 - val_loss: 1.6788 - val_accuracy: 0.6683\n",
      "Epoch 377/1000\n",
      "23/24 [===========================>..] - ETA: 0s - loss: 0.0049 - accuracy: 0.9992"
     ]
    },
    {
     "name": "stderr",
     "output_type": "stream",
     "text": [
      "2023-12-23 17:03:09.342405: I tensorflow/core/grappler/optimizers/custom_graph_optimizer_registry.cc:113] Plugin optimizer for device_type GPU is enabled.\n"
     ]
    },
    {
     "name": "stdout",
     "output_type": "stream",
     "text": [
      "188/188 [==============================] - 1s 2ms/step\n"
     ]
    },
    {
     "name": "stderr",
     "output_type": "stream",
     "text": [
      "2023-12-23 17:03:11.043089: I tensorflow/core/grappler/optimizers/custom_graph_optimizer_registry.cc:113] Plugin optimizer for device_type GPU is enabled.\n"
     ]
    },
    {
     "name": "stdout",
     "output_type": "stream",
     "text": [
      "188/188 [==============================] - 1s 3ms/step\n"
     ]
    },
    {
     "name": "stderr",
     "output_type": "stream",
     "text": [
      "2023-12-23 17:03:12.263477: I tensorflow/core/grappler/optimizers/custom_graph_optimizer_registry.cc:113] Plugin optimizer for device_type GPU is enabled.\n"
     ]
    },
    {
     "name": "stdout",
     "output_type": "stream",
     "text": [
      "188/188 [==============================] - 1s 4ms/step\n"
     ]
    },
    {
     "name": "stderr",
     "output_type": "stream",
     "text": [
      "2023-12-23 17:03:13.512620: I tensorflow/core/grappler/optimizers/custom_graph_optimizer_registry.cc:113] Plugin optimizer for device_type GPU is enabled.\n"
     ]
    },
    {
     "name": "stdout",
     "output_type": "stream",
     "text": [
      "188/188 [==============================] - 2s 6ms/step\n"
     ]
    },
    {
     "name": "stderr",
     "output_type": "stream",
     "text": [
      "2023-12-23 17:03:15.322454: I tensorflow/core/grappler/optimizers/custom_graph_optimizer_registry.cc:113] Plugin optimizer for device_type GPU is enabled.\n"
     ]
    },
    {
     "name": "stdout",
     "output_type": "stream",
     "text": [
      "188/188 [==============================] - 3s 12ms/step\n"
     ]
    },
    {
     "name": "stderr",
     "output_type": "stream",
     "text": [
      "2023-12-23 17:03:18.173872: I tensorflow/core/grappler/optimizers/custom_graph_optimizer_registry.cc:113] Plugin optimizer for device_type GPU is enabled.\n"
     ]
    },
    {
     "name": "stdout",
     "output_type": "stream",
     "text": [
      "188/188 [==============================] - 4s 16ms/step\n"
     ]
    },
    {
     "name": "stderr",
     "output_type": "stream",
     "text": [
      "2023-12-23 17:03:22.040178: I tensorflow/core/grappler/optimizers/custom_graph_optimizer_registry.cc:113] Plugin optimizer for device_type GPU is enabled.\n"
     ]
    },
    {
     "name": "stdout",
     "output_type": "stream",
     "text": [
      "188/188 [==============================] - 4s 9ms/step\n"
     ]
    },
    {
     "name": "stderr",
     "output_type": "stream",
     "text": [
      "2023-12-23 17:03:25.998207: I tensorflow/core/grappler/optimizers/custom_graph_optimizer_registry.cc:113] Plugin optimizer for device_type GPU is enabled.\n"
     ]
    },
    {
     "name": "stdout",
     "output_type": "stream",
     "text": [
      "188/188 [==============================] - 5s 13ms/step\n"
     ]
    },
    {
     "name": "stderr",
     "output_type": "stream",
     "text": [
      "2023-12-23 17:03:31.049429: I tensorflow/core/grappler/optimizers/custom_graph_optimizer_registry.cc:113] Plugin optimizer for device_type GPU is enabled.\n"
     ]
    },
    {
     "name": "stdout",
     "output_type": "stream",
     "text": [
      "188/188 [==============================] - 6s 19ms/step\n"
     ]
    },
    {
     "name": "stderr",
     "output_type": "stream",
     "text": [
      "2023-12-23 17:03:37.593675: I tensorflow/core/grappler/optimizers/custom_graph_optimizer_registry.cc:113] Plugin optimizer for device_type GPU is enabled.\n"
     ]
    },
    {
     "name": "stdout",
     "output_type": "stream",
     "text": [
      "188/188 [==============================] - 6s 16ms/step\n",
      "24/24 [==============================] - 35s 2s/step - loss: 0.0056 - accuracy: 0.9987 - val_loss: 1.6819 - val_accuracy: 0.6665\n",
      "Epoch 378/1000\n"
     ]
    },
    {
     "name": "stderr",
     "output_type": "stream",
     "text": [
      "2023-12-23 17:03:43.591639: I tensorflow/core/grappler/optimizers/custom_graph_optimizer_registry.cc:113] Plugin optimizer for device_type GPU is enabled.\n"
     ]
    },
    {
     "name": "stdout",
     "output_type": "stream",
     "text": [
      "24/24 [==============================] - ETA: 0s - loss: 0.0047 - accuracy: 0.9995"
     ]
    },
    {
     "name": "stderr",
     "output_type": "stream",
     "text": [
      "2023-12-23 17:04:15.101409: I tensorflow/core/grappler/optimizers/custom_graph_optimizer_registry.cc:113] Plugin optimizer for device_type GPU is enabled.\n"
     ]
    },
    {
     "name": "stdout",
     "output_type": "stream",
     "text": [
      "24/24 [==============================] - 40s 1s/step - loss: 0.0047 - accuracy: 0.9995 - val_loss: 1.6926 - val_accuracy: 0.6661\n",
      "Epoch 379/1000\n",
      "24/24 [==============================] - 6s 261ms/step - loss: 0.0065 - accuracy: 0.9992 - val_loss: 1.7079 - val_accuracy: 0.6679\n",
      "Epoch 380/1000\n",
      "24/24 [==============================] - 3s 134ms/step - loss: 0.0059 - accuracy: 0.9993 - val_loss: 1.7178 - val_accuracy: 0.6688\n",
      "Epoch 381/1000\n",
      "24/24 [==============================] - 2s 101ms/step - loss: 0.0041 - accuracy: 0.9997 - val_loss: 1.7068 - val_accuracy: 0.6679\n",
      "Epoch 382/1000\n",
      "24/24 [==============================] - 1s 59ms/step - loss: 0.0051 - accuracy: 0.9997 - val_loss: 1.7021 - val_accuracy: 0.6694\n",
      "Epoch 383/1000\n",
      "24/24 [==============================] - 1s 58ms/step - loss: 0.0074 - accuracy: 0.9982 - val_loss: 1.6976 - val_accuracy: 0.6671\n",
      "Epoch 384/1000\n",
      "24/24 [==============================] - 2s 92ms/step - loss: 0.0051 - accuracy: 0.9992 - val_loss: 1.6923 - val_accuracy: 0.6687\n",
      "Epoch 385/1000\n",
      "24/24 [==============================] - 2s 76ms/step - loss: 0.0062 - accuracy: 0.9988 - val_loss: 1.6991 - val_accuracy: 0.6675\n",
      "Epoch 386/1000\n",
      "24/24 [==============================] - 1s 51ms/step - loss: 0.0042 - accuracy: 0.9997 - val_loss: 1.7014 - val_accuracy: 0.6662\n",
      "Epoch 387/1000\n",
      "24/24 [==============================] - 2s 91ms/step - loss: 0.0055 - accuracy: 0.9995 - val_loss: 1.6836 - val_accuracy: 0.6677\n",
      "Epoch 388/1000\n",
      "24/24 [==============================] - 1s 54ms/step - loss: 0.0053 - accuracy: 0.9993 - val_loss: 1.6769 - val_accuracy: 0.6690\n",
      "Epoch 389/1000\n",
      "24/24 [==============================] - 1s 47ms/step - loss: 0.0063 - accuracy: 0.9990 - val_loss: 1.6884 - val_accuracy: 0.6664\n",
      "Epoch 390/1000\n",
      "24/24 [==============================] - 1s 59ms/step - loss: 0.0043 - accuracy: 0.9995 - val_loss: 1.6754 - val_accuracy: 0.6685\n",
      "Epoch 391/1000\n",
      "24/24 [==============================] - 1s 53ms/step - loss: 0.0045 - accuracy: 0.9993 - val_loss: 1.6680 - val_accuracy: 0.6715\n",
      "Epoch 392/1000\n",
      "24/24 [==============================] - 1s 46ms/step - loss: 0.0041 - accuracy: 0.9997 - val_loss: 1.6673 - val_accuracy: 0.6707\n",
      "Epoch 393/1000\n",
      "24/24 [==============================] - 2s 87ms/step - loss: 0.0048 - accuracy: 0.9990 - val_loss: 1.6656 - val_accuracy: 0.6708\n",
      "Epoch 394/1000\n",
      "24/24 [==============================] - 1s 62ms/step - loss: 0.0050 - accuracy: 0.9993 - val_loss: 1.6765 - val_accuracy: 0.6691\n",
      "Epoch 395/1000\n",
      "24/24 [==============================] - 1s 47ms/step - loss: 0.0042 - accuracy: 0.9997 - val_loss: 1.6761 - val_accuracy: 0.6673\n",
      "Epoch 396/1000\n",
      "24/24 [==============================] - 1s 45ms/step - loss: 0.0046 - accuracy: 0.9992 - val_loss: 1.6687 - val_accuracy: 0.6680\n",
      "Epoch 397/1000\n",
      "24/24 [==============================] - 1s 45ms/step - loss: 0.0043 - accuracy: 0.9995 - val_loss: 1.6815 - val_accuracy: 0.6681\n",
      "Epoch 398/1000\n",
      "24/24 [==============================] - 1s 45ms/step - loss: 0.0046 - accuracy: 0.9993 - val_loss: 1.6831 - val_accuracy: 0.6705\n",
      "Epoch 399/1000\n",
      "24/24 [==============================] - 2s 93ms/step - loss: 0.0047 - accuracy: 0.9992 - val_loss: 1.6853 - val_accuracy: 0.6693\n",
      "Epoch 400/1000\n",
      "24/24 [==============================] - 1s 45ms/step - loss: 0.0039 - accuracy: 0.9995 - val_loss: 1.6883 - val_accuracy: 0.6695\n",
      "Epoch 401/1000\n",
      "24/24 [==============================] - 1s 53ms/step - loss: 0.0035 - accuracy: 0.9997 - val_loss: 1.6849 - val_accuracy: 0.6706\n",
      "Epoch 402/1000\n",
      "24/24 [==============================] - 1s 45ms/step - loss: 0.0041 - accuracy: 0.9995 - val_loss: 1.6774 - val_accuracy: 0.6695\n",
      "Epoch 403/1000\n",
      "24/24 [==============================] - 1s 45ms/step - loss: 0.0045 - accuracy: 0.9992 - val_loss: 1.6702 - val_accuracy: 0.6728\n",
      "Epoch 404/1000\n",
      "24/24 [==============================] - 1s 45ms/step - loss: 0.0047 - accuracy: 0.9992 - val_loss: 1.6817 - val_accuracy: 0.6695\n",
      "Epoch 405/1000\n",
      "24/24 [==============================] - 1s 45ms/step - loss: 0.0049 - accuracy: 0.9995 - val_loss: 1.6800 - val_accuracy: 0.6711\n",
      "Epoch 406/1000\n",
      "24/24 [==============================] - 1s 45ms/step - loss: 0.0042 - accuracy: 0.9997 - val_loss: 1.6763 - val_accuracy: 0.6723\n",
      "Epoch 407/1000\n",
      "24/24 [==============================] - 2s 65ms/step - loss: 0.0052 - accuracy: 0.9988 - val_loss: 1.6741 - val_accuracy: 0.6704\n",
      "Epoch 408/1000\n",
      "24/24 [==============================] - 1s 45ms/step - loss: 0.0049 - accuracy: 0.9992 - val_loss: 1.6780 - val_accuracy: 0.6693\n",
      "Epoch 409/1000\n",
      "24/24 [==============================] - 1s 45ms/step - loss: 0.0039 - accuracy: 0.9993 - val_loss: 1.6669 - val_accuracy: 0.6717\n",
      "Epoch 410/1000\n",
      "24/24 [==============================] - 1s 45ms/step - loss: 0.0048 - accuracy: 0.9993 - val_loss: 1.6638 - val_accuracy: 0.6703\n",
      "Epoch 411/1000\n",
      "24/24 [==============================] - 1s 44ms/step - loss: 0.0037 - accuracy: 0.9997 - val_loss: 1.6639 - val_accuracy: 0.6693\n",
      "Epoch 412/1000\n",
      "24/24 [==============================] - 1s 44ms/step - loss: 0.0044 - accuracy: 0.9992 - val_loss: 1.6703 - val_accuracy: 0.6714\n",
      "Epoch 413/1000\n",
      "24/24 [==============================] - 1s 45ms/step - loss: 0.0035 - accuracy: 0.9998 - val_loss: 1.6755 - val_accuracy: 0.6717\n",
      "Epoch 414/1000\n",
      "23/24 [===========================>..] - ETA: 0s - loss: 0.0023 - accuracy: 1.0000"
     ]
    },
    {
     "name": "stderr",
     "output_type": "stream",
     "text": [
      "2023-12-23 17:05:17.694169: I tensorflow/core/grappler/optimizers/custom_graph_optimizer_registry.cc:113] Plugin optimizer for device_type GPU is enabled.\n"
     ]
    },
    {
     "name": "stdout",
     "output_type": "stream",
     "text": [
      "188/188 [==============================] - 1s 2ms/step\n"
     ]
    },
    {
     "name": "stderr",
     "output_type": "stream",
     "text": [
      "2023-12-23 17:05:19.207837: I tensorflow/core/grappler/optimizers/custom_graph_optimizer_registry.cc:113] Plugin optimizer for device_type GPU is enabled.\n"
     ]
    },
    {
     "name": "stdout",
     "output_type": "stream",
     "text": [
      "188/188 [==============================] - 1s 3ms/step\n"
     ]
    },
    {
     "name": "stderr",
     "output_type": "stream",
     "text": [
      "2023-12-23 17:05:20.196269: I tensorflow/core/grappler/optimizers/custom_graph_optimizer_registry.cc:113] Plugin optimizer for device_type GPU is enabled.\n"
     ]
    },
    {
     "name": "stdout",
     "output_type": "stream",
     "text": [
      "188/188 [==============================] - 2s 5ms/step\n"
     ]
    },
    {
     "name": "stderr",
     "output_type": "stream",
     "text": [
      "2023-12-23 17:05:22.074701: I tensorflow/core/grappler/optimizers/custom_graph_optimizer_registry.cc:113] Plugin optimizer for device_type GPU is enabled.\n"
     ]
    },
    {
     "name": "stdout",
     "output_type": "stream",
     "text": [
      "188/188 [==============================] - 2s 6ms/step\n"
     ]
    },
    {
     "name": "stderr",
     "output_type": "stream",
     "text": [
      "2023-12-23 17:05:24.560152: I tensorflow/core/grappler/optimizers/custom_graph_optimizer_registry.cc:113] Plugin optimizer for device_type GPU is enabled.\n"
     ]
    },
    {
     "name": "stdout",
     "output_type": "stream",
     "text": [
      "188/188 [==============================] - 3s 8ms/step\n"
     ]
    },
    {
     "name": "stderr",
     "output_type": "stream",
     "text": [
      "2023-12-23 17:05:27.661425: I tensorflow/core/grappler/optimizers/custom_graph_optimizer_registry.cc:113] Plugin optimizer for device_type GPU is enabled.\n"
     ]
    },
    {
     "name": "stdout",
     "output_type": "stream",
     "text": [
      "188/188 [==============================] - 3s 7ms/step\n"
     ]
    },
    {
     "name": "stderr",
     "output_type": "stream",
     "text": [
      "2023-12-23 17:05:30.887197: I tensorflow/core/grappler/optimizers/custom_graph_optimizer_registry.cc:113] Plugin optimizer for device_type GPU is enabled.\n"
     ]
    },
    {
     "name": "stdout",
     "output_type": "stream",
     "text": [
      "188/188 [==============================] - 3s 13ms/step\n"
     ]
    },
    {
     "name": "stderr",
     "output_type": "stream",
     "text": [
      "2023-12-23 17:05:34.122871: I tensorflow/core/grappler/optimizers/custom_graph_optimizer_registry.cc:113] Plugin optimizer for device_type GPU is enabled.\n"
     ]
    },
    {
     "name": "stdout",
     "output_type": "stream",
     "text": [
      "188/188 [==============================] - 4s 11ms/step\n"
     ]
    },
    {
     "name": "stderr",
     "output_type": "stream",
     "text": [
      "2023-12-23 17:05:38.691884: I tensorflow/core/grappler/optimizers/custom_graph_optimizer_registry.cc:113] Plugin optimizer for device_type GPU is enabled.\n"
     ]
    },
    {
     "name": "stdout",
     "output_type": "stream",
     "text": [
      "188/188 [==============================] - 5s 15ms/step\n"
     ]
    },
    {
     "name": "stderr",
     "output_type": "stream",
     "text": [
      "2023-12-23 17:05:43.568769: I tensorflow/core/grappler/optimizers/custom_graph_optimizer_registry.cc:113] Plugin optimizer for device_type GPU is enabled.\n"
     ]
    },
    {
     "name": "stdout",
     "output_type": "stream",
     "text": [
      "188/188 [==============================] - 6s 15ms/step\n",
      "24/24 [==============================] - 33s 1s/step - loss: 0.0025 - accuracy: 1.0000 - val_loss: 1.6701 - val_accuracy: 0.6697\n",
      "Epoch 415/1000\n"
     ]
    },
    {
     "name": "stderr",
     "output_type": "stream",
     "text": [
      "2023-12-23 17:05:49.825594: I tensorflow/core/grappler/optimizers/custom_graph_optimizer_registry.cc:113] Plugin optimizer for device_type GPU is enabled.\n"
     ]
    },
    {
     "name": "stdout",
     "output_type": "stream",
     "text": [
      "24/24 [==============================] - ETA: 0s - loss: 0.0036 - accuracy: 0.9997"
     ]
    },
    {
     "name": "stderr",
     "output_type": "stream",
     "text": [
      "2023-12-23 17:06:25.683342: I tensorflow/core/grappler/optimizers/custom_graph_optimizer_registry.cc:113] Plugin optimizer for device_type GPU is enabled.\n"
     ]
    },
    {
     "name": "stdout",
     "output_type": "stream",
     "text": [
      "24/24 [==============================] - 44s 1s/step - loss: 0.0036 - accuracy: 0.9997 - val_loss: 1.6662 - val_accuracy: 0.6730\n",
      "Epoch 416/1000\n",
      "24/24 [==============================] - 3s 94ms/step - loss: 0.0034 - accuracy: 0.9995 - val_loss: 1.6641 - val_accuracy: 0.6727\n",
      "Epoch 417/1000\n",
      "24/24 [==============================] - 7s 291ms/step - loss: 0.0034 - accuracy: 0.9995 - val_loss: 1.6683 - val_accuracy: 0.6719\n",
      "Epoch 418/1000\n",
      "24/24 [==============================] - 2s 88ms/step - loss: 0.0027 - accuracy: 1.0000 - val_loss: 1.6651 - val_accuracy: 0.6731\n",
      "Epoch 419/1000\n",
      "24/24 [==============================] - 3s 143ms/step - loss: 0.0034 - accuracy: 0.9995 - val_loss: 1.6611 - val_accuracy: 0.6720\n",
      "Epoch 420/1000\n",
      "24/24 [==============================] - 2s 84ms/step - loss: 0.0028 - accuracy: 1.0000 - val_loss: 1.6618 - val_accuracy: 0.6745\n",
      "Epoch 421/1000\n",
      "24/24 [==============================] - 3s 124ms/step - loss: 0.0030 - accuracy: 0.9995 - val_loss: 1.6648 - val_accuracy: 0.6741\n",
      "Epoch 422/1000\n",
      "24/24 [==============================] - 1s 59ms/step - loss: 0.0035 - accuracy: 0.9995 - val_loss: 1.6675 - val_accuracy: 0.6739\n",
      "Epoch 423/1000\n",
      "24/24 [==============================] - 1s 47ms/step - loss: 0.0032 - accuracy: 0.9995 - val_loss: 1.6680 - val_accuracy: 0.6737\n",
      "Epoch 424/1000\n",
      "24/24 [==============================] - 2s 85ms/step - loss: 0.0025 - accuracy: 0.9998 - val_loss: 1.6676 - val_accuracy: 0.6745\n",
      "Epoch 425/1000\n",
      "24/24 [==============================] - 1s 45ms/step - loss: 0.0028 - accuracy: 0.9997 - val_loss: 1.6645 - val_accuracy: 0.6749\n",
      "Epoch 426/1000\n",
      "24/24 [==============================] - 1s 45ms/step - loss: 0.0029 - accuracy: 0.9997 - val_loss: 1.6704 - val_accuracy: 0.6743\n",
      "Epoch 427/1000\n",
      "24/24 [==============================] - 1s 45ms/step - loss: 0.0041 - accuracy: 0.9995 - val_loss: 1.6822 - val_accuracy: 0.6727\n",
      "Epoch 428/1000\n",
      "24/24 [==============================] - 1s 45ms/step - loss: 0.0037 - accuracy: 0.9997 - val_loss: 1.6784 - val_accuracy: 0.6726\n",
      "Epoch 429/1000\n",
      "24/24 [==============================] - 1s 47ms/step - loss: 0.0049 - accuracy: 0.9988 - val_loss: 1.6901 - val_accuracy: 0.6713\n",
      "Epoch 430/1000\n",
      "24/24 [==============================] - 1s 45ms/step - loss: 0.0059 - accuracy: 0.9987 - val_loss: 1.6898 - val_accuracy: 0.6739\n",
      "Epoch 431/1000\n",
      "24/24 [==============================] - 1s 48ms/step - loss: 0.0043 - accuracy: 0.9993 - val_loss: 1.6860 - val_accuracy: 0.6742\n",
      "Epoch 432/1000\n",
      "24/24 [==============================] - 1s 45ms/step - loss: 0.0034 - accuracy: 0.9998 - val_loss: 1.7017 - val_accuracy: 0.6731\n",
      "Epoch 433/1000\n",
      "24/24 [==============================] - 3s 131ms/step - loss: 0.0032 - accuracy: 0.9997 - val_loss: 1.7008 - val_accuracy: 0.6736\n",
      "Epoch 434/1000\n",
      "24/24 [==============================] - 1s 45ms/step - loss: 0.0028 - accuracy: 0.9998 - val_loss: 1.6959 - val_accuracy: 0.6743\n",
      "Epoch 435/1000\n",
      "24/24 [==============================] - 1s 45ms/step - loss: 0.0028 - accuracy: 0.9997 - val_loss: 1.6897 - val_accuracy: 0.6741\n",
      "Epoch 436/1000\n",
      "24/24 [==============================] - 1s 45ms/step - loss: 0.0033 - accuracy: 0.9997 - val_loss: 1.6895 - val_accuracy: 0.6739\n",
      "Epoch 437/1000\n",
      "24/24 [==============================] - 1s 45ms/step - loss: 0.0029 - accuracy: 1.0000 - val_loss: 1.6920 - val_accuracy: 0.6722\n",
      "Epoch 438/1000\n",
      "24/24 [==============================] - 1s 47ms/step - loss: 0.0034 - accuracy: 0.9992 - val_loss: 1.6933 - val_accuracy: 0.6730\n",
      "Epoch 439/1000\n",
      "24/24 [==============================] - 1s 45ms/step - loss: 0.0065 - accuracy: 0.9988 - val_loss: 1.6914 - val_accuracy: 0.6745\n",
      "Epoch 440/1000\n",
      "24/24 [==============================] - 1s 45ms/step - loss: 0.0045 - accuracy: 0.9990 - val_loss: 1.6965 - val_accuracy: 0.6779\n",
      "Epoch 441/1000\n",
      "24/24 [==============================] - 1s 45ms/step - loss: 0.0046 - accuracy: 0.9992 - val_loss: 1.6970 - val_accuracy: 0.6778\n",
      "Epoch 442/1000\n",
      "24/24 [==============================] - 1s 45ms/step - loss: 0.0033 - accuracy: 0.9998 - val_loss: 1.6986 - val_accuracy: 0.6759\n",
      "Epoch 443/1000\n",
      "24/24 [==============================] - 1s 45ms/step - loss: 0.0039 - accuracy: 0.9990 - val_loss: 1.7041 - val_accuracy: 0.6763\n",
      "Epoch 444/1000\n",
      "24/24 [==============================] - 1s 45ms/step - loss: 0.0044 - accuracy: 0.9993 - val_loss: 1.7136 - val_accuracy: 0.6755\n",
      "Epoch 445/1000\n",
      "24/24 [==============================] - 1s 45ms/step - loss: 0.0053 - accuracy: 0.9988 - val_loss: 1.7128 - val_accuracy: 0.6735\n",
      "Epoch 446/1000\n",
      "24/24 [==============================] - 1s 45ms/step - loss: 0.0032 - accuracy: 0.9997 - val_loss: 1.7279 - val_accuracy: 0.6721\n",
      "Epoch 447/1000\n",
      "24/24 [==============================] - 1s 45ms/step - loss: 0.0049 - accuracy: 0.9992 - val_loss: 1.7203 - val_accuracy: 0.6735\n",
      "Epoch 448/1000\n",
      "24/24 [==============================] - 1s 45ms/step - loss: 0.0039 - accuracy: 0.9992 - val_loss: 1.7114 - val_accuracy: 0.6737\n",
      "Epoch 449/1000\n",
      "24/24 [==============================] - 1s 45ms/step - loss: 0.0036 - accuracy: 0.9988 - val_loss: 1.7067 - val_accuracy: 0.6756\n",
      "Epoch 450/1000\n",
      "24/24 [==============================] - 1s 45ms/step - loss: 0.0028 - accuracy: 0.9997 - val_loss: 1.7075 - val_accuracy: 0.6783\n",
      "Epoch 451/1000\n",
      "24/24 [==============================] - 1s 44ms/step - loss: 0.0031 - accuracy: 0.9993 - val_loss: 1.7068 - val_accuracy: 0.6786\n",
      "Epoch 452/1000\n",
      "24/24 [==============================] - 1s 45ms/step - loss: 0.0033 - accuracy: 0.9993 - val_loss: 1.7038 - val_accuracy: 0.6784\n",
      "Epoch 453/1000\n",
      "24/24 [==============================] - 1s 44ms/step - loss: 0.0026 - accuracy: 0.9993 - val_loss: 1.6994 - val_accuracy: 0.6787\n",
      "Epoch 454/1000\n",
      "24/24 [==============================] - 1s 44ms/step - loss: 0.0028 - accuracy: 0.9997 - val_loss: 1.7051 - val_accuracy: 0.6785\n",
      "Epoch 455/1000\n",
      "24/24 [==============================] - ETA: 0s - loss: 0.0041 - accuracy: 0.9987"
     ]
    },
    {
     "name": "stderr",
     "output_type": "stream",
     "text": [
      "2023-12-23 17:07:33.439946: I tensorflow/core/grappler/optimizers/custom_graph_optimizer_registry.cc:113] Plugin optimizer for device_type GPU is enabled.\n"
     ]
    },
    {
     "name": "stdout",
     "output_type": "stream",
     "text": [
      "188/188 [==============================] - 1s 3ms/step\n"
     ]
    },
    {
     "name": "stderr",
     "output_type": "stream",
     "text": [
      "2023-12-23 17:07:35.245877: I tensorflow/core/grappler/optimizers/custom_graph_optimizer_registry.cc:113] Plugin optimizer for device_type GPU is enabled.\n"
     ]
    },
    {
     "name": "stdout",
     "output_type": "stream",
     "text": [
      "188/188 [==============================] - 1s 4ms/step\n"
     ]
    },
    {
     "name": "stderr",
     "output_type": "stream",
     "text": [
      "2023-12-23 17:07:36.688268: I tensorflow/core/grappler/optimizers/custom_graph_optimizer_registry.cc:113] Plugin optimizer for device_type GPU is enabled.\n"
     ]
    },
    {
     "name": "stdout",
     "output_type": "stream",
     "text": [
      "188/188 [==============================] - 2s 6ms/step\n"
     ]
    },
    {
     "name": "stderr",
     "output_type": "stream",
     "text": [
      "2023-12-23 17:07:38.892366: I tensorflow/core/grappler/optimizers/custom_graph_optimizer_registry.cc:113] Plugin optimizer for device_type GPU is enabled.\n"
     ]
    },
    {
     "name": "stdout",
     "output_type": "stream",
     "text": [
      "188/188 [==============================] - 2s 7ms/step\n"
     ]
    },
    {
     "name": "stderr",
     "output_type": "stream",
     "text": [
      "2023-12-23 17:07:41.363923: I tensorflow/core/grappler/optimizers/custom_graph_optimizer_registry.cc:113] Plugin optimizer for device_type GPU is enabled.\n"
     ]
    },
    {
     "name": "stdout",
     "output_type": "stream",
     "text": [
      "188/188 [==============================] - 3s 9ms/step\n"
     ]
    },
    {
     "name": "stderr",
     "output_type": "stream",
     "text": [
      "2023-12-23 17:07:44.587542: I tensorflow/core/grappler/optimizers/custom_graph_optimizer_registry.cc:113] Plugin optimizer for device_type GPU is enabled.\n"
     ]
    },
    {
     "name": "stdout",
     "output_type": "stream",
     "text": [
      "188/188 [==============================] - 4s 11ms/step\n"
     ]
    },
    {
     "name": "stderr",
     "output_type": "stream",
     "text": [
      "2023-12-23 17:07:48.577079: I tensorflow/core/grappler/optimizers/custom_graph_optimizer_registry.cc:113] Plugin optimizer for device_type GPU is enabled.\n"
     ]
    },
    {
     "name": "stdout",
     "output_type": "stream",
     "text": [
      "188/188 [==============================] - 5s 16ms/step\n"
     ]
    },
    {
     "name": "stderr",
     "output_type": "stream",
     "text": [
      "2023-12-23 17:07:53.947844: I tensorflow/core/grappler/optimizers/custom_graph_optimizer_registry.cc:113] Plugin optimizer for device_type GPU is enabled.\n"
     ]
    },
    {
     "name": "stdout",
     "output_type": "stream",
     "text": [
      "188/188 [==============================] - 5s 16ms/step\n"
     ]
    },
    {
     "name": "stderr",
     "output_type": "stream",
     "text": [
      "2023-12-23 17:07:59.609625: I tensorflow/core/grappler/optimizers/custom_graph_optimizer_registry.cc:113] Plugin optimizer for device_type GPU is enabled.\n"
     ]
    },
    {
     "name": "stdout",
     "output_type": "stream",
     "text": [
      "188/188 [==============================] - 7s 18ms/step\n"
     ]
    },
    {
     "name": "stderr",
     "output_type": "stream",
     "text": [
      "2023-12-23 17:08:06.165321: I tensorflow/core/grappler/optimizers/custom_graph_optimizer_registry.cc:113] Plugin optimizer for device_type GPU is enabled.\n"
     ]
    },
    {
     "name": "stdout",
     "output_type": "stream",
     "text": [
      "188/188 [==============================] - 7s 20ms/step\n",
      "24/24 [==============================] - 41s 2s/step - loss: 0.0041 - accuracy: 0.9987 - val_loss: 1.6981 - val_accuracy: 0.6794\n",
      "Epoch 456/1000\n"
     ]
    },
    {
     "name": "stderr",
     "output_type": "stream",
     "text": [
      "2023-12-23 17:08:13.111299: I tensorflow/core/grappler/optimizers/custom_graph_optimizer_registry.cc:113] Plugin optimizer for device_type GPU is enabled.\n"
     ]
    },
    {
     "name": "stdout",
     "output_type": "stream",
     "text": [
      "24/24 [==============================] - ETA: 0s - loss: 0.0054 - accuracy: 0.9992"
     ]
    },
    {
     "name": "stderr",
     "output_type": "stream",
     "text": [
      "2023-12-23 17:08:50.816970: I tensorflow/core/grappler/optimizers/custom_graph_optimizer_registry.cc:113] Plugin optimizer for device_type GPU is enabled.\n"
     ]
    },
    {
     "name": "stdout",
     "output_type": "stream",
     "text": [
      "24/24 [==============================] - 48s 1s/step - loss: 0.0054 - accuracy: 0.9992 - val_loss: 1.7044 - val_accuracy: 0.6765\n",
      "Epoch 457/1000\n",
      "24/24 [==============================] - 5s 228ms/step - loss: 0.0040 - accuracy: 0.9995 - val_loss: 1.7029 - val_accuracy: 0.6767\n",
      "Epoch 458/1000\n",
      "24/24 [==============================] - 3s 131ms/step - loss: 0.0048 - accuracy: 0.9988 - val_loss: 1.7039 - val_accuracy: 0.6754\n",
      "Epoch 459/1000\n",
      "24/24 [==============================] - 5s 204ms/step - loss: 0.0030 - accuracy: 0.9993 - val_loss: 1.7058 - val_accuracy: 0.6758\n",
      "Epoch 460/1000\n",
      "24/24 [==============================] - 3s 146ms/step - loss: 0.0030 - accuracy: 0.9997 - val_loss: 1.7033 - val_accuracy: 0.6772\n",
      "Epoch 461/1000\n",
      "24/24 [==============================] - 3s 123ms/step - loss: 0.0040 - accuracy: 0.9992 - val_loss: 1.6978 - val_accuracy: 0.6776\n",
      "Epoch 462/1000\n",
      "24/24 [==============================] - 1s 55ms/step - loss: 0.0039 - accuracy: 0.9997 - val_loss: 1.7055 - val_accuracy: 0.6771\n",
      "Epoch 463/1000\n",
      "24/24 [==============================] - 2s 68ms/step - loss: 0.0051 - accuracy: 0.9990 - val_loss: 1.7073 - val_accuracy: 0.6781\n",
      "Epoch 464/1000\n",
      "24/24 [==============================] - 1s 59ms/step - loss: 0.0036 - accuracy: 0.9992 - val_loss: 1.7161 - val_accuracy: 0.6788\n",
      "Epoch 465/1000\n",
      "24/24 [==============================] - 2s 81ms/step - loss: 0.0037 - accuracy: 0.9995 - val_loss: 1.7209 - val_accuracy: 0.6798\n",
      "Epoch 466/1000\n",
      "24/24 [==============================] - 1s 45ms/step - loss: 0.0040 - accuracy: 0.9997 - val_loss: 1.7172 - val_accuracy: 0.6789\n",
      "Epoch 467/1000\n",
      "24/24 [==============================] - 2s 88ms/step - loss: 0.0033 - accuracy: 0.9997 - val_loss: 1.7141 - val_accuracy: 0.6791\n",
      "Epoch 468/1000\n",
      "24/24 [==============================] - 1s 51ms/step - loss: 0.0032 - accuracy: 0.9995 - val_loss: 1.7128 - val_accuracy: 0.6788\n",
      "Epoch 469/1000\n",
      "24/24 [==============================] - 1s 46ms/step - loss: 0.0032 - accuracy: 0.9997 - val_loss: 1.7115 - val_accuracy: 0.6809\n",
      "Epoch 470/1000\n",
      "24/24 [==============================] - 1s 54ms/step - loss: 0.0027 - accuracy: 0.9997 - val_loss: 1.7046 - val_accuracy: 0.6793\n",
      "Epoch 471/1000\n",
      "24/24 [==============================] - 1s 44ms/step - loss: 0.0038 - accuracy: 0.9992 - val_loss: 1.6970 - val_accuracy: 0.6822\n",
      "Epoch 472/1000\n",
      "24/24 [==============================] - 1s 45ms/step - loss: 0.0039 - accuracy: 0.9990 - val_loss: 1.7061 - val_accuracy: 0.6817\n",
      "Epoch 473/1000\n",
      "24/24 [==============================] - 1s 44ms/step - loss: 0.0037 - accuracy: 0.9992 - val_loss: 1.7123 - val_accuracy: 0.6816\n",
      "Epoch 474/1000\n",
      "24/24 [==============================] - 1s 45ms/step - loss: 0.0035 - accuracy: 0.9993 - val_loss: 1.6989 - val_accuracy: 0.6795\n",
      "Epoch 475/1000\n",
      "24/24 [==============================] - 1s 44ms/step - loss: 0.0028 - accuracy: 0.9997 - val_loss: 1.6982 - val_accuracy: 0.6786\n",
      "Epoch 476/1000\n",
      "24/24 [==============================] - 1s 45ms/step - loss: 0.0025 - accuracy: 0.9998 - val_loss: 1.6890 - val_accuracy: 0.6782\n",
      "Epoch 477/1000\n",
      "24/24 [==============================] - 1s 44ms/step - loss: 0.0022 - accuracy: 0.9998 - val_loss: 1.6898 - val_accuracy: 0.6799\n",
      "Epoch 478/1000\n",
      "24/24 [==============================] - 2s 84ms/step - loss: 0.0027 - accuracy: 0.9995 - val_loss: 1.6964 - val_accuracy: 0.6783\n",
      "Epoch 479/1000\n",
      "24/24 [==============================] - 2s 76ms/step - loss: 0.0027 - accuracy: 0.9995 - val_loss: 1.6977 - val_accuracy: 0.6791\n",
      "Epoch 480/1000\n",
      "24/24 [==============================] - 1s 45ms/step - loss: 0.0035 - accuracy: 0.9997 - val_loss: 1.7011 - val_accuracy: 0.6795\n",
      "Epoch 481/1000\n",
      "24/24 [==============================] - 1s 44ms/step - loss: 0.0035 - accuracy: 0.9992 - val_loss: 1.7068 - val_accuracy: 0.6810\n",
      "Epoch 482/1000\n",
      "24/24 [==============================] - 1s 44ms/step - loss: 0.0028 - accuracy: 0.9997 - val_loss: 1.7049 - val_accuracy: 0.6817\n",
      "Epoch 483/1000\n",
      "24/24 [==============================] - 1s 45ms/step - loss: 0.0045 - accuracy: 0.9992 - val_loss: 1.7038 - val_accuracy: 0.6819\n",
      "Epoch 484/1000\n",
      "24/24 [==============================] - 1s 51ms/step - loss: 0.0026 - accuracy: 1.0000 - val_loss: 1.7099 - val_accuracy: 0.6844\n",
      "Epoch 485/1000\n",
      "24/24 [==============================] - 1s 44ms/step - loss: 0.0040 - accuracy: 0.9993 - val_loss: 1.7002 - val_accuracy: 0.6843\n",
      "Epoch 486/1000\n",
      "24/24 [==============================] - 1s 44ms/step - loss: 0.0029 - accuracy: 0.9997 - val_loss: 1.7043 - val_accuracy: 0.6816\n",
      "Epoch 487/1000\n",
      "24/24 [==============================] - 1s 45ms/step - loss: 0.0028 - accuracy: 0.9997 - val_loss: 1.7008 - val_accuracy: 0.6812\n",
      "Epoch 488/1000\n",
      "24/24 [==============================] - 1s 44ms/step - loss: 0.0030 - accuracy: 0.9997 - val_loss: 1.7037 - val_accuracy: 0.6805\n",
      "Epoch 489/1000\n",
      "24/24 [==============================] - 1s 44ms/step - loss: 0.0024 - accuracy: 0.9997 - val_loss: 1.7047 - val_accuracy: 0.6821\n",
      "Epoch 490/1000\n",
      "24/24 [==============================] - 1s 44ms/step - loss: 0.0024 - accuracy: 0.9997 - val_loss: 1.7031 - val_accuracy: 0.6829\n",
      "Epoch 491/1000\n",
      "24/24 [==============================] - 1s 44ms/step - loss: 0.0036 - accuracy: 0.9995 - val_loss: 1.7037 - val_accuracy: 0.6834\n",
      "Epoch 492/1000\n",
      "24/24 [==============================] - 1s 45ms/step - loss: 0.0027 - accuracy: 0.9997 - val_loss: 1.7065 - val_accuracy: 0.6826\n",
      "Epoch 493/1000\n",
      "24/24 [==============================] - 1s 45ms/step - loss: 0.0040 - accuracy: 0.9992 - val_loss: 1.7147 - val_accuracy: 0.6815\n",
      "Epoch 494/1000\n",
      "24/24 [==============================] - 1s 45ms/step - loss: 0.0035 - accuracy: 0.9993 - val_loss: 1.7223 - val_accuracy: 0.6828\n",
      "Epoch 495/1000\n",
      "24/24 [==============================] - 1s 45ms/step - loss: 0.0026 - accuracy: 0.9998 - val_loss: 1.7275 - val_accuracy: 0.6819\n",
      "Epoch 496/1000\n",
      "24/24 [==============================] - 1s 44ms/step - loss: 0.0035 - accuracy: 0.9992 - val_loss: 1.7293 - val_accuracy: 0.6816\n",
      "Epoch 497/1000\n",
      "24/24 [==============================] - 1s 44ms/step - loss: 0.0033 - accuracy: 0.9995 - val_loss: 1.7263 - val_accuracy: 0.6833\n",
      "Epoch 498/1000\n",
      "24/24 [==============================] - 1s 45ms/step - loss: 0.0035 - accuracy: 0.9992 - val_loss: 1.7213 - val_accuracy: 0.6826\n",
      "Epoch 499/1000\n",
      "24/24 [==============================] - 1s 45ms/step - loss: 0.0024 - accuracy: 1.0000 - val_loss: 1.7172 - val_accuracy: 0.6854\n",
      "Epoch 500/1000\n",
      "23/24 [===========================>..] - ETA: 0s - loss: 0.0025 - accuracy: 0.9997"
     ]
    },
    {
     "name": "stderr",
     "output_type": "stream",
     "text": [
      "2023-12-23 17:10:06.903918: I tensorflow/core/grappler/optimizers/custom_graph_optimizer_registry.cc:113] Plugin optimizer for device_type GPU is enabled.\n"
     ]
    },
    {
     "name": "stdout",
     "output_type": "stream",
     "text": [
      "188/188 [==============================] - 1s 2ms/step\n"
     ]
    },
    {
     "name": "stderr",
     "output_type": "stream",
     "text": [
      "2023-12-23 17:10:08.397142: I tensorflow/core/grappler/optimizers/custom_graph_optimizer_registry.cc:113] Plugin optimizer for device_type GPU is enabled.\n"
     ]
    },
    {
     "name": "stdout",
     "output_type": "stream",
     "text": [
      "188/188 [==============================] - 1s 3ms/step\n"
     ]
    },
    {
     "name": "stderr",
     "output_type": "stream",
     "text": [
      "2023-12-23 17:10:09.610717: I tensorflow/core/grappler/optimizers/custom_graph_optimizer_registry.cc:113] Plugin optimizer for device_type GPU is enabled.\n"
     ]
    },
    {
     "name": "stdout",
     "output_type": "stream",
     "text": [
      "188/188 [==============================] - 2s 4ms/step\n"
     ]
    },
    {
     "name": "stderr",
     "output_type": "stream",
     "text": [
      "2023-12-23 17:10:11.218916: I tensorflow/core/grappler/optimizers/custom_graph_optimizer_registry.cc:113] Plugin optimizer for device_type GPU is enabled.\n"
     ]
    },
    {
     "name": "stdout",
     "output_type": "stream",
     "text": [
      "188/188 [==============================] - 2s 7ms/step\n"
     ]
    },
    {
     "name": "stderr",
     "output_type": "stream",
     "text": [
      "2023-12-23 17:10:13.092634: I tensorflow/core/grappler/optimizers/custom_graph_optimizer_registry.cc:113] Plugin optimizer for device_type GPU is enabled.\n"
     ]
    },
    {
     "name": "stdout",
     "output_type": "stream",
     "text": [
      "188/188 [==============================] - 3s 7ms/step\n"
     ]
    },
    {
     "name": "stderr",
     "output_type": "stream",
     "text": [
      "2023-12-23 17:10:16.091468: I tensorflow/core/grappler/optimizers/custom_graph_optimizer_registry.cc:113] Plugin optimizer for device_type GPU is enabled.\n"
     ]
    },
    {
     "name": "stdout",
     "output_type": "stream",
     "text": [
      "188/188 [==============================] - 3s 7ms/step\n"
     ]
    },
    {
     "name": "stderr",
     "output_type": "stream",
     "text": [
      "2023-12-23 17:10:19.395234: I tensorflow/core/grappler/optimizers/custom_graph_optimizer_registry.cc:113] Plugin optimizer for device_type GPU is enabled.\n"
     ]
    },
    {
     "name": "stdout",
     "output_type": "stream",
     "text": [
      "188/188 [==============================] - 3s 14ms/step\n"
     ]
    },
    {
     "name": "stderr",
     "output_type": "stream",
     "text": [
      "2023-12-23 17:10:23.063603: I tensorflow/core/grappler/optimizers/custom_graph_optimizer_registry.cc:113] Plugin optimizer for device_type GPU is enabled.\n"
     ]
    },
    {
     "name": "stdout",
     "output_type": "stream",
     "text": [
      "188/188 [==============================] - 5s 14ms/step\n"
     ]
    },
    {
     "name": "stderr",
     "output_type": "stream",
     "text": [
      "2023-12-23 17:10:28.237307: I tensorflow/core/grappler/optimizers/custom_graph_optimizer_registry.cc:113] Plugin optimizer for device_type GPU is enabled.\n"
     ]
    },
    {
     "name": "stdout",
     "output_type": "stream",
     "text": [
      "188/188 [==============================] - 4s 15ms/step\n"
     ]
    },
    {
     "name": "stderr",
     "output_type": "stream",
     "text": [
      "2023-12-23 17:10:32.158489: I tensorflow/core/grappler/optimizers/custom_graph_optimizer_registry.cc:113] Plugin optimizer for device_type GPU is enabled.\n"
     ]
    },
    {
     "name": "stdout",
     "output_type": "stream",
     "text": [
      "188/188 [==============================] - 5s 14ms/step\n",
      "24/24 [==============================] - 32s 1s/step - loss: 0.0036 - accuracy: 0.9995 - val_loss: 1.7144 - val_accuracy: 0.6840\n",
      "Epoch 501/1000\n"
     ]
    },
    {
     "name": "stderr",
     "output_type": "stream",
     "text": [
      "2023-12-23 17:10:37.572817: I tensorflow/core/grappler/optimizers/custom_graph_optimizer_registry.cc:113] Plugin optimizer for device_type GPU is enabled.\n"
     ]
    },
    {
     "name": "stdout",
     "output_type": "stream",
     "text": [
      "24/24 [==============================] - ETA: 0s - loss: 0.0026 - accuracy: 0.9998"
     ]
    },
    {
     "name": "stderr",
     "output_type": "stream",
     "text": [
      "2023-12-23 17:11:04.804513: I tensorflow/core/grappler/optimizers/custom_graph_optimizer_registry.cc:113] Plugin optimizer for device_type GPU is enabled.\n"
     ]
    },
    {
     "name": "stdout",
     "output_type": "stream",
     "text": [
      "24/24 [==============================] - 35s 1s/step - loss: 0.0026 - accuracy: 0.9998 - val_loss: 1.7311 - val_accuracy: 0.6854\n",
      "Epoch 502/1000\n",
      "24/24 [==============================] - 3s 124ms/step - loss: 0.0049 - accuracy: 0.9987 - val_loss: 1.7188 - val_accuracy: 0.6841\n",
      "Epoch 503/1000\n",
      "24/24 [==============================] - 3s 135ms/step - loss: 0.0039 - accuracy: 0.9992 - val_loss: 1.7368 - val_accuracy: 0.6821\n",
      "Epoch 504/1000\n",
      "24/24 [==============================] - 3s 143ms/step - loss: 0.0053 - accuracy: 0.9982 - val_loss: 1.7370 - val_accuracy: 0.6807\n",
      "Epoch 505/1000\n",
      "24/24 [==============================] - 6s 260ms/step - loss: 0.0035 - accuracy: 0.9997 - val_loss: 1.7293 - val_accuracy: 0.6814\n",
      "Epoch 506/1000\n",
      "24/24 [==============================] - 1s 46ms/step - loss: 0.0031 - accuracy: 0.9997 - val_loss: 1.7328 - val_accuracy: 0.6800\n",
      "Epoch 507/1000\n",
      "24/24 [==============================] - 3s 131ms/step - loss: 0.0033 - accuracy: 0.9997 - val_loss: 1.7468 - val_accuracy: 0.6800\n",
      "Epoch 508/1000\n",
      "24/24 [==============================] - 2s 80ms/step - loss: 0.0037 - accuracy: 0.9992 - val_loss: 1.7529 - val_accuracy: 0.6788\n",
      "Epoch 509/1000\n",
      "24/24 [==============================] - 3s 119ms/step - loss: 0.0048 - accuracy: 0.9985 - val_loss: 1.7404 - val_accuracy: 0.6809\n",
      "Epoch 510/1000\n",
      "24/24 [==============================] - 2s 95ms/step - loss: 0.0051 - accuracy: 0.9985 - val_loss: 1.7323 - val_accuracy: 0.6821\n",
      "Epoch 511/1000\n",
      "24/24 [==============================] - 1s 44ms/step - loss: 0.0032 - accuracy: 0.9995 - val_loss: 1.7307 - val_accuracy: 0.6827\n",
      "Epoch 512/1000\n",
      "24/24 [==============================] - 1s 44ms/step - loss: 0.0042 - accuracy: 0.9993 - val_loss: 1.7231 - val_accuracy: 0.6835\n",
      "Epoch 513/1000\n",
      "24/24 [==============================] - 2s 71ms/step - loss: 0.0034 - accuracy: 0.9997 - val_loss: 1.7231 - val_accuracy: 0.6846\n",
      "Epoch 514/1000\n",
      "24/24 [==============================] - 1s 59ms/step - loss: 0.0040 - accuracy: 0.9988 - val_loss: 1.7311 - val_accuracy: 0.6862\n",
      "Epoch 515/1000\n",
      "24/24 [==============================] - 1s 45ms/step - loss: 0.0040 - accuracy: 0.9992 - val_loss: 1.7358 - val_accuracy: 0.6842\n",
      "Epoch 516/1000\n",
      "24/24 [==============================] - 2s 96ms/step - loss: 0.0053 - accuracy: 0.9982 - val_loss: 1.7350 - val_accuracy: 0.6869\n",
      "Epoch 517/1000\n",
      "24/24 [==============================] - 1s 49ms/step - loss: 0.0045 - accuracy: 0.9983 - val_loss: 1.7358 - val_accuracy: 0.6831\n",
      "Epoch 518/1000\n",
      "24/24 [==============================] - 1s 52ms/step - loss: 0.0031 - accuracy: 0.9995 - val_loss: 1.7486 - val_accuracy: 0.6837\n",
      "Epoch 519/1000\n",
      "24/24 [==============================] - 1s 49ms/step - loss: 0.0032 - accuracy: 0.9993 - val_loss: 1.7528 - val_accuracy: 0.6827\n",
      "Epoch 520/1000\n",
      "24/24 [==============================] - 1s 48ms/step - loss: 0.0037 - accuracy: 0.9993 - val_loss: 1.7428 - val_accuracy: 0.6862\n",
      "Epoch 521/1000\n",
      "24/24 [==============================] - 1s 45ms/step - loss: 0.0028 - accuracy: 0.9998 - val_loss: 1.7393 - val_accuracy: 0.6856\n",
      "Epoch 522/1000\n",
      "24/24 [==============================] - 1s 45ms/step - loss: 0.0026 - accuracy: 0.9998 - val_loss: 1.7296 - val_accuracy: 0.6869\n",
      "Epoch 523/1000\n",
      "24/24 [==============================] - 1s 45ms/step - loss: 0.0021 - accuracy: 0.9998 - val_loss: 1.7286 - val_accuracy: 0.6871\n",
      "Epoch 524/1000\n",
      "24/24 [==============================] - 1s 45ms/step - loss: 0.0038 - accuracy: 0.9995 - val_loss: 1.7310 - val_accuracy: 0.6843\n",
      "Epoch 525/1000\n",
      "24/24 [==============================] - 1s 45ms/step - loss: 0.0032 - accuracy: 0.9993 - val_loss: 1.7325 - val_accuracy: 0.6832\n",
      "Epoch 526/1000\n",
      "24/24 [==============================] - 1s 49ms/step - loss: 0.0025 - accuracy: 0.9998 - val_loss: 1.7309 - val_accuracy: 0.6815\n",
      "Epoch 527/1000\n",
      "24/24 [==============================] - 1s 46ms/step - loss: 0.0031 - accuracy: 0.9993 - val_loss: 1.7279 - val_accuracy: 0.6841\n",
      "Epoch 528/1000\n",
      "24/24 [==============================] - 1s 45ms/step - loss: 0.0029 - accuracy: 0.9998 - val_loss: 1.7333 - val_accuracy: 0.6872\n",
      "Epoch 529/1000\n",
      "24/24 [==============================] - 1s 45ms/step - loss: 0.0039 - accuracy: 0.9993 - val_loss: 1.7419 - val_accuracy: 0.6854\n",
      "Epoch 530/1000\n",
      "24/24 [==============================] - 1s 45ms/step - loss: 0.0028 - accuracy: 0.9995 - val_loss: 1.7388 - val_accuracy: 0.6859\n",
      "Epoch 531/1000\n",
      "24/24 [==============================] - 1s 46ms/step - loss: 0.0044 - accuracy: 0.9988 - val_loss: 1.7400 - val_accuracy: 0.6864\n",
      "Epoch 532/1000\n",
      "24/24 [==============================] - 1s 45ms/step - loss: 0.0027 - accuracy: 0.9993 - val_loss: 1.7483 - val_accuracy: 0.6858\n",
      "Epoch 533/1000\n",
      "24/24 [==============================] - 1s 45ms/step - loss: 0.0042 - accuracy: 0.9992 - val_loss: 1.7504 - val_accuracy: 0.6863\n",
      "Epoch 534/1000\n",
      "24/24 [==============================] - 1s 45ms/step - loss: 0.0034 - accuracy: 0.9993 - val_loss: 1.7456 - val_accuracy: 0.6870\n",
      "Epoch 535/1000\n",
      "24/24 [==============================] - 1s 45ms/step - loss: 0.0049 - accuracy: 0.9990 - val_loss: 1.7328 - val_accuracy: 0.6859\n",
      "Epoch 536/1000\n",
      "24/24 [==============================] - 1s 44ms/step - loss: 0.0035 - accuracy: 0.9995 - val_loss: 1.7211 - val_accuracy: 0.6863\n",
      "Epoch 537/1000\n",
      "24/24 [==============================] - 1s 45ms/step - loss: 0.0039 - accuracy: 0.9995 - val_loss: 1.7305 - val_accuracy: 0.6873\n",
      "Epoch 538/1000\n",
      "24/24 [==============================] - 1s 45ms/step - loss: 0.0031 - accuracy: 0.9995 - val_loss: 1.7179 - val_accuracy: 0.6906\n",
      "Epoch 539/1000\n",
      "24/24 [==============================] - 1s 45ms/step - loss: 0.0025 - accuracy: 0.9998 - val_loss: 1.7175 - val_accuracy: 0.6906\n",
      "Epoch 540/1000\n",
      "24/24 [==============================] - 1s 45ms/step - loss: 0.0034 - accuracy: 0.9995 - val_loss: 1.7178 - val_accuracy: 0.6918\n",
      "Epoch 541/1000\n",
      "24/24 [==============================] - 1s 45ms/step - loss: 0.0022 - accuracy: 0.9998 - val_loss: 1.7107 - val_accuracy: 0.6912\n",
      "Epoch 542/1000\n",
      "24/24 [==============================] - 1s 46ms/step - loss: 0.0030 - accuracy: 0.9993 - val_loss: 1.7069 - val_accuracy: 0.6929\n",
      "Epoch 543/1000\n",
      "24/24 [==============================] - 1s 45ms/step - loss: 0.0036 - accuracy: 0.9993 - val_loss: 1.7231 - val_accuracy: 0.6904\n",
      "Epoch 544/1000\n",
      "24/24 [==============================] - 1s 45ms/step - loss: 0.0033 - accuracy: 0.9995 - val_loss: 1.7352 - val_accuracy: 0.6892\n",
      "Epoch 545/1000\n",
      "24/24 [==============================] - 1s 45ms/step - loss: 0.0023 - accuracy: 0.9998 - val_loss: 1.7275 - val_accuracy: 0.6917\n",
      "Epoch 546/1000\n",
      "24/24 [==============================] - 1s 45ms/step - loss: 0.0038 - accuracy: 0.9990 - val_loss: 1.7181 - val_accuracy: 0.6915\n",
      "Epoch 547/1000\n",
      "24/24 [==============================] - 1s 45ms/step - loss: 0.0024 - accuracy: 0.9998 - val_loss: 1.7167 - val_accuracy: 0.6902\n",
      "Epoch 548/1000\n",
      "24/24 [==============================] - 1s 45ms/step - loss: 0.0035 - accuracy: 0.9988 - val_loss: 1.7182 - val_accuracy: 0.6915\n",
      "Epoch 549/1000\n",
      "24/24 [==============================] - 1s 44ms/step - loss: 0.0017 - accuracy: 0.9998 - val_loss: 1.7244 - val_accuracy: 0.6926\n",
      "Epoch 550/1000\n",
      "24/24 [==============================] - ETA: 0s - loss: 0.0019 - accuracy: 0.9998"
     ]
    },
    {
     "name": "stderr",
     "output_type": "stream",
     "text": [
      "2023-12-23 17:12:28.689730: I tensorflow/core/grappler/optimizers/custom_graph_optimizer_registry.cc:113] Plugin optimizer for device_type GPU is enabled.\n"
     ]
    },
    {
     "name": "stdout",
     "output_type": "stream",
     "text": [
      "188/188 [==============================] - 1s 2ms/step\n"
     ]
    },
    {
     "name": "stderr",
     "output_type": "stream",
     "text": [
      "2023-12-23 17:12:29.901602: I tensorflow/core/grappler/optimizers/custom_graph_optimizer_registry.cc:113] Plugin optimizer for device_type GPU is enabled.\n"
     ]
    },
    {
     "name": "stdout",
     "output_type": "stream",
     "text": [
      "188/188 [==============================] - 1s 3ms/step\n"
     ]
    },
    {
     "name": "stderr",
     "output_type": "stream",
     "text": [
      "2023-12-23 17:12:31.213424: I tensorflow/core/grappler/optimizers/custom_graph_optimizer_registry.cc:113] Plugin optimizer for device_type GPU is enabled.\n"
     ]
    },
    {
     "name": "stdout",
     "output_type": "stream",
     "text": [
      "188/188 [==============================] - 2s 4ms/step\n"
     ]
    },
    {
     "name": "stderr",
     "output_type": "stream",
     "text": [
      "2023-12-23 17:12:32.816190: I tensorflow/core/grappler/optimizers/custom_graph_optimizer_registry.cc:113] Plugin optimizer for device_type GPU is enabled.\n"
     ]
    },
    {
     "name": "stdout",
     "output_type": "stream",
     "text": [
      "188/188 [==============================] - 2s 7ms/step\n"
     ]
    },
    {
     "name": "stderr",
     "output_type": "stream",
     "text": [
      "2023-12-23 17:12:34.708135: I tensorflow/core/grappler/optimizers/custom_graph_optimizer_registry.cc:113] Plugin optimizer for device_type GPU is enabled.\n"
     ]
    },
    {
     "name": "stdout",
     "output_type": "stream",
     "text": [
      "188/188 [==============================] - 2s 9ms/step\n"
     ]
    },
    {
     "name": "stderr",
     "output_type": "stream",
     "text": [
      "2023-12-23 17:12:37.101547: I tensorflow/core/grappler/optimizers/custom_graph_optimizer_registry.cc:113] Plugin optimizer for device_type GPU is enabled.\n"
     ]
    },
    {
     "name": "stdout",
     "output_type": "stream",
     "text": [
      "188/188 [==============================] - 3s 7ms/step\n"
     ]
    },
    {
     "name": "stderr",
     "output_type": "stream",
     "text": [
      "2023-12-23 17:12:40.198003: I tensorflow/core/grappler/optimizers/custom_graph_optimizer_registry.cc:113] Plugin optimizer for device_type GPU is enabled.\n"
     ]
    },
    {
     "name": "stdout",
     "output_type": "stream",
     "text": [
      "188/188 [==============================] - 4s 11ms/step\n"
     ]
    },
    {
     "name": "stderr",
     "output_type": "stream",
     "text": [
      "2023-12-23 17:12:44.420221: I tensorflow/core/grappler/optimizers/custom_graph_optimizer_registry.cc:113] Plugin optimizer for device_type GPU is enabled.\n"
     ]
    },
    {
     "name": "stdout",
     "output_type": "stream",
     "text": [
      "188/188 [==============================] - 5s 12ms/step\n"
     ]
    },
    {
     "name": "stderr",
     "output_type": "stream",
     "text": [
      "2023-12-23 17:12:49.214706: I tensorflow/core/grappler/optimizers/custom_graph_optimizer_registry.cc:113] Plugin optimizer for device_type GPU is enabled.\n"
     ]
    },
    {
     "name": "stdout",
     "output_type": "stream",
     "text": [
      "188/188 [==============================] - 5s 11ms/step\n"
     ]
    },
    {
     "name": "stderr",
     "output_type": "stream",
     "text": [
      "2023-12-23 17:12:53.898607: I tensorflow/core/grappler/optimizers/custom_graph_optimizer_registry.cc:113] Plugin optimizer for device_type GPU is enabled.\n"
     ]
    },
    {
     "name": "stdout",
     "output_type": "stream",
     "text": [
      "188/188 [==============================] - 5s 19ms/step\n",
      "24/24 [==============================] - 35s 2s/step - loss: 0.0019 - accuracy: 0.9998 - val_loss: 1.7244 - val_accuracy: 0.6925\n",
      "Epoch 551/1000\n"
     ]
    },
    {
     "name": "stderr",
     "output_type": "stream",
     "text": [
      "2023-12-23 17:12:58.638552: I tensorflow/core/grappler/optimizers/custom_graph_optimizer_registry.cc:113] Plugin optimizer for device_type GPU is enabled.\n"
     ]
    },
    {
     "name": "stdout",
     "output_type": "stream",
     "text": [
      "24/24 [==============================] - ETA: 0s - loss: 0.0022 - accuracy: 0.9998"
     ]
    },
    {
     "name": "stderr",
     "output_type": "stream",
     "text": [
      "2023-12-23 17:13:30.748162: I tensorflow/core/grappler/optimizers/custom_graph_optimizer_registry.cc:113] Plugin optimizer for device_type GPU is enabled.\n"
     ]
    },
    {
     "name": "stdout",
     "output_type": "stream",
     "text": [
      "24/24 [==============================] - 39s 1s/step - loss: 0.0022 - accuracy: 0.9998 - val_loss: 1.7187 - val_accuracy: 0.6917\n",
      "Epoch 552/1000\n",
      "24/24 [==============================] - 2s 90ms/step - loss: 0.0039 - accuracy: 0.9992 - val_loss: 1.7194 - val_accuracy: 0.6934\n",
      "Epoch 553/1000\n",
      "24/24 [==============================] - 3s 116ms/step - loss: 0.0029 - accuracy: 0.9995 - val_loss: 1.7304 - val_accuracy: 0.6899\n",
      "Epoch 554/1000\n",
      "24/24 [==============================] - 1s 57ms/step - loss: 0.0024 - accuracy: 0.9998 - val_loss: 1.7382 - val_accuracy: 0.6897\n",
      "Epoch 555/1000\n",
      "24/24 [==============================] - 1s 61ms/step - loss: 0.0020 - accuracy: 0.9998 - val_loss: 1.7326 - val_accuracy: 0.6890\n",
      "Epoch 556/1000\n",
      "24/24 [==============================] - 2s 82ms/step - loss: 0.0032 - accuracy: 0.9985 - val_loss: 1.7350 - val_accuracy: 0.6906\n",
      "Epoch 557/1000\n",
      "24/24 [==============================] - 1s 45ms/step - loss: 0.0024 - accuracy: 0.9995 - val_loss: 1.7506 - val_accuracy: 0.6907\n",
      "Epoch 558/1000\n",
      "24/24 [==============================] - 3s 142ms/step - loss: 0.0042 - accuracy: 0.9988 - val_loss: 1.7482 - val_accuracy: 0.6915\n",
      "Epoch 559/1000\n",
      "24/24 [==============================] - 5s 228ms/step - loss: 0.0038 - accuracy: 0.9992 - val_loss: 1.7346 - val_accuracy: 0.6926\n",
      "Epoch 560/1000\n",
      "24/24 [==============================] - 2s 96ms/step - loss: 0.0037 - accuracy: 0.9987 - val_loss: 1.7482 - val_accuracy: 0.6939\n",
      "Epoch 561/1000\n",
      "24/24 [==============================] - 1s 62ms/step - loss: 0.0048 - accuracy: 0.9992 - val_loss: 1.7416 - val_accuracy: 0.6939\n",
      "Epoch 562/1000\n",
      "24/24 [==============================] - 2s 68ms/step - loss: 0.0045 - accuracy: 0.9988 - val_loss: 1.7627 - val_accuracy: 0.6896\n",
      "Epoch 563/1000\n",
      "24/24 [==============================] - 2s 72ms/step - loss: 0.0058 - accuracy: 0.9987 - val_loss: 1.7682 - val_accuracy: 0.6880\n",
      "Epoch 564/1000\n",
      "24/24 [==============================] - 1s 53ms/step - loss: 0.0035 - accuracy: 0.9993 - val_loss: 1.7670 - val_accuracy: 0.6871\n",
      "Epoch 565/1000\n",
      "24/24 [==============================] - 1s 46ms/step - loss: 0.0034 - accuracy: 0.9995 - val_loss: 1.7549 - val_accuracy: 0.6886\n",
      "Epoch 566/1000\n",
      "24/24 [==============================] - 1s 45ms/step - loss: 0.0030 - accuracy: 0.9997 - val_loss: 1.7493 - val_accuracy: 0.6929\n",
      "Epoch 567/1000\n",
      "24/24 [==============================] - 2s 96ms/step - loss: 0.0033 - accuracy: 0.9992 - val_loss: 1.7428 - val_accuracy: 0.6947\n",
      "Epoch 568/1000\n",
      "24/24 [==============================] - 1s 47ms/step - loss: 0.0036 - accuracy: 0.9992 - val_loss: 1.7562 - val_accuracy: 0.6927\n",
      "Epoch 569/1000\n",
      "24/24 [==============================] - 1s 45ms/step - loss: 0.0027 - accuracy: 0.9998 - val_loss: 1.7469 - val_accuracy: 0.6933\n",
      "Epoch 570/1000\n",
      "24/24 [==============================] - 1s 45ms/step - loss: 0.0021 - accuracy: 0.9998 - val_loss: 1.7395 - val_accuracy: 0.6920\n",
      "Epoch 571/1000\n",
      "24/24 [==============================] - 1s 45ms/step - loss: 0.0035 - accuracy: 0.9992 - val_loss: 1.7344 - val_accuracy: 0.6916\n",
      "Epoch 572/1000\n",
      "24/24 [==============================] - 1s 45ms/step - loss: 0.0024 - accuracy: 0.9997 - val_loss: 1.7315 - val_accuracy: 0.6937\n",
      "Epoch 573/1000\n",
      "24/24 [==============================] - 1s 45ms/step - loss: 0.0024 - accuracy: 0.9998 - val_loss: 1.7278 - val_accuracy: 0.6929\n",
      "Epoch 574/1000\n",
      "24/24 [==============================] - 1s 44ms/step - loss: 0.0026 - accuracy: 0.9995 - val_loss: 1.7257 - val_accuracy: 0.6952\n",
      "Epoch 575/1000\n",
      "24/24 [==============================] - 1s 44ms/step - loss: 0.0019 - accuracy: 1.0000 - val_loss: 1.7287 - val_accuracy: 0.6955\n",
      "Epoch 576/1000\n",
      "24/24 [==============================] - 1s 45ms/step - loss: 0.0015 - accuracy: 1.0000 - val_loss: 1.7270 - val_accuracy: 0.6959\n",
      "Epoch 577/1000\n",
      "24/24 [==============================] - 1s 45ms/step - loss: 0.0019 - accuracy: 0.9995 - val_loss: 1.7224 - val_accuracy: 0.6968\n",
      "Epoch 578/1000\n",
      "24/24 [==============================] - 1s 45ms/step - loss: 0.0020 - accuracy: 0.9998 - val_loss: 1.7221 - val_accuracy: 0.6974\n",
      "Epoch 579/1000\n",
      "24/24 [==============================] - 1s 45ms/step - loss: 0.0019 - accuracy: 0.9997 - val_loss: 1.7183 - val_accuracy: 0.6999\n",
      "Epoch 580/1000\n",
      "24/24 [==============================] - 1s 45ms/step - loss: 0.0029 - accuracy: 0.9993 - val_loss: 1.7222 - val_accuracy: 0.6977\n",
      "Epoch 581/1000\n",
      "24/24 [==============================] - 1s 45ms/step - loss: 0.0035 - accuracy: 0.9997 - val_loss: 1.7269 - val_accuracy: 0.6982\n",
      "Epoch 582/1000\n",
      "24/24 [==============================] - 1s 44ms/step - loss: 0.0023 - accuracy: 0.9997 - val_loss: 1.7346 - val_accuracy: 0.6954\n",
      "Epoch 583/1000\n",
      "24/24 [==============================] - 1s 44ms/step - loss: 0.0025 - accuracy: 0.9993 - val_loss: 1.7303 - val_accuracy: 0.6959\n",
      "Epoch 584/1000\n",
      "24/24 [==============================] - 1s 44ms/step - loss: 0.0028 - accuracy: 0.9992 - val_loss: 1.7400 - val_accuracy: 0.6969\n",
      "Epoch 585/1000\n",
      "24/24 [==============================] - 1s 45ms/step - loss: 0.0034 - accuracy: 0.9992 - val_loss: 1.7394 - val_accuracy: 0.6953\n",
      "Epoch 586/1000\n",
      "24/24 [==============================] - 2s 82ms/step - loss: 0.0019 - accuracy: 0.9998 - val_loss: 1.7450 - val_accuracy: 0.6941\n",
      "Epoch 587/1000\n",
      "24/24 [==============================] - 1s 52ms/step - loss: 0.0027 - accuracy: 0.9993 - val_loss: 1.7398 - val_accuracy: 0.6928\n",
      "Epoch 588/1000\n",
      "24/24 [==============================] - 1s 45ms/step - loss: 0.0019 - accuracy: 0.9998 - val_loss: 1.7421 - val_accuracy: 0.6944\n",
      "Epoch 589/1000\n",
      "24/24 [==============================] - 1s 46ms/step - loss: 0.0025 - accuracy: 0.9997 - val_loss: 1.7388 - val_accuracy: 0.6938\n",
      "Epoch 590/1000\n",
      "24/24 [==============================] - 1s 45ms/step - loss: 0.0027 - accuracy: 0.9997 - val_loss: 1.7435 - val_accuracy: 0.6950\n",
      "Epoch 591/1000\n",
      "24/24 [==============================] - 1s 45ms/step - loss: 0.0019 - accuracy: 0.9998 - val_loss: 1.7417 - val_accuracy: 0.6942\n",
      "Epoch 592/1000\n",
      "24/24 [==============================] - 1s 45ms/step - loss: 0.0024 - accuracy: 0.9998 - val_loss: 1.7381 - val_accuracy: 0.6959\n",
      "Epoch 593/1000\n",
      "24/24 [==============================] - 6s 250ms/step - loss: 0.0020 - accuracy: 0.9997 - val_loss: 1.7318 - val_accuracy: 0.6980\n",
      "Epoch 594/1000\n",
      "24/24 [==============================] - 1s 45ms/step - loss: 0.0023 - accuracy: 0.9997 - val_loss: 1.7298 - val_accuracy: 0.6983\n",
      "Epoch 595/1000\n",
      "24/24 [==============================] - 1s 45ms/step - loss: 0.0035 - accuracy: 0.9997 - val_loss: 1.7346 - val_accuracy: 0.6949\n",
      "Epoch 596/1000\n",
      "24/24 [==============================] - 1s 45ms/step - loss: 0.0026 - accuracy: 0.9997 - val_loss: 1.7288 - val_accuracy: 0.6981\n",
      "Epoch 597/1000\n",
      "24/24 [==============================] - 1s 46ms/step - loss: 0.0024 - accuracy: 0.9995 - val_loss: 1.7322 - val_accuracy: 0.6959\n",
      "Epoch 598/1000\n",
      "24/24 [==============================] - 1s 45ms/step - loss: 0.0024 - accuracy: 0.9997 - val_loss: 1.7389 - val_accuracy: 0.6939\n",
      "Epoch 599/1000\n",
      "24/24 [==============================] - 2s 100ms/step - loss: 0.0033 - accuracy: 0.9990 - val_loss: 1.7363 - val_accuracy: 0.6975\n",
      "Epoch 600/1000\n",
      "24/24 [==============================] - 1s 49ms/step - loss: 0.0031 - accuracy: 0.9993 - val_loss: 1.7472 - val_accuracy: 0.6956\n",
      "Epoch 601/1000\n",
      "24/24 [==============================] - 1s 46ms/step - loss: 0.0027 - accuracy: 0.9995 - val_loss: 1.7328 - val_accuracy: 0.6986\n",
      "Epoch 602/1000\n",
      "24/24 [==============================] - 1s 45ms/step - loss: 0.0025 - accuracy: 0.9995 - val_loss: 1.7255 - val_accuracy: 0.6998\n",
      "Epoch 603/1000\n",
      "24/24 [==============================] - 1s 45ms/step - loss: 0.0018 - accuracy: 0.9998 - val_loss: 1.7228 - val_accuracy: 0.7008\n",
      "Epoch 604/1000\n",
      "24/24 [==============================] - 2s 70ms/step - loss: 0.0021 - accuracy: 0.9998 - val_loss: 1.7162 - val_accuracy: 0.7004\n",
      "Epoch 605/1000\n",
      "24/24 [==============================] - ETA: 0s - loss: 0.0015 - accuracy: 1.0000"
     ]
    },
    {
     "name": "stderr",
     "output_type": "stream",
     "text": [
      "2023-12-23 17:14:57.500578: I tensorflow/core/grappler/optimizers/custom_graph_optimizer_registry.cc:113] Plugin optimizer for device_type GPU is enabled.\n"
     ]
    },
    {
     "name": "stdout",
     "output_type": "stream",
     "text": [
      "188/188 [==============================] - 1s 2ms/step\n"
     ]
    },
    {
     "name": "stderr",
     "output_type": "stream",
     "text": [
      "2023-12-23 17:14:58.919071: I tensorflow/core/grappler/optimizers/custom_graph_optimizer_registry.cc:113] Plugin optimizer for device_type GPU is enabled.\n"
     ]
    },
    {
     "name": "stdout",
     "output_type": "stream",
     "text": [
      "188/188 [==============================] - 1s 4ms/step\n"
     ]
    },
    {
     "name": "stderr",
     "output_type": "stream",
     "text": [
      "2023-12-23 17:15:00.309572: I tensorflow/core/grappler/optimizers/custom_graph_optimizer_registry.cc:113] Plugin optimizer for device_type GPU is enabled.\n"
     ]
    },
    {
     "name": "stdout",
     "output_type": "stream",
     "text": [
      "188/188 [==============================] - 2s 5ms/step\n"
     ]
    },
    {
     "name": "stderr",
     "output_type": "stream",
     "text": [
      "2023-12-23 17:15:02.207670: I tensorflow/core/grappler/optimizers/custom_graph_optimizer_registry.cc:113] Plugin optimizer for device_type GPU is enabled.\n"
     ]
    },
    {
     "name": "stdout",
     "output_type": "stream",
     "text": [
      "188/188 [==============================] - 2s 7ms/step\n"
     ]
    },
    {
     "name": "stderr",
     "output_type": "stream",
     "text": [
      "2023-12-23 17:15:04.697141: I tensorflow/core/grappler/optimizers/custom_graph_optimizer_registry.cc:113] Plugin optimizer for device_type GPU is enabled.\n"
     ]
    },
    {
     "name": "stdout",
     "output_type": "stream",
     "text": [
      "188/188 [==============================] - 3s 9ms/step\n"
     ]
    },
    {
     "name": "stderr",
     "output_type": "stream",
     "text": [
      "2023-12-23 17:15:07.919272: I tensorflow/core/grappler/optimizers/custom_graph_optimizer_registry.cc:113] Plugin optimizer for device_type GPU is enabled.\n"
     ]
    },
    {
     "name": "stdout",
     "output_type": "stream",
     "text": [
      "188/188 [==============================] - 4s 11ms/step\n"
     ]
    },
    {
     "name": "stderr",
     "output_type": "stream",
     "text": [
      "2023-12-23 17:15:11.583299: I tensorflow/core/grappler/optimizers/custom_graph_optimizer_registry.cc:113] Plugin optimizer for device_type GPU is enabled.\n"
     ]
    },
    {
     "name": "stdout",
     "output_type": "stream",
     "text": [
      "188/188 [==============================] - 5s 16ms/step\n"
     ]
    },
    {
     "name": "stderr",
     "output_type": "stream",
     "text": [
      "2023-12-23 17:15:16.408434: I tensorflow/core/grappler/optimizers/custom_graph_optimizer_registry.cc:113] Plugin optimizer for device_type GPU is enabled.\n"
     ]
    },
    {
     "name": "stdout",
     "output_type": "stream",
     "text": [
      "188/188 [==============================] - 5s 13ms/step\n"
     ]
    },
    {
     "name": "stderr",
     "output_type": "stream",
     "text": [
      "2023-12-23 17:15:21.513093: I tensorflow/core/grappler/optimizers/custom_graph_optimizer_registry.cc:113] Plugin optimizer for device_type GPU is enabled.\n"
     ]
    },
    {
     "name": "stdout",
     "output_type": "stream",
     "text": [
      "188/188 [==============================] - 6s 18ms/step\n"
     ]
    },
    {
     "name": "stderr",
     "output_type": "stream",
     "text": [
      "2023-12-23 17:15:28.141570: I tensorflow/core/grappler/optimizers/custom_graph_optimizer_registry.cc:113] Plugin optimizer for device_type GPU is enabled.\n"
     ]
    },
    {
     "name": "stdout",
     "output_type": "stream",
     "text": [
      "188/188 [==============================] - 7s 22ms/step\n",
      "24/24 [==============================] - 39s 2s/step - loss: 0.0015 - accuracy: 1.0000 - val_loss: 1.7200 - val_accuracy: 0.6996\n",
      "Epoch 606/1000\n"
     ]
    },
    {
     "name": "stderr",
     "output_type": "stream",
     "text": [
      "2023-12-23 17:15:34.962800: I tensorflow/core/grappler/optimizers/custom_graph_optimizer_registry.cc:113] Plugin optimizer for device_type GPU is enabled.\n"
     ]
    },
    {
     "name": "stdout",
     "output_type": "stream",
     "text": [
      "24/24 [==============================] - ETA: 0s - loss: 0.0022 - accuracy: 0.9998"
     ]
    },
    {
     "name": "stderr",
     "output_type": "stream",
     "text": [
      "2023-12-23 17:16:09.353750: I tensorflow/core/grappler/optimizers/custom_graph_optimizer_registry.cc:113] Plugin optimizer for device_type GPU is enabled.\n"
     ]
    },
    {
     "name": "stdout",
     "output_type": "stream",
     "text": [
      "24/24 [==============================] - 43s 1s/step - loss: 0.0022 - accuracy: 0.9998 - val_loss: 1.7152 - val_accuracy: 0.7017\n",
      "Epoch 607/1000\n",
      "24/24 [==============================] - 5s 200ms/step - loss: 0.0014 - accuracy: 1.0000 - val_loss: 1.7136 - val_accuracy: 0.7004\n",
      "Epoch 608/1000\n",
      "24/24 [==============================] - 3s 137ms/step - loss: 0.0012 - accuracy: 0.9998 - val_loss: 1.7119 - val_accuracy: 0.7011\n",
      "Epoch 609/1000\n",
      "24/24 [==============================] - 2s 85ms/step - loss: 0.0028 - accuracy: 0.9992 - val_loss: 1.7136 - val_accuracy: 0.7014\n",
      "Epoch 610/1000\n",
      "24/24 [==============================] - 1s 59ms/step - loss: 0.0024 - accuracy: 0.9995 - val_loss: 1.7208 - val_accuracy: 0.6967\n",
      "Epoch 611/1000\n",
      "24/24 [==============================] - 1s 47ms/step - loss: 0.0025 - accuracy: 0.9990 - val_loss: 1.7220 - val_accuracy: 0.6997\n",
      "Epoch 612/1000\n",
      "24/24 [==============================] - 2s 94ms/step - loss: 0.0023 - accuracy: 0.9998 - val_loss: 1.7201 - val_accuracy: 0.6982\n",
      "Epoch 613/1000\n",
      "24/24 [==============================] - 2s 66ms/step - loss: 0.0023 - accuracy: 0.9997 - val_loss: 1.7149 - val_accuracy: 0.6989\n",
      "Epoch 614/1000\n",
      "24/24 [==============================] - 3s 114ms/step - loss: 0.0023 - accuracy: 0.9995 - val_loss: 1.7191 - val_accuracy: 0.6982\n",
      "Epoch 615/1000\n",
      "24/24 [==============================] - 3s 109ms/step - loss: 0.0035 - accuracy: 0.9992 - val_loss: 1.7190 - val_accuracy: 0.7007\n",
      "Epoch 616/1000\n",
      "24/24 [==============================] - 4s 191ms/step - loss: 0.0029 - accuracy: 0.9997 - val_loss: 1.7248 - val_accuracy: 0.6991\n",
      "Epoch 617/1000\n",
      "24/24 [==============================] - 1s 50ms/step - loss: 0.0036 - accuracy: 0.9992 - val_loss: 1.7305 - val_accuracy: 0.6968\n",
      "Epoch 618/1000\n",
      "24/24 [==============================] - 1s 47ms/step - loss: 0.0048 - accuracy: 0.9993 - val_loss: 1.7305 - val_accuracy: 0.6977\n",
      "Epoch 619/1000\n",
      "24/24 [==============================] - 1s 46ms/step - loss: 0.0029 - accuracy: 0.9992 - val_loss: 1.7374 - val_accuracy: 0.6966\n",
      "Epoch 620/1000\n",
      "24/24 [==============================] - 1s 63ms/step - loss: 0.0031 - accuracy: 0.9997 - val_loss: 1.7464 - val_accuracy: 0.6967\n",
      "Epoch 621/1000\n",
      "24/24 [==============================] - 2s 102ms/step - loss: 0.0023 - accuracy: 0.9995 - val_loss: 1.7511 - val_accuracy: 0.6954\n",
      "Epoch 622/1000\n",
      "24/24 [==============================] - 2s 70ms/step - loss: 0.0036 - accuracy: 0.9993 - val_loss: 1.7516 - val_accuracy: 0.6954\n",
      "Epoch 623/1000\n",
      "24/24 [==============================] - 1s 46ms/step - loss: 0.0025 - accuracy: 0.9993 - val_loss: 1.7552 - val_accuracy: 0.6964\n",
      "Epoch 624/1000\n",
      "24/24 [==============================] - 1s 45ms/step - loss: 0.0027 - accuracy: 0.9993 - val_loss: 1.7400 - val_accuracy: 0.6941\n",
      "Epoch 625/1000\n",
      "24/24 [==============================] - 1s 45ms/step - loss: 0.0059 - accuracy: 0.9978 - val_loss: 1.7243 - val_accuracy: 0.6976\n",
      "Epoch 626/1000\n",
      "24/24 [==============================] - 1s 45ms/step - loss: 0.0026 - accuracy: 0.9997 - val_loss: 1.7634 - val_accuracy: 0.6934\n",
      "Epoch 627/1000\n",
      "24/24 [==============================] - 1s 45ms/step - loss: 0.0038 - accuracy: 0.9995 - val_loss: 1.7459 - val_accuracy: 0.6973\n",
      "Epoch 628/1000\n",
      "24/24 [==============================] - 1s 45ms/step - loss: 0.0028 - accuracy: 0.9997 - val_loss: 1.7335 - val_accuracy: 0.6997\n",
      "Epoch 629/1000\n",
      "24/24 [==============================] - 1s 45ms/step - loss: 0.0027 - accuracy: 0.9995 - val_loss: 1.7314 - val_accuracy: 0.6989\n",
      "Epoch 630/1000\n",
      "24/24 [==============================] - 1s 47ms/step - loss: 0.0038 - accuracy: 0.9992 - val_loss: 1.7320 - val_accuracy: 0.6993\n",
      "Epoch 631/1000\n",
      "24/24 [==============================] - 1s 45ms/step - loss: 0.0029 - accuracy: 0.9995 - val_loss: 1.7379 - val_accuracy: 0.6983\n",
      "Epoch 632/1000\n",
      "24/24 [==============================] - 1s 45ms/step - loss: 0.0029 - accuracy: 0.9995 - val_loss: 1.7403 - val_accuracy: 0.6977\n",
      "Epoch 633/1000\n",
      "24/24 [==============================] - 1s 45ms/step - loss: 0.0024 - accuracy: 0.9995 - val_loss: 1.7337 - val_accuracy: 0.6978\n",
      "Epoch 634/1000\n",
      "24/24 [==============================] - 1s 45ms/step - loss: 0.0021 - accuracy: 0.9998 - val_loss: 1.7368 - val_accuracy: 0.6984\n",
      "Epoch 635/1000\n",
      "24/24 [==============================] - 1s 59ms/step - loss: 0.0019 - accuracy: 0.9995 - val_loss: 1.7356 - val_accuracy: 0.6981\n",
      "Epoch 636/1000\n",
      "24/24 [==============================] - 1s 45ms/step - loss: 0.0039 - accuracy: 0.9990 - val_loss: 1.7319 - val_accuracy: 0.6996\n",
      "Epoch 637/1000\n",
      "24/24 [==============================] - 1s 45ms/step - loss: 0.0027 - accuracy: 0.9995 - val_loss: 1.7453 - val_accuracy: 0.6953\n",
      "Epoch 638/1000\n",
      "24/24 [==============================] - 1s 45ms/step - loss: 0.0041 - accuracy: 0.9988 - val_loss: 1.7364 - val_accuracy: 0.6956\n",
      "Epoch 639/1000\n",
      "24/24 [==============================] - 1s 45ms/step - loss: 0.0025 - accuracy: 0.9997 - val_loss: 1.7331 - val_accuracy: 0.6964\n",
      "Epoch 640/1000\n",
      "24/24 [==============================] - 1s 45ms/step - loss: 0.0027 - accuracy: 0.9992 - val_loss: 1.7332 - val_accuracy: 0.6984\n",
      "Epoch 641/1000\n",
      "24/24 [==============================] - 1s 45ms/step - loss: 0.0025 - accuracy: 0.9995 - val_loss: 1.7427 - val_accuracy: 0.6951\n",
      "Epoch 642/1000\n",
      "24/24 [==============================] - 1s 45ms/step - loss: 0.0019 - accuracy: 0.9998 - val_loss: 1.7390 - val_accuracy: 0.6959\n",
      "Epoch 643/1000\n",
      "24/24 [==============================] - 1s 45ms/step - loss: 0.0046 - accuracy: 0.9988 - val_loss: 1.7319 - val_accuracy: 0.6956\n",
      "Epoch 644/1000\n",
      "24/24 [==============================] - 1s 45ms/step - loss: 0.0021 - accuracy: 0.9998 - val_loss: 1.7428 - val_accuracy: 0.6970\n",
      "Epoch 645/1000\n",
      "24/24 [==============================] - 1s 45ms/step - loss: 0.0027 - accuracy: 0.9995 - val_loss: 1.7339 - val_accuracy: 0.6968\n",
      "Epoch 646/1000\n",
      "24/24 [==============================] - 1s 45ms/step - loss: 0.0027 - accuracy: 0.9993 - val_loss: 1.7309 - val_accuracy: 0.6970\n",
      "Epoch 647/1000\n",
      "24/24 [==============================] - 1s 45ms/step - loss: 0.0019 - accuracy: 0.9997 - val_loss: 1.7286 - val_accuracy: 0.6985\n",
      "Epoch 648/1000\n",
      "24/24 [==============================] - 1s 45ms/step - loss: 0.0017 - accuracy: 0.9998 - val_loss: 1.7226 - val_accuracy: 0.6980\n",
      "Epoch 649/1000\n",
      "24/24 [==============================] - 1s 45ms/step - loss: 0.0015 - accuracy: 0.9998 - val_loss: 1.7201 - val_accuracy: 0.6996\n",
      "Epoch 650/1000\n",
      "24/24 [==============================] - 1s 48ms/step - loss: 0.0015 - accuracy: 0.9998 - val_loss: 1.7192 - val_accuracy: 0.7022\n",
      "Epoch 651/1000\n",
      "24/24 [==============================] - 1s 45ms/step - loss: 0.0014 - accuracy: 0.9998 - val_loss: 1.7176 - val_accuracy: 0.7021\n",
      "Epoch 652/1000\n",
      "24/24 [==============================] - 1s 45ms/step - loss: 0.0016 - accuracy: 0.9997 - val_loss: 1.7183 - val_accuracy: 0.7019\n",
      "Epoch 653/1000\n",
      "24/24 [==============================] - 1s 45ms/step - loss: 0.0018 - accuracy: 0.9997 - val_loss: 1.7094 - val_accuracy: 0.7027\n",
      "Epoch 654/1000\n",
      "24/24 [==============================] - 1s 45ms/step - loss: 0.0016 - accuracy: 0.9998 - val_loss: 1.7079 - val_accuracy: 0.7030\n",
      "Epoch 655/1000\n",
      "24/24 [==============================] - 1s 45ms/step - loss: 0.0025 - accuracy: 0.9995 - val_loss: 1.7117 - val_accuracy: 0.7021\n",
      "Epoch 656/1000\n",
      "24/24 [==============================] - 1s 45ms/step - loss: 0.0042 - accuracy: 0.9992 - val_loss: 1.7216 - val_accuracy: 0.7019\n",
      "Epoch 657/1000\n",
      "24/24 [==============================] - 1s 44ms/step - loss: 0.0017 - accuracy: 0.9998 - val_loss: 1.7480 - val_accuracy: 0.6986\n",
      "Epoch 658/1000\n",
      "24/24 [==============================] - 1s 45ms/step - loss: 0.0031 - accuracy: 0.9993 - val_loss: 1.7442 - val_accuracy: 0.7001\n",
      "Epoch 659/1000\n",
      "24/24 [==============================] - 1s 45ms/step - loss: 0.0026 - accuracy: 0.9990 - val_loss: 1.7299 - val_accuracy: 0.7037\n",
      "Epoch 660/1000\n",
      "24/24 [==============================] - 1s 45ms/step - loss: 0.0017 - accuracy: 1.0000 - val_loss: 1.7228 - val_accuracy: 0.7052\n",
      "Epoch 661/1000\n",
      "24/24 [==============================] - 1s 45ms/step - loss: 0.0015 - accuracy: 0.9998 - val_loss: 1.7175 - val_accuracy: 0.7052\n",
      "Epoch 662/1000\n",
      "24/24 [==============================] - 1s 45ms/step - loss: 0.0022 - accuracy: 0.9993 - val_loss: 1.7171 - val_accuracy: 0.7046\n",
      "Epoch 663/1000\n",
      "24/24 [==============================] - 1s 45ms/step - loss: 0.0043 - accuracy: 0.9990 - val_loss: 1.7290 - val_accuracy: 0.7069\n",
      "Epoch 664/1000\n",
      "24/24 [==============================] - 1s 44ms/step - loss: 0.0021 - accuracy: 0.9997 - val_loss: 1.7341 - val_accuracy: 0.7074\n",
      "Epoch 665/1000\n",
      "23/24 [===========================>..] - ETA: 0s - loss: 0.0031 - accuracy: 0.9992"
     ]
    },
    {
     "name": "stderr",
     "output_type": "stream",
     "text": [
      "2023-12-23 17:17:38.676844: I tensorflow/core/grappler/optimizers/custom_graph_optimizer_registry.cc:113] Plugin optimizer for device_type GPU is enabled.\n"
     ]
    },
    {
     "name": "stdout",
     "output_type": "stream",
     "text": [
      "188/188 [==============================] - 1s 3ms/step\n"
     ]
    },
    {
     "name": "stderr",
     "output_type": "stream",
     "text": [
      "2023-12-23 17:17:40.131046: I tensorflow/core/grappler/optimizers/custom_graph_optimizer_registry.cc:113] Plugin optimizer for device_type GPU is enabled.\n"
     ]
    },
    {
     "name": "stdout",
     "output_type": "stream",
     "text": [
      "188/188 [==============================] - 1s 3ms/step\n"
     ]
    },
    {
     "name": "stderr",
     "output_type": "stream",
     "text": [
      "2023-12-23 17:17:41.421667: I tensorflow/core/grappler/optimizers/custom_graph_optimizer_registry.cc:113] Plugin optimizer for device_type GPU is enabled.\n"
     ]
    },
    {
     "name": "stdout",
     "output_type": "stream",
     "text": [
      "188/188 [==============================] - 2s 5ms/step\n"
     ]
    },
    {
     "name": "stderr",
     "output_type": "stream",
     "text": [
      "2023-12-23 17:17:43.297323: I tensorflow/core/grappler/optimizers/custom_graph_optimizer_registry.cc:113] Plugin optimizer for device_type GPU is enabled.\n"
     ]
    },
    {
     "name": "stdout",
     "output_type": "stream",
     "text": [
      "188/188 [==============================] - 2s 7ms/step\n"
     ]
    },
    {
     "name": "stderr",
     "output_type": "stream",
     "text": [
      "2023-12-23 17:17:45.783964: I tensorflow/core/grappler/optimizers/custom_graph_optimizer_registry.cc:113] Plugin optimizer for device_type GPU is enabled.\n"
     ]
    },
    {
     "name": "stdout",
     "output_type": "stream",
     "text": [
      "188/188 [==============================] - 3s 8ms/step\n"
     ]
    },
    {
     "name": "stderr",
     "output_type": "stream",
     "text": [
      "2023-12-23 17:17:48.835499: I tensorflow/core/grappler/optimizers/custom_graph_optimizer_registry.cc:113] Plugin optimizer for device_type GPU is enabled.\n"
     ]
    },
    {
     "name": "stdout",
     "output_type": "stream",
     "text": [
      "188/188 [==============================] - 3s 12ms/step\n"
     ]
    },
    {
     "name": "stderr",
     "output_type": "stream",
     "text": [
      "2023-12-23 17:17:51.883601: I tensorflow/core/grappler/optimizers/custom_graph_optimizer_registry.cc:113] Plugin optimizer for device_type GPU is enabled.\n"
     ]
    },
    {
     "name": "stdout",
     "output_type": "stream",
     "text": [
      "188/188 [==============================] - 3s 13ms/step\n"
     ]
    },
    {
     "name": "stderr",
     "output_type": "stream",
     "text": [
      "2023-12-23 17:17:55.159957: I tensorflow/core/grappler/optimizers/custom_graph_optimizer_registry.cc:113] Plugin optimizer for device_type GPU is enabled.\n"
     ]
    },
    {
     "name": "stdout",
     "output_type": "stream",
     "text": [
      "188/188 [==============================] - 5s 16ms/step\n"
     ]
    },
    {
     "name": "stderr",
     "output_type": "stream",
     "text": [
      "2023-12-23 17:18:00.677956: I tensorflow/core/grappler/optimizers/custom_graph_optimizer_registry.cc:113] Plugin optimizer for device_type GPU is enabled.\n"
     ]
    },
    {
     "name": "stdout",
     "output_type": "stream",
     "text": [
      "188/188 [==============================] - 5s 13ms/step\n"
     ]
    },
    {
     "name": "stderr",
     "output_type": "stream",
     "text": [
      "2023-12-23 17:18:05.762621: I tensorflow/core/grappler/optimizers/custom_graph_optimizer_registry.cc:113] Plugin optimizer for device_type GPU is enabled.\n"
     ]
    },
    {
     "name": "stdout",
     "output_type": "stream",
     "text": [
      "188/188 [==============================] - 4s 17ms/step\n",
      "24/24 [==============================] - 33s 1s/step - loss: 0.0031 - accuracy: 0.9992 - val_loss: 1.7263 - val_accuracy: 0.7063\n",
      "Epoch 666/1000\n"
     ]
    },
    {
     "name": "stderr",
     "output_type": "stream",
     "text": [
      "2023-12-23 17:18:10.233681: I tensorflow/core/grappler/optimizers/custom_graph_optimizer_registry.cc:113] Plugin optimizer for device_type GPU is enabled.\n"
     ]
    },
    {
     "name": "stdout",
     "output_type": "stream",
     "text": [
      "24/24 [==============================] - ETA: 0s - loss: 0.0023 - accuracy: 0.9993"
     ]
    },
    {
     "name": "stderr",
     "output_type": "stream",
     "text": [
      "2023-12-23 17:18:47.485956: I tensorflow/core/grappler/optimizers/custom_graph_optimizer_registry.cc:113] Plugin optimizer for device_type GPU is enabled.\n"
     ]
    },
    {
     "name": "stdout",
     "output_type": "stream",
     "text": [
      "24/24 [==============================] - 46s 1s/step - loss: 0.0023 - accuracy: 0.9993 - val_loss: 1.7199 - val_accuracy: 0.7085\n",
      "Epoch 667/1000\n",
      "24/24 [==============================] - 2s 79ms/step - loss: 0.0023 - accuracy: 0.9997 - val_loss: 1.7200 - val_accuracy: 0.7080\n",
      "Epoch 668/1000\n",
      "24/24 [==============================] - 3s 132ms/step - loss: 0.0023 - accuracy: 0.9997 - val_loss: 1.7272 - val_accuracy: 0.7041\n",
      "Epoch 669/1000\n",
      "24/24 [==============================] - 2s 94ms/step - loss: 0.0027 - accuracy: 0.9992 - val_loss: 1.7214 - val_accuracy: 0.7073\n",
      "Epoch 670/1000\n",
      "24/24 [==============================] - 3s 128ms/step - loss: 0.0020 - accuracy: 0.9998 - val_loss: 1.7045 - val_accuracy: 0.7106\n",
      "Epoch 671/1000\n",
      "24/24 [==============================] - 2s 68ms/step - loss: 0.0019 - accuracy: 0.9997 - val_loss: 1.7064 - val_accuracy: 0.7113\n",
      "Epoch 672/1000\n",
      "24/24 [==============================] - 2s 70ms/step - loss: 0.0022 - accuracy: 0.9997 - val_loss: 1.7160 - val_accuracy: 0.7121\n",
      "Epoch 673/1000\n",
      "24/24 [==============================] - 1s 48ms/step - loss: 0.0058 - accuracy: 0.9987 - val_loss: 1.7259 - val_accuracy: 0.7095\n",
      "Epoch 674/1000\n",
      "24/24 [==============================] - 1s 45ms/step - loss: 0.0036 - accuracy: 0.9988 - val_loss: 1.7629 - val_accuracy: 0.7003\n",
      "Epoch 675/1000\n",
      "24/24 [==============================] - 1s 45ms/step - loss: 0.0047 - accuracy: 0.9990 - val_loss: 1.7548 - val_accuracy: 0.7014\n",
      "Epoch 676/1000\n",
      "24/24 [==============================] - 2s 102ms/step - loss: 0.0034 - accuracy: 0.9995 - val_loss: 1.7642 - val_accuracy: 0.7012\n",
      "Epoch 677/1000\n",
      "24/24 [==============================] - 1s 47ms/step - loss: 0.0026 - accuracy: 0.9998 - val_loss: 1.7574 - val_accuracy: 0.7034\n",
      "Epoch 678/1000\n",
      "24/24 [==============================] - 1s 44ms/step - loss: 0.0041 - accuracy: 0.9992 - val_loss: 1.7585 - val_accuracy: 0.7039\n",
      "Epoch 679/1000\n",
      "24/24 [==============================] - 1s 45ms/step - loss: 0.0028 - accuracy: 0.9995 - val_loss: 1.7569 - val_accuracy: 0.7042\n",
      "Epoch 680/1000\n",
      "24/24 [==============================] - 1s 45ms/step - loss: 0.0022 - accuracy: 0.9998 - val_loss: 1.7516 - val_accuracy: 0.7055\n",
      "Epoch 681/1000\n",
      "24/24 [==============================] - 1s 59ms/step - loss: 0.0016 - accuracy: 1.0000 - val_loss: 1.7472 - val_accuracy: 0.7058\n",
      "Epoch 682/1000\n",
      "24/24 [==============================] - 1s 45ms/step - loss: 0.0020 - accuracy: 0.9998 - val_loss: 1.7425 - val_accuracy: 0.7064\n",
      "Epoch 683/1000\n",
      "24/24 [==============================] - 1s 44ms/step - loss: 0.0019 - accuracy: 0.9997 - val_loss: 1.7392 - val_accuracy: 0.7071\n",
      "Epoch 684/1000\n",
      "24/24 [==============================] - 2s 91ms/step - loss: 0.0015 - accuracy: 0.9998 - val_loss: 1.7388 - val_accuracy: 0.7079\n",
      "Epoch 685/1000\n",
      "24/24 [==============================] - 6s 251ms/step - loss: 0.0017 - accuracy: 0.9997 - val_loss: 1.7353 - val_accuracy: 0.7074\n",
      "Epoch 686/1000\n",
      "24/24 [==============================] - 1s 46ms/step - loss: 0.0015 - accuracy: 0.9998 - val_loss: 1.7317 - val_accuracy: 0.7079\n",
      "Epoch 687/1000\n",
      "24/24 [==============================] - 1s 51ms/step - loss: 0.0027 - accuracy: 0.9993 - val_loss: 1.7414 - val_accuracy: 0.7036\n",
      "Epoch 688/1000\n",
      "24/24 [==============================] - 1s 60ms/step - loss: 0.0026 - accuracy: 0.9992 - val_loss: 1.7256 - val_accuracy: 0.7038\n",
      "Epoch 689/1000\n",
      "24/24 [==============================] - 1s 45ms/step - loss: 0.0018 - accuracy: 0.9998 - val_loss: 1.7190 - val_accuracy: 0.7042\n",
      "Epoch 690/1000\n",
      "24/24 [==============================] - 1s 45ms/step - loss: 0.0010 - accuracy: 1.0000 - val_loss: 1.7167 - val_accuracy: 0.7061\n",
      "Epoch 691/1000\n",
      "24/24 [==============================] - 1s 50ms/step - loss: 0.0024 - accuracy: 0.9997 - val_loss: 1.7157 - val_accuracy: 0.7080\n",
      "Epoch 692/1000\n",
      "24/24 [==============================] - 1s 45ms/step - loss: 0.0022 - accuracy: 0.9995 - val_loss: 1.7159 - val_accuracy: 0.7073\n",
      "Epoch 693/1000\n",
      "24/24 [==============================] - 1s 45ms/step - loss: 0.0018 - accuracy: 0.9995 - val_loss: 1.7229 - val_accuracy: 0.7069\n",
      "Epoch 694/1000\n",
      "24/24 [==============================] - 1s 45ms/step - loss: 0.0022 - accuracy: 0.9992 - val_loss: 1.7177 - val_accuracy: 0.7036\n",
      "Epoch 695/1000\n",
      "24/24 [==============================] - 1s 45ms/step - loss: 0.0025 - accuracy: 0.9997 - val_loss: 1.7206 - val_accuracy: 0.7030\n",
      "Epoch 696/1000\n",
      "24/24 [==============================] - 1s 45ms/step - loss: 0.0021 - accuracy: 0.9997 - val_loss: 1.7181 - val_accuracy: 0.7065\n",
      "Epoch 697/1000\n",
      "24/24 [==============================] - 1s 45ms/step - loss: 0.0015 - accuracy: 0.9997 - val_loss: 1.7240 - val_accuracy: 0.7051\n",
      "Epoch 698/1000\n",
      "24/24 [==============================] - 2s 70ms/step - loss: 0.0045 - accuracy: 0.9987 - val_loss: 1.7316 - val_accuracy: 0.7044\n",
      "Epoch 699/1000\n",
      "24/24 [==============================] - 1s 45ms/step - loss: 0.0026 - accuracy: 0.9995 - val_loss: 1.7484 - val_accuracy: 0.7023\n",
      "Epoch 700/1000\n",
      "24/24 [==============================] - 1s 44ms/step - loss: 0.0021 - accuracy: 0.9993 - val_loss: 1.7420 - val_accuracy: 0.7047\n",
      "Epoch 701/1000\n",
      "24/24 [==============================] - 1s 49ms/step - loss: 0.0019 - accuracy: 0.9998 - val_loss: 1.7333 - val_accuracy: 0.7070\n",
      "Epoch 702/1000\n",
      "24/24 [==============================] - 1s 48ms/step - loss: 0.0034 - accuracy: 0.9990 - val_loss: 1.7313 - val_accuracy: 0.7060\n",
      "Epoch 703/1000\n",
      "24/24 [==============================] - 1s 44ms/step - loss: 0.0037 - accuracy: 0.9990 - val_loss: 1.7423 - val_accuracy: 0.7046\n",
      "Epoch 704/1000\n",
      "24/24 [==============================] - 1s 44ms/step - loss: 0.0021 - accuracy: 0.9995 - val_loss: 1.7360 - val_accuracy: 0.7065\n",
      "Epoch 705/1000\n",
      "24/24 [==============================] - 1s 44ms/step - loss: 0.0025 - accuracy: 0.9993 - val_loss: 1.7359 - val_accuracy: 0.7074\n",
      "Epoch 706/1000\n",
      "24/24 [==============================] - 1s 45ms/step - loss: 0.0029 - accuracy: 0.9995 - val_loss: 1.7300 - val_accuracy: 0.7078\n",
      "Epoch 707/1000\n",
      "24/24 [==============================] - 1s 44ms/step - loss: 0.0031 - accuracy: 0.9992 - val_loss: 1.7365 - val_accuracy: 0.7075\n",
      "Epoch 708/1000\n",
      "24/24 [==============================] - 1s 44ms/step - loss: 0.0028 - accuracy: 0.9993 - val_loss: 1.7359 - val_accuracy: 0.7101\n",
      "Epoch 709/1000\n",
      "24/24 [==============================] - 1s 45ms/step - loss: 0.0024 - accuracy: 0.9995 - val_loss: 1.7322 - val_accuracy: 0.7116\n",
      "Epoch 710/1000\n",
      "24/24 [==============================] - 1s 44ms/step - loss: 0.0030 - accuracy: 0.9995 - val_loss: 1.7302 - val_accuracy: 0.7083\n",
      "Epoch 711/1000\n",
      "24/24 [==============================] - 1s 44ms/step - loss: 0.0033 - accuracy: 0.9993 - val_loss: 1.7376 - val_accuracy: 0.7116\n",
      "Epoch 712/1000\n",
      "24/24 [==============================] - 1s 44ms/step - loss: 0.0024 - accuracy: 0.9995 - val_loss: 1.7324 - val_accuracy: 0.7122\n",
      "Epoch 713/1000\n",
      "24/24 [==============================] - 1s 45ms/step - loss: 0.0025 - accuracy: 0.9997 - val_loss: 1.7281 - val_accuracy: 0.7129\n",
      "Epoch 714/1000\n",
      "24/24 [==============================] - 1s 44ms/step - loss: 0.0033 - accuracy: 0.9992 - val_loss: 1.7326 - val_accuracy: 0.7141\n",
      "Epoch 715/1000\n",
      "24/24 [==============================] - 1s 44ms/step - loss: 0.0025 - accuracy: 0.9995 - val_loss: 1.7338 - val_accuracy: 0.7134\n",
      "Epoch 716/1000\n",
      "24/24 [==============================] - 1s 45ms/step - loss: 0.0024 - accuracy: 0.9995 - val_loss: 1.7293 - val_accuracy: 0.7142\n",
      "Epoch 717/1000\n",
      "24/24 [==============================] - 1s 44ms/step - loss: 0.0014 - accuracy: 1.0000 - val_loss: 1.7230 - val_accuracy: 0.7138\n",
      "Epoch 718/1000\n",
      "24/24 [==============================] - 1s 44ms/step - loss: 0.0029 - accuracy: 0.9993 - val_loss: 1.7153 - val_accuracy: 0.7144\n",
      "Epoch 719/1000\n",
      "24/24 [==============================] - 1s 44ms/step - loss: 0.0024 - accuracy: 0.9995 - val_loss: 1.7147 - val_accuracy: 0.7146\n",
      "Epoch 720/1000\n",
      "24/24 [==============================] - 1s 44ms/step - loss: 0.0013 - accuracy: 1.0000 - val_loss: 1.7083 - val_accuracy: 0.7167\n",
      "Epoch 721/1000\n",
      "24/24 [==============================] - 1s 44ms/step - loss: 0.0019 - accuracy: 0.9998 - val_loss: 1.7062 - val_accuracy: 0.7167\n",
      "Epoch 722/1000\n",
      "24/24 [==============================] - 1s 44ms/step - loss: 0.0031 - accuracy: 0.9993 - val_loss: 1.7119 - val_accuracy: 0.7138\n",
      "Epoch 723/1000\n",
      "24/24 [==============================] - 1s 45ms/step - loss: 0.0012 - accuracy: 1.0000 - val_loss: 1.7177 - val_accuracy: 0.7121\n",
      "Epoch 724/1000\n",
      "24/24 [==============================] - 1s 45ms/step - loss: 0.0022 - accuracy: 0.9995 - val_loss: 1.7123 - val_accuracy: 0.7123\n",
      "Epoch 725/1000\n",
      "24/24 [==============================] - 1s 45ms/step - loss: 0.0011 - accuracy: 1.0000 - val_loss: 1.7196 - val_accuracy: 0.7148\n",
      "Epoch 726/1000\n",
      "24/24 [==============================] - 1s 45ms/step - loss: 0.0034 - accuracy: 0.9987 - val_loss: 1.7137 - val_accuracy: 0.7154\n",
      "Epoch 727/1000\n",
      "24/24 [==============================] - 1s 44ms/step - loss: 0.0026 - accuracy: 0.9993 - val_loss: 1.7080 - val_accuracy: 0.7133\n",
      "Epoch 728/1000\n",
      "24/24 [==============================] - 1s 44ms/step - loss: 0.0039 - accuracy: 0.9985 - val_loss: 1.7137 - val_accuracy: 0.7139\n",
      "Epoch 729/1000\n",
      "24/24 [==============================] - 1s 44ms/step - loss: 0.0024 - accuracy: 0.9995 - val_loss: 1.7154 - val_accuracy: 0.7143\n",
      "Epoch 730/1000\n",
      "24/24 [==============================] - 1s 45ms/step - loss: 0.0019 - accuracy: 0.9997 - val_loss: 1.7142 - val_accuracy: 0.7146\n",
      "Epoch 731/1000\n",
      "23/24 [===========================>..] - ETA: 0s - loss: 0.0015 - accuracy: 0.9997"
     ]
    },
    {
     "name": "stderr",
     "output_type": "stream",
     "text": [
      "2023-12-23 17:20:21.606067: I tensorflow/core/grappler/optimizers/custom_graph_optimizer_registry.cc:113] Plugin optimizer for device_type GPU is enabled.\n"
     ]
    },
    {
     "name": "stdout",
     "output_type": "stream",
     "text": [
      "188/188 [==============================] - 1s 3ms/step\n"
     ]
    },
    {
     "name": "stderr",
     "output_type": "stream",
     "text": [
      "2023-12-23 17:20:23.382702: I tensorflow/core/grappler/optimizers/custom_graph_optimizer_registry.cc:113] Plugin optimizer for device_type GPU is enabled.\n"
     ]
    },
    {
     "name": "stdout",
     "output_type": "stream",
     "text": [
      "188/188 [==============================] - 1s 4ms/step\n"
     ]
    },
    {
     "name": "stderr",
     "output_type": "stream",
     "text": [
      "2023-12-23 17:20:24.782115: I tensorflow/core/grappler/optimizers/custom_graph_optimizer_registry.cc:113] Plugin optimizer for device_type GPU is enabled.\n"
     ]
    },
    {
     "name": "stdout",
     "output_type": "stream",
     "text": [
      "188/188 [==============================] - 2s 6ms/step\n"
     ]
    },
    {
     "name": "stderr",
     "output_type": "stream",
     "text": [
      "2023-12-23 17:20:26.777607: I tensorflow/core/grappler/optimizers/custom_graph_optimizer_registry.cc:113] Plugin optimizer for device_type GPU is enabled.\n"
     ]
    },
    {
     "name": "stdout",
     "output_type": "stream",
     "text": [
      "188/188 [==============================] - 2s 7ms/step\n"
     ]
    },
    {
     "name": "stderr",
     "output_type": "stream",
     "text": [
      "2023-12-23 17:20:29.296718: I tensorflow/core/grappler/optimizers/custom_graph_optimizer_registry.cc:113] Plugin optimizer for device_type GPU is enabled.\n"
     ]
    },
    {
     "name": "stdout",
     "output_type": "stream",
     "text": [
      "188/188 [==============================] - 3s 9ms/step\n"
     ]
    },
    {
     "name": "stderr",
     "output_type": "stream",
     "text": [
      "2023-12-23 17:20:32.578690: I tensorflow/core/grappler/optimizers/custom_graph_optimizer_registry.cc:113] Plugin optimizer for device_type GPU is enabled.\n"
     ]
    },
    {
     "name": "stdout",
     "output_type": "stream",
     "text": [
      "188/188 [==============================] - 4s 10ms/step\n"
     ]
    },
    {
     "name": "stderr",
     "output_type": "stream",
     "text": [
      "2023-12-23 17:20:36.513274: I tensorflow/core/grappler/optimizers/custom_graph_optimizer_registry.cc:113] Plugin optimizer for device_type GPU is enabled.\n"
     ]
    },
    {
     "name": "stdout",
     "output_type": "stream",
     "text": [
      "188/188 [==============================] - 4s 14ms/step\n"
     ]
    },
    {
     "name": "stderr",
     "output_type": "stream",
     "text": [
      "2023-12-23 17:20:40.988854: I tensorflow/core/grappler/optimizers/custom_graph_optimizer_registry.cc:113] Plugin optimizer for device_type GPU is enabled.\n"
     ]
    },
    {
     "name": "stdout",
     "output_type": "stream",
     "text": [
      "188/188 [==============================] - 5s 15ms/step\n"
     ]
    },
    {
     "name": "stderr",
     "output_type": "stream",
     "text": [
      "2023-12-23 17:20:46.161958: I tensorflow/core/grappler/optimizers/custom_graph_optimizer_registry.cc:113] Plugin optimizer for device_type GPU is enabled.\n"
     ]
    },
    {
     "name": "stdout",
     "output_type": "stream",
     "text": [
      "188/188 [==============================] - 6s 17ms/step\n"
     ]
    },
    {
     "name": "stderr",
     "output_type": "stream",
     "text": [
      "2023-12-23 17:20:51.981685: I tensorflow/core/grappler/optimizers/custom_graph_optimizer_registry.cc:113] Plugin optimizer for device_type GPU is enabled.\n"
     ]
    },
    {
     "name": "stdout",
     "output_type": "stream",
     "text": [
      "188/188 [==============================] - 6s 18ms/step\n",
      "24/24 [==============================] - 38s 2s/step - loss: 0.0019 - accuracy: 0.9995 - val_loss: 1.7094 - val_accuracy: 0.7156\n",
      "Epoch 732/1000\n"
     ]
    },
    {
     "name": "stderr",
     "output_type": "stream",
     "text": [
      "2023-12-23 17:20:58.135745: I tensorflow/core/grappler/optimizers/custom_graph_optimizer_registry.cc:113] Plugin optimizer for device_type GPU is enabled.\n"
     ]
    },
    {
     "name": "stdout",
     "output_type": "stream",
     "text": [
      "24/24 [==============================] - ETA: 0s - loss: 0.0024 - accuracy: 0.9997"
     ]
    },
    {
     "name": "stderr",
     "output_type": "stream",
     "text": [
      "2023-12-23 17:21:36.355699: I tensorflow/core/grappler/optimizers/custom_graph_optimizer_registry.cc:113] Plugin optimizer for device_type GPU is enabled.\n"
     ]
    },
    {
     "name": "stdout",
     "output_type": "stream",
     "text": [
      "24/24 [==============================] - 47s 1s/step - loss: 0.0024 - accuracy: 0.9997 - val_loss: 1.7160 - val_accuracy: 0.7157\n",
      "Epoch 733/1000\n",
      "24/24 [==============================] - 3s 130ms/step - loss: 0.0018 - accuracy: 0.9998 - val_loss: 1.7120 - val_accuracy: 0.7155\n",
      "Epoch 734/1000\n",
      "24/24 [==============================] - 3s 110ms/step - loss: 0.0023 - accuracy: 0.9993 - val_loss: 1.7085 - val_accuracy: 0.7175\n",
      "Epoch 735/1000\n",
      "24/24 [==============================] - 2s 74ms/step - loss: 0.0014 - accuracy: 0.9998 - val_loss: 1.7142 - val_accuracy: 0.7164\n",
      "Epoch 736/1000\n",
      "24/24 [==============================] - 3s 113ms/step - loss: 0.0018 - accuracy: 0.9995 - val_loss: 1.7072 - val_accuracy: 0.7175\n",
      "Epoch 737/1000\n",
      "24/24 [==============================] - 2s 96ms/step - loss: 0.0022 - accuracy: 0.9997 - val_loss: 1.6995 - val_accuracy: 0.7170\n",
      "Epoch 738/1000\n",
      "24/24 [==============================] - 1s 46ms/step - loss: 0.0022 - accuracy: 0.9995 - val_loss: 1.7003 - val_accuracy: 0.7164\n",
      "Epoch 739/1000\n",
      "24/24 [==============================] - 2s 99ms/step - loss: 0.0016 - accuracy: 0.9995 - val_loss: 1.7054 - val_accuracy: 0.7180\n",
      "Epoch 740/1000\n",
      "24/24 [==============================] - 4s 153ms/step - loss: 0.0014 - accuracy: 0.9995 - val_loss: 1.7015 - val_accuracy: 0.7203\n",
      "Epoch 741/1000\n",
      "24/24 [==============================] - 4s 88ms/step - loss: 0.0017 - accuracy: 0.9998 - val_loss: 1.6947 - val_accuracy: 0.7193\n",
      "Epoch 742/1000\n",
      "24/24 [==============================] - 3s 108ms/step - loss: 0.0017 - accuracy: 0.9995 - val_loss: 1.6947 - val_accuracy: 0.7194\n",
      "Epoch 743/1000\n",
      "24/24 [==============================] - 1s 46ms/step - loss: 0.0028 - accuracy: 0.9990 - val_loss: 1.7018 - val_accuracy: 0.7190\n",
      "Epoch 744/1000\n",
      "24/24 [==============================] - 1s 46ms/step - loss: 0.0022 - accuracy: 0.9995 - val_loss: 1.7082 - val_accuracy: 0.7152\n",
      "Epoch 745/1000\n",
      "24/24 [==============================] - 1s 63ms/step - loss: 0.0029 - accuracy: 0.9997 - val_loss: 1.7084 - val_accuracy: 0.7148\n",
      "Epoch 746/1000\n",
      "24/24 [==============================] - 2s 75ms/step - loss: 0.0016 - accuracy: 0.9998 - val_loss: 1.7105 - val_accuracy: 0.7150\n",
      "Epoch 747/1000\n",
      "24/24 [==============================] - 1s 46ms/step - loss: 0.0030 - accuracy: 0.9995 - val_loss: 1.7036 - val_accuracy: 0.7170\n",
      "Epoch 748/1000\n",
      "24/24 [==============================] - 1s 45ms/step - loss: 0.0030 - accuracy: 0.9992 - val_loss: 1.7040 - val_accuracy: 0.7143\n",
      "Epoch 749/1000\n",
      "24/24 [==============================] - 1s 46ms/step - loss: 0.0023 - accuracy: 0.9997 - val_loss: 1.7109 - val_accuracy: 0.7146\n",
      "Epoch 750/1000\n",
      "24/24 [==============================] - 2s 100ms/step - loss: 0.0027 - accuracy: 0.9995 - val_loss: 1.7120 - val_accuracy: 0.7168\n",
      "Epoch 751/1000\n",
      "24/24 [==============================] - 1s 45ms/step - loss: 0.0031 - accuracy: 0.9988 - val_loss: 1.7130 - val_accuracy: 0.7203\n",
      "Epoch 752/1000\n",
      "24/24 [==============================] - 1s 45ms/step - loss: 0.0028 - accuracy: 0.9993 - val_loss: 1.7096 - val_accuracy: 0.7192\n",
      "Epoch 753/1000\n",
      "24/24 [==============================] - 1s 63ms/step - loss: 0.0022 - accuracy: 0.9995 - val_loss: 1.7075 - val_accuracy: 0.7175\n",
      "Epoch 754/1000\n",
      "24/24 [==============================] - 1s 45ms/step - loss: 0.0051 - accuracy: 0.9988 - val_loss: 1.7275 - val_accuracy: 0.7178\n",
      "Epoch 755/1000\n",
      "24/24 [==============================] - 1s 45ms/step - loss: 0.0033 - accuracy: 0.9988 - val_loss: 1.7339 - val_accuracy: 0.7155\n",
      "Epoch 756/1000\n",
      "24/24 [==============================] - 1s 45ms/step - loss: 0.0022 - accuracy: 0.9998 - val_loss: 1.7230 - val_accuracy: 0.7144\n",
      "Epoch 757/1000\n",
      "24/24 [==============================] - 1s 45ms/step - loss: 0.0022 - accuracy: 0.9993 - val_loss: 1.7162 - val_accuracy: 0.7157\n",
      "Epoch 758/1000\n",
      "24/24 [==============================] - 1s 44ms/step - loss: 0.0012 - accuracy: 1.0000 - val_loss: 1.7075 - val_accuracy: 0.7164\n",
      "Epoch 759/1000\n",
      "24/24 [==============================] - 1s 45ms/step - loss: 0.0015 - accuracy: 0.9995 - val_loss: 1.7068 - val_accuracy: 0.7168\n",
      "Epoch 760/1000\n",
      "24/24 [==============================] - 1s 45ms/step - loss: 0.0024 - accuracy: 0.9995 - val_loss: 1.7023 - val_accuracy: 0.7176\n",
      "Epoch 761/1000\n",
      "24/24 [==============================] - 1s 45ms/step - loss: 0.0017 - accuracy: 0.9997 - val_loss: 1.6964 - val_accuracy: 0.7186\n",
      "Epoch 762/1000\n",
      "24/24 [==============================] - 1s 45ms/step - loss: 9.8335e-04 - accuracy: 1.0000 - val_loss: 1.6895 - val_accuracy: 0.7182\n",
      "Epoch 763/1000\n",
      "24/24 [==============================] - 1s 45ms/step - loss: 0.0016 - accuracy: 0.9998 - val_loss: 1.6881 - val_accuracy: 0.7170\n",
      "Epoch 764/1000\n",
      "24/24 [==============================] - 1s 45ms/step - loss: 0.0016 - accuracy: 0.9997 - val_loss: 1.6918 - val_accuracy: 0.7165\n",
      "Epoch 765/1000\n",
      "24/24 [==============================] - 1s 44ms/step - loss: 0.0013 - accuracy: 0.9998 - val_loss: 1.7014 - val_accuracy: 0.7153\n",
      "Epoch 766/1000\n",
      "24/24 [==============================] - 1s 45ms/step - loss: 0.0016 - accuracy: 0.9995 - val_loss: 1.7005 - val_accuracy: 0.7146\n",
      "Epoch 767/1000\n",
      "24/24 [==============================] - 1s 44ms/step - loss: 0.0026 - accuracy: 0.9993 - val_loss: 1.7017 - val_accuracy: 0.7148\n",
      "Epoch 768/1000\n",
      "24/24 [==============================] - 1s 49ms/step - loss: 0.0012 - accuracy: 1.0000 - val_loss: 1.6973 - val_accuracy: 0.7153\n",
      "Epoch 769/1000\n",
      "24/24 [==============================] - 1s 45ms/step - loss: 0.0033 - accuracy: 0.9993 - val_loss: 1.6961 - val_accuracy: 0.7166\n",
      "Epoch 770/1000\n",
      "24/24 [==============================] - 1s 45ms/step - loss: 0.0022 - accuracy: 0.9995 - val_loss: 1.7048 - val_accuracy: 0.7149\n",
      "Epoch 771/1000\n",
      "24/24 [==============================] - 1s 45ms/step - loss: 0.0048 - accuracy: 0.9987 - val_loss: 1.7001 - val_accuracy: 0.7142\n",
      "Epoch 772/1000\n",
      "24/24 [==============================] - 1s 45ms/step - loss: 0.0020 - accuracy: 0.9997 - val_loss: 1.6975 - val_accuracy: 0.7151\n",
      "Epoch 773/1000\n",
      "24/24 [==============================] - 1s 45ms/step - loss: 0.0021 - accuracy: 0.9995 - val_loss: 1.6906 - val_accuracy: 0.7180\n",
      "Epoch 774/1000\n",
      "24/24 [==============================] - 1s 44ms/step - loss: 0.0028 - accuracy: 0.9995 - val_loss: 1.6861 - val_accuracy: 0.7204\n",
      "Epoch 775/1000\n",
      "24/24 [==============================] - 1s 45ms/step - loss: 0.0046 - accuracy: 0.9988 - val_loss: 1.6865 - val_accuracy: 0.7198\n",
      "Epoch 776/1000\n",
      "24/24 [==============================] - 1s 50ms/step - loss: 0.0016 - accuracy: 0.9998 - val_loss: 1.6967 - val_accuracy: 0.7208\n",
      "Epoch 777/1000\n",
      "24/24 [==============================] - 1s 45ms/step - loss: 0.0025 - accuracy: 0.9993 - val_loss: 1.6858 - val_accuracy: 0.7216\n",
      "Epoch 778/1000\n",
      "24/24 [==============================] - 1s 45ms/step - loss: 0.0018 - accuracy: 0.9995 - val_loss: 1.6764 - val_accuracy: 0.7188\n",
      "Epoch 779/1000\n",
      "24/24 [==============================] - 1s 45ms/step - loss: 0.0039 - accuracy: 0.9988 - val_loss: 1.6769 - val_accuracy: 0.7206\n",
      "Epoch 780/1000\n",
      "24/24 [==============================] - 1s 45ms/step - loss: 0.0017 - accuracy: 0.9997 - val_loss: 1.7075 - val_accuracy: 0.7187\n",
      "Epoch 781/1000\n",
      "24/24 [==============================] - 1s 45ms/step - loss: 0.0024 - accuracy: 0.9993 - val_loss: 1.7070 - val_accuracy: 0.7182\n",
      "Epoch 782/1000\n",
      "24/24 [==============================] - 1s 45ms/step - loss: 0.0020 - accuracy: 0.9997 - val_loss: 1.6957 - val_accuracy: 0.7188\n",
      "Epoch 783/1000\n",
      "24/24 [==============================] - 1s 45ms/step - loss: 0.0018 - accuracy: 0.9997 - val_loss: 1.7002 - val_accuracy: 0.7195\n",
      "Epoch 784/1000\n",
      "24/24 [==============================] - 1s 45ms/step - loss: 0.0034 - accuracy: 0.9990 - val_loss: 1.6961 - val_accuracy: 0.7203\n",
      "Epoch 785/1000\n",
      "24/24 [==============================] - 1s 45ms/step - loss: 0.0018 - accuracy: 0.9998 - val_loss: 1.6839 - val_accuracy: 0.7192\n",
      "Epoch 786/1000\n",
      "24/24 [==============================] - 1s 45ms/step - loss: 0.0030 - accuracy: 0.9995 - val_loss: 1.6843 - val_accuracy: 0.7199\n",
      "Epoch 787/1000\n",
      "24/24 [==============================] - 1s 45ms/step - loss: 0.0020 - accuracy: 0.9993 - val_loss: 1.6835 - val_accuracy: 0.7212\n",
      "Epoch 788/1000\n",
      "24/24 [==============================] - 1s 45ms/step - loss: 0.0030 - accuracy: 0.9995 - val_loss: 1.6809 - val_accuracy: 0.7212\n",
      "Epoch 789/1000\n",
      "24/24 [==============================] - 1s 44ms/step - loss: 0.0028 - accuracy: 0.9995 - val_loss: 1.6760 - val_accuracy: 0.7202\n",
      "Epoch 790/1000\n",
      "24/24 [==============================] - 1s 45ms/step - loss: 0.0032 - accuracy: 0.9992 - val_loss: 1.6790 - val_accuracy: 0.7207\n",
      "Epoch 791/1000\n",
      "24/24 [==============================] - 1s 45ms/step - loss: 0.0017 - accuracy: 1.0000 - val_loss: 1.6734 - val_accuracy: 0.7224\n",
      "Epoch 792/1000\n",
      "24/24 [==============================] - 1s 45ms/step - loss: 0.0016 - accuracy: 0.9997 - val_loss: 1.6692 - val_accuracy: 0.7247\n",
      "Epoch 793/1000\n",
      "24/24 [==============================] - 1s 45ms/step - loss: 0.0015 - accuracy: 0.9997 - val_loss: 1.6727 - val_accuracy: 0.7238\n",
      "Epoch 794/1000\n",
      "24/24 [==============================] - 6s 252ms/step - loss: 0.0021 - accuracy: 0.9995 - val_loss: 1.6692 - val_accuracy: 0.7248\n",
      "Epoch 795/1000\n",
      "24/24 [==============================] - 1s 46ms/step - loss: 0.0025 - accuracy: 0.9995 - val_loss: 1.6859 - val_accuracy: 0.7237\n",
      "Epoch 796/1000\n",
      "24/24 [==============================] - 1s 46ms/step - loss: 0.0021 - accuracy: 0.9992 - val_loss: 1.6859 - val_accuracy: 0.7199\n",
      "Epoch 797/1000\n",
      "24/24 [==============================] - 3s 121ms/step - loss: 0.0018 - accuracy: 0.9995 - val_loss: 1.6847 - val_accuracy: 0.7216\n",
      "Epoch 798/1000\n",
      "24/24 [==============================] - 1s 62ms/step - loss: 0.0015 - accuracy: 0.9997 - val_loss: 1.6892 - val_accuracy: 0.7203\n",
      "Epoch 799/1000\n",
      "24/24 [==============================] - 1s 45ms/step - loss: 0.0015 - accuracy: 0.9997 - val_loss: 1.6824 - val_accuracy: 0.7213\n",
      "Epoch 800/1000\n",
      "24/24 [==============================] - 1s 45ms/step - loss: 0.0017 - accuracy: 0.9998 - val_loss: 1.6788 - val_accuracy: 0.7221\n",
      "Epoch 801/1000\n",
      "24/24 [==============================] - 1s 45ms/step - loss: 0.0022 - accuracy: 0.9993 - val_loss: 1.6859 - val_accuracy: 0.7218\n",
      "Epoch 802/1000\n",
      "24/24 [==============================] - 1s 45ms/step - loss: 0.0017 - accuracy: 0.9997 - val_loss: 1.6739 - val_accuracy: 0.7231\n",
      "Epoch 803/1000\n",
      "24/24 [==============================] - 1s 45ms/step - loss: 0.0026 - accuracy: 0.9995 - val_loss: 1.6672 - val_accuracy: 0.7238\n",
      "Epoch 804/1000\n",
      "24/24 [==============================] - ETA: 0s - loss: 0.0020 - accuracy: 0.9995"
     ]
    },
    {
     "name": "stderr",
     "output_type": "stream",
     "text": [
      "2023-12-23 17:23:27.369931: I tensorflow/core/grappler/optimizers/custom_graph_optimizer_registry.cc:113] Plugin optimizer for device_type GPU is enabled.\n"
     ]
    },
    {
     "name": "stdout",
     "output_type": "stream",
     "text": [
      "188/188 [==============================] - 1s 4ms/step\n"
     ]
    },
    {
     "name": "stderr",
     "output_type": "stream",
     "text": [
      "2023-12-23 17:23:29.548204: I tensorflow/core/grappler/optimizers/custom_graph_optimizer_registry.cc:113] Plugin optimizer for device_type GPU is enabled.\n"
     ]
    },
    {
     "name": "stdout",
     "output_type": "stream",
     "text": [
      "188/188 [==============================] - 2s 5ms/step\n"
     ]
    },
    {
     "name": "stderr",
     "output_type": "stream",
     "text": [
      "2023-12-23 17:23:31.243348: I tensorflow/core/grappler/optimizers/custom_graph_optimizer_registry.cc:113] Plugin optimizer for device_type GPU is enabled.\n"
     ]
    },
    {
     "name": "stdout",
     "output_type": "stream",
     "text": [
      "188/188 [==============================] - 2s 6ms/step\n"
     ]
    },
    {
     "name": "stderr",
     "output_type": "stream",
     "text": [
      "2023-12-23 17:23:33.406513: I tensorflow/core/grappler/optimizers/custom_graph_optimizer_registry.cc:113] Plugin optimizer for device_type GPU is enabled.\n"
     ]
    },
    {
     "name": "stdout",
     "output_type": "stream",
     "text": [
      "188/188 [==============================] - 3s 7ms/step\n"
     ]
    },
    {
     "name": "stderr",
     "output_type": "stream",
     "text": [
      "2023-12-23 17:23:36.214457: I tensorflow/core/grappler/optimizers/custom_graph_optimizer_registry.cc:113] Plugin optimizer for device_type GPU is enabled.\n"
     ]
    },
    {
     "name": "stdout",
     "output_type": "stream",
     "text": [
      "188/188 [==============================] - 3s 9ms/step\n"
     ]
    },
    {
     "name": "stderr",
     "output_type": "stream",
     "text": [
      "2023-12-23 17:23:39.638918: I tensorflow/core/grappler/optimizers/custom_graph_optimizer_registry.cc:113] Plugin optimizer for device_type GPU is enabled.\n"
     ]
    },
    {
     "name": "stdout",
     "output_type": "stream",
     "text": [
      "188/188 [==============================] - 4s 11ms/step\n"
     ]
    },
    {
     "name": "stderr",
     "output_type": "stream",
     "text": [
      "2023-12-23 17:23:43.715634: I tensorflow/core/grappler/optimizers/custom_graph_optimizer_registry.cc:113] Plugin optimizer for device_type GPU is enabled.\n"
     ]
    },
    {
     "name": "stdout",
     "output_type": "stream",
     "text": [
      "188/188 [==============================] - 5s 16ms/step\n"
     ]
    },
    {
     "name": "stderr",
     "output_type": "stream",
     "text": [
      "2023-12-23 17:23:49.316493: I tensorflow/core/grappler/optimizers/custom_graph_optimizer_registry.cc:113] Plugin optimizer for device_type GPU is enabled.\n"
     ]
    },
    {
     "name": "stdout",
     "output_type": "stream",
     "text": [
      "188/188 [==============================] - 7s 21ms/step\n"
     ]
    },
    {
     "name": "stderr",
     "output_type": "stream",
     "text": [
      "2023-12-23 17:23:56.144708: I tensorflow/core/grappler/optimizers/custom_graph_optimizer_registry.cc:113] Plugin optimizer for device_type GPU is enabled.\n"
     ]
    },
    {
     "name": "stdout",
     "output_type": "stream",
     "text": [
      "188/188 [==============================] - 7s 21ms/step\n"
     ]
    },
    {
     "name": "stderr",
     "output_type": "stream",
     "text": [
      "2023-12-23 17:24:03.009494: I tensorflow/core/grappler/optimizers/custom_graph_optimizer_registry.cc:113] Plugin optimizer for device_type GPU is enabled.\n"
     ]
    },
    {
     "name": "stdout",
     "output_type": "stream",
     "text": [
      "188/188 [==============================] - 7s 20ms/step\n",
      "24/24 [==============================] - 44s 2s/step - loss: 0.0020 - accuracy: 0.9995 - val_loss: 1.6607 - val_accuracy: 0.7236\n",
      "Epoch 805/1000\n"
     ]
    },
    {
     "name": "stderr",
     "output_type": "stream",
     "text": [
      "2023-12-23 17:24:10.219366: I tensorflow/core/grappler/optimizers/custom_graph_optimizer_registry.cc:113] Plugin optimizer for device_type GPU is enabled.\n"
     ]
    },
    {
     "name": "stdout",
     "output_type": "stream",
     "text": [
      "24/24 [==============================] - ETA: 0s - loss: 0.0022 - accuracy: 0.9993"
     ]
    },
    {
     "name": "stderr",
     "output_type": "stream",
     "text": [
      "2023-12-23 17:24:45.917955: I tensorflow/core/grappler/optimizers/custom_graph_optimizer_registry.cc:113] Plugin optimizer for device_type GPU is enabled.\n"
     ]
    },
    {
     "name": "stdout",
     "output_type": "stream",
     "text": [
      "24/24 [==============================] - 46s 1s/step - loss: 0.0022 - accuracy: 0.9993 - val_loss: 1.6676 - val_accuracy: 0.7223\n",
      "Epoch 806/1000\n",
      "24/24 [==============================] - 3s 142ms/step - loss: 0.0013 - accuracy: 0.9998 - val_loss: 1.6735 - val_accuracy: 0.7218\n",
      "Epoch 807/1000\n",
      "24/24 [==============================] - 3s 112ms/step - loss: 0.0015 - accuracy: 0.9998 - val_loss: 1.6802 - val_accuracy: 0.7213\n",
      "Epoch 808/1000\n",
      "24/24 [==============================] - 2s 64ms/step - loss: 0.0024 - accuracy: 0.9997 - val_loss: 1.6792 - val_accuracy: 0.7205\n",
      "Epoch 809/1000\n",
      "24/24 [==============================] - 6s 274ms/step - loss: 0.0040 - accuracy: 0.9993 - val_loss: 1.6842 - val_accuracy: 0.7202\n",
      "Epoch 810/1000\n",
      "24/24 [==============================] - 6s 250ms/step - loss: 0.0038 - accuracy: 0.9992 - val_loss: 1.6761 - val_accuracy: 0.7235\n",
      "Epoch 811/1000\n",
      "24/24 [==============================] - 3s 137ms/step - loss: 0.0026 - accuracy: 0.9992 - val_loss: 1.6947 - val_accuracy: 0.7197\n",
      "Epoch 812/1000\n",
      "24/24 [==============================] - 2s 105ms/step - loss: 0.0018 - accuracy: 0.9995 - val_loss: 1.6912 - val_accuracy: 0.7191\n",
      "Epoch 813/1000\n",
      "24/24 [==============================] - 2s 83ms/step - loss: 0.0026 - accuracy: 0.9995 - val_loss: 1.6812 - val_accuracy: 0.7210\n",
      "Epoch 814/1000\n",
      "24/24 [==============================] - 3s 108ms/step - loss: 0.0052 - accuracy: 0.9990 - val_loss: 1.6965 - val_accuracy: 0.7223\n",
      "Epoch 815/1000\n",
      "24/24 [==============================] - 1s 55ms/step - loss: 0.0027 - accuracy: 0.9997 - val_loss: 1.7260 - val_accuracy: 0.7184\n",
      "Epoch 816/1000\n",
      "24/24 [==============================] - 2s 97ms/step - loss: 0.0034 - accuracy: 0.9990 - val_loss: 1.7156 - val_accuracy: 0.7190\n",
      "Epoch 817/1000\n",
      "24/24 [==============================] - 2s 74ms/step - loss: 0.0059 - accuracy: 0.9980 - val_loss: 1.7083 - val_accuracy: 0.7244\n",
      "Epoch 818/1000\n",
      "24/24 [==============================] - 1s 45ms/step - loss: 0.0027 - accuracy: 0.9995 - val_loss: 1.7225 - val_accuracy: 0.7210\n",
      "Epoch 819/1000\n",
      "24/24 [==============================] - 2s 65ms/step - loss: 0.0038 - accuracy: 0.9990 - val_loss: 1.7164 - val_accuracy: 0.7205\n",
      "Epoch 820/1000\n",
      "24/24 [==============================] - 1s 46ms/step - loss: 0.0036 - accuracy: 0.9993 - val_loss: 1.7157 - val_accuracy: 0.7217\n",
      "Epoch 821/1000\n",
      "24/24 [==============================] - 2s 89ms/step - loss: 0.0053 - accuracy: 0.9985 - val_loss: 1.7139 - val_accuracy: 0.7211\n",
      "Epoch 822/1000\n",
      "24/24 [==============================] - 1s 54ms/step - loss: 0.0027 - accuracy: 0.9997 - val_loss: 1.7195 - val_accuracy: 0.7220\n",
      "Epoch 823/1000\n",
      "24/24 [==============================] - 1s 46ms/step - loss: 0.0028 - accuracy: 0.9993 - val_loss: 1.7019 - val_accuracy: 0.7218\n",
      "Epoch 824/1000\n",
      "24/24 [==============================] - 1s 58ms/step - loss: 0.0028 - accuracy: 0.9993 - val_loss: 1.6895 - val_accuracy: 0.7228\n",
      "Epoch 825/1000\n",
      "24/24 [==============================] - 1s 45ms/step - loss: 0.0023 - accuracy: 0.9995 - val_loss: 1.6871 - val_accuracy: 0.7226\n",
      "Epoch 826/1000\n",
      "24/24 [==============================] - 1s 45ms/step - loss: 0.0030 - accuracy: 0.9992 - val_loss: 1.6849 - val_accuracy: 0.7222\n",
      "Epoch 827/1000\n",
      "24/24 [==============================] - 1s 46ms/step - loss: 0.0028 - accuracy: 0.9997 - val_loss: 1.6777 - val_accuracy: 0.7221\n",
      "Epoch 828/1000\n",
      "24/24 [==============================] - 1s 45ms/step - loss: 0.0028 - accuracy: 0.9990 - val_loss: 1.6921 - val_accuracy: 0.7244\n",
      "Epoch 829/1000\n",
      "24/24 [==============================] - 1s 45ms/step - loss: 0.0031 - accuracy: 0.9997 - val_loss: 1.6945 - val_accuracy: 0.7257\n",
      "Epoch 830/1000\n",
      "24/24 [==============================] - 1s 45ms/step - loss: 0.0015 - accuracy: 0.9998 - val_loss: 1.6998 - val_accuracy: 0.7257\n",
      "Epoch 831/1000\n",
      "24/24 [==============================] - 1s 45ms/step - loss: 0.0018 - accuracy: 0.9998 - val_loss: 1.6867 - val_accuracy: 0.7267\n",
      "Epoch 832/1000\n",
      "24/24 [==============================] - 1s 45ms/step - loss: 0.0025 - accuracy: 0.9995 - val_loss: 1.6817 - val_accuracy: 0.7268\n",
      "Epoch 833/1000\n",
      "24/24 [==============================] - 1s 51ms/step - loss: 0.0027 - accuracy: 0.9993 - val_loss: 1.6852 - val_accuracy: 0.7257\n",
      "Epoch 834/1000\n",
      "24/24 [==============================] - 1s 45ms/step - loss: 0.0017 - accuracy: 0.9997 - val_loss: 1.6774 - val_accuracy: 0.7280\n",
      "Epoch 835/1000\n",
      "24/24 [==============================] - 1s 45ms/step - loss: 9.0766e-04 - accuracy: 1.0000 - val_loss: 1.6597 - val_accuracy: 0.7289\n",
      "Epoch 836/1000\n",
      "24/24 [==============================] - 1s 45ms/step - loss: 0.0012 - accuracy: 0.9998 - val_loss: 1.6574 - val_accuracy: 0.7290\n",
      "Epoch 837/1000\n",
      "24/24 [==============================] - 1s 45ms/step - loss: 0.0015 - accuracy: 0.9998 - val_loss: 1.6622 - val_accuracy: 0.7284\n",
      "Epoch 838/1000\n",
      "24/24 [==============================] - 1s 46ms/step - loss: 0.0029 - accuracy: 0.9990 - val_loss: 1.6568 - val_accuracy: 0.7277\n",
      "Epoch 839/1000\n",
      "24/24 [==============================] - 1s 45ms/step - loss: 0.0021 - accuracy: 0.9995 - val_loss: 1.6686 - val_accuracy: 0.7264\n",
      "Epoch 840/1000\n",
      "24/24 [==============================] - 1s 44ms/step - loss: 0.0016 - accuracy: 0.9995 - val_loss: 1.6676 - val_accuracy: 0.7276\n",
      "Epoch 841/1000\n",
      "24/24 [==============================] - 1s 44ms/step - loss: 0.0013 - accuracy: 0.9998 - val_loss: 1.6658 - val_accuracy: 0.7278\n",
      "Epoch 842/1000\n",
      "24/24 [==============================] - 1s 44ms/step - loss: 0.0011 - accuracy: 0.9998 - val_loss: 1.6689 - val_accuracy: 0.7271\n",
      "Epoch 843/1000\n",
      "24/24 [==============================] - 1s 45ms/step - loss: 0.0030 - accuracy: 0.9993 - val_loss: 1.6723 - val_accuracy: 0.7264\n",
      "Epoch 844/1000\n",
      "24/24 [==============================] - 1s 44ms/step - loss: 0.0014 - accuracy: 0.9997 - val_loss: 1.6913 - val_accuracy: 0.7260\n",
      "Epoch 845/1000\n",
      "24/24 [==============================] - 1s 44ms/step - loss: 0.0013 - accuracy: 1.0000 - val_loss: 1.6902 - val_accuracy: 0.7278\n",
      "Epoch 846/1000\n",
      "24/24 [==============================] - 1s 44ms/step - loss: 0.0012 - accuracy: 0.9998 - val_loss: 1.6847 - val_accuracy: 0.7300\n",
      "Epoch 847/1000\n",
      "24/24 [==============================] - 1s 44ms/step - loss: 0.0011 - accuracy: 0.9998 - val_loss: 1.6818 - val_accuracy: 0.7295\n",
      "Epoch 848/1000\n",
      "24/24 [==============================] - 1s 44ms/step - loss: 0.0015 - accuracy: 0.9998 - val_loss: 1.6846 - val_accuracy: 0.7303\n",
      "Epoch 849/1000\n",
      "24/24 [==============================] - 1s 44ms/step - loss: 0.0013 - accuracy: 0.9997 - val_loss: 1.6813 - val_accuracy: 0.7306\n",
      "Epoch 850/1000\n",
      "24/24 [==============================] - 1s 45ms/step - loss: 0.0012 - accuracy: 0.9998 - val_loss: 1.6804 - val_accuracy: 0.7296\n",
      "Epoch 851/1000\n",
      "24/24 [==============================] - 1s 44ms/step - loss: 0.0012 - accuracy: 1.0000 - val_loss: 1.6773 - val_accuracy: 0.7293\n",
      "Epoch 852/1000\n",
      "24/24 [==============================] - 1s 44ms/step - loss: 0.0011 - accuracy: 0.9998 - val_loss: 1.6739 - val_accuracy: 0.7281\n",
      "Epoch 853/1000\n",
      "24/24 [==============================] - 1s 44ms/step - loss: 8.2753e-04 - accuracy: 1.0000 - val_loss: 1.6736 - val_accuracy: 0.7281\n",
      "Epoch 854/1000\n",
      "24/24 [==============================] - 1s 44ms/step - loss: 0.0012 - accuracy: 0.9998 - val_loss: 1.6684 - val_accuracy: 0.7285\n",
      "Epoch 855/1000\n",
      "24/24 [==============================] - 1s 45ms/step - loss: 0.0013 - accuracy: 0.9997 - val_loss: 1.6651 - val_accuracy: 0.7295\n",
      "Epoch 856/1000\n",
      "24/24 [==============================] - 1s 44ms/step - loss: 0.0015 - accuracy: 0.9997 - val_loss: 1.6717 - val_accuracy: 0.7294\n",
      "Epoch 857/1000\n",
      "24/24 [==============================] - 1s 45ms/step - loss: 0.0020 - accuracy: 0.9997 - val_loss: 1.6765 - val_accuracy: 0.7298\n",
      "Epoch 858/1000\n",
      "24/24 [==============================] - 1s 44ms/step - loss: 0.0028 - accuracy: 0.9992 - val_loss: 1.6700 - val_accuracy: 0.7310\n",
      "Epoch 859/1000\n",
      "24/24 [==============================] - 1s 44ms/step - loss: 0.0020 - accuracy: 0.9993 - val_loss: 1.6660 - val_accuracy: 0.7291\n",
      "Epoch 860/1000\n",
      "24/24 [==============================] - 1s 45ms/step - loss: 8.0051e-04 - accuracy: 1.0000 - val_loss: 1.6764 - val_accuracy: 0.7276\n",
      "Epoch 861/1000\n",
      "24/24 [==============================] - 1s 44ms/step - loss: 0.0012 - accuracy: 0.9998 - val_loss: 1.6712 - val_accuracy: 0.7283\n",
      "Epoch 862/1000\n",
      "24/24 [==============================] - 1s 44ms/step - loss: 0.0015 - accuracy: 0.9995 - val_loss: 1.6778 - val_accuracy: 0.7254\n",
      "Epoch 863/1000\n",
      "24/24 [==============================] - 1s 47ms/step - loss: 0.0024 - accuracy: 0.9995 - val_loss: 1.6805 - val_accuracy: 0.7272\n",
      "Epoch 864/1000\n",
      "24/24 [==============================] - 1s 44ms/step - loss: 0.0029 - accuracy: 0.9995 - val_loss: 1.6759 - val_accuracy: 0.7276\n",
      "Epoch 865/1000\n",
      "24/24 [==============================] - 1s 44ms/step - loss: 0.0019 - accuracy: 0.9997 - val_loss: 1.6717 - val_accuracy: 0.7265\n",
      "Epoch 866/1000\n",
      "24/24 [==============================] - 1s 45ms/step - loss: 0.0013 - accuracy: 0.9998 - val_loss: 1.6662 - val_accuracy: 0.7283\n",
      "Epoch 867/1000\n",
      "24/24 [==============================] - 1s 45ms/step - loss: 0.0021 - accuracy: 0.9993 - val_loss: 1.6613 - val_accuracy: 0.7284\n",
      "Epoch 868/1000\n",
      "24/24 [==============================] - 1s 44ms/step - loss: 0.0033 - accuracy: 0.9993 - val_loss: 1.6733 - val_accuracy: 0.7261\n",
      "Epoch 869/1000\n",
      "24/24 [==============================] - 1s 44ms/step - loss: 0.0019 - accuracy: 0.9997 - val_loss: 1.6743 - val_accuracy: 0.7260\n",
      "Epoch 870/1000\n",
      "24/24 [==============================] - 1s 44ms/step - loss: 0.0015 - accuracy: 1.0000 - val_loss: 1.6738 - val_accuracy: 0.7246\n",
      "Epoch 871/1000\n",
      "24/24 [==============================] - 1s 45ms/step - loss: 0.0024 - accuracy: 0.9992 - val_loss: 1.6702 - val_accuracy: 0.7276\n",
      "Epoch 872/1000\n",
      "24/24 [==============================] - 1s 45ms/step - loss: 0.0011 - accuracy: 0.9998 - val_loss: 1.6667 - val_accuracy: 0.7259\n",
      "Epoch 873/1000\n",
      "24/24 [==============================] - 1s 44ms/step - loss: 0.0023 - accuracy: 0.9992 - val_loss: 1.6608 - val_accuracy: 0.7297\n",
      "Epoch 874/1000\n",
      "24/24 [==============================] - 1s 44ms/step - loss: 0.0014 - accuracy: 0.9998 - val_loss: 1.6604 - val_accuracy: 0.7309\n",
      "Epoch 875/1000\n",
      "24/24 [==============================] - 1s 45ms/step - loss: 0.0020 - accuracy: 0.9995 - val_loss: 1.6589 - val_accuracy: 0.7307\n",
      "Epoch 876/1000\n",
      "24/24 [==============================] - 1s 44ms/step - loss: 0.0012 - accuracy: 1.0000 - val_loss: 1.6664 - val_accuracy: 0.7291\n",
      "Epoch 877/1000\n",
      "24/24 [==============================] - 1s 44ms/step - loss: 0.0018 - accuracy: 0.9997 - val_loss: 1.6629 - val_accuracy: 0.7294\n",
      "Epoch 878/1000\n",
      "24/24 [==============================] - 1s 45ms/step - loss: 9.4187e-04 - accuracy: 1.0000 - val_loss: 1.6674 - val_accuracy: 0.7287\n",
      "Epoch 879/1000\n",
      "24/24 [==============================] - 1s 44ms/step - loss: 0.0018 - accuracy: 0.9993 - val_loss: 1.6664 - val_accuracy: 0.7285\n",
      "Epoch 880/1000\n",
      "24/24 [==============================] - 1s 44ms/step - loss: 0.0011 - accuracy: 1.0000 - val_loss: 1.6686 - val_accuracy: 0.7301\n",
      "Epoch 881/1000\n",
      "24/24 [==============================] - 1s 45ms/step - loss: 0.0012 - accuracy: 0.9997 - val_loss: 1.6697 - val_accuracy: 0.7278\n",
      "Epoch 882/1000\n",
      "24/24 [==============================] - 1s 44ms/step - loss: 0.0015 - accuracy: 0.9998 - val_loss: 1.6648 - val_accuracy: 0.7290\n",
      "Epoch 883/1000\n",
      "24/24 [==============================] - 1s 44ms/step - loss: 0.0014 - accuracy: 0.9998 - val_loss: 1.6618 - val_accuracy: 0.7312\n",
      "Epoch 884/1000\n",
      "23/24 [===========================>..] - ETA: 0s - loss: 9.3660e-04 - accuracy: 0.9998"
     ]
    },
    {
     "name": "stderr",
     "output_type": "stream",
     "text": [
      "2023-12-23 17:26:44.945171: I tensorflow/core/grappler/optimizers/custom_graph_optimizer_registry.cc:113] Plugin optimizer for device_type GPU is enabled.\n"
     ]
    },
    {
     "name": "stdout",
     "output_type": "stream",
     "text": [
      "188/188 [==============================] - 2s 2ms/step\n"
     ]
    },
    {
     "name": "stderr",
     "output_type": "stream",
     "text": [
      "2023-12-23 17:26:46.640617: I tensorflow/core/grappler/optimizers/custom_graph_optimizer_registry.cc:113] Plugin optimizer for device_type GPU is enabled.\n"
     ]
    },
    {
     "name": "stdout",
     "output_type": "stream",
     "text": [
      "188/188 [==============================] - 1s 3ms/step\n"
     ]
    },
    {
     "name": "stderr",
     "output_type": "stream",
     "text": [
      "2023-12-23 17:26:47.971745: I tensorflow/core/grappler/optimizers/custom_graph_optimizer_registry.cc:113] Plugin optimizer for device_type GPU is enabled.\n"
     ]
    },
    {
     "name": "stdout",
     "output_type": "stream",
     "text": [
      "188/188 [==============================] - 2s 7ms/step\n"
     ]
    },
    {
     "name": "stderr",
     "output_type": "stream",
     "text": [
      "2023-12-23 17:26:50.460058: I tensorflow/core/grappler/optimizers/custom_graph_optimizer_registry.cc:113] Plugin optimizer for device_type GPU is enabled.\n"
     ]
    },
    {
     "name": "stdout",
     "output_type": "stream",
     "text": [
      "188/188 [==============================] - 2s 9ms/step\n"
     ]
    },
    {
     "name": "stderr",
     "output_type": "stream",
     "text": [
      "2023-12-23 17:26:52.773672: I tensorflow/core/grappler/optimizers/custom_graph_optimizer_registry.cc:113] Plugin optimizer for device_type GPU is enabled.\n"
     ]
    },
    {
     "name": "stdout",
     "output_type": "stream",
     "text": [
      "188/188 [==============================] - 2s 8ms/step\n"
     ]
    },
    {
     "name": "stderr",
     "output_type": "stream",
     "text": [
      "2023-12-23 17:26:54.969874: I tensorflow/core/grappler/optimizers/custom_graph_optimizer_registry.cc:113] Plugin optimizer for device_type GPU is enabled.\n"
     ]
    },
    {
     "name": "stdout",
     "output_type": "stream",
     "text": [
      "188/188 [==============================] - 4s 10ms/step\n"
     ]
    },
    {
     "name": "stderr",
     "output_type": "stream",
     "text": [
      "2023-12-23 17:26:58.718761: I tensorflow/core/grappler/optimizers/custom_graph_optimizer_registry.cc:113] Plugin optimizer for device_type GPU is enabled.\n"
     ]
    },
    {
     "name": "stdout",
     "output_type": "stream",
     "text": [
      "188/188 [==============================] - 5s 16ms/step\n"
     ]
    },
    {
     "name": "stderr",
     "output_type": "stream",
     "text": [
      "2023-12-23 17:27:03.886614: I tensorflow/core/grappler/optimizers/custom_graph_optimizer_registry.cc:113] Plugin optimizer for device_type GPU is enabled.\n"
     ]
    },
    {
     "name": "stdout",
     "output_type": "stream",
     "text": [
      "188/188 [==============================] - 5s 13ms/step\n"
     ]
    },
    {
     "name": "stderr",
     "output_type": "stream",
     "text": [
      "2023-12-23 17:27:08.890276: I tensorflow/core/grappler/optimizers/custom_graph_optimizer_registry.cc:113] Plugin optimizer for device_type GPU is enabled.\n"
     ]
    },
    {
     "name": "stdout",
     "output_type": "stream",
     "text": [
      "188/188 [==============================] - 6s 17ms/step\n"
     ]
    },
    {
     "name": "stderr",
     "output_type": "stream",
     "text": [
      "2023-12-23 17:27:14.943532: I tensorflow/core/grappler/optimizers/custom_graph_optimizer_registry.cc:113] Plugin optimizer for device_type GPU is enabled.\n"
     ]
    },
    {
     "name": "stdout",
     "output_type": "stream",
     "text": [
      "188/188 [==============================] - 6s 17ms/step\n",
      "24/24 [==============================] - 38s 2s/step - loss: 0.0016 - accuracy: 0.9995 - val_loss: 1.6762 - val_accuracy: 0.7308\n",
      "Epoch 885/1000\n"
     ]
    },
    {
     "name": "stderr",
     "output_type": "stream",
     "text": [
      "2023-12-23 17:27:21.193443: I tensorflow/core/grappler/optimizers/custom_graph_optimizer_registry.cc:113] Plugin optimizer for device_type GPU is enabled.\n"
     ]
    },
    {
     "name": "stdout",
     "output_type": "stream",
     "text": [
      "24/24 [==============================] - ETA: 0s - loss: 0.0020 - accuracy: 0.9995"
     ]
    },
    {
     "name": "stderr",
     "output_type": "stream",
     "text": [
      "2023-12-23 17:28:02.815798: I tensorflow/core/grappler/optimizers/custom_graph_optimizer_registry.cc:113] Plugin optimizer for device_type GPU is enabled.\n"
     ]
    },
    {
     "name": "stdout",
     "output_type": "stream",
     "text": [
      "24/24 [==============================] - 50s 1s/step - loss: 0.0020 - accuracy: 0.9995 - val_loss: 1.6736 - val_accuracy: 0.7341\n",
      "Epoch 886/1000\n",
      "24/24 [==============================] - 3s 119ms/step - loss: 0.0017 - accuracy: 0.9998 - val_loss: 1.6690 - val_accuracy: 0.7345\n",
      "Epoch 887/1000\n",
      "24/24 [==============================] - 4s 157ms/step - loss: 0.0024 - accuracy: 0.9995 - val_loss: 1.6626 - val_accuracy: 0.7320\n",
      "Epoch 888/1000\n",
      "24/24 [==============================] - 1s 49ms/step - loss: 0.0024 - accuracy: 0.9992 - val_loss: 1.6729 - val_accuracy: 0.7295\n",
      "Epoch 889/1000\n",
      "24/24 [==============================] - 2s 71ms/step - loss: 0.0021 - accuracy: 0.9998 - val_loss: 1.6776 - val_accuracy: 0.7297\n",
      "Epoch 890/1000\n",
      "24/24 [==============================] - 2s 98ms/step - loss: 0.0024 - accuracy: 0.9997 - val_loss: 1.6797 - val_accuracy: 0.7252\n",
      "Epoch 891/1000\n",
      "24/24 [==============================] - 1s 47ms/step - loss: 0.0015 - accuracy: 0.9998 - val_loss: 1.6905 - val_accuracy: 0.7251\n",
      "Epoch 892/1000\n",
      "24/24 [==============================] - 2s 64ms/step - loss: 0.0024 - accuracy: 0.9988 - val_loss: 1.6918 - val_accuracy: 0.7272\n",
      "Epoch 893/1000\n",
      "24/24 [==============================] - 2s 78ms/step - loss: 0.0033 - accuracy: 0.9990 - val_loss: 1.6813 - val_accuracy: 0.7300\n",
      "Epoch 894/1000\n",
      "24/24 [==============================] - 6s 266ms/step - loss: 0.0016 - accuracy: 0.9998 - val_loss: 1.6614 - val_accuracy: 0.7333\n",
      "Epoch 895/1000\n",
      "24/24 [==============================] - 3s 118ms/step - loss: 0.0019 - accuracy: 0.9995 - val_loss: 1.6561 - val_accuracy: 0.7344\n",
      "Epoch 896/1000\n",
      "24/24 [==============================] - 1s 62ms/step - loss: 0.0013 - accuracy: 0.9998 - val_loss: 1.6613 - val_accuracy: 0.7322\n",
      "Epoch 897/1000\n",
      "24/24 [==============================] - 2s 85ms/step - loss: 0.0014 - accuracy: 0.9997 - val_loss: 1.6631 - val_accuracy: 0.7327\n",
      "Epoch 898/1000\n",
      "24/24 [==============================] - 1s 48ms/step - loss: 0.0029 - accuracy: 0.9993 - val_loss: 1.6618 - val_accuracy: 0.7334\n",
      "Epoch 899/1000\n",
      "24/24 [==============================] - 1s 49ms/step - loss: 0.0051 - accuracy: 0.9997 - val_loss: 1.6557 - val_accuracy: 0.7308\n",
      "Epoch 900/1000\n",
      "24/24 [==============================] - 1s 49ms/step - loss: 0.0023 - accuracy: 0.9997 - val_loss: 1.6558 - val_accuracy: 0.7292\n",
      "Epoch 901/1000\n",
      "24/24 [==============================] - 1s 56ms/step - loss: 0.0015 - accuracy: 1.0000 - val_loss: 1.6573 - val_accuracy: 0.7275\n",
      "Epoch 902/1000\n",
      "24/24 [==============================] - 3s 126ms/step - loss: 0.0019 - accuracy: 0.9998 - val_loss: 1.6606 - val_accuracy: 0.7288\n",
      "Epoch 903/1000\n",
      "24/24 [==============================] - 1s 46ms/step - loss: 0.0024 - accuracy: 0.9997 - val_loss: 1.6692 - val_accuracy: 0.7288\n",
      "Epoch 904/1000\n",
      "24/24 [==============================] - 1s 53ms/step - loss: 0.0012 - accuracy: 1.0000 - val_loss: 1.6630 - val_accuracy: 0.7317\n",
      "Epoch 905/1000\n",
      "24/24 [==============================] - 6s 265ms/step - loss: 0.0016 - accuracy: 0.9997 - val_loss: 1.6587 - val_accuracy: 0.7322\n",
      "Epoch 906/1000\n",
      "24/24 [==============================] - 1s 55ms/step - loss: 0.0015 - accuracy: 0.9995 - val_loss: 1.6592 - val_accuracy: 0.7305\n",
      "Epoch 907/1000\n",
      "24/24 [==============================] - 1s 46ms/step - loss: 0.0017 - accuracy: 0.9997 - val_loss: 1.6566 - val_accuracy: 0.7320\n",
      "Epoch 908/1000\n",
      "24/24 [==============================] - 2s 100ms/step - loss: 0.0012 - accuracy: 1.0000 - val_loss: 1.6466 - val_accuracy: 0.7328\n",
      "Epoch 909/1000\n",
      "24/24 [==============================] - 1s 56ms/step - loss: 0.0029 - accuracy: 0.9992 - val_loss: 1.6529 - val_accuracy: 0.7322\n",
      "Epoch 910/1000\n",
      "24/24 [==============================] - 1s 46ms/step - loss: 0.0030 - accuracy: 0.9993 - val_loss: 1.6719 - val_accuracy: 0.7313\n",
      "Epoch 911/1000\n",
      "24/24 [==============================] - 1s 46ms/step - loss: 0.0014 - accuracy: 1.0000 - val_loss: 1.6781 - val_accuracy: 0.7307\n",
      "Epoch 912/1000\n",
      "24/24 [==============================] - 1s 45ms/step - loss: 0.0017 - accuracy: 0.9997 - val_loss: 1.6740 - val_accuracy: 0.7327\n",
      "Epoch 913/1000\n",
      "24/24 [==============================] - 1s 45ms/step - loss: 0.0012 - accuracy: 0.9997 - val_loss: 1.6763 - val_accuracy: 0.7323\n",
      "Epoch 914/1000\n",
      "24/24 [==============================] - 1s 46ms/step - loss: 0.0024 - accuracy: 0.9992 - val_loss: 1.6811 - val_accuracy: 0.7316\n",
      "Epoch 915/1000\n",
      "24/24 [==============================] - 1s 45ms/step - loss: 0.0016 - accuracy: 0.9997 - val_loss: 1.6867 - val_accuracy: 0.7292\n",
      "Epoch 916/1000\n",
      "24/24 [==============================] - 1s 45ms/step - loss: 0.0028 - accuracy: 0.9990 - val_loss: 1.6820 - val_accuracy: 0.7279\n",
      "Epoch 917/1000\n",
      "24/24 [==============================] - 2s 71ms/step - loss: 0.0020 - accuracy: 0.9993 - val_loss: 1.6831 - val_accuracy: 0.7277\n",
      "Epoch 918/1000\n",
      "24/24 [==============================] - 1s 46ms/step - loss: 0.0030 - accuracy: 0.9993 - val_loss: 1.6829 - val_accuracy: 0.7293\n",
      "Epoch 919/1000\n",
      "24/24 [==============================] - 1s 45ms/step - loss: 0.0017 - accuracy: 0.9995 - val_loss: 1.6764 - val_accuracy: 0.7290\n",
      "Epoch 920/1000\n",
      "24/24 [==============================] - 1s 45ms/step - loss: 0.0026 - accuracy: 0.9993 - val_loss: 1.6865 - val_accuracy: 0.7278\n",
      "Epoch 921/1000\n",
      "24/24 [==============================] - 1s 45ms/step - loss: 0.0016 - accuracy: 0.9995 - val_loss: 1.6877 - val_accuracy: 0.7300\n",
      "Epoch 922/1000\n",
      "24/24 [==============================] - 1s 45ms/step - loss: 0.0035 - accuracy: 0.9988 - val_loss: 1.6934 - val_accuracy: 0.7306\n",
      "Epoch 923/1000\n",
      "24/24 [==============================] - 1s 45ms/step - loss: 0.0021 - accuracy: 0.9995 - val_loss: 1.6937 - val_accuracy: 0.7305\n",
      "Epoch 924/1000\n",
      "24/24 [==============================] - 1s 45ms/step - loss: 0.0030 - accuracy: 0.9990 - val_loss: 1.6841 - val_accuracy: 0.7304\n",
      "Epoch 925/1000\n",
      "24/24 [==============================] - 1s 45ms/step - loss: 0.0012 - accuracy: 0.9998 - val_loss: 1.6839 - val_accuracy: 0.7296\n",
      "Epoch 926/1000\n",
      "24/24 [==============================] - 1s 45ms/step - loss: 0.0020 - accuracy: 0.9997 - val_loss: 1.6825 - val_accuracy: 0.7313\n",
      "Epoch 927/1000\n",
      "24/24 [==============================] - 1s 45ms/step - loss: 9.5858e-04 - accuracy: 1.0000 - val_loss: 1.6793 - val_accuracy: 0.7315\n",
      "Epoch 928/1000\n",
      "24/24 [==============================] - 1s 45ms/step - loss: 0.0023 - accuracy: 0.9992 - val_loss: 1.6764 - val_accuracy: 0.7320\n",
      "Epoch 929/1000\n",
      "24/24 [==============================] - 1s 45ms/step - loss: 0.0021 - accuracy: 0.9995 - val_loss: 1.6801 - val_accuracy: 0.7310\n",
      "Epoch 930/1000\n",
      "24/24 [==============================] - 1s 45ms/step - loss: 0.0011 - accuracy: 0.9998 - val_loss: 1.6831 - val_accuracy: 0.7308\n",
      "Epoch 931/1000\n",
      "24/24 [==============================] - 1s 45ms/step - loss: 7.7427e-04 - accuracy: 1.0000 - val_loss: 1.6778 - val_accuracy: 0.7317\n",
      "Epoch 932/1000\n",
      "24/24 [==============================] - 1s 45ms/step - loss: 0.0012 - accuracy: 0.9995 - val_loss: 1.6710 - val_accuracy: 0.7314\n",
      "Epoch 933/1000\n",
      "24/24 [==============================] - 1s 44ms/step - loss: 0.0016 - accuracy: 0.9995 - val_loss: 1.6635 - val_accuracy: 0.7319\n",
      "Epoch 934/1000\n",
      "24/24 [==============================] - 1s 45ms/step - loss: 0.0012 - accuracy: 0.9997 - val_loss: 1.6677 - val_accuracy: 0.7326\n",
      "Epoch 935/1000\n",
      "24/24 [==============================] - 1s 45ms/step - loss: 0.0014 - accuracy: 0.9997 - val_loss: 1.6638 - val_accuracy: 0.7328\n",
      "Epoch 936/1000\n",
      "24/24 [==============================] - 1s 44ms/step - loss: 0.0012 - accuracy: 0.9997 - val_loss: 1.6540 - val_accuracy: 0.7322\n",
      "Epoch 937/1000\n",
      "24/24 [==============================] - 1s 45ms/step - loss: 0.0012 - accuracy: 0.9997 - val_loss: 1.6450 - val_accuracy: 0.7325\n",
      "Epoch 938/1000\n",
      "24/24 [==============================] - 1s 48ms/step - loss: 0.0016 - accuracy: 0.9997 - val_loss: 1.6452 - val_accuracy: 0.7340\n",
      "Epoch 939/1000\n",
      "24/24 [==============================] - 1s 45ms/step - loss: 9.2437e-04 - accuracy: 1.0000 - val_loss: 1.6441 - val_accuracy: 0.7335\n",
      "Epoch 940/1000\n",
      "24/24 [==============================] - 1s 45ms/step - loss: 9.8279e-04 - accuracy: 0.9998 - val_loss: 1.6416 - val_accuracy: 0.7347\n",
      "Epoch 941/1000\n",
      "24/24 [==============================] - 1s 45ms/step - loss: 0.0018 - accuracy: 0.9997 - val_loss: 1.6461 - val_accuracy: 0.7366\n",
      "Epoch 942/1000\n",
      "24/24 [==============================] - 1s 45ms/step - loss: 0.0010 - accuracy: 0.9998 - val_loss: 1.6494 - val_accuracy: 0.7349\n",
      "Epoch 943/1000\n",
      "24/24 [==============================] - 1s 45ms/step - loss: 0.0016 - accuracy: 0.9995 - val_loss: 1.6456 - val_accuracy: 0.7353\n",
      "Epoch 944/1000\n",
      "24/24 [==============================] - 1s 45ms/step - loss: 5.6614e-04 - accuracy: 1.0000 - val_loss: 1.6461 - val_accuracy: 0.7331\n",
      "Epoch 945/1000\n",
      "24/24 [==============================] - 1s 45ms/step - loss: 9.5440e-04 - accuracy: 0.9998 - val_loss: 1.6436 - val_accuracy: 0.7340\n",
      "Epoch 946/1000\n",
      "24/24 [==============================] - 1s 45ms/step - loss: 0.0014 - accuracy: 0.9998 - val_loss: 1.6473 - val_accuracy: 0.7327\n",
      "Epoch 947/1000\n",
      "24/24 [==============================] - 1s 44ms/step - loss: 0.0010 - accuracy: 0.9997 - val_loss: 1.6469 - val_accuracy: 0.7348\n",
      "Epoch 948/1000\n",
      "24/24 [==============================] - 1s 45ms/step - loss: 7.6755e-04 - accuracy: 1.0000 - val_loss: 1.6439 - val_accuracy: 0.7357\n",
      "Epoch 949/1000\n",
      "24/24 [==============================] - 1s 44ms/step - loss: 0.0017 - accuracy: 0.9993 - val_loss: 1.6394 - val_accuracy: 0.7353\n",
      "Epoch 950/1000\n",
      "24/24 [==============================] - 1s 44ms/step - loss: 0.0010 - accuracy: 0.9998 - val_loss: 1.6606 - val_accuracy: 0.7292\n",
      "Epoch 951/1000\n",
      "24/24 [==============================] - 1s 45ms/step - loss: 0.0018 - accuracy: 0.9997 - val_loss: 1.6595 - val_accuracy: 0.7327\n",
      "Epoch 952/1000\n",
      "24/24 [==============================] - 1s 48ms/step - loss: 0.0017 - accuracy: 0.9997 - val_loss: 1.6624 - val_accuracy: 0.7361\n",
      "Epoch 953/1000\n",
      "24/24 [==============================] - 1s 50ms/step - loss: 0.0023 - accuracy: 0.9993 - val_loss: 1.6652 - val_accuracy: 0.7358\n",
      "Epoch 954/1000\n",
      "24/24 [==============================] - 1s 45ms/step - loss: 0.0015 - accuracy: 0.9997 - val_loss: 1.6624 - val_accuracy: 0.7374\n",
      "Epoch 955/1000\n",
      "24/24 [==============================] - 1s 44ms/step - loss: 0.0020 - accuracy: 0.9992 - val_loss: 1.6488 - val_accuracy: 0.7369\n",
      "Epoch 956/1000\n",
      "24/24 [==============================] - 1s 45ms/step - loss: 0.0014 - accuracy: 0.9998 - val_loss: 1.6482 - val_accuracy: 0.7386\n",
      "Epoch 957/1000\n",
      "24/24 [==============================] - 1s 45ms/step - loss: 0.0014 - accuracy: 0.9998 - val_loss: 1.6371 - val_accuracy: 0.7393\n",
      "Epoch 958/1000\n",
      "24/24 [==============================] - 1s 45ms/step - loss: 0.0020 - accuracy: 0.9993 - val_loss: 1.6416 - val_accuracy: 0.7381\n",
      "Epoch 959/1000\n",
      "24/24 [==============================] - 1s 46ms/step - loss: 0.0015 - accuracy: 0.9998 - val_loss: 1.6370 - val_accuracy: 0.7375\n",
      "Epoch 960/1000\n",
      "24/24 [==============================] - 1s 45ms/step - loss: 0.0014 - accuracy: 0.9997 - val_loss: 1.6333 - val_accuracy: 0.7388\n",
      "Epoch 961/1000\n",
      "24/24 [==============================] - 1s 45ms/step - loss: 0.0012 - accuracy: 0.9998 - val_loss: 1.6333 - val_accuracy: 0.7398\n",
      "Epoch 962/1000\n",
      "24/24 [==============================] - 1s 45ms/step - loss: 7.5246e-04 - accuracy: 1.0000 - val_loss: 1.6359 - val_accuracy: 0.7395\n",
      "Epoch 963/1000\n",
      "24/24 [==============================] - 1s 45ms/step - loss: 0.0014 - accuracy: 0.9997 - val_loss: 1.6324 - val_accuracy: 0.7383\n",
      "Epoch 964/1000\n",
      "24/24 [==============================] - 1s 45ms/step - loss: 0.0015 - accuracy: 0.9997 - val_loss: 1.6489 - val_accuracy: 0.7350\n",
      "Epoch 965/1000\n",
      "24/24 [==============================] - 1s 45ms/step - loss: 0.0015 - accuracy: 0.9997 - val_loss: 1.6452 - val_accuracy: 0.7358\n",
      "Epoch 966/1000\n",
      "24/24 [==============================] - 1s 45ms/step - loss: 0.0015 - accuracy: 0.9995 - val_loss: 1.6520 - val_accuracy: 0.7357\n",
      "Epoch 967/1000\n",
      "24/24 [==============================] - 1s 44ms/step - loss: 0.0022 - accuracy: 0.9992 - val_loss: 1.6598 - val_accuracy: 0.7343\n",
      "Epoch 968/1000\n",
      "24/24 [==============================] - 1s 44ms/step - loss: 0.0014 - accuracy: 1.0000 - val_loss: 1.6603 - val_accuracy: 0.7337\n",
      "Epoch 969/1000\n",
      "24/24 [==============================] - 1s 45ms/step - loss: 0.0018 - accuracy: 0.9995 - val_loss: 1.6571 - val_accuracy: 0.7349\n",
      "Epoch 970/1000\n",
      "24/24 [==============================] - 1s 44ms/step - loss: 0.0018 - accuracy: 0.9995 - val_loss: 1.6520 - val_accuracy: 0.7345\n",
      "Epoch 971/1000\n",
      "24/24 [==============================] - 1s 44ms/step - loss: 0.0029 - accuracy: 0.9995 - val_loss: 1.6545 - val_accuracy: 0.7349\n",
      "Epoch 972/1000\n",
      "23/24 [===========================>..] - ETA: 0s - loss: 0.0015 - accuracy: 0.9995"
     ]
    },
    {
     "name": "stderr",
     "output_type": "stream",
     "text": [
      "2023-12-23 17:30:10.583082: I tensorflow/core/grappler/optimizers/custom_graph_optimizer_registry.cc:113] Plugin optimizer for device_type GPU is enabled.\n"
     ]
    },
    {
     "name": "stdout",
     "output_type": "stream",
     "text": [
      "188/188 [==============================] - 1s 3ms/step\n"
     ]
    },
    {
     "name": "stderr",
     "output_type": "stream",
     "text": [
      "2023-12-23 17:30:12.446637: I tensorflow/core/grappler/optimizers/custom_graph_optimizer_registry.cc:113] Plugin optimizer for device_type GPU is enabled.\n"
     ]
    },
    {
     "name": "stdout",
     "output_type": "stream",
     "text": [
      "188/188 [==============================] - 1s 4ms/step\n"
     ]
    },
    {
     "name": "stderr",
     "output_type": "stream",
     "text": [
      "2023-12-23 17:30:13.915091: I tensorflow/core/grappler/optimizers/custom_graph_optimizer_registry.cc:113] Plugin optimizer for device_type GPU is enabled.\n"
     ]
    },
    {
     "name": "stdout",
     "output_type": "stream",
     "text": [
      "188/188 [==============================] - 2s 6ms/step\n"
     ]
    },
    {
     "name": "stderr",
     "output_type": "stream",
     "text": [
      "2023-12-23 17:30:15.594076: I tensorflow/core/grappler/optimizers/custom_graph_optimizer_registry.cc:113] Plugin optimizer for device_type GPU is enabled.\n"
     ]
    },
    {
     "name": "stdout",
     "output_type": "stream",
     "text": [
      "188/188 [==============================] - 2s 5ms/step\n"
     ]
    },
    {
     "name": "stderr",
     "output_type": "stream",
     "text": [
      "2023-12-23 17:30:17.955815: I tensorflow/core/grappler/optimizers/custom_graph_optimizer_registry.cc:113] Plugin optimizer for device_type GPU is enabled.\n"
     ]
    },
    {
     "name": "stdout",
     "output_type": "stream",
     "text": [
      "188/188 [==============================] - 3s 10ms/step\n"
     ]
    },
    {
     "name": "stderr",
     "output_type": "stream",
     "text": [
      "2023-12-23 17:30:20.609165: I tensorflow/core/grappler/optimizers/custom_graph_optimizer_registry.cc:113] Plugin optimizer for device_type GPU is enabled.\n"
     ]
    },
    {
     "name": "stdout",
     "output_type": "stream",
     "text": [
      "188/188 [==============================] - 4s 11ms/step\n"
     ]
    },
    {
     "name": "stderr",
     "output_type": "stream",
     "text": [
      "2023-12-23 17:30:25.014089: I tensorflow/core/grappler/optimizers/custom_graph_optimizer_registry.cc:113] Plugin optimizer for device_type GPU is enabled.\n"
     ]
    },
    {
     "name": "stdout",
     "output_type": "stream",
     "text": [
      "188/188 [==============================] - 6s 18ms/step\n"
     ]
    },
    {
     "name": "stderr",
     "output_type": "stream",
     "text": [
      "2023-12-23 17:30:31.396546: I tensorflow/core/grappler/optimizers/custom_graph_optimizer_registry.cc:113] Plugin optimizer for device_type GPU is enabled.\n"
     ]
    },
    {
     "name": "stdout",
     "output_type": "stream",
     "text": [
      "188/188 [==============================] - 6s 18ms/step\n"
     ]
    },
    {
     "name": "stderr",
     "output_type": "stream",
     "text": [
      "2023-12-23 17:30:37.417645: I tensorflow/core/grappler/optimizers/custom_graph_optimizer_registry.cc:113] Plugin optimizer for device_type GPU is enabled.\n"
     ]
    },
    {
     "name": "stdout",
     "output_type": "stream",
     "text": [
      "188/188 [==============================] - 6s 15ms/step\n"
     ]
    },
    {
     "name": "stderr",
     "output_type": "stream",
     "text": [
      "2023-12-23 17:30:43.201209: I tensorflow/core/grappler/optimizers/custom_graph_optimizer_registry.cc:113] Plugin optimizer for device_type GPU is enabled.\n"
     ]
    },
    {
     "name": "stdout",
     "output_type": "stream",
     "text": [
      "188/188 [==============================] - 7s 23ms/step\n",
      "24/24 [==============================] - 41s 2s/step - loss: 0.0015 - accuracy: 0.9995 - val_loss: 1.6906 - val_accuracy: 0.7309\n",
      "Epoch 973/1000\n"
     ]
    },
    {
     "name": "stderr",
     "output_type": "stream",
     "text": [
      "2023-12-23 17:30:50.774336: I tensorflow/core/grappler/optimizers/custom_graph_optimizer_registry.cc:113] Plugin optimizer for device_type GPU is enabled.\n"
     ]
    },
    {
     "name": "stdout",
     "output_type": "stream",
     "text": [
      "24/24 [==============================] - ETA: 0s - loss: 0.0018 - accuracy: 0.9995"
     ]
    },
    {
     "name": "stderr",
     "output_type": "stream",
     "text": [
      "2023-12-23 17:31:27.221186: I tensorflow/core/grappler/optimizers/custom_graph_optimizer_registry.cc:113] Plugin optimizer for device_type GPU is enabled.\n"
     ]
    },
    {
     "name": "stdout",
     "output_type": "stream",
     "text": [
      "24/24 [==============================] - 46s 1s/step - loss: 0.0018 - accuracy: 0.9995 - val_loss: 1.6666 - val_accuracy: 0.7317\n",
      "Epoch 974/1000\n",
      "24/24 [==============================] - 12s 529ms/step - loss: 0.0015 - accuracy: 1.0000 - val_loss: 1.6615 - val_accuracy: 0.7343\n",
      "Epoch 975/1000\n",
      "24/24 [==============================] - 6s 243ms/step - loss: 0.0017 - accuracy: 0.9993 - val_loss: 1.6645 - val_accuracy: 0.7338\n",
      "Epoch 976/1000\n",
      "24/24 [==============================] - 4s 189ms/step - loss: 0.0011 - accuracy: 1.0000 - val_loss: 1.6568 - val_accuracy: 0.7367\n",
      "Epoch 977/1000\n",
      "24/24 [==============================] - 1s 56ms/step - loss: 0.0012 - accuracy: 0.9998 - val_loss: 1.6521 - val_accuracy: 0.7380\n",
      "Epoch 978/1000\n",
      "24/24 [==============================] - 2s 71ms/step - loss: 0.0013 - accuracy: 0.9997 - val_loss: 1.6565 - val_accuracy: 0.7373\n",
      "Epoch 979/1000\n",
      "24/24 [==============================] - 1s 46ms/step - loss: 0.0013 - accuracy: 0.9998 - val_loss: 1.6506 - val_accuracy: 0.7366\n",
      "Epoch 980/1000\n",
      "24/24 [==============================] - 1s 55ms/step - loss: 0.0015 - accuracy: 0.9997 - val_loss: 1.6516 - val_accuracy: 0.7369\n",
      "Epoch 981/1000\n",
      "24/24 [==============================] - 3s 128ms/step - loss: 0.0023 - accuracy: 0.9995 - val_loss: 1.6528 - val_accuracy: 0.7385\n",
      "Epoch 982/1000\n",
      "24/24 [==============================] - 2s 64ms/step - loss: 0.0049 - accuracy: 0.9990 - val_loss: 1.6728 - val_accuracy: 0.7358\n",
      "Epoch 983/1000\n",
      "24/24 [==============================] - 1s 45ms/step - loss: 0.0013 - accuracy: 1.0000 - val_loss: 1.6653 - val_accuracy: 0.7367\n",
      "Epoch 984/1000\n",
      "24/24 [==============================] - 2s 89ms/step - loss: 8.8389e-04 - accuracy: 1.0000 - val_loss: 1.6612 - val_accuracy: 0.7393\n",
      "Epoch 985/1000\n",
      "24/24 [==============================] - 2s 106ms/step - loss: 0.0011 - accuracy: 0.9998 - val_loss: 1.6553 - val_accuracy: 0.7399\n",
      "Epoch 986/1000\n",
      "24/24 [==============================] - 2s 99ms/step - loss: 5.9361e-04 - accuracy: 1.0000 - val_loss: 1.6576 - val_accuracy: 0.7396\n",
      "Epoch 987/1000\n",
      "24/24 [==============================] - 1s 45ms/step - loss: 0.0015 - accuracy: 0.9997 - val_loss: 1.6524 - val_accuracy: 0.7411\n",
      "Epoch 988/1000\n",
      "24/24 [==============================] - 1s 45ms/step - loss: 0.0012 - accuracy: 0.9997 - val_loss: 1.6624 - val_accuracy: 0.7395\n",
      "Epoch 989/1000\n",
      "24/24 [==============================] - 1s 46ms/step - loss: 0.0027 - accuracy: 0.9995 - val_loss: 1.6660 - val_accuracy: 0.7392\n",
      "Epoch 990/1000\n",
      "24/24 [==============================] - 1s 45ms/step - loss: 0.0017 - accuracy: 0.9995 - val_loss: 1.6663 - val_accuracy: 0.7395\n",
      "Epoch 991/1000\n",
      "24/24 [==============================] - 1s 45ms/step - loss: 0.0021 - accuracy: 0.9998 - val_loss: 1.6620 - val_accuracy: 0.7388\n",
      "Epoch 992/1000\n",
      "24/24 [==============================] - 2s 68ms/step - loss: 0.0014 - accuracy: 0.9997 - val_loss: 1.6578 - val_accuracy: 0.7384\n",
      "Epoch 993/1000\n",
      "24/24 [==============================] - 1s 44ms/step - loss: 0.0013 - accuracy: 0.9997 - val_loss: 1.6591 - val_accuracy: 0.7369\n",
      "Epoch 994/1000\n",
      "24/24 [==============================] - 1s 45ms/step - loss: 0.0013 - accuracy: 0.9997 - val_loss: 1.6616 - val_accuracy: 0.7361\n",
      "Epoch 995/1000\n",
      "24/24 [==============================] - 1s 48ms/step - loss: 0.0018 - accuracy: 0.9997 - val_loss: 1.6563 - val_accuracy: 0.7369\n",
      "Epoch 996/1000\n",
      "24/24 [==============================] - 1s 45ms/step - loss: 0.0012 - accuracy: 0.9997 - val_loss: 1.6514 - val_accuracy: 0.7365\n",
      "Epoch 997/1000\n",
      "24/24 [==============================] - 2s 82ms/step - loss: 0.0015 - accuracy: 0.9998 - val_loss: 1.6536 - val_accuracy: 0.7386\n",
      "Epoch 998/1000\n",
      "24/24 [==============================] - 1s 45ms/step - loss: 0.0017 - accuracy: 0.9997 - val_loss: 1.6496 - val_accuracy: 0.7393\n",
      "Epoch 999/1000\n",
      "24/24 [==============================] - 1s 45ms/step - loss: 0.0015 - accuracy: 0.9995 - val_loss: 1.6468 - val_accuracy: 0.7376\n",
      "Epoch 1000/1000\n",
      "24/24 [==============================] - 1s 44ms/step - loss: 0.0025 - accuracy: 0.9993 - val_loss: 1.6604 - val_accuracy: 0.7404\n"
     ]
    }
   ],
   "source": [
    "set_seed(CFG['seed1'])\n",
    "w_intializer1 = tf.keras.initializers.RandomNormal(mean=0, stddev=1)\n",
    "bias_initializer1 = tf.keras.initializers.Constant(0.1)\n",
    "model1 = create_fully_model(params=params,W=w_intializer1,B=bias_initializer1)\n",
    "history1 = model1.fit(X_train, y_train,\n",
    "                batch_size=params[\"batch_size\"],\n",
    "                epochs=params[\"epochs\"],\n",
    "                verbose=1,\n",
    "                shuffle=True,\n",
    "                validation_data=(X_test, y_test),\n",
    "                callbacks=[LogEpochIntermediateCallcack(layer_name_list=layer_name_list,CFG=CFG,X_train=X_train,\n",
    "                                                        path=f\"../Test/Test_output/spinA_{CFG['data_name']}_ini{CFG['ini_type']}_M{CFG['M']}_L{CFG['L']}_seed{CFG['seed1']}.pkl\")]\n",
    "                )"
   ]
  },
  {
   "cell_type": "code",
   "execution_count": 30,
   "metadata": {},
   "outputs": [],
   "source": [
    "if CFG['ini_type'] == 'A':\n",
    "            print('='*15+'ini_type A'+'='*15)\n",
    "            set_seed(CFG['seed2'])\n",
    "            w_intializer2 = tf.keras.initializers.RandomNormal(mean=0, stddev=1)\n",
    "            bias_initializer2 = tf.keras.initializers.Constant(0.1)\n",
    "elif CFG['ini_type'] == 'B':\n",
    "    print('='*15+'ini type B'+'='*15)\n",
    "    w_intializer2 = w_intializer1\n",
    "    bias_initializer2 = bias_initializer1\n",
    "    set_seed(CFG['seed3'])\n",
    "\n",
    "model2 = create_fully_model(params=params,W=w_intializer2,B=bias_initializer2)    \n",
    "history2 = model2.fit(X_train, y_train,\n",
    "        batch_size=params[\"batch_size\"],\n",
    "        epochs=params[\"epochs\"],\n",
    "        verbose=1,\n",
    "        shuffle=True,\n",
    "        validation_data=(X_test, y_test),\n",
    "        callbacks=[LogEpochIntermediateCallcack(layer_name_list=self.layer_list,CFG=CFG,X_train=X_train,\n",
    "                                                path=f\"../Output/Spin/spinB_{CFG['data_name']}_ini{CFG['ini_type']}_M{CFG['M']}_L{CFG['L']}_seed{CFG['seed2']}.pkl\")]\n",
    "        )"
   ]
  },
  {
   "cell_type": "code",
   "execution_count": 32,
   "metadata": {},
   "outputs": [],
   "source": [
    "loss1 = joblib.load('../Output/Loss/model001_iniA_M6000_L10_seed820.pkl')"
   ]
  },
  {
   "cell_type": "code",
   "execution_count": null,
   "metadata": {},
   "outputs": [],
   "source": []
  }
 ],
 "metadata": {
  "kernelspec": {
   "display_name": "ms-env",
   "language": "python",
   "name": "python3"
  },
  "language_info": {
   "codemirror_mode": {
    "name": "ipython",
    "version": 3
   },
   "file_extension": ".py",
   "mimetype": "text/x-python",
   "name": "python",
   "nbconvert_exporter": "python",
   "pygments_lexer": "ipython3",
   "version": "3.8.16"
  }
 },
 "nbformat": 4,
 "nbformat_minor": 2
}
