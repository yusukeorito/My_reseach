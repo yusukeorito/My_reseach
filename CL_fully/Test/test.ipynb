{
 "cells": [
  {
   "cell_type": "markdown",
   "metadata": {},
   "source": [
    "## 関数テスト用のnotebook"
   ]
  },
  {
   "cell_type": "code",
   "execution_count": 1,
   "metadata": {},
   "outputs": [],
   "source": [
    "#データの読み込みから実行まで全てを実行するくRunnerクラスを定義する\n",
    "from typing import Any, Dict, Tuple, Union\n",
    "import sys\n",
    "import numpy as np\n",
    "import joblib\n",
    "from sklearn.decomposition import PCA\n",
    "from sklearn.preprocessing import StandardScaler\n",
    "\n",
    "import tensorflow as tf\n",
    "from tensorflow.keras.models import Sequential\n",
    "from tensorflow.keras.optimizers import SGD, Adam\n",
    "from tensorflow.keras.callbacks import Callback,ModelCheckpoint\n",
    "from tensorflow.keras.layers import Dense,BatchNormalization,Activation\n",
    "from tensorflow.keras.activations import relu\n",
    "\n",
    "sys.path.append('../../')\n",
    "from Utils.utils import *\n",
    "from Utils.get_q import *\n",
    "\n",
    "layer_name_list=['batch_normalization1', 'batch_normalization2', 'batch_normalization3','batch_normalization4', 'batch_normalization5',\n",
    "                  'batch_normalization6', 'batch_normalization7', 'batch_normalization8','batch_normalization9','batch_normalization10',]\n",
    "\n",
    "CFG = {\n",
    "  'N': 100,\n",
    "  'M': 6000,\n",
    "  'L': 10,\n",
    "  'ini_type' : 'A',\n",
    "  'data_name': 'MNIST',\n",
    "  'C' :10,\n",
    "\n",
    "\n",
    "  'data_seed': 4244, #データのサンプリングを固定するためのseed\n",
    "  'seed1' : 820,\n",
    "  'seed2' : 314,\n",
    "  'seed3' : 1228,\n",
    "}\n",
    "\n",
    "\n",
    "def preprocessing(X_train, X_test,y_train, y_test) -> np.ndarray:  \n",
    "        X_train = X_train.reshape(X_train.shape[0], -1)\n",
    "        X_test = X_test.reshape(X_test.shape[0], -1)\n",
    "\n",
    "        X_train = X_train / 255\n",
    "        X_test = X_test / 255\n",
    "        # Use 32-bit instead of 64-bit float\n",
    "        X_train = X_train.astype(\"float32\")\n",
    "        X_test = X_test.astype(\"float32\")\n",
    "        \n",
    "        idx = np.random.choice(X_train.shape[0], size=6000)\n",
    "        X_train = X_train[idx]\n",
    "        y_train = y_train[idx]\n",
    "        \n",
    "        X_train_out = X_train\n",
    "        X_test_out = X_test\n",
    "        y_train_out = y_train\n",
    "        y_test_out = y_test\n",
    "    \n",
    "        return X_train_out, y_train_out, X_test_out, y_test_out\n",
    "\n",
    "\n",
    "def PCA_SS(input_train,input_test):\n",
    "        # Make an instance of the Model\n",
    "        pca = PCA(n_components=CFG['N'])\n",
    "        scaler = StandardScaler()\n",
    "\n",
    "        train_img = pca.fit_transform(input_train)\n",
    "        train_img =scaler.fit_transform(train_img)\n",
    "        \n",
    "        test_img = pca.transform(input_test)\n",
    "        test_img =scaler.transform(test_img)\n",
    "        return train_img, test_img, pca, scaler\n",
    "\n",
    "params= {\n",
    "  'N': 100,\n",
    "  'num_classes':10,\n",
    "  'num_layers':10,\n",
    "  'activation':'relu',\n",
    "  'activation_last':'softmax',\n",
    "  'learning_rate': 0.1,\n",
    "  'loss': 'sparse_categorical_crossentropy',\n",
    "  'metric': 'accuracy',\n",
    "  'random_seed': 777,\n",
    "  'bias_initializer': tf.keras.initializers.Constant(0.1),\n",
    "  'optimizer':'adam',\n",
    "  'epochs':5,\n",
    "  'batch_size':256\n",
    "}"
   ]
  },
  {
   "cell_type": "code",
   "execution_count": 2,
   "metadata": {},
   "outputs": [
    {
     "name": "stdout",
     "output_type": "stream",
     "text": [
      "===============Preprocess data===============\n",
      "Train size: (6000, 784) Test size: (6000,)\n",
      "Train size: (6000, 100) Test size: (6000,)\n"
     ]
    }
   ],
   "source": [
    "set_seed(CFG['data_seed'])\n",
    "mnist = tf.keras.datasets.mnist\n",
    "(X_train, y_train),(X_test, y_test) = mnist.load_data()\n",
    "print('='*15+'Preprocess data'+'='*15)\n",
    "X_train, y_train, X_test, y_test = preprocessing(X_train, X_test,y_train, y_test)\n",
    "print('Train size:',X_train.shape, 'Test size:', y_train.shape)\n",
    "X_train, X_test, pca1, scaler1 = PCA_SS(X_train, X_test)\n",
    "print('Train size:',X_train.shape, 'Test size:', y_train.shape)"
   ]
  },
  {
   "cell_type": "code",
   "execution_count": 3,
   "metadata": {},
   "outputs": [
    {
     "name": "stdout",
     "output_type": "stream",
     "text": [
      "Metal device set to: Apple M1\n",
      "\n",
      "systemMemory: 16.00 GB\n",
      "maxCacheSize: 5.33 GB\n",
      "\n"
     ]
    },
    {
     "name": "stderr",
     "output_type": "stream",
     "text": [
      "2024-01-04 20:13:15.806145: I tensorflow/core/common_runtime/pluggable_device/pluggable_device_factory.cc:305] Could not identify NUMA node of platform GPU ID 0, defaulting to 0. Your kernel may not have been built with NUMA support.\n",
      "2024-01-04 20:13:15.806335: I tensorflow/core/common_runtime/pluggable_device/pluggable_device_factory.cc:271] Created TensorFlow device (/job:localhost/replica:0/task:0/device:GPU:0 with 0 MB memory) -> physical PluggableDevice (device: 0, name: METAL, pci bus id: <undefined>)\n"
     ]
    },
    {
     "name": "stdout",
     "output_type": "stream",
     "text": [
      "109/188 [================>.............] - ETA: 0s"
     ]
    },
    {
     "name": "stderr",
     "output_type": "stream",
     "text": [
      "2024-01-04 20:13:16.091406: W tensorflow/core/platform/profile_utils/cpu_utils.cc:128] Failed to get CPU frequency: 0 Hz\n",
      "2024-01-04 20:13:16.136499: I tensorflow/core/grappler/optimizers/custom_graph_optimizer_registry.cc:113] Plugin optimizer for device_type GPU is enabled.\n"
     ]
    },
    {
     "name": "stdout",
     "output_type": "stream",
     "text": [
      "188/188 [==============================] - 0s 991us/step\n",
      "122/188 [==================>...........] - ETA: 0s"
     ]
    },
    {
     "name": "stderr",
     "output_type": "stream",
     "text": [
      "2024-01-04 20:13:16.431239: I tensorflow/core/grappler/optimizers/custom_graph_optimizer_registry.cc:113] Plugin optimizer for device_type GPU is enabled.\n"
     ]
    },
    {
     "name": "stdout",
     "output_type": "stream",
     "text": [
      "188/188 [==============================] - 0s 1ms/step\n",
      " 59/188 [========>.....................] - ETA: 0s"
     ]
    },
    {
     "name": "stderr",
     "output_type": "stream",
     "text": [
      "2024-01-04 20:13:16.824794: I tensorflow/core/grappler/optimizers/custom_graph_optimizer_registry.cc:113] Plugin optimizer for device_type GPU is enabled.\n"
     ]
    },
    {
     "name": "stdout",
     "output_type": "stream",
     "text": [
      "188/188 [==============================] - 0s 2ms/step\n",
      " 48/188 [======>.......................] - ETA: 0s"
     ]
    },
    {
     "name": "stderr",
     "output_type": "stream",
     "text": [
      "2024-01-04 20:13:17.313353: I tensorflow/core/grappler/optimizers/custom_graph_optimizer_registry.cc:113] Plugin optimizer for device_type GPU is enabled.\n"
     ]
    },
    {
     "name": "stdout",
     "output_type": "stream",
     "text": [
      "188/188 [==============================] - 1s 3ms/step\n",
      " 20/188 [==>...........................] - ETA: 0s "
     ]
    },
    {
     "name": "stderr",
     "output_type": "stream",
     "text": [
      "2024-01-04 20:13:17.980060: I tensorflow/core/grappler/optimizers/custom_graph_optimizer_registry.cc:113] Plugin optimizer for device_type GPU is enabled.\n"
     ]
    },
    {
     "name": "stdout",
     "output_type": "stream",
     "text": [
      "188/188 [==============================] - 1s 3ms/step\n",
      " 16/188 [=>............................] - ETA: 0s "
     ]
    },
    {
     "name": "stderr",
     "output_type": "stream",
     "text": [
      "2024-01-04 20:13:18.725935: I tensorflow/core/grappler/optimizers/custom_graph_optimizer_registry.cc:113] Plugin optimizer for device_type GPU is enabled.\n"
     ]
    },
    {
     "name": "stdout",
     "output_type": "stream",
     "text": [
      "188/188 [==============================] - 1s 4ms/step\n",
      "  1/188 [..............................] - ETA: 40s"
     ]
    },
    {
     "name": "stderr",
     "output_type": "stream",
     "text": [
      "2024-01-04 20:13:19.628032: I tensorflow/core/grappler/optimizers/custom_graph_optimizer_registry.cc:113] Plugin optimizer for device_type GPU is enabled.\n"
     ]
    },
    {
     "name": "stdout",
     "output_type": "stream",
     "text": [
      "188/188 [==============================] - 1s 4ms/step\n",
      "  1/188 [..............................] - ETA: 40s"
     ]
    },
    {
     "name": "stderr",
     "output_type": "stream",
     "text": [
      "2024-01-04 20:13:20.648169: I tensorflow/core/grappler/optimizers/custom_graph_optimizer_registry.cc:113] Plugin optimizer for device_type GPU is enabled.\n"
     ]
    },
    {
     "name": "stdout",
     "output_type": "stream",
     "text": [
      " 64/188 [=========>....................] - ETA: 0s"
     ]
    }
   ],
   "source": [
    "set_seed(CFG['seed1'])\n",
    "w_intializer1 = tf.keras.initializers.RandomNormal(mean=0, stddev=1)\n",
    "bias_initializer1 = tf.keras.initializers.Constant(0.1)\n",
    "model1 = create_fully_model(params=params,W=w_intializer1,B=bias_initializer1)\n",
    "history1 = model1.fit(X_train, y_train,\n",
    "                batch_size=params[\"batch_size\"],\n",
    "                epochs=params[\"epochs\"],\n",
    "                verbose=1,\n",
    "                shuffle=True,\n",
    "                validation_data=(X_test, y_test),\n",
    "                callbacks=[LogEpochIntermediateCallcack(layer_name_list=layer_name_list,CFG=CFG,X_train=X_train,\n",
    "                                                        path=f\"../Test/Test_output/spinA_{CFG['data_name']}_ini{CFG['ini_type']}_M{CFG['M']}_L{CFG['L']}_seed{CFG['seed1']}.pkl\")]\n",
    "                )"
   ]
  },
  {
   "cell_type": "code",
   "execution_count": 30,
   "metadata": {},
   "outputs": [],
   "source": [
    "if CFG['ini_type'] == 'A':\n",
    "            print('='*15+'ini_type A'+'='*15)\n",
    "            set_seed(CFG['seed2'])\n",
    "            w_intializer2 = tf.keras.initializers.RandomNormal(mean=0, stddev=1)\n",
    "            bias_initializer2 = tf.keras.initializers.Constant(0.1)\n",
    "elif CFG['ini_type'] == 'B':\n",
    "    print('='*15+'ini type B'+'='*15)\n",
    "    w_intializer2 = w_intializer1\n",
    "    bias_initializer2 = bias_initializer1\n",
    "    set_seed(CFG['seed3'])\n",
    "\n",
    "model2 = create_fully_model(params=params,W=w_intializer2,B=bias_initializer2)    \n",
    "history2 = model2.fit(X_train, y_train,\n",
    "        batch_size=params[\"batch_size\"],\n",
    "        epochs=params[\"epochs\"],\n",
    "        verbose=1,\n",
    "        shuffle=True,\n",
    "        validation_data=(X_test, y_test),\n",
    "        callbacks=[LogEpochIntermediateCallcack(layer_name_list=self.layer_list,CFG=CFG,X_train=X_train,\n",
    "                                                path=f\"../Output/Spin/spinB_{CFG['data_name']}_ini{CFG['ini_type']}_M{CFG['M']}_L{CFG['L']}_seed{CFG['seed2']}.pkl\")]\n",
    "        )"
   ]
  },
  {
   "cell_type": "code",
   "execution_count": 32,
   "metadata": {},
   "outputs": [],
   "source": [
    "loss1 = joblib.load('../Output/Loss/model001_iniA_M6000_L10_seed820.pkl')"
   ]
  },
  {
   "cell_type": "markdown",
   "metadata": {},
   "source": [
    "## Maskのテスト"
   ]
  },
  {
   "cell_type": "code",
   "execution_count": 14,
   "metadata": {},
   "outputs": [],
   "source": [
    "import tensorflow as tf\n",
    "def create_sparse_model(params:dict, W, B, Mask_list,Const_list):\n",
    "    model=Sequential(name='sparse_connect_model')\n",
    "    model.add(Dense(params['N'], kernel_initializer=W,bias_initializer=B,input_shape=(params['N'],), name='Affine1',kernel_constraint=CustomConstraint(mask=Mask_list[0],const=Const_list[0])))\n",
    "    model.add(BatchNormalization(name='batch_normalization1'))\n",
    "    model.add(Activation('relu', name='activation1'))\n",
    "    for i in range(1, params['num_layers']-1):\n",
    "        model.add(Dense(params['N'], kernel_initializer=W,bias_initializer=B,name=f'Affine{i+1}',kernel_constraint=CustomConstraint(mask=Mask_list[i],const=Const_list[i])))\n",
    "        model.add(BatchNormalization(name=f'batch_normalization{i+1}'))\n",
    "        model.add(Activation(params['activation'],name=f'activation{i+1}'))\n",
    "        \n",
    "    model.add(Dense(params['num_classes'],kernel_initializer=W,bias_initializer=B,name='output',kernel_constraint=CustomConstraint(mask=Mask_list[params[\"num_layers\"]-1],const=Const_list[params[\"num_layers\"]-1])))\n",
    "    model.add(BatchNormalization(name=f'batch_normalization{params[\"num_layers\"]}'))\n",
    "    model.add(Activation('softmax', name=f'activation{params[\"num_layers\"]}'))\n",
    "    model.compile(loss=params['loss'], optimizer=params['optimizer'],metrics=[params['metric']])\n",
    "    return model\n",
    "\n",
    "\n",
    "\n",
    "def create_dense_coupling_model(params:dict, W, B, Mask_list,Const_list):\n",
    "    model=Sequential(name='sparse_connect_model')\n",
    "    model.add(Dense(params['N'], kernel_initializer=W,bias_initializer=B,input_shape=(params['N'],), name='Affine1',kernel_constraint=DenseCoupleConstraint(mask=Mask_list[0])))\n",
    "    model.add(BatchNormalization(name='batch_normalization1'))\n",
    "    model.add(Activation('relu', name='activation1'))\n",
    "    for i in range(1, params['num_layers']-1):\n",
    "        model.add(Dense(params['N'], kernel_initializer=W,bias_initializer=B,name=f'Affine{i+1}',kernel_constraint=DenseCoupleConstraint(mask=Mask_list[i])))\n",
    "        model.add(BatchNormalization(name=f'batch_normalization{i+1}'))\n",
    "        model.add(Activation(params['activation'],name=f'activation{i+1}'))\n",
    "        \n",
    "    model.add(Dense(params['num_classes'],kernel_initializer=W,bias_initializer=B,name='output',kernel_constraint=DenseCoupleConstraint(mask=Mask_list[params[\"num_layers\"]-1])))\n",
    "    model.add(BatchNormalization(name=f'batch_normalization{params[\"num_layers\"]}'))\n",
    "    model.add(Activation('softmax', name=f'activation{params[\"num_layers\"]}'))\n",
    "    model.compile(loss=params['loss'], optimizer=params['optimizer'],metrics=[params['metric']])\n",
    "    return model\n",
    "\n",
    "class CustomConstraint(tf.keras.constraints.Constraint):\n",
    "    def __init__(self, mask, const):\n",
    "        self.mask = mask\n",
    "        self.const = const\n",
    "\n",
    "    def __call__(self, w):\n",
    "        # マスク行列を使用して、指定された部分を0で固定する\n",
    "        w.assign(tf.math.multiply(w, self.mask) + self.const)\n",
    "        return w\n",
    "    \n",
    "class DenseCoupleConstraint(tf.keras.constraints.Constraint):\n",
    "    def __init__(self, mask):\n",
    "        self.mask = mask\n",
    "\n",
    "    def __call__(self, w):\n",
    "        # マスク行列を使用して、指定された部分を0で固定する\n",
    "        w.assign(tf.math.multiply(w, self.mask))\n",
    "        return w \n",
    "    \n",
    "# Weight可視化用のcalback\n",
    "class Layer1WeightsCallback(tf.keras.callbacks.Callback):\n",
    "    def on_epoch_end(self, epoch, logs=None):\n",
    "        layer1_weights = self.model.layers[0].get_weights()[0][:,1]\n",
    "        print(f\"Epoch {epoch + 1} - Layer 1 Weights:\")\n",
    "        print(layer1_weights)\n",
    "\n",
    "def get_mask(shape, C, dtype=int):\n",
    "    masks = np.zeros(shape)\n",
    "    consts = np.random.normal(size=shape)\n",
    "    for col in range(shape[1]):\n",
    "        non_zero_indices = np.random.choice(shape[0], C, replace=False)\n",
    "        masks[non_zero_indices, col] = 1\n",
    "        consts[non_zero_indices, col] = 0\n",
    "    masks = tf.constant(masks, dtype=tf.float32)\n",
    "    consts = tf.constant(consts, dtype=tf.float32)\n",
    "    return masks, consts\n",
    "\n",
    "\n",
    "\n",
    "def get_const(shape, G, dtype=int):\n",
    "    \"\"\"\n",
    "    G:値が固定された結合の数\n",
    "    \"\"\"\n",
    "    masks = np.zeros(shape)\n",
    "    #consts = np.random.normal(size=shape)\n",
    "    consts = np.ones(shape)\n",
    "    for col in range(shape[1]):\n",
    "        non_zero_indices = np.random.choice(shape[0], 100-G, replace=False)\n",
    "        masks[non_zero_indices, col] = 1\n",
    "        consts[non_zero_indices, col] = 0\n",
    "    masks = tf.constant(masks, dtype=tf.float32)\n",
    "    consts = tf.constant(consts, dtype=tf.float32)\n",
    "    return masks, consts\n"
   ]
  },
  {
   "cell_type": "markdown",
   "metadata": {},
   "source": [
    "### 結合を切断したネットワーク(Dense coupling)"
   ]
  },
  {
   "cell_type": "code",
   "execution_count": 12,
   "metadata": {},
   "outputs": [
    {
     "name": "stdout",
     "output_type": "stream",
     "text": [
      "Epoch 1/5\n"
     ]
    },
    {
     "name": "stderr",
     "output_type": "stream",
     "text": [
      "2024-01-04 20:58:43.000175: I tensorflow/core/grappler/optimizers/custom_graph_optimizer_registry.cc:113] Plugin optimizer for device_type GPU is enabled.\n"
     ]
    },
    {
     "name": "stdout",
     "output_type": "stream",
     "text": [
      "24/24 [==============================] - ETA: 0s - loss: 2.6887 - accuracy: 0.0962"
     ]
    },
    {
     "name": "stderr",
     "output_type": "stream",
     "text": [
      "2024-01-04 20:58:46.578936: I tensorflow/core/grappler/optimizers/custom_graph_optimizer_registry.cc:113] Plugin optimizer for device_type GPU is enabled.\n"
     ]
    },
    {
     "name": "stdout",
     "output_type": "stream",
     "text": [
      "Epoch 1 - Layer 1 Weights:\n",
      "[ 0.          0.73604816  0.          0.          0.         -0.66310406\n",
      " -0.          0.          0.         -0.         -0.         -0.\n",
      " -0.          0.          0.         -0.         -0.         -0.\n",
      "  0.         -0.          0.         -0.          0.          0.\n",
      " -0.          0.          0.          0.         -0.         -0.\n",
      " -0.          0.         -0.          0.          3.5269356  -0.\n",
      " -0.         -0.          0.         -0.         -0.         -0.\n",
      " -0.          0.          0.         -0.          0.         -0.\n",
      "  0.         -0.          0.         -0.          0.         -1.1498586\n",
      "  0.         -0.         -0.          0.7824707   0.         -0.\n",
      "  0.         -0.         -0.         -0.          0.         -0.10947092\n",
      " -0.          0.         -0.          0.09348246  0.          0.\n",
      "  0.         -0.          0.         -0.         -0.         -0.\n",
      "  0.         -0.40903792  1.1775571  -0.          0.          0.\n",
      "  0.          0.         -0.         -0.          0.          0.\n",
      "  0.         -0.17965652  0.          0.         -0.          0.\n",
      "  0.         -0.          0.         -0.        ]\n",
      "24/24 [==============================] - 6s 116ms/step - loss: 2.6887 - accuracy: 0.0962 - val_loss: 95.1216 - val_accuracy: 0.1034\n",
      "Epoch 2/5\n",
      "24/24 [==============================] - ETA: 0s - loss: 2.5588 - accuracy: 0.1142Epoch 2 - Layer 1 Weights:\n",
      "[ 0.          0.7275517  -0.          0.          0.         -0.66413146\n",
      "  0.          0.         -0.         -0.         -0.         -0.\n",
      "  0.          0.         -0.         -0.         -0.          0.\n",
      "  0.         -0.         -0.         -0.          0.         -0.\n",
      " -0.          0.          0.         -0.          0.          0.\n",
      "  0.          0.         -0.          0.          3.5321925  -0.\n",
      "  0.         -0.         -0.         -0.         -0.         -0.\n",
      " -0.         -0.         -0.         -0.          0.          0.\n",
      "  0.          0.          0.          0.          0.         -1.1421789\n",
      "  0.          0.         -0.          0.7796876  -0.         -0.\n",
      "  0.         -0.          0.          0.          0.         -0.11253136\n",
      " -0.          0.         -0.          0.09206153  0.          0.\n",
      "  0.         -0.         -0.          0.         -0.         -0.\n",
      "  0.         -0.41242564  1.1829607   0.          0.         -0.\n",
      " -0.          0.         -0.          0.         -0.          0.\n",
      "  0.         -0.17790702  0.          0.          0.          0.\n",
      "  0.          0.          0.          0.        ]\n",
      "24/24 [==============================] - 1s 52ms/step - loss: 2.5588 - accuracy: 0.1142 - val_loss: 28.6945 - val_accuracy: 0.1058\n",
      "Epoch 3/5\n",
      "24/24 [==============================] - ETA: 0s - loss: 2.4392 - accuracy: 0.1403Epoch 3 - Layer 1 Weights:\n",
      "[ 0.          0.7242463  -0.         -0.          0.         -0.66309965\n",
      " -0.          0.          0.         -0.         -0.         -0.\n",
      " -0.          0.          0.         -0.          0.          0.\n",
      " -0.          0.         -0.          0.          0.         -0.\n",
      " -0.          0.          0.         -0.         -0.         -0.\n",
      "  0.          0.         -0.          0.          3.5380864  -0.\n",
      "  0.         -0.          0.          0.         -0.         -0.\n",
      " -0.          0.         -0.         -0.          0.          0.\n",
      "  0.          0.          0.          0.          0.         -1.1335319\n",
      "  0.         -0.          0.          0.7823976  -0.         -0.\n",
      "  0.          0.          0.         -0.         -0.         -0.10798635\n",
      " -0.          0.         -0.          0.09301887 -0.          0.\n",
      "  0.         -0.         -0.          0.         -0.          0.\n",
      " -0.         -0.410146    1.1838398   0.          0.         -0.\n",
      "  0.         -0.         -0.          0.         -0.          0.\n",
      "  0.         -0.18614376 -0.          0.          0.          0.\n",
      " -0.         -0.          0.         -0.        ]\n",
      "24/24 [==============================] - 1s 51ms/step - loss: 2.4392 - accuracy: 0.1403 - val_loss: 12.6056 - val_accuracy: 0.1195\n",
      "Epoch 4/5\n",
      "24/24 [==============================] - ETA: 0s - loss: 2.3423 - accuracy: 0.1650Epoch 4 - Layer 1 Weights:\n",
      "[ 0.          0.7176416   0.         -0.         -0.         -0.6573615\n",
      "  0.          0.         -0.         -0.         -0.          0.\n",
      " -0.          0.          0.         -0.          0.          0.\n",
      " -0.         -0.          0.          0.          0.         -0.\n",
      " -0.          0.          0.         -0.          0.          0.\n",
      "  0.          0.         -0.          0.          3.548687   -0.\n",
      " -0.         -0.         -0.         -0.         -0.         -0.\n",
      "  0.          0.          0.          0.         -0.          0.\n",
      "  0.         -0.          0.         -0.          0.         -1.1285017\n",
      "  0.         -0.          0.          0.7836722  -0.         -0.\n",
      "  0.          0.          0.         -0.          0.         -0.10286149\n",
      " -0.          0.         -0.          0.09517217  0.          0.\n",
      "  0.         -0.         -0.          0.         -0.         -0.\n",
      "  0.         -0.40979615  1.1794521  -0.         -0.          0.\n",
      "  0.         -0.         -0.         -0.         -0.         -0.\n",
      "  0.         -0.19053061  0.          0.          0.         -0.\n",
      "  0.         -0.          0.          0.        ]\n",
      "24/24 [==============================] - 1s 52ms/step - loss: 2.3423 - accuracy: 0.1650 - val_loss: 6.9034 - val_accuracy: 0.1372\n",
      "Epoch 5/5\n",
      "24/24 [==============================] - ETA: 0s - loss: 2.2620 - accuracy: 0.1928Epoch 5 - Layer 1 Weights:\n",
      "[ 0.          0.71621734 -0.          0.          0.         -0.65828305\n",
      "  0.          0.         -0.         -0.          0.         -0.\n",
      " -0.          0.          0.          0.         -0.         -0.\n",
      "  0.         -0.          0.          0.          0.         -0.\n",
      " -0.         -0.          0.         -0.         -0.         -0.\n",
      "  0.         -0.         -0.         -0.          3.5530264  -0.\n",
      " -0.          0.          0.         -0.         -0.         -0.\n",
      "  0.          0.          0.          0.         -0.         -0.\n",
      " -0.         -0.          0.         -0.          0.         -1.1206945\n",
      "  0.         -0.          0.          0.7846873  -0.          0.\n",
      "  0.          0.         -0.          0.         -0.         -0.10539164\n",
      " -0.         -0.          0.          0.09873596  0.         -0.\n",
      "  0.         -0.         -0.          0.         -0.          0.\n",
      "  0.         -0.41205785  1.1787456   0.          0.          0.\n",
      "  0.         -0.         -0.         -0.         -0.          0.\n",
      "  0.         -0.19522983 -0.          0.         -0.         -0.\n",
      "  0.         -0.          0.         -0.        ]\n",
      "24/24 [==============================] - 1s 51ms/step - loss: 2.2620 - accuracy: 0.1928 - val_loss: 4.4951 - val_accuracy: 0.1539\n"
     ]
    }
   ],
   "source": [
    "mask_list = []\n",
    "const_list = []\n",
    "for i in range(CFG['L']-1):\n",
    "    mask,const = get_mask(shape=(100,100),C=10)\n",
    "    mask_list.append(mask)\n",
    "    const_list.append(const)\n",
    "            \n",
    "mask, const = get_mask(shape=(100,10),C=10)\n",
    "mask_list.append(mask)\n",
    "const_list.append(const)\n",
    "    \n",
    "set_seed(seed=2023)\n",
    "w_intializer1 = tf.keras.initializers.RandomNormal(mean=0, stddev=1)\n",
    "bias_initializer1 = tf.keras.initializers.Constant(0.1)\n",
    "model1 = create_dense_coupling_model(params=params,W=w_intializer1,B=bias_initializer1,Mask_list=mask_list,Const_list=const_list)\n",
    "# モデルの学習にコールバックを適用する\n",
    "callbacks = [Layer1WeightsCallback()]\n",
    "\n",
    "# モデルの学習\n",
    "history1 = model1.fit(X_train, y_train,\n",
    "                      batch_size=params[\"batch_size\"],\n",
    "                      epochs=params[\"epochs\"],\n",
    "                      verbose=1,\n",
    "                      shuffle=True,\n",
    "                      validation_data=(X_test, y_test),\n",
    "                      callbacks=callbacks)  # コール"
   ]
  },
  {
   "cell_type": "markdown",
   "metadata": {},
   "source": [
    "### 結合の値を定数で固定したネットワーク"
   ]
  },
  {
   "cell_type": "code",
   "execution_count": 15,
   "metadata": {},
   "outputs": [
    {
     "name": "stdout",
     "output_type": "stream",
     "text": [
      "Epoch 1/5\n"
     ]
    },
    {
     "name": "stderr",
     "output_type": "stream",
     "text": [
      "2024-01-04 21:00:31.886798: I tensorflow/core/grappler/optimizers/custom_graph_optimizer_registry.cc:113] Plugin optimizer for device_type GPU is enabled.\n"
     ]
    },
    {
     "name": "stdout",
     "output_type": "stream",
     "text": [
      "24/24 [==============================] - ETA: 0s - loss: 2.3162 - accuracy: 0.1195"
     ]
    },
    {
     "name": "stderr",
     "output_type": "stream",
     "text": [
      "2024-01-04 21:00:35.995740: I tensorflow/core/grappler/optimizers/custom_graph_optimizer_registry.cc:113] Plugin optimizer for device_type GPU is enabled.\n"
     ]
    },
    {
     "name": "stdout",
     "output_type": "stream",
     "text": [
      "Epoch 1 - Layer 1 Weights:\n",
      "[ 1.          1.         -0.5375939   1.6434128  -0.02116001  1.\n",
      "  1.         -0.65865207  2.7686167  -0.76809657  1.12623    -0.09483519\n",
      "  1.         -0.76976234  0.2204066   1.         -0.6050223   1.7445585\n",
      "  1.          1.          1.          0.44414982  0.28459975  0.76946557\n",
      "  0.01584099 -0.05745828 -1.1750039   1.         -1.3129959   0.51507413\n",
      " -0.53240407  0.8213414   0.79644173  0.14277817  3.5221689   0.58482116\n",
      " -0.6801129   1.          1.371349    1.          1.3787649  -0.22322291\n",
      "  1.         -0.99948496  1.         -0.6266995   0.9669731   1.\n",
      "  0.35833704 -1.1806353   0.56520146  0.2931701  -0.24738201 -1.161876\n",
      "  2.0493717   2.6579537   1.          1.          0.02643626 -0.46119818\n",
      "  0.67494285 -0.2333037   1.          0.95016485 -0.19801186 -0.11356721\n",
      "  0.4095694   1.          1.27351     0.10264956  1.         -1.7119399\n",
      "  1.         -1.5069758   1.          1.          0.6408424   1.\n",
      " -2.4000497   1.          1.1746814  -1.3074291   1.3593946   0.65525097\n",
      " -0.32858163 -1.3053963  -1.9979928  -0.6485752  -1.2142371  -1.5955509\n",
      "  0.0792339   1.         -1.2047484  -0.3443233   1.          1.\n",
      " -0.45664543  1.          1.         -0.8400157 ]\n",
      "24/24 [==============================] - 6s 151ms/step - loss: 2.3162 - accuracy: 0.1195 - val_loss: 288.0925 - val_accuracy: 0.0974\n",
      "Epoch 2/5\n",
      "24/24 [==============================] - ETA: 0s - loss: 2.2985 - accuracy: 0.1345Epoch 2 - Layer 1 Weights:\n",
      "[ 1.          1.         -0.5369083   1.6439048  -0.02041142  1.\n",
      "  1.         -0.65909517  2.7685668  -0.7683722   1.1257962  -0.09392071\n",
      "  1.         -0.7694517   0.21989998  1.         -0.60419387  1.7441895\n",
      "  1.          1.          1.          0.4448096   0.28419855  0.76901215\n",
      "  0.01550905 -0.0570748  -1.1753645   1.         -1.3124305   0.515068\n",
      " -0.5332435   0.821703    0.796094    0.14229225  3.5224009   0.584339\n",
      " -0.67970115  1.          1.3711549   1.          1.3813745  -0.22274923\n",
      "  1.         -0.99908525  1.         -0.6282638   0.96656036  1.\n",
      "  0.35791352 -1.1810808   0.5655856   0.29268748 -0.24773017 -1.1622013\n",
      "  2.049743    2.6574793   1.          1.          0.02603835 -0.46166104\n",
      "  0.6736955  -0.23713808  1.          0.9496213  -0.19860078 -0.11394431\n",
      "  0.40905195  1.          1.2739385   0.10300574  1.         -1.7125084\n",
      "  1.         -1.5066506   1.          1.          0.6414368   1.\n",
      " -2.3995013   1.          1.1738206  -1.3066548   1.359532    0.65544754\n",
      " -0.32887486 -1.305145   -1.9983798  -0.6482771  -1.2138245  -1.5959147\n",
      "  0.07918417  1.         -1.2042987  -0.34491116  1.          1.\n",
      " -0.45700628  1.          1.         -0.8404707 ]\n",
      "24/24 [==============================] - 1s 53ms/step - loss: 2.2985 - accuracy: 0.1345 - val_loss: 25.2039 - val_accuracy: 0.0988\n",
      "Epoch 3/5\n",
      "24/24 [==============================] - ETA: 0s - loss: 2.2959 - accuracy: 0.1340Epoch 3 - Layer 1 Weights:\n",
      "[ 1.          1.         -0.5359977   1.6441941  -0.019224    1.\n",
      "  1.         -0.6615557   2.7670937  -0.76825976  1.1252788  -0.09348163\n",
      "  1.         -0.76952636  0.2198279   1.         -0.6033528   1.7442483\n",
      "  1.          1.          1.          0.44352764  0.28405085  0.7689286\n",
      "  0.01571841 -0.05689078 -1.1753012   1.         -1.3123553   0.5140583\n",
      " -0.53426033  0.8216801   0.79533154  0.14245331  3.5217392   0.5839012\n",
      " -0.67968255  1.          1.371532    1.          1.3849229  -0.22265866\n",
      "  1.         -0.99914694  1.         -0.6335513   0.9663508   1.\n",
      "  0.3580602  -1.1810689   0.5651986   0.2924143  -0.2472881  -1.1616586\n",
      "  2.0501273   2.6574318   1.          1.          0.02617954 -0.46163762\n",
      "  0.6712504  -0.24520934  1.          0.9492172  -0.19927011 -0.11407397\n",
      "  0.40833932  1.          1.2737738   0.10314485  1.         -1.7131447\n",
      "  1.         -1.5066468   1.          1.          0.64164037  1.\n",
      " -2.3992891   1.          1.1733125  -1.3064227   1.3601958   0.65499103\n",
      " -0.33047387 -1.3061006  -1.9984993  -0.64795583 -1.2136511  -1.5957544\n",
      "  0.07872435  1.         -1.2041804  -0.3452771   1.          1.\n",
      " -0.45708796  1.          1.         -0.840805  ]\n",
      "24/24 [==============================] - 1s 58ms/step - loss: 2.2959 - accuracy: 0.1340 - val_loss: 6.9455 - val_accuracy: 0.1025\n",
      "Epoch 4/5\n",
      "24/24 [==============================] - ETA: 0s - loss: 2.2934 - accuracy: 0.1355Epoch 4 - Layer 1 Weights:\n",
      "[ 1.          1.         -0.5342752   1.6445316  -0.01768936  1.\n",
      "  1.         -0.66417265  2.765223   -0.76710176  1.1250633  -0.0938909\n",
      "  1.         -0.7696655   0.21970248  1.         -0.6017399   1.7444392\n",
      "  1.          1.          1.          0.43765187  0.28454706  0.7690901\n",
      "  0.0160311  -0.05663091 -1.1749473   1.         -1.3115975   0.51260835\n",
      " -0.53613895  0.8216265   0.7956679   0.14272897  3.521175    0.5835872\n",
      " -0.6796896   1.          1.3721464   1.          1.3870945  -0.2226143\n",
      "  1.         -0.9993137   1.         -0.6393296   0.9661      1.\n",
      "  0.35806817 -1.1811149   0.5648183   0.2920342  -0.24625441 -1.1614381\n",
      "  2.0481622   2.6574829   1.          1.          0.02638067 -0.4618116\n",
      "  0.66881406 -0.25992322  1.          0.948101   -0.1992862  -0.11409777\n",
      "  0.40841147  1.          1.2740556   0.1031967   1.         -1.7139452\n",
      "  1.         -1.5067375   1.          1.          0.64143527  1.\n",
      " -2.3989947   1.          1.1723105  -1.3053992   1.3599294   0.6541614\n",
      " -0.33149922 -1.3071036  -1.998868   -0.6475423  -1.2136652  -1.5951318\n",
      "  0.07768603  1.         -1.2042729  -0.34550422  1.          1.\n",
      " -0.45843714  1.          1.         -0.8412819 ]\n",
      "24/24 [==============================] - 1s 54ms/step - loss: 2.2934 - accuracy: 0.1355 - val_loss: 3.4355 - val_accuracy: 0.1213\n",
      "Epoch 5/5\n",
      "24/24 [==============================] - ETA: 0s - loss: 2.2908 - accuracy: 0.1358Epoch 5 - Layer 1 Weights:\n",
      "[ 1.          1.         -0.5315776   1.6450055  -0.01514547  1.\n",
      "  1.         -0.66570455  2.7618954  -0.7661832   1.1255356  -0.09374586\n",
      "  1.         -0.7702408   0.21899728  1.         -0.5998407   1.7447346\n",
      "  1.          1.          1.          0.43338078  0.28495225  0.76897544\n",
      "  0.01663842 -0.0565329  -1.1746324   1.         -1.3085924   0.5088302\n",
      " -0.5384186   0.8214874   0.79704285  0.14302568  3.5206382   0.5834064\n",
      " -0.679578    1.          1.3726337   1.          1.3924417  -0.22249377\n",
      "  1.         -0.99967545  1.         -0.64773357  0.96573853  1.\n",
      "  0.3579216  -1.181275    0.5640356   0.291649   -0.24596636 -1.1611115\n",
      "  2.0488012   2.6574998   1.          1.          0.02665803 -0.4622803\n",
      "  0.66278    -0.27727932  1.          0.94700533 -0.20026872 -0.11338426\n",
      "  0.4068733   1.          1.2742158   0.10317811  1.         -1.7142141\n",
      "  1.         -1.5068619   1.          1.          0.6418889   1.\n",
      " -2.3999405   1.          1.171862   -1.3031397   1.3597567   0.6531062\n",
      " -0.33185256 -1.3072317  -1.9992329  -0.6467286  -1.2138479  -1.5944536\n",
      "  0.07488876  1.         -1.2043     -0.34600753  1.          1.\n",
      " -0.4602962   1.          1.         -0.8408069 ]\n",
      "24/24 [==============================] - 1s 51ms/step - loss: 2.2908 - accuracy: 0.1358 - val_loss: 2.5858 - val_accuracy: 0.1358\n"
     ]
    }
   ],
   "source": [
    "mask_list = []\n",
    "const_list = []\n",
    "for i in range(CFG['L']-1):\n",
    "    mask,const = get_const(shape=(100,100),G=30)\n",
    "    mask_list.append(mask)\n",
    "    const_list.append(const)\n",
    "            \n",
    "mask, const = get_const(shape=(100,10),G=30)\n",
    "mask_list.append(mask)\n",
    "const_list.append(const)\n",
    "\n",
    "\n",
    "set_seed(seed=2023)\n",
    "w_intializer1 = tf.keras.initializers.RandomNormal(mean=0, stddev=1)\n",
    "bias_initializer1 = tf.keras.initializers.Constant(0.1)\n",
    "model1 = create_sparse_model(params=params,W=w_intializer1,B=bias_initializer1,Mask_list=mask_list,Const_list=const_list)\n",
    "# モデルの学習にコールバックを適用する\n",
    "callbacks = [Layer1WeightsCallback()]\n",
    "\n",
    "# モデルの学習\n",
    "history1 = model1.fit(X_train, y_train,\n",
    "                      batch_size=params[\"batch_size\"],\n",
    "                      epochs=params[\"epochs\"],\n",
    "                      verbose=1,\n",
    "                      shuffle=True,\n",
    "                      validation_data=(X_test, y_test),\n",
    "                      callbacks=callbacks)  # コール"
   ]
  },
  {
   "cell_type": "code",
   "execution_count": null,
   "metadata": {},
   "outputs": [],
   "source": []
  }
 ],
 "metadata": {
  "kernelspec": {
   "display_name": "ms-env",
   "language": "python",
   "name": "python3"
  },
  "language_info": {
   "codemirror_mode": {
    "name": "ipython",
    "version": 3
   },
   "file_extension": ".py",
   "mimetype": "text/x-python",
   "name": "python",
   "nbconvert_exporter": "python",
   "pygments_lexer": "ipython3",
   "version": "3.8.16"
  }
 },
 "nbformat": 4,
 "nbformat_minor": 2
}
