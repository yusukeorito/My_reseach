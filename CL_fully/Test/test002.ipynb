{
 "cells": [
  {
   "cell_type": "markdown",
   "metadata": {},
   "source": [
    "# Overlapの計算テスト"
   ]
  },
  {
   "cell_type": "code",
   "execution_count": 20,
   "metadata": {},
   "outputs": [],
   "source": [
    "import os \n",
    "import joblib\n",
    "import numpy as np \n",
    "import matplotlib.pyplot as plt\n",
    "from tqdm import tqdm\n",
    "#plt.style.use(\"style.mpl\")\n",
    "# LaTeXフォントを有効にするための設定\n",
    "plt.rcParams.update({\n",
    "    \"text.usetex\": True,  # LaTeXを使用する\n",
    "    \"font.family\": \"serif\",  # 使用するフォントファミリーを指定（serifやsans-serifなど）\n",
    "    \"font.serif\": [\"Times New Roman\"],  # フォントの種類を指定（LaTeXがインストールされた環境で使用可能なもの）\n",
    "    \"text.latex.preamble\": r\"\\usepackage{amsmath}\",  # LaTeXプリアンブルにパッケージを追加する（必要に応じて）\n",
    "})"
   ]
  },
  {
   "cell_type": "code",
   "execution_count": 32,
   "metadata": {},
   "outputs": [],
   "source": [
    "class CFG:\n",
    "    N= 100\n",
    "    M= 6000\n",
    "    L= 10\n",
    "    senario = 'CL_fully'\n",
    "    ini_type = \"A\"\n",
    "    data_name= \"MNIST\"\n",
    "    data_seed= 4244 #データのサンプリングを固定するためのseed\n",
    "    seed1 = 820\n",
    "    seed2 = 314\n",
    "    seed3 = 1228\n",
    "    layer_name_list= ['batch_normalization1', 'batch_normalization2', 'batch_normalization3','batch_normalization4', 'batch_normalization5',\n",
    "                  'batch_normalization6', 'batch_normalization7', 'batch_normalization8','batch_normalization9','batch_normalization10',]"
   ]
  },
  {
   "cell_type": "code",
   "execution_count": 33,
   "metadata": {},
   "outputs": [],
   "source": [
    "spinA = joblib.load(f\"../../Result/CL_fully/Spin/spinA_{CFG.data_name}_ini{CFG.ini_type}_M{CFG.M}_L{CFG.L}_seed{CFG.seed1}.pkl\")\n",
    "spinB = joblib.load(f\"../../Result/CL_fully/Spin/spinB_{CFG.data_name}_ini{CFG.ini_type}_M{CFG.M}_L{CFG.L}_seed{CFG.seed2}.pkl\")"
   ]
  },
  {
   "cell_type": "code",
   "execution_count": 34,
   "metadata": {},
   "outputs": [],
   "source": [
    "def calc_q_(A: np.ndarray, B: np.ndarray) -> float:\n",
    "    M, N = A.shape\n",
    "    dot_product = np.dot(A.T, B)\n",
    "    x = np.sum(dot_product ** 2)\n",
    "    x /= N * M * M\n",
    "    x -= N / M\n",
    "    return x\n",
    "\n",
    "def calc_sim_q(A: np.ndarray, B: np.ndarray) -> float:\n",
    "  mean = A * B\n",
    "  sim_q = np.mean(mean)\n",
    "  return sim_q\n",
    "\n",
    "\n",
    "\n",
    "def get_q2(spinA, spinB):\n",
    "    qab_dict={'time':spinA['time']}#時刻の初期化\n",
    "    qaa_dict={'time':spinA['time']}\n",
    "    q2_dict={'time':spinA['time']}\n",
    "    for l in tqdm(CFG.layer_name_list):\n",
    "        qab_list=[]\n",
    "        qaa_list=[]\n",
    "        q2_list=[]\n",
    "        for i in range(len(spinA[l])):\n",
    "            ab = calc_q_(spinA[l][i],spinB[l][i])\n",
    "            aa= calc_q_(spinA[l][i],spinA[l][i])\n",
    "            bb = calc_q_(spinB[l][i],spinB[l][i])\n",
    "            q2 = ab/(np.sqrt(aa)*np.sqrt(bb))\n",
    "            qab_list.append(ab)\n",
    "            qaa_list.append(aa)\n",
    "            q2_list.append(q2)\n",
    "        qab_dict[l] = qab_list\n",
    "        qaa_dict[l] = qaa_list\n",
    "        q2_dict[l] = q2_list\n",
    "    return qab_dict, qaa_dict, q2_dict\n",
    "\n",
    "def get_normalized_spin(SpinA, SpinB):\n",
    "  spinA_norm = SpinA.copy()\n",
    "  spinB_norm = SpinB.copy()\n",
    "  for l in tqdm(CFG.layer_name_list):\n",
    "        squared_sum_A = np.sum(SpinA[l]**2, axis=2)\n",
    "        squared_sum_B = np.sum(SpinB[l]**2, axis=2)\n",
    "        # 規格化定数を計算\n",
    "        normalization_constA = np.sqrt(100 / squared_sum_A)\n",
    "        normalization_constB = np.sqrt(100 / squared_sum_B)\n",
    "        # 規格化した配列を計算\n",
    "        spinA_norm[l] = SpinA[l] * normalization_constA[:, :, np.newaxis]\n",
    "        spinB_norm[l] = SpinB[l] * normalization_constB[:, :, np.newaxis]\n",
    "\n",
    "  return spinA_norm, spinB_norm"
   ]
  },
  {
   "cell_type": "code",
   "execution_count": 35,
   "metadata": {},
   "outputs": [
    {
     "name": "stderr",
     "output_type": "stream",
     "text": [
      "100%|██████████| 10/10 [00:03<00:00,  3.19it/s]\n",
      "100%|██████████| 10/10 [00:07<00:00,  1.33it/s]\n"
     ]
    }
   ],
   "source": [
    "spinA_norm, spinB_norm = get_normalized_spin(spinA,spinB)\n",
    "qab, qaa, q2 = get_q2(spinA_norm,spinB_norm)"
   ]
  },
  {
   "cell_type": "code",
   "execution_count": 36,
   "metadata": {},
   "outputs": [
    {
     "data": {
      "text/plain": [
       "[0.519007451664905,\n",
       " 0.5239856223190874,\n",
       " 0.5237705676148959,\n",
       " 0.5234551142484906,\n",
       " 0.5232457910286241,\n",
       " 0.5230858345705385,\n",
       " 0.5229162536618087,\n",
       " 0.52280836365051,\n",
       " 0.5226272302255508,\n",
       " 0.5224699865531209,\n",
       " 0.5223502612531526,\n",
       " 0.5221405906209071,\n",
       " 0.5220595023764711,\n",
       " 0.5220781316315442,\n",
       " 0.5218535409868144,\n",
       " 0.5217597114114833,\n",
       " 0.5218167551092053,\n",
       " 0.5217055540094013,\n",
       " 0.5216688150270652,\n",
       " 0.5216832797083758,\n",
       " 0.5217402640239354,\n",
       " 0.5215954349304536,\n",
       " 0.5219027053738812,\n",
       " 0.5220308160085895,\n",
       " 0.5218998069311199,\n",
       " 0.5219763872832648,\n",
       " 0.5220858541432736,\n",
       " 0.5220091411072021,\n",
       " 0.5221108992676816,\n",
       " 0.5219237564737903,\n",
       " 0.5222640299151224,\n",
       " 0.522215969918658,\n",
       " 0.52210090228346,\n",
       " 0.5224077276862741,\n",
       " 0.5222082602234598,\n",
       " 0.5224391983243427,\n",
       " 0.5228881748720255,\n",
       " 0.5227769928479654,\n",
       " 0.5225624460459735,\n",
       " 0.5224783637632583,\n",
       " 0.5228157429485071,\n",
       " 0.5231713962212285,\n",
       " 0.5233035058175152,\n",
       " 0.523193768295184,\n",
       " 0.5232880162152885,\n",
       " 0.5233168329538701,\n",
       " 0.5229696829008984,\n",
       " 0.5237852271912116,\n",
       " 0.5246616302517046,\n",
       " 0.5248616784644208,\n",
       " 0.5247057473185953,\n",
       " 0.5253311056013986,\n",
       " 0.5255525338153542,\n",
       " 0.5250142728137545,\n",
       " 0.5250281350218913,\n",
       " 0.5266988321979907,\n",
       " 0.5250685394073018,\n",
       " 0.5263783009237009,\n",
       " 0.526749870532414,\n",
       " 0.5299737325918121,\n",
       " 0.5300210217373819,\n",
       " 0.5305042056602542,\n",
       " 0.5283466222013217,\n",
       " 0.529107062302475,\n",
       " 0.5299957418141467,\n",
       " 0.5333793966225573,\n",
       " 0.5339467459309559,\n",
       " 0.5333567235066834,\n",
       " 0.5353572274503426,\n",
       " 0.5385782699371241,\n",
       " 0.5393368563182781,\n",
       " 0.5372543038848389,\n",
       " 0.5405715143058227,\n",
       " 0.5408855074542157,\n",
       " 0.5446232009690101,\n",
       " 0.54765451314709,\n",
       " 0.5490300877843464,\n",
       " 0.554640838408846,\n",
       " 0.5575337215670657,\n",
       " 0.5658228126768534,\n",
       " 0.5700153524550441]"
      ]
     },
     "execution_count": 36,
     "metadata": {},
     "output_type": "execute_result"
    }
   ],
   "source": [
    "q2['batch_normalization1']"
   ]
  },
  {
   "cell_type": "code",
   "execution_count": null,
   "metadata": {},
   "outputs": [],
   "source": []
  }
 ],
 "metadata": {
  "kernelspec": {
   "display_name": "ms-env",
   "language": "python",
   "name": "python3"
  },
  "language_info": {
   "codemirror_mode": {
    "name": "ipython",
    "version": 3
   },
   "file_extension": ".py",
   "mimetype": "text/x-python",
   "name": "python",
   "nbconvert_exporter": "python",
   "pygments_lexer": "ipython3",
   "version": "3.8.16"
  }
 },
 "nbformat": 4,
 "nbformat_minor": 2
}
